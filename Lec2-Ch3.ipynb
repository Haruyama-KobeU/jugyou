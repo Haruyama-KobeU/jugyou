{
 "cells": [
  {
   "cell_type": "markdown",
   "id": "0",
   "metadata": {
    "id": "b2f607af-6330-4797-bb05-265d0252b309"
   },
   "source": [
    "# 第3章：コンテナデータ型とその操作"
   ]
  },
  {
   "cell_type": "markdown",
   "id": "65815509-60ab-4352-b243-9ac86a7a0638",
   "metadata": {},
   "source": [
    "コンテナデータ型とは，任意の数のデータ型の値を格納するデータ型のことです。格納された値にアクセスしたり，それらを反復処理をしたりすることができます。"
   ]
  },
  {
   "cell_type": "markdown",
   "id": "1",
   "metadata": {
    "id": "22e06ac4-13f6-4e07-b721-57048dbcc2e5"
   },
   "source": [
    "## 4つのコンテナデータ型"
   ]
  },
  {
   "cell_type": "markdown",
   "id": "fda7fcdf-7672-4579-9778-a7ca5d07979c",
   "metadata": {},
   "source": [
    "ここでは次の4つについて考えます。\n",
    "* リスト（`list`）\n",
    "* タプル（`tuple`）\n",
    "* 辞書（`dict`）\n",
    "* 集合（`set`）"
   ]
  },
  {
   "cell_type": "markdown",
   "id": "2",
   "metadata": {
    "id": "58e41eca-fbd3-4512-859a-ebbe0e53037a"
   },
   "source": [
    "### リストとタプル"
   ]
  },
  {
   "cell_type": "markdown",
   "id": "1b83ffbd-b5ee-4a13-a341-30bf881d235a",
   "metadata": {},
   "source": [
    "* リスト：角括弧`[]`で作成\n",
    "    * 要素が複数ある場合は各要素はコンマ`,`で区切る\n",
    "    * 変更可能\n",
    "* タプル：丸括弧`()`で作成\n",
    "    * 要素が複数ある場合は各要素はコンマ`,`で区切る\n",
    "    * 変更不可"
   ]
  },
  {
   "cell_type": "markdown",
   "id": "3",
   "metadata": {
    "id": "zXv4CRqN9XCO"
   },
   "source": [
    "コード3.1.1"
   ]
  },
  {
   "cell_type": "code",
   "execution_count": null,
   "id": "4",
   "metadata": {
    "executionInfo": {
     "elapsed": 13,
     "status": "ok",
     "timestamp": 1758070101047,
     "user": {
      "displayName": "T Haruyama",
      "userId": "09851044792665346893"
     },
     "user_tz": -540
    },
    "id": "f47b299f-c6be-4f26-a40b-2a3d0355f615"
   },
   "outputs": [],
   "source": [
    "lst = [10, True, \"国内総生産\"]"
   ]
  },
  {
   "cell_type": "markdown",
   "id": "5",
   "metadata": {
    "id": "2amdrzYe95sY"
   },
   "source": [
    "コード3.1.2"
   ]
  },
  {
   "cell_type": "code",
   "execution_count": null,
   "id": "6",
   "metadata": {
    "executionInfo": {
     "elapsed": 7,
     "status": "ok",
     "timestamp": 1758070101056,
     "user": {
      "displayName": "T Haruyama",
      "userId": "09851044792665346893"
     },
     "user_tz": -540
    },
    "id": "87aff5a3-28fa-4c72-84b1-de97c5cc854e"
   },
   "outputs": [],
   "source": [
    "tpl = (10, True, \"国内総生産\")"
   ]
  },
  {
   "cell_type": "markdown",
   "id": "7",
   "metadata": {
    "id": "ehFb0o-f98JM"
   },
   "source": [
    "コード3.1.3"
   ]
  },
  {
   "cell_type": "code",
   "execution_count": null,
   "id": "8",
   "metadata": {
    "executionInfo": {
     "elapsed": 2,
     "status": "ok",
     "timestamp": 1758070101096,
     "user": {
      "displayName": "T Haruyama",
      "userId": "09851044792665346893"
     },
     "user_tz": -540
    },
    "id": "b9d3b4fa-c753-4d35-a37b-61499e6c91de"
   },
   "outputs": [],
   "source": [
    "tpl = 10, True, \"国内総生産\""
   ]
  },
  {
   "cell_type": "markdown",
   "id": "9",
   "metadata": {
    "id": "_fuOJwsK99-5"
   },
   "source": [
    "コード3.1.4"
   ]
  },
  {
   "cell_type": "code",
   "execution_count": null,
   "id": "10",
   "metadata": {
    "executionInfo": {
     "elapsed": 2,
     "status": "ok",
     "timestamp": 1758070101097,
     "user": {
      "displayName": "T Haruyama",
      "userId": "09851044792665346893"
     },
     "user_tz": -540
    },
    "id": "e85d0bc8-2511-48ba-9b63-1fb8898fb3b5"
   },
   "outputs": [],
   "source": [
    "t0, t1, t2 = 10, True, \"国内総生産\""
   ]
  },
  {
   "cell_type": "markdown",
   "id": "385a2b33-77b2-4fee-b437-1da51ae7d53a",
   "metadata": {},
   "source": [
    "タプルのアンパッキング（unpacking）\n",
    "\n",
    "$$\n",
    "10\\;\\rightarrow\\;\\text{t0},\\qquad\n",
    "\\text{True}\\;\\rightarrow\\;\\text{t1},\\qquad\n",
    "\\text{\"国内総生産\"}\\;\\rightarrow\\;\\text{t2}\n",
    "$$"
   ]
  },
  {
   "cell_type": "markdown",
   "id": "11",
   "metadata": {
    "id": "f4310714-08a6-4203-9287-ecb0b7901b35"
   },
   "source": [
    "### 辞書と集合"
   ]
  },
  {
   "cell_type": "markdown",
   "id": "fe14fccd-684c-4ecd-ac14-0e78fda99129",
   "metadata": {},
   "source": [
    "* 辞書：波括弧`{}`で作成\n",
    "    * キーと値のペアで一つの要素\n",
    "    * コロン`:`の左がキー、右が値\n",
    "      $$\\{\\text{キー}:\\text{値}\\}$$\n",
    "    * 要素が複数ある場合は各要素はコンマ`,`で区切る\n",
    "    * 変更可能\n",
    "* 集合：波括弧`{}`で作成\n",
    "    * 要素が複数ある場合は各要素はコンマ`,`で区切る\n",
    "    * 要素が一つの場合もコンマ`,`が必要\n",
    "      $$(\\text{要素１},)$$\n",
    "    * 変更可能"
   ]
  },
  {
   "cell_type": "markdown",
   "id": "12",
   "metadata": {
    "id": "5LsJxL3F-DKk"
   },
   "source": [
    "コード3.1.5"
   ]
  },
  {
   "cell_type": "code",
   "execution_count": null,
   "id": "13",
   "metadata": {
    "colab": {
     "base_uri": "https://localhost:8080/"
    },
    "executionInfo": {
     "elapsed": 8,
     "status": "ok",
     "timestamp": 1758070101105,
     "user": {
      "displayName": "T Haruyama",
      "userId": "09851044792665346893"
     },
     "user_tz": -540
    },
    "id": "c714e2fd-051c-46b0-b344-dee2abcb8b64",
    "outputId": "efe62fe9-386d-468d-f870-44cd7c7e7a35"
   },
   "outputs": [],
   "source": [
    "# CELL PROVIDED\n",
    "\n",
    "{10, 10, 10, True, True, True, 4, \"Kobe\", \"Kobe\"}"
   ]
  },
  {
   "cell_type": "markdown",
   "id": "b890a344-cbe7-4b46-8235-19c9c75608af",
   "metadata": {},
   "source": [
    "9つの要素がありますが、コードを実行すると，重複する値は削除され$4$つの要素の集合となっています。この重複要素削除は，後のシミュレーションで使います。"
   ]
  },
  {
   "cell_type": "markdown",
   "id": "14",
   "metadata": {
    "id": "-eDGTT6I-FBX"
   },
   "source": [
    "コード3.1.6"
   ]
  },
  {
   "cell_type": "code",
   "execution_count": null,
   "id": "15",
   "metadata": {
    "executionInfo": {
     "elapsed": 1,
     "status": "ok",
     "timestamp": 1758070101107,
     "user": {
      "displayName": "T Haruyama",
      "userId": "09851044792665346893"
     },
     "user_tz": -540
    },
    "id": "8695cf4e-6e65-4fbc-897c-7c0c95e64f2a"
   },
   "outputs": [],
   "source": [
    "# CELL PROVIDED\n",
    "\n",
    "dct = {\"GDP\":557, \"消費\":298, \"投資\":111}"
   ]
  },
  {
   "cell_type": "markdown",
   "id": "16",
   "metadata": {
    "id": "a7e0aeb0-992d-49cf-b202-74c7838fdb82"
   },
   "source": [
    "## コンテナデータ型の操作"
   ]
  },
  {
   "cell_type": "markdown",
   "id": "17",
   "metadata": {
    "id": "a0495e4a-f848-4393-a632-e0e999bd6e96"
   },
   "source": [
    "### リストとタプル：要素のアクセス"
   ]
  },
  {
   "cell_type": "markdown",
   "id": "18",
   "metadata": {
    "id": "HJXutvB4-KFm"
   },
   "source": [
    "コード3.2.1"
   ]
  },
  {
   "cell_type": "code",
   "execution_count": null,
   "id": "19",
   "metadata": {
    "executionInfo": {
     "elapsed": 5,
     "status": "ok",
     "timestamp": 1758070101113,
     "user": {
      "displayName": "T Haruyama",
      "userId": "09851044792665346893"
     },
     "user_tz": -540
    },
    "id": "d1bb8d7b-e778-4f84-aef8-2415ee60f437"
   },
   "outputs": [],
   "source": [
    "# CELL PROVIDED\n",
    "\n",
    "abc = [\"A\", \"B\", \"C\", \"D\", \"E\", \"F\"]"
   ]
  },
  {
   "cell_type": "markdown",
   "id": "553a64b9-2198-40e1-b84c-7c631d8a7385",
   "metadata": {},
   "source": [
    "```\n",
    "   0    1    2    3    4    5    （最初から数える）\n",
    " ------------------------------\n",
    " [\"A\", \"B\", \"C\", \"D\", \"E\", \"F\"]\n",
    " ------------------------------\n",
    "  -6   -5   -4   -3   -2   -1    （最後から数える）\n",
    "```"
   ]
  },
  {
   "cell_type": "markdown",
   "id": "2e975606-d013-43ec-bd68-6d0295a46f97",
   "metadata": {},
   "source": [
    "ここで，`0`，`1`，`2`、や`-1`、`-2`をインデックス（index）と呼ぶ。\n",
    "\n",
    "要素のアクセス方法：\n",
    "\n",
    "角括弧`[]`とインデックスを使う。"
   ]
  },
  {
   "cell_type": "markdown",
   "id": "20",
   "metadata": {
    "id": "MqggX1kc-QcM"
   },
   "source": [
    "コード3.2.2"
   ]
  },
  {
   "cell_type": "code",
   "execution_count": null,
   "id": "21",
   "metadata": {
    "colab": {
     "base_uri": "https://localhost:8080/",
     "height": 35
    },
    "executionInfo": {
     "elapsed": 8,
     "status": "ok",
     "timestamp": 1758070101122,
     "user": {
      "displayName": "T Haruyama",
      "userId": "09851044792665346893"
     },
     "user_tz": -540
    },
    "id": "f09d46ae-4f14-4715-bc88-fc7321b74cd7",
    "outputId": "8d367e28-eac4-41ab-a720-2d90ae1f9a03"
   },
   "outputs": [],
   "source": [
    "abc[2]"
   ]
  },
  {
   "cell_type": "markdown",
   "id": "22",
   "metadata": {
    "id": "ud5f2b7F-SBA"
   },
   "source": [
    "コード3.2.3"
   ]
  },
  {
   "cell_type": "code",
   "execution_count": null,
   "id": "0c5eb128-5c85-4be9-84ab-92b52384c25e",
   "metadata": {
    "colab": {
     "base_uri": "https://localhost:8080/",
     "height": 35
    },
    "executionInfo": {
     "elapsed": 64,
     "status": "ok",
     "timestamp": 1758070101206,
     "user": {
      "displayName": "T Haruyama",
      "userId": "09851044792665346893"
     },
     "user_tz": -540
    },
    "id": "de8a1a89-8911-405f-a471-3827ba4336b2",
    "outputId": "fdb6d8e6-deca-466b-df8c-bb8f4711ebb2"
   },
   "outputs": [],
   "source": [
    "# CELL PROVIDED\n",
    "\n",
    "lst0 = [[\"GDP\",557], [\"消費\",298], [\"投資\",111]]"
   ]
  },
  {
   "cell_type": "code",
   "execution_count": null,
   "id": "8053677e-4ac0-4728-a90c-d88330f3e55d",
   "metadata": {
    "colab": {
     "base_uri": "https://localhost:8080/",
     "height": 35
    },
    "executionInfo": {
     "elapsed": 64,
     "status": "ok",
     "timestamp": 1758070101206,
     "user": {
      "displayName": "T Haruyama",
      "userId": "09851044792665346893"
     },
     "user_tz": -540
    },
    "id": "de8a1a89-8911-405f-a471-3827ba4336b2",
    "outputId": "fdb6d8e6-deca-466b-df8c-bb8f4711ebb2"
   },
   "outputs": [],
   "source": [
    "lst0[-1][0]"
   ]
  },
  {
   "cell_type": "markdown",
   "id": "24",
   "metadata": {
    "id": "WUuMsEL4-VFR"
   },
   "source": [
    "コード3.2.4"
   ]
  },
  {
   "cell_type": "code",
   "execution_count": null,
   "id": "25",
   "metadata": {
    "colab": {
     "base_uri": "https://localhost:8080/",
     "height": 35
    },
    "executionInfo": {
     "elapsed": 10,
     "status": "ok",
     "timestamp": 1758070101215,
     "user": {
      "displayName": "T Haruyama",
      "userId": "09851044792665346893"
     },
     "user_tz": -540
    },
    "id": "818c6e10-c2b6-4053-befb-e13a7c08d273",
    "outputId": "bb382edd-5964-4d27-a668-9356f01cb142"
   },
   "outputs": [],
   "source": [
    "lst0_last = lst0[-1]\n",
    "lst0_last[0]"
   ]
  },
  {
   "cell_type": "markdown",
   "id": "26",
   "metadata": {
    "id": "sbM-B2WY-W2n"
   },
   "source": [
    "コード3.2.5"
   ]
  },
  {
   "cell_type": "code",
   "execution_count": null,
   "id": "b15c490f-ff85-46aa-b07c-f6f0d4782ee7",
   "metadata": {
    "colab": {
     "base_uri": "https://localhost:8080/"
    },
    "executionInfo": {
     "elapsed": 23,
     "status": "ok",
     "timestamp": 1758070101248,
     "user": {
      "displayName": "T Haruyama",
      "userId": "09851044792665346893"
     },
     "user_tz": -540
    },
    "id": "2e89e97c-74a7-40fe-b59f-e5a1b4ca60f8",
    "outputId": "2970f796-ef4e-4ab3-ad1a-cf185c7d1085"
   },
   "outputs": [],
   "source": [
    "# CELL PROVIDED\n",
    "\n",
    "tpl = (10, True, \"国内総生産\")"
   ]
  },
  {
   "cell_type": "code",
   "execution_count": null,
   "id": "f9196b2d-d449-42f5-91b0-c784acb3686f",
   "metadata": {
    "colab": {
     "base_uri": "https://localhost:8080/"
    },
    "executionInfo": {
     "elapsed": 23,
     "status": "ok",
     "timestamp": 1758070101248,
     "user": {
      "displayName": "T Haruyama",
      "userId": "09851044792665346893"
     },
     "user_tz": -540
    },
    "id": "2e89e97c-74a7-40fe-b59f-e5a1b4ca60f8",
    "outputId": "2970f796-ef4e-4ab3-ad1a-cf185c7d1085"
   },
   "outputs": [],
   "source": [
    "tpl[1]"
   ]
  },
  {
   "cell_type": "markdown",
   "id": "28",
   "metadata": {
    "id": "880e175c-8d9f-43a0-a8a4-a4accb82f35c"
   },
   "source": [
    "### リストとタプル：要素のスライシング"
   ]
  },
  {
   "cell_type": "markdown",
   "id": "69a811dc-4fea-428b-b6f2-16758a4a30e7",
   "metadata": {},
   "source": [
    "連続する複数要素を選択する場合（スライシング）は:（コロン）を使う。"
   ]
  },
  {
   "cell_type": "markdown",
   "id": "24fbf38a-4f08-4df0-8a36-02edb4efdec0",
   "metadata": {},
   "source": [
    "```\n",
    ":の左側が選択する最初の要素のインデックス\n",
    ":の右側が選択する最後の要素の次のインデックス\n",
    "\n",
    ":の左側のインデックスを省略すると「最初から」となる\n",
    ":の右側のインデックスを省略すると「最後まで」となる\n",
    "```"
   ]
  },
  {
   "cell_type": "markdown",
   "id": "29",
   "metadata": {
    "id": "FKMpRhI6-cT4"
   },
   "source": [
    "例3.2(a)"
   ]
  },
  {
   "cell_type": "code",
   "execution_count": null,
   "id": "30",
   "metadata": {
    "colab": {
     "base_uri": "https://localhost:8080/"
    },
    "executionInfo": {
     "elapsed": 55,
     "status": "ok",
     "timestamp": 1758070101304,
     "user": {
      "displayName": "T Haruyama",
      "userId": "09851044792665346893"
     },
     "user_tz": -540
    },
    "id": "ZY2p7Z71-fcS",
    "outputId": "2c5ad6e2-71d5-431d-97f8-303ecd313ae4"
   },
   "outputs": [],
   "source": [
    "abc[1:4]"
   ]
  },
  {
   "cell_type": "markdown",
   "id": "31",
   "metadata": {
    "id": "KVnjRaou-nV-"
   },
   "source": [
    "例3.2(b)"
   ]
  },
  {
   "cell_type": "code",
   "execution_count": null,
   "id": "32",
   "metadata": {
    "colab": {
     "base_uri": "https://localhost:8080/"
    },
    "executionInfo": {
     "elapsed": 2,
     "status": "ok",
     "timestamp": 1758070101307,
     "user": {
      "displayName": "T Haruyama",
      "userId": "09851044792665346893"
     },
     "user_tz": -540
    },
    "id": "K8gmRVXw-nWE",
    "outputId": "a022e102-2a9f-4184-8d7e-e9a6aaa8fd12"
   },
   "outputs": [],
   "source": [
    "abc[1:3+1]"
   ]
  },
  {
   "cell_type": "markdown",
   "id": "33",
   "metadata": {
    "id": "_QWMII4O-rlW"
   },
   "source": [
    "例3.2(c)"
   ]
  },
  {
   "cell_type": "code",
   "execution_count": null,
   "id": "34",
   "metadata": {
    "colab": {
     "base_uri": "https://localhost:8080/"
    },
    "executionInfo": {
     "elapsed": 3,
     "status": "ok",
     "timestamp": 1758070101316,
     "user": {
      "displayName": "T Haruyama",
      "userId": "09851044792665346893"
     },
     "user_tz": -540
    },
    "id": "nMJa93Yn-rlX",
    "outputId": "00959913-6621-4be1-abd0-006893bb795a"
   },
   "outputs": [],
   "source": [
    "abc[:3]"
   ]
  },
  {
   "cell_type": "markdown",
   "id": "35",
   "metadata": {
    "id": "sRu-oT5b-u42"
   },
   "source": [
    "例3.2(d)"
   ]
  },
  {
   "cell_type": "code",
   "execution_count": null,
   "id": "36",
   "metadata": {
    "colab": {
     "base_uri": "https://localhost:8080/"
    },
    "executionInfo": {
     "elapsed": 8,
     "status": "ok",
     "timestamp": 1758070101330,
     "user": {
      "displayName": "T Haruyama",
      "userId": "09851044792665346893"
     },
     "user_tz": -540
    },
    "id": "qb5LEkmU-u43",
    "outputId": "f679d4d5-1e8c-4603-d205-255c66b63011"
   },
   "outputs": [],
   "source": [
    "abc[3:]"
   ]
  },
  {
   "cell_type": "markdown",
   "id": "37",
   "metadata": {
    "id": "jS2NAna6-2oO"
   },
   "source": [
    "例3.2(e)"
   ]
  },
  {
   "cell_type": "code",
   "execution_count": null,
   "id": "38",
   "metadata": {
    "colab": {
     "base_uri": "https://localhost:8080/"
    },
    "executionInfo": {
     "elapsed": 6,
     "status": "ok",
     "timestamp": 1758070101338,
     "user": {
      "displayName": "T Haruyama",
      "userId": "09851044792665346893"
     },
     "user_tz": -540
    },
    "id": "OBg-DZNC-2oQ",
    "outputId": "5b359e72-4bfc-494f-b3ee-8bd577b15e4e"
   },
   "outputs": [],
   "source": [
    "abc[3:-1]"
   ]
  },
  {
   "cell_type": "markdown",
   "id": "39",
   "metadata": {
    "id": "pYyZbtL7-Ga8"
   },
   "source": [
    "### 辞書"
   ]
  },
  {
   "cell_type": "markdown",
   "id": "40",
   "metadata": {
    "id": "b7N-P3o3_QzI"
   },
   "source": [
    "例3.3(a)"
   ]
  },
  {
   "cell_type": "code",
   "execution_count": null,
   "id": "41",
   "metadata": {
    "colab": {
     "base_uri": "https://localhost:8080/"
    },
    "executionInfo": {
     "elapsed": 34,
     "status": "ok",
     "timestamp": 1758070101380,
     "user": {
      "displayName": "T Haruyama",
      "userId": "09851044792665346893"
     },
     "user_tz": -540
    },
    "id": "81joTNDX_TFY",
    "outputId": "0ae76b77-44fb-4bdc-e56f-bebd2ba47779"
   },
   "outputs": [],
   "source": [
    "dct[\"GDP\"]"
   ]
  },
  {
   "cell_type": "markdown",
   "id": "42",
   "metadata": {
    "id": "H-t_rlAl_dgS"
   },
   "source": [
    "例3.3(b)"
   ]
  },
  {
   "cell_type": "code",
   "execution_count": null,
   "id": "43",
   "metadata": {
    "colab": {
     "base_uri": "https://localhost:8080/"
    },
    "executionInfo": {
     "elapsed": 3,
     "status": "ok",
     "timestamp": 1758070101383,
     "user": {
      "displayName": "T Haruyama",
      "userId": "09851044792665346893"
     },
     "user_tz": -540
    },
    "id": "_5pfRrvF_dgU",
    "outputId": "817c3bda-ab1c-423b-8a4d-9b654639a66d"
   },
   "outputs": [],
   "source": [
    "dct[\"消費\"]"
   ]
  },
  {
   "cell_type": "markdown",
   "id": "44",
   "metadata": {
    "id": "k8xU9JW-_h6L"
   },
   "source": [
    "例3.3(c)"
   ]
  },
  {
   "cell_type": "code",
   "execution_count": null,
   "id": "45",
   "metadata": {
    "colab": {
     "base_uri": "https://localhost:8080/"
    },
    "executionInfo": {
     "elapsed": 33,
     "status": "ok",
     "timestamp": 1758070101420,
     "user": {
      "displayName": "T Haruyama",
      "userId": "09851044792665346893"
     },
     "user_tz": -540
    },
    "id": "SUyPWN39_h6L",
    "outputId": "6c9a27de-d442-4514-f56b-e00ccf54be52"
   },
   "outputs": [],
   "source": [
    "dct[\"投資\"]"
   ]
  },
  {
   "cell_type": "markdown",
   "id": "46",
   "metadata": {
    "id": "d1f25031-4d63-49c0-b73f-08d0e2d40f07"
   },
   "source": [
    "### 要素の更新"
   ]
  },
  {
   "cell_type": "markdown",
   "id": "47",
   "metadata": {
    "id": "6lBLkRV__nDt"
   },
   "source": [
    "コード3.2.6"
   ]
  },
  {
   "cell_type": "code",
   "execution_count": null,
   "id": "48",
   "metadata": {
    "colab": {
     "base_uri": "https://localhost:8080/"
    },
    "executionInfo": {
     "elapsed": 3,
     "status": "ok",
     "timestamp": 1758070101424,
     "user": {
      "displayName": "T Haruyama",
      "userId": "09851044792665346893"
     },
     "user_tz": -540
    },
    "id": "250ba013-ea5f-4f7c-9f74-4573c518ad92",
    "outputId": "e38528e6-3588-4de3-fb91-75cb518337bf"
   },
   "outputs": [],
   "source": [
    "abc[2] = 100\n",
    "abc"
   ]
  },
  {
   "cell_type": "markdown",
   "id": "49",
   "metadata": {
    "id": "Cljh1KoZ_x57"
   },
   "source": [
    "コード3.2.7"
   ]
  },
  {
   "cell_type": "code",
   "execution_count": null,
   "id": "50",
   "metadata": {
    "colab": {
     "base_uri": "https://localhost:8080/"
    },
    "executionInfo": {
     "elapsed": 3,
     "status": "ok",
     "timestamp": 1758070101432,
     "user": {
      "displayName": "T Haruyama",
      "userId": "09851044792665346893"
     },
     "user_tz": -540
    },
    "id": "bbdb1562-1ac4-4947-bc06-5aca560a9184",
    "outputId": "b820dd18-5a8b-4a96-9ecd-496848751b24"
   },
   "outputs": [],
   "source": [
    "dct[\"投資\"] = 200\n",
    "dct"
   ]
  },
  {
   "cell_type": "markdown",
   "id": "51",
   "metadata": {
    "id": "hPv5D9qw-Xe6"
   },
   "source": [
    "### 要素の削除"
   ]
  },
  {
   "cell_type": "markdown",
   "id": "52",
   "metadata": {
    "id": "drtdjMGz_1Dc"
   },
   "source": [
    "授業では扱わない"
   ]
  },
  {
   "cell_type": "markdown",
   "id": "56",
   "metadata": {
    "id": "a1a59f56-f0ad-4e1c-86fd-60350bb76c59"
   },
   "source": [
    "### 要素の追加"
   ]
  },
  {
   "cell_type": "markdown",
   "id": "57",
   "metadata": {
    "id": "_zeItiuc_6aT"
   },
   "source": [
    "コード3.2.10"
   ]
  },
  {
   "cell_type": "code",
   "execution_count": null,
   "id": "58",
   "metadata": {
    "colab": {
     "base_uri": "https://localhost:8080/"
    },
    "executionInfo": {
     "elapsed": 31,
     "status": "ok",
     "timestamp": 1758070101522,
     "user": {
      "displayName": "T Haruyama",
      "userId": "09851044792665346893"
     },
     "user_tz": -540
    },
    "id": "ee67511e-25f3-4069-8e43-40df02ca22fe",
    "outputId": "8b0f2e4b-5e99-44e9-875a-ba46cc04e86b"
   },
   "outputs": [],
   "source": [
    "lst1 = [\"消費\", \"投資\"]\n",
    "lst1.append(\"政府支出\")\n",
    "lst1"
   ]
  },
  {
   "cell_type": "markdown",
   "id": "59",
   "metadata": {
    "id": "nZeIpPEV_8Lw"
   },
   "source": [
    "コード3.2.11"
   ]
  },
  {
   "cell_type": "code",
   "execution_count": null,
   "id": "60",
   "metadata": {
    "colab": {
     "base_uri": "https://localhost:8080/"
    },
    "executionInfo": {
     "elapsed": 25,
     "status": "ok",
     "timestamp": 1758070101548,
     "user": {
      "displayName": "T Haruyama",
      "userId": "09851044792665346893"
     },
     "user_tz": -540
    },
    "id": "7dae2135-41e8-4861-863f-67a77749b9c3",
    "outputId": "29d4c3fe-ad60-4026-c4f5-34671209a3be"
   },
   "outputs": [],
   "source": [
    "dct[\"政府支出\"] = 145\n",
    "dct"
   ]
  },
  {
   "cell_type": "markdown",
   "id": "63",
   "metadata": {
    "id": "fe6e25be-598d-4129-b8db-0b87e2b854b3"
   },
   "source": [
    "## 関連トピック"
   ]
  },
  {
   "cell_type": "markdown",
   "id": "64",
   "metadata": {
    "id": "d069eb56-70df-4f43-98cb-b3410487cb76"
   },
   "source": [
    "### リストとタプル：連結"
   ]
  },
  {
   "cell_type": "markdown",
   "id": "65",
   "metadata": {
    "id": "T-RmaAYxAFFO"
   },
   "source": [
    "授業では扱わない"
   ]
  },
  {
   "cell_type": "markdown",
   "id": "71",
   "metadata": {
    "id": "c2e04b46-14b2-4b83-b899-bdda3ab782ed"
   },
   "source": [
    "### 辞書：結合"
   ]
  },
  {
   "cell_type": "markdown",
   "id": "72",
   "metadata": {
    "id": "Mo_itHGiATdG"
   },
   "source": [
    "授業では扱わない"
   ]
  },
  {
   "cell_type": "markdown",
   "id": "76",
   "metadata": {
    "id": "609f9882-4bc2-4542-8e83-b199262dfd77"
   },
   "source": [
    "### 文字列からの文字抽出"
   ]
  },
  {
   "cell_type": "markdown",
   "id": "77",
   "metadata": {
    "id": "Fp6TvtB2AYYM"
   },
   "source": [
    "授業では扱わない"
   ]
  },
  {
   "cell_type": "markdown",
   "id": "93",
   "metadata": {
    "id": "ff977510-e202-48dd-8cbe-26432f46a662"
   },
   "source": [
    "### 改行"
   ]
  },
  {
   "cell_type": "markdown",
   "id": "94",
   "metadata": {
    "id": "bYRekaV8AxSe"
   },
   "source": [
    "コード3.3.7"
   ]
  },
  {
   "cell_type": "code",
   "execution_count": null,
   "id": "95",
   "metadata": {
    "colab": {
     "base_uri": "https://localhost:8080/"
    },
    "executionInfo": {
     "elapsed": 8,
     "status": "ok",
     "timestamp": 1758070101746,
     "user": {
      "displayName": "T Haruyama",
      "userId": "09851044792665346893"
     },
     "user_tz": -540
    },
    "id": "b650ed2a-172b-47a2-84b9-0c76837c39aa",
    "outputId": "9c3f3291-37f3-4060-bfb6-b256daea45e5"
   },
   "outputs": [],
   "source": [
    "# CELL PROVIDED\n",
    "\n",
    "long_variable_name_1 = 10\n",
    "long_variable_name_2 = 20\n",
    "\n",
    "(\n",
    "  long_variable_name_1 +\n",
    "  long_variable_name_2\n",
    ")"
   ]
  },
  {
   "cell_type": "markdown",
   "id": "96",
   "metadata": {
    "id": "Fv59lo8UA37i"
   },
   "source": [
    "コード3.3.8"
   ]
  },
  {
   "cell_type": "code",
   "execution_count": null,
   "id": "97",
   "metadata": {
    "executionInfo": {
     "elapsed": 1,
     "status": "ok",
     "timestamp": 1758070101747,
     "user": {
      "displayName": "T Haruyama",
      "userId": "09851044792665346893"
     },
     "user_tz": -540
    },
    "id": "2b74295e-e7f9-4ecc-9a4c-88630e5c482c"
   },
   "outputs": [],
   "source": [
    "# CELL PROVIDED\n",
    "\n",
    "my_lst = [\"消費\",\n",
    "          \"投資\",\n",
    "          \"政府支出\"]"
   ]
  },
  {
   "cell_type": "markdown",
   "id": "98",
   "metadata": {
    "id": "Yai19ge_A5yY"
   },
   "source": [
    "コード3.3.9"
   ]
  },
  {
   "cell_type": "code",
   "execution_count": null,
   "id": "99",
   "metadata": {
    "executionInfo": {
     "elapsed": 1,
     "status": "ok",
     "timestamp": 1758070101749,
     "user": {
      "displayName": "T Haruyama",
      "userId": "09851044792665346893"
     },
     "user_tz": -540
    },
    "id": "1cfd94e5-7ec4-4a45-966b-8774fdc3f0e0"
   },
   "outputs": [],
   "source": [
    "# CELL PROVIDED\n",
    "\n",
    "my_dct = {\"消費\":298,\n",
    "          \"投資\":113,\n",
    "          \"a\":[1,2]}"
   ]
  },
  {
   "cell_type": "markdown",
   "id": "100",
   "metadata": {
    "id": "f0733b59-c18f-46ef-a245-6b69af74a8e1"
   },
   "source": [
    "### 所属演算子"
   ]
  },
  {
   "cell_type": "markdown",
   "id": "101",
   "metadata": {
    "id": "AszVlRo-A76R"
   },
   "source": [
    "授業では扱わない"
   ]
  }
 ],
 "metadata": {
  "colab": {
   "provenance": []
  },
  "kernelspec": {
   "display_name": "py13",
   "language": "python",
   "name": "py13"
  },
  "language_info": {
   "codemirror_mode": {
    "name": "ipython",
    "version": 3
   },
   "file_extension": ".py",
   "mimetype": "text/x-python",
   "name": "python",
   "nbconvert_exporter": "python",
   "pygments_lexer": "ipython3",
   "version": "3.13.7"
  }
 },
 "nbformat": 4,
 "nbformat_minor": 5
}
