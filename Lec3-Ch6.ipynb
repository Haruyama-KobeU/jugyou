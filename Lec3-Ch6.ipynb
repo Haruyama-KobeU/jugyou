{
 "cells": [
  {
   "cell_type": "markdown",
   "id": "0",
   "metadata": {
    "id": "b3458afa-2272-4e28-9976-dca7d49db4ce"
   },
   "source": [
    "# 第6章：制御フロー（１/２）"
   ]
  },
  {
   "cell_type": "markdown",
   "id": "1",
   "metadata": {
    "id": "a3a14021-ab67-4772-8d8f-ac9b05df0cb1"
   },
   "source": [
    "## 制御フローとは"
   ]
  },
  {
   "cell_type": "markdown",
   "id": "6b9b4443-2368-40c6-8ffc-cc3dfebbf509",
   "metadata": {},
   "source": [
    "制御フロー（control flow）とは，コンピューターがコードを実行する順序を意味します。\n",
    "* 途中で条件に応じて処理の内容を変える。\n",
    "* ある処理を繰り返す"
   ]
  },
  {
   "cell_type": "markdown",
   "id": "2",
   "metadata": {
    "id": "4770fae9-3fb6-4f97-8048-bc44f811da67"
   },
   "source": [
    "## 条件分岐：if文"
   ]
  },
  {
   "cell_type": "markdown",
   "id": "3",
   "metadata": {
    "id": "2154cff3-2e34-4dc2-8b7e-1a4c8dcc6978"
   },
   "source": [
    "### if文の書き方"
   ]
  },
  {
   "cell_type": "markdown",
   "id": "37a52183-2d5a-4259-9d40-39116730d293",
   "metadata": {},
   "source": [
    "```\n",
    "if ＜条件１＞:\n",
    "    ＜条件１がTrueの場合に実行するコード＞\n",
    "elif ＜条件２＞:\n",
    "    ＜条件２がTrueの場合に実行するコード＞\n",
    "elif ＜条件３＞:\n",
    "    ＜条件３がTrueの場合に実行するコード＞\n",
    "    ....\n",
    "else:\n",
    "    ＜条件全てがFalseの場合に実行するコード＞\n",
    "```"
   ]
  },
  {
   "cell_type": "markdown",
   "id": "4",
   "metadata": {
    "id": "1f7722ca-1695-4aa4-ad20-ecd83fb7a291"
   },
   "source": [
    "### フローチャート"
   ]
  },
  {
   "cell_type": "markdown",
   "id": "5",
   "metadata": {
    "id": "pduEWXIAGdVR"
   },
   "source": [
    "コード6.2.1"
   ]
  },
  {
   "cell_type": "code",
   "execution_count": 1,
   "id": "6",
   "metadata": {
    "colab": {
     "base_uri": "https://localhost:8080/"
    },
    "executionInfo": {
     "elapsed": 22,
     "status": "ok",
     "timestamp": 1758070189831,
     "user": {
      "displayName": "T Haruyama",
      "userId": "09851044792665346893"
     },
     "user_tz": -540
    },
    "id": "11912a28-26e5-4917-86c1-3425d7f43996",
    "outputId": "ed005f89-7e6d-4bd0-8acf-9e2b7e52b540"
   },
   "outputs": [
    {
     "name": "stdout",
     "output_type": "stream",
     "text": [
      "景気拡大\n"
     ]
    }
   ],
   "source": [
    "g = 0.002\n",
    "\n",
    "if g > 0:\n",
    "    print(\"景気拡大\")\n",
    "elif g < 0:\n",
    "    print(\"景気後退リスク\")\n",
    "else:\n",
    "    print(\"現状維持\")"
   ]
  },
  {
   "cell_type": "markdown",
   "id": "7",
   "metadata": {
    "id": "131d7238-c537-4beb-ae7a-27e2a1498a43"
   },
   "source": [
    "### 関数化"
   ]
  },
  {
   "cell_type": "markdown",
   "id": "8",
   "metadata": {
    "id": "RrcOX_UgGq7u"
   },
   "source": [
    "コード6.2.2"
   ]
  },
  {
   "cell_type": "code",
   "execution_count": 2,
   "id": "9",
   "metadata": {
    "id": "313af6b7-a084-491b-b23a-f983a0994e79"
   },
   "outputs": [],
   "source": [
    "def keiki_handan(g):\n",
    "    if g > 0:\n",
    "        print(\"景気拡大\")\n",
    "    elif g < 0:\n",
    "        print(\"景気後退リスク\")\n",
    "    else:\n",
    "        print(\"変化なし\")"
   ]
  },
  {
   "cell_type": "code",
   "execution_count": 3,
   "id": "10",
   "metadata": {
    "colab": {
     "base_uri": "https://localhost:8080/"
    },
    "executionInfo": {
     "elapsed": 3,
     "status": "ok",
     "timestamp": 1758070189849,
     "user": {
      "displayName": "T Haruyama",
      "userId": "09851044792665346893"
     },
     "user_tz": -540
    },
    "id": "92f3d5c8-483a-4de6-b2d1-c46baffc3b00",
    "outputId": "804e46de-bc5f-4baa-d630-bf111ab33c89"
   },
   "outputs": [
    {
     "name": "stdout",
     "output_type": "stream",
     "text": [
      "変化なし\n"
     ]
    }
   ],
   "source": [
    "keiki_handan(0)"
   ]
  },
  {
   "cell_type": "markdown",
   "id": "11",
   "metadata": {
    "id": "61b10e00-63b9-4ef6-8d24-f9a2dee70ba3"
   },
   "source": [
    "### 真偽値の役割"
   ]
  },
  {
   "cell_type": "markdown",
   "id": "12",
   "metadata": {
    "id": "RdBf32szHBKT"
   },
   "source": [
    "コード6.2.3"
   ]
  },
  {
   "cell_type": "code",
   "execution_count": 4,
   "id": "13",
   "metadata": {
    "colab": {
     "base_uri": "https://localhost:8080/"
    },
    "executionInfo": {
     "elapsed": 3,
     "status": "ok",
     "timestamp": 1758070189857,
     "user": {
      "displayName": "T Haruyama",
      "userId": "09851044792665346893"
     },
     "user_tz": -540
    },
    "id": "086e15bb-109a-4b05-9982-b8528a4c8337",
    "outputId": "ccd537cd-4f87-4121-b185-26d5d39525f0"
   },
   "outputs": [
    {
     "name": "stdout",
     "output_type": "stream",
     "text": [
      "一文なしだよ(-_-)\n"
     ]
    }
   ],
   "source": [
    "# CELL PROVIDED\n",
    "\n",
    "my_money = 0   # 非負の値のみ\n",
    "\n",
    "if my_money:\n",
    "    print(\"なに買おうかな(^o^)/\")\n",
    "else:\n",
    "    print(\"一文なしだよ(-_-)\")"
   ]
  },
  {
   "cell_type": "markdown",
   "id": "14",
   "metadata": {
    "id": "80098aa6-68a8-44d3-b811-8ab76d013e80"
   },
   "source": [
    "### 数値を返す"
   ]
  },
  {
   "cell_type": "markdown",
   "id": "15",
   "metadata": {
    "id": "qemaWEk4HFlh"
   },
   "source": [
    "コード6.2.4"
   ]
  },
  {
   "cell_type": "code",
   "execution_count": 5,
   "id": "16",
   "metadata": {
    "id": "f3834cea-4046-4f48-b6cf-f06398ea23db"
   },
   "outputs": [],
   "source": [
    "def f(x):\n",
    "    if x >= 0:\n",
    "        return x\n",
    "    else:\n",
    "        return -x"
   ]
  }
 ],
 "metadata": {
  "colab": {
   "provenance": []
  },
  "kernelspec": {
   "display_name": "Python 3 (ipykernel)",
   "language": "python",
   "name": "python3"
  },
  "language_info": {
   "codemirror_mode": {
    "name": "ipython",
    "version": 3
   },
   "file_extension": ".py",
   "mimetype": "text/x-python",
   "name": "python",
   "nbconvert_exporter": "python",
   "pygments_lexer": "ipython3",
   "version": "3.13.7"
  }
 },
 "nbformat": 4,
 "nbformat_minor": 5
}
