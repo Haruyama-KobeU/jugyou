{
 "cells": [
  {
   "cell_type": "markdown",
   "id": "9756b706-a8ab-4aa7-891f-ef8818b9776b",
   "metadata": {},
   "source": [
    "# はじめに"
   ]
  },
  {
   "cell_type": "markdown",
   "id": "25795d54-278e-494b-836a-9e44e626bcf5",
   "metadata": {},
   "source": [
    "* スライドを使った説明\n",
    "* `Colab`は**使わない**。\n",
    "* `JupyterLite`の使い方\n",
    "    * コードを書くスペースを「セル」もしくは「コードセル」と呼ぶ。"
   ]
  },
  {
   "cell_type": "markdown",
   "id": "190634a3-4a61-4a88-ba29-50a24e06d48c",
   "metadata": {},
   "source": [
    "## 教科書"
   ]
  },
  {
   "cell_type": "markdown",
   "id": "8a47e075-af72-4b0b-bb29-9e5d61a830ab",
   "metadata": {},
   "source": [
    "[『**経済学のためのPython入門**』](https://www.saiensu.co.jp/search/?isbn=978-4-88384-416-6&y=2025)\n",
    "\n",
    "第1章では**Colab**の使い方を説明しているが、授業では**JupyterLite**を使う。"
   ]
  },
  {
   "cell_type": "markdown",
   "id": "7c9f80e6-58e5-4b97-8f3f-a69e749b3f50",
   "metadata": {},
   "source": [
    "## 半角と全角 "
   ]
  },
  {
   "cell_type": "markdown",
   "id": "2a2f357a-91e4-437f-8dc2-2a78a75e998d",
   "metadata": {},
   "source": [
    "> **半角**を基本としてコード（スペースも含めて）を書くこと。"
   ]
  },
  {
   "cell_type": "markdown",
   "id": "74b3905f-f27a-4d28-bf1d-ead040ae10c0",
   "metadata": {},
   "source": [
    "次の２つケース以外で全角を使うとエラーが発生する。\n",
    "* 以下で説明する文字列型のデータ型の場合は全角を使っても構わない。\n",
    "* 半角の`#`の後であれば全角を使っても構わない（`Python`は`#`の後に続くコードを無視するためであり，よくコメントを書くのに使われる）。"
   ]
  },
  {
   "cell_type": "markdown",
   "id": "5c0ed3aa-b2b0-4672-8e21-f7ff34e3aa74",
   "metadata": {},
   "source": [
    "例えば，次のコード・セルには半角の`10`の後に全角のスペースが紛れ込んでいるためエラーが発生している。"
   ]
  },
  {
   "cell_type": "code",
   "execution_count": 10,
   "id": "197e583e-b618-4c52-9def-bed099ce242c",
   "metadata": {},
   "outputs": [
    {
     "ename": "SyntaxError",
     "evalue": "invalid non-printable character U+3000 (664614571.py, line 1)",
     "output_type": "error",
     "traceback": [
      "  \u001b[36mCell\u001b[39m\u001b[36m \u001b[39m\u001b[32mIn[10]\u001b[39m\u001b[32m, line 1\u001b[39m\n\u001b[31m    \u001b[39m\u001b[31m10\u001b[39m\n      ^\n\u001b[31mSyntaxError\u001b[39m\u001b[31m:\u001b[39m invalid non-printable character U+3000\n"
     ]
    }
   ],
   "source": [
    "10　"
   ]
  },
  {
   "cell_type": "markdown",
   "id": "d5b42a29-1cee-4e34-bf18-451695508497",
   "metadata": {},
   "source": [
    "「全角スペース忍者」には要注意！\n",
    "\n",
    "`#`を使うと、`#`の後は無視され実行されない。"
   ]
  },
  {
   "cell_type": "code",
   "execution_count": 11,
   "id": "24e1a74f-e74c-42df-9fd0-e9405f37c65e",
   "metadata": {},
   "outputs": [],
   "source": [
    "# 10　"
   ]
  },
  {
   "cell_type": "markdown",
   "id": "132dc05c-d22a-4b54-8a63-3c490eda2b67",
   "metadata": {},
   "source": [
    "↑↑↑ `10`の後に全角スペースが入っている。\n",
    "\n",
    "【表現】\n",
    "* `#`を付けることを「コメントアウト」（comment out）するいう。「コメント」して実行されないように（「アウト」）する、という意味。\n",
    "* `#`を取り除くことを「アンコメント」（uncomment）するという。「アン」は「コメント」の否定。"
   ]
  },
  {
   "cell_type": "markdown",
   "id": "3211b113-48fb-40eb-91c6-c2855e2d7304",
   "metadata": {},
   "source": [
    "## 左詰めとインデント"
   ]
  },
  {
   "cell_type": "markdown",
   "id": "18891326-76f6-4a1a-bb40-553c1a68a56b",
   "metadata": {},
   "source": [
    "* コードは基本的に左ずめに書く。\n",
    "* 半角スペース`4`つ（もしくは、`8`、`16`、$\\cdots$）のインデントが必要になる場合もある。"
   ]
  },
  {
   "cell_type": "markdown",
   "id": "d3b5c80f-d727-412d-b5f9-55ef55b897ab",
   "metadata": {},
   "source": [
    "## 括弧"
   ]
  },
  {
   "cell_type": "markdown",
   "id": "bd09d47c-c284-452a-8c16-9fb6a46c85ac",
   "metadata": {},
   "source": [
    "コードでは括弧が多用されるが，次の呼称とする。\n",
    "* `()`：丸括弧（parentheses）\n",
    "* `[]`：角括弧（brackets）\n",
    "* `{}`：波括弧（braces, curly braces, curly brackets）"
   ]
  }
 ],
 "metadata": {
  "colab": {
   "provenance": []
  },
  "kernelspec": {
   "display_name": "Python 3 (ipykernel)",
   "language": "python",
   "name": "python3"
  },
  "language_info": {
   "codemirror_mode": {
    "name": "ipython",
    "version": 3
   },
   "file_extension": ".py",
   "mimetype": "text/x-python",
   "name": "python",
   "nbconvert_exporter": "python",
   "pygments_lexer": "ipython3",
   "version": "3.13.7"
  }
 },
 "nbformat": 4,
 "nbformat_minor": 5
}
