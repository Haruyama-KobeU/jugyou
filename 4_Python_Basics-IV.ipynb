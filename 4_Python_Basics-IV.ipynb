{
 "cells": [
  {
   "cell_type": "markdown",
   "metadata": {},
   "source": [
    "# 第４回授業"
   ]
  },
  {
   "cell_type": "markdown",
   "metadata": {},
   "source": [
    "* 全てを扱うわけではないが、次のサイトに基づく\n",
    "    * [制御フロー](https://py4basics.github.io/1_Basics_IV.html)\n",
    "    * [モジュールとアルゴリズム](https://py4basics.github.io/1_Basics_V.html)"
   ]
  },
  {
   "cell_type": "markdown",
   "metadata": {
    "heading_collapsed": true,
    "jp-MarkdownHeadingCollapsed": true
   },
   "source": [
    "## `for`ループ"
   ]
  },
  {
   "cell_type": "markdown",
   "metadata": {
    "hidden": true
   },
   "source": [
    "`for`ループは同じコードを複数回リピートして実行したい場合に有効な方法である。例えば，次のリストにある名前を表示したいとしよう。"
   ]
  },
  {
   "cell_type": "code",
   "execution_count": 95,
   "metadata": {
    "hidden": true
   },
   "outputs": [],
   "source": [
    "# CELL PROVIDED\n",
    "\n",
    "name_lst = ['太郎', '次郎', '三郎', '四郎', '五郎']"
   ]
  },
  {
   "cell_type": "code",
   "execution_count": 96,
   "metadata": {
    "hidden": true
   },
   "outputs": [
    {
     "name": "stdout",
     "output_type": "stream",
     "text": [
      "太郎\n",
      "次郎\n",
      "三郎\n",
      "四郎\n",
      "五郎\n"
     ]
    }
   ],
   "source": [
    "for name in name_lst:\n",
    "    \n",
    "    print(name)"
   ]
  },
  {
   "cell_type": "markdown",
   "metadata": {
    "hidden": true
   },
   "source": [
    "説明と注意点\n",
    "* `for`がある一行目は`:`で終わる。\n",
    "* `name`は`name_lst`にあるそれぞれの要素を割り当てる変数。`name`ではなく`i`や`s`など使いやすい記号を使って構わない。\n",
    "* `name_lst`にある要素を最初から一つずつ実行する。\n",
    "* `print()`関数がある行は4つの半角スペースを使ってインデントしている。\n",
    "\n",
    "`for`ループでよく使うパターンして次の例を考える。\n",
    "まず次のリストを定義する。"
   ]
  },
  {
   "cell_type": "code",
   "execution_count": 97,
   "metadata": {
    "hidden": true
   },
   "outputs": [],
   "source": [
    "var_lst = [10, 20, 30, 40, 50]"
   ]
  },
  {
   "cell_type": "markdown",
   "metadata": {
    "hidden": true
   },
   "source": [
    "それぞれの要素の2倍からなるリストを作成したいとしよう。"
   ]
  },
  {
   "cell_type": "code",
   "execution_count": 100,
   "metadata": {
    "hidden": true
   },
   "outputs": [],
   "source": [
    "my_lst = []  # 1\n",
    "\n",
    "for var in var_lst:  # 2\n",
    "    \n",
    "    my_lst.append( 2*var )  # 3"
   ]
  },
  {
   "cell_type": "markdown",
   "metadata": {
    "hidden": true
   },
   "source": [
    "このループの考え方：\n",
    "1. （`#1`）空のリストの作成（ここに2倍にした数字を格納する）\n",
    "2. （`#2`）`var`はループを回していく際に`[10,20,30,40,50]`の各要素を割り当てる変数。\n",
    "    * １回目のループでは，`var_lst`の`0`番目の要素`10`を`var`に割り当てる。\n",
    "3. （`#3`）`2*var`（`20`）の値をリストに追加し、`#2`に戻る。\n",
    "4. （`#2`）２回目のループでは，`var_lst`の`1`番目の要素`20`を`var`に割り当てる。\n",
    "5. （`#3`）`2*var`（`40`）の値をリストに追加し、`#2`に戻る。\n",
    "6. ......\n",
    "7. （`#2`）最後のループでは，`var_lst`の最後の要素`50`を`var`に割り当てる。\n",
    "8. （`#3`）`2*var`（`50`）をリストに追加し、`for`ループの終了。\n",
    "   \n",
    "`my_lst`を表示しよう。"
   ]
  },
  {
   "cell_type": "code",
   "execution_count": 101,
   "metadata": {
    "hidden": true
   },
   "outputs": [
    {
     "name": "stdout",
     "output_type": "stream",
     "text": [
      "[20, 40, 60, 80, 100]\n"
     ]
    }
   ],
   "source": [
    "print(my_lst)"
   ]
  },
  {
   "cell_type": "markdown",
   "metadata": {
    "hidden": true
   },
   "source": [
    "次の例では文字列を一文字ずつ表示する。"
   ]
  },
  {
   "cell_type": "code",
   "execution_count": 102,
   "metadata": {
    "hidden": true
   },
   "outputs": [
    {
     "name": "stdout",
     "output_type": "stream",
     "text": [
      "K\n",
      "o\n",
      "b\n",
      "e\n"
     ]
    }
   ],
   "source": [
    "my_str = 'Kobe'\n",
    "\n",
    "for s in my_str:\n",
    "    \n",
    "    print(s)"
   ]
  },
  {
   "cell_type": "markdown",
   "metadata": {},
   "source": [
    "基本的な考え方：\n",
    "1. `1`回目のループで`K`が`s`に割り当てられ，`K`が表示される。\n",
    "2. `2`回目のループで`o`が`s`に割り当てられ，`o`が表示される。\n",
    "3. `3`回目のループで`b`が`s`に割り当てられ，`b`が表示される。\n",
    "4. `4`回目のループで`e`が`s`に割り当てられ，`e`が表示される。"
   ]
  },
  {
   "cell_type": "markdown",
   "metadata": {
    "jp-MarkdownHeadingCollapsed": true
   },
   "source": [
    "## 内包表記"
   ]
  },
  {
   "cell_type": "markdown",
   "metadata": {},
   "source": [
    "リストの内包表記（list comprehension）とはforループの考えを使い、リストを簡単に１行で生成する方法。次の構文となる。\n",
    "```\n",
    "[＜実行したい内容＞ for ＜要素を割り当てる変数＞ in ＜イタラブル＞]\n",
    "```\n",
    "* `for ＜要素を割り当てる変数＞ in ＜イタラブル＞`はforループの１行目と同じとなる。\n",
    "* ＜イタラブル＞はリストやタプルなどを指す。\n",
    "* ＜要素を割り当てる変数＞には`i`や`_`などを使う。\n",
    "* `:`は使わない。\n",
    "* ＜実行したい内容＞はループで実行したいコードを書く。\n",
    "\n",
    "`for`ループと比較しながら例を考える方が分かりやすいだろう。\n",
    "\n",
    "次のコードは`0`から`4`までの整数を2乗したリストを作成する。"
   ]
  },
  {
   "cell_type": "code",
   "execution_count": 103,
   "metadata": {},
   "outputs": [
    {
     "data": {
      "text/plain": [
       "[0, 1, 4, 9, 16]"
      ]
     },
     "execution_count": 103,
     "metadata": {},
     "output_type": "execute_result"
    }
   ],
   "source": [
    "lst = []\n",
    "\n",
    "for i in range(5):\n",
    "    \n",
    "    lst.append(i**2)\n",
    "\n",
    "lst"
   ]
  },
  {
   "cell_type": "markdown",
   "metadata": {},
   "source": [
    "内包表記を使うと１行で書ける。"
   ]
  },
  {
   "cell_type": "code",
   "execution_count": 187,
   "metadata": {},
   "outputs": [
    {
     "data": {
      "text/plain": [
       "[0, 1, 4, 9, 16]"
      ]
     },
     "execution_count": 187,
     "metadata": {},
     "output_type": "execute_result"
    }
   ],
   "source": [
    "lst_lc = [i**2 for i in range(5)]\n",
    "\n",
    "lst_lc"
   ]
  },
  {
   "cell_type": "markdown",
   "metadata": {},
   "source": [
    "forループと内包表記を並べると２つの関係がより分かりやすくなるだろう。"
   ]
  },
  {
   "cell_type": "code",
   "execution_count": 190,
   "metadata": {},
   "outputs": [
    {
     "data": {
      "text/plain": [
       "[0, 1, 4, 9, 16]"
      ]
     },
     "execution_count": 190,
     "metadata": {},
     "output_type": "execute_result"
    }
   ],
   "source": [
    "lst = []\n",
    "for i in range(5):      #1\n",
    "    lst.append(i**2)\n",
    "\n",
    "[\n",
    "    i**2\n",
    "    for i in range(5)   #2\n",
    "]"
   ]
  },
  {
   "cell_type": "markdown",
   "metadata": {},
   "source": [
    "`#1`と`#2`は殆ど同じになっており、違いは`:`だけとなる。"
   ]
  },
  {
   "cell_type": "markdown",
   "metadata": {
    "heading_collapsed": true,
    "jp-MarkdownHeadingCollapsed": true
   },
   "source": [
    "## パッケージとモジュール"
   ]
  },
  {
   "cell_type": "markdown",
   "metadata": {
    "hidden": true
   },
   "source": [
    "Pythonには組み込み関数が多く用意されているが、含まれていない関数などは別に読み込む必要がある。例えば，図示、数学、統計やデータ分析用の関数。そこで活躍するのがモジュール（modules）、パッケージ（package）、ライブラリー（library）と呼ばれるものである。ここで違いは重要ではなく、三つの言葉は殆ど同じと考えてよい。"
   ]
  },
  {
   "cell_type": "markdown",
   "metadata": {},
   "source": [
    "### `py4macro`モジュール"
   ]
  },
  {
   "cell_type": "markdown",
   "metadata": {
    "hidden": true
   },
   "source": [
    "`dir()`を使うとオブジェクトの属性を調べることができるが，`py4macro`モジュールの`see()`関数を使うと属性・メソッドのリストが見やすく表示される。\n",
    "\n",
    "使うためには`import`を使って読み込む必要がある。"
   ]
  },
  {
   "cell_type": "code",
   "execution_count": 1,
   "metadata": {
    "hidden": true
   },
   "outputs": [],
   "source": [
    "import py4macro"
   ]
  },
  {
   "cell_type": "markdown",
   "metadata": {
    "hidden": true
   },
   "source": [
    "`see()`関数を使ってみよう。"
   ]
  },
  {
   "cell_type": "code",
   "execution_count": 119,
   "metadata": {},
   "outputs": [
    {
     "name": "stdout",
     "output_type": "stream",
     "text": [
      ".append             .clear              .copy               .count\n",
      ".extend             .index              .insert             .pop\n",
      ".remove             .reverse            .sort\n"
     ]
    }
   ],
   "source": [
    "lst = [1,2]\n",
    "\n",
    "py4macro.see( lst )"
   ]
  },
  {
   "cell_type": "markdown",
   "metadata": {
    "hidden": true
   },
   "source": [
    "このコードの「`.`」を助詞「の」と読んで，`py4macro.see`の部分を「`py4macro`モジュールの`see`関数」と読むことができる。\n",
    "\n",
    "`see()`関数を使うと，`_`や`__`がついた不必要なメソッドは省略され，見やすくなっている。"
   ]
  },
  {
   "cell_type": "markdown",
   "metadata": {},
   "source": [
    "モジュール名が長い場合は，短い名前で読み込むことも可能である。"
   ]
  },
  {
   "cell_type": "code",
   "execution_count": 120,
   "metadata": {
    "hidden": true
   },
   "outputs": [],
   "source": [
    "import py4macro as p4"
   ]
  },
  {
   "cell_type": "markdown",
   "metadata": {},
   "source": [
    "「`py4macro`モジュールを`p4`としてを読み込む」と理解すれば良いだろう。"
   ]
  },
  {
   "cell_type": "code",
   "execution_count": 121,
   "metadata": {
    "hidden": true
   },
   "outputs": [
    {
     "name": "stdout",
     "output_type": "stream",
     "text": [
      ".append             .clear              .copy               .count\n",
      ".extend             .index              .insert             .pop\n",
      ".remove             .reverse            .sort\n"
     ]
    }
   ],
   "source": [
    "p4.see( lst )"
   ]
  },
  {
   "cell_type": "markdown",
   "metadata": {
    "hidden": true
   },
   "source": [
    "モジュール内の特定の関数だけを読み込むことも可能である。"
   ]
  },
  {
   "cell_type": "markdown",
   "metadata": {
    "jp-MarkdownHeadingCollapsed": true
   },
   "source": [
    "### `random`モジュール"
   ]
  },
  {
   "cell_type": "markdown",
   "metadata": {
    "hidden": true
   },
   "source": [
    "ランダム変数を生成する関数が含まれる`random`モジュールを考える。"
   ]
  },
  {
   "cell_type": "code",
   "execution_count": 124,
   "metadata": {
    "hidden": true
   },
   "outputs": [],
   "source": [
    "import random"
   ]
  },
  {
   "cell_type": "markdown",
   "metadata": {
    "hidden": true
   },
   "source": [
    "通常，モジュールなどをインポートするコードは，ファイルの一番上に書くのが慣例となっているので，それに従うことにしよう。"
   ]
  },
  {
   "cell_type": "markdown",
   "metadata": {},
   "source": [
    "`random`に含まれる`randint()`関数は、引数で指定するランダムな整数を返す。\n",
    "\n",
    "* 第１引数：最小値（整数型）\n",
    "* 第２引数：最大値（整数型）\n",
    "\n",
    "次のコードは$[0,6]$の間の整数（サイコロの目）を返す。`1`と`6`は戻り値に含まれることに注意しよう。"
   ]
  },
  {
   "cell_type": "code",
   "execution_count": 125,
   "metadata": {
    "hidden": true
   },
   "outputs": [
    {
     "data": {
      "text/plain": [
       "3"
      ]
     },
     "execution_count": 125,
     "metadata": {},
     "output_type": "execute_result"
    }
   ],
   "source": [
    "random.randint(1, 6)    # randint　は random integers (ランダムな整数)の略"
   ]
  },
  {
   "cell_type": "markdown",
   "metadata": {
    "hidden": true
   },
   "source": [
    "このコードの「`.`」を助詞「の」と読んで，`random.randint`の部分を「`random`モジュールの`randint`関数」と読むことができる。"
   ]
  },
  {
   "cell_type": "markdown",
   "metadata": {},
   "source": [
    "内包表記を使って、`10`回サイコロを投げた結果をリストで表示してみよう。"
   ]
  },
  {
   "cell_type": "code",
   "execution_count": 126,
   "metadata": {},
   "outputs": [
    {
     "data": {
      "text/plain": [
       "[3, 6, 2, 1, 3, 4, 3, 5, 3, 5]"
      ]
     },
     "execution_count": 126,
     "metadata": {},
     "output_type": "execute_result"
    }
   ],
   "source": [
    "[random.randint(1, 6) for _ in range(10)]"
   ]
  },
  {
   "cell_type": "markdown",
   "metadata": {
    "heading_collapsed": true,
    "jp-MarkdownHeadingCollapsed": true
   },
   "source": [
    "## エラー"
   ]
  },
  {
   "cell_type": "markdown",
   "metadata": {
    "hidden": true
   },
   "source": [
    "エラー（Errors）は以下の２つに分けられる。\n",
    "1. 構文エラー（Syntax Errors）\n",
    "    * 構文自体が間違っている場合に発生するエラー（例えば，スペル間違い）。\n",
    "1. 例外（Exceptoins）\n",
    "    * 構文は間違っていなくてもコードの実行中に発生するエラー（例えば，数字を`0`で割る）\n",
    "\n",
    "---\n",
    "＜＜コメント＞＞\n",
    "* エラーが発生するとエラー・メッセージが表示されるが，多くの場合，エラー・メッセージにエラーの理由のヒントがあるので確認することを強く推奨する。はじめは意味が分からないかも知れないが，パターンがあるので慣れると直ぐに理解できるケースも多くあるだろう。\n",
    "* 例外の場合，最初にエラーが発生するとそれに付随して他の場所でもエラーが誘発される場合がある。`Python`はエラーを追跡し，最後に確認したエラーをメッセージの一番最後に表示する。最初は、一番最後のエラー・メッセージを確認しよう！"
   ]
  },
  {
   "cell_type": "markdown",
   "metadata": {
    "hidden": true,
    "jp-MarkdownHeadingCollapsed": true
   },
   "source": [
    "\n",
    "### 構文エラー"
   ]
  },
  {
   "cell_type": "markdown",
   "metadata": {
    "heading_collapsed": true,
    "hidden": true,
    "jp-MarkdownHeadingCollapsed": true
   },
   "source": [
    "#### 例１"
   ]
  },
  {
   "cell_type": "markdown",
   "metadata": {
    "hidden": true
   },
   "source": [
    "（正）`print`<br>\n",
    "（誤）`primt`"
   ]
  },
  {
   "cell_type": "code",
   "execution_count": 177,
   "metadata": {
    "hidden": true,
    "tags": [
     "raises-exception"
    ]
   },
   "outputs": [
    {
     "ename": "NameError",
     "evalue": "name 'primt' is not defined",
     "output_type": "error",
     "traceback": [
      "\u001b[0;31m---------------------------------------------------------------------------\u001b[0m",
      "\u001b[0;31mNameError\u001b[0m                                 Traceback (most recent call last)",
      "Cell \u001b[0;32mIn[177], line 1\u001b[0m\n\u001b[0;32m----> 1\u001b[0m \u001b[43mprimt\u001b[49m(\u001b[38;5;124m'\u001b[39m\u001b[38;5;124mhello\u001b[39m\u001b[38;5;124m'\u001b[39m)\n",
      "\u001b[0;31mNameError\u001b[0m: name 'primt' is not defined"
     ]
    }
   ],
   "source": [
    "primt('hello')"
   ]
  },
  {
   "cell_type": "markdown",
   "metadata": {
    "hidden": true
   },
   "source": [
    "* 矢印（---->）でエラー箇所が示されている。\n",
    "* `NameError`として最終行にスペル間違いである`primt`が示されている。\n",
    "* `name 'primt' is not defined`とは「`primt`という名前（変数のこと）は上で定義されていない」という意味。"
   ]
  },
  {
   "cell_type": "markdown",
   "metadata": {
    "hidden": true,
    "jp-MarkdownHeadingCollapsed": true
   },
   "source": [
    "#### 例２"
   ]
  },
  {
   "cell_type": "markdown",
   "metadata": {
    "hidden": true
   },
   "source": [
    "`for`ループの最初の行の終わりに`:`が抜けている。"
   ]
  },
  {
   "cell_type": "code",
   "execution_count": 179,
   "metadata": {
    "hidden": true,
    "tags": [
     "raises-exception"
    ]
   },
   "outputs": [
    {
     "ename": "SyntaxError",
     "evalue": "expected ':' (1198429325.py, line 3)",
     "output_type": "error",
     "traceback": [
      "\u001b[0;36m  Cell \u001b[0;32mIn[179], line 3\u001b[0;36m\u001b[0m\n\u001b[0;31m    for i in range(0,3)\u001b[0m\n\u001b[0m                       ^\u001b[0m\n\u001b[0;31mSyntaxError\u001b[0m\u001b[0;31m:\u001b[0m expected ':'\n"
     ]
    }
   ],
   "source": [
    "a = 3\n",
    "\n",
    "for i in range(0,3)\n",
    "\n",
    "    print(i)"
   ]
  },
  {
   "cell_type": "markdown",
   "metadata": {
    "hidden": true
   },
   "source": [
    "* `line 3`はセル内の３行目を示している。\n",
    "* `SyntaxError`として最後の行で`:`が足りない箇所を`^`で指し示している。\n",
    "* `expected ':'`とは「`:`があるはず」という意味。"
   ]
  },
  {
   "cell_type": "markdown",
   "metadata": {
    "heading_collapsed": true,
    "hidden": true,
    "jp-MarkdownHeadingCollapsed": true
   },
   "source": [
    "#### 例３"
   ]
  },
  {
   "cell_type": "markdown",
   "metadata": {
    "hidden": true
   },
   "source": [
    "最後の括弧を閉じていない。"
   ]
  },
  {
   "cell_type": "code",
   "execution_count": 180,
   "metadata": {
    "hidden": true,
    "tags": [
     "raises-exception"
    ]
   },
   "outputs": [
    {
     "ename": "SyntaxError",
     "evalue": "incomplete input (46123411.py, line 1)",
     "output_type": "error",
     "traceback": [
      "\u001b[0;36m  Cell \u001b[0;32mIn[180], line 1\u001b[0;36m\u001b[0m\n\u001b[0;31m    (2.1 + 1.5) / (10.0 + 1.0 + 3.2\u001b[0m\n\u001b[0m                                    ^\u001b[0m\n\u001b[0;31mSyntaxError\u001b[0m\u001b[0;31m:\u001b[0m incomplete input\n"
     ]
    }
   ],
   "source": [
    "(2.1 + 1.5) / (10.0 + 1.0 + 3.2 "
   ]
  },
  {
   "cell_type": "markdown",
   "metadata": {
    "hidden": true
   },
   "source": [
    "この場合，`Python`はプログラマーがどこに`)`を入れようとしたかは分からない。従って，最後に`)`が入ると想定して`^`を文末に置いている。\n",
    "* `incomplete input`とは「不完全なインプット」という意味。"
   ]
  },
  {
   "cell_type": "markdown",
   "metadata": {
    "heading_collapsed": true,
    "hidden": true
   },
   "source": [
    "### 例外"
   ]
  },
  {
   "cell_type": "markdown",
   "metadata": {
    "heading_collapsed": true,
    "hidden": true,
    "jp-MarkdownHeadingCollapsed": true
   },
   "source": [
    "#### 例１"
   ]
  },
  {
   "cell_type": "markdown",
   "metadata": {
    "hidden": true
   },
   "source": [
    "`0`が分母にある。"
   ]
  },
  {
   "cell_type": "code",
   "execution_count": 143,
   "metadata": {
    "hidden": true,
    "tags": [
     "raises-exception"
    ]
   },
   "outputs": [
    {
     "ename": "ZeroDivisionError",
     "evalue": "division by zero",
     "output_type": "error",
     "traceback": [
      "\u001b[0;31m---------------------------------------------------------------------------\u001b[0m",
      "\u001b[0;31mZeroDivisionError\u001b[0m                         Traceback (most recent call last)",
      "Cell \u001b[0;32mIn[143], line 1\u001b[0m\n\u001b[0;32m----> 1\u001b[0m \u001b[38;5;241m2.0\u001b[39m \u001b[38;5;241m+\u001b[39m \u001b[38;5;241;43m1\u001b[39;49m\u001b[38;5;241;43m/\u001b[39;49m\u001b[38;5;241;43m0\u001b[39;49m\n",
      "\u001b[0;31mZeroDivisionError\u001b[0m: division by zero"
     ]
    }
   ],
   "source": [
    "2.0 + 1/0"
   ]
  },
  {
   "cell_type": "markdown",
   "metadata": {},
   "source": [
    "* `division by zero`とは「`0`で除している」という意味。"
   ]
  },
  {
   "cell_type": "markdown",
   "metadata": {
    "heading_collapsed": true,
    "hidden": true,
    "jp-MarkdownHeadingCollapsed": true
   },
   "source": [
    "#### 例２"
   ]
  },
  {
   "cell_type": "markdown",
   "metadata": {
    "hidden": true
   },
   "source": [
    "定義されていない変数`xx`が使われている。"
   ]
  },
  {
   "cell_type": "code",
   "execution_count": 144,
   "metadata": {
    "hidden": true,
    "tags": [
     "raises-exception"
    ]
   },
   "outputs": [
    {
     "ename": "NameError",
     "evalue": "name 'xx' is not defined",
     "output_type": "error",
     "traceback": [
      "\u001b[0;31m---------------------------------------------------------------------------\u001b[0m",
      "\u001b[0;31mNameError\u001b[0m                                 Traceback (most recent call last)",
      "Cell \u001b[0;32mIn[144], line 1\u001b[0m\n\u001b[0;32m----> 1\u001b[0m \u001b[38;5;241m10\u001b[39m \u001b[38;5;241m+\u001b[39m \u001b[43mxx\u001b[49m \u001b[38;5;241m*\u001b[39m \u001b[38;5;241m2\u001b[39m\n",
      "\u001b[0;31mNameError\u001b[0m: name 'xx' is not defined"
     ]
    }
   ],
   "source": [
    "10 + xx * 2"
   ]
  },
  {
   "cell_type": "markdown",
   "metadata": {},
   "source": [
    "* `name 'xx' is not defined`とは「`xx`という名前（変数）は上で定義されていない」という意味。"
   ]
  },
  {
   "cell_type": "markdown",
   "metadata": {
    "heading_collapsed": true,
    "hidden": true
   },
   "source": [
    "#### 例３"
   ]
  },
  {
   "cell_type": "markdown",
   "metadata": {
    "hidden": true
   },
   "source": [
    "文字列とfloatを足している。"
   ]
  },
  {
   "cell_type": "code",
   "execution_count": 145,
   "metadata": {
    "hidden": true,
    "tags": [
     "raises-exception"
    ]
   },
   "outputs": [
    {
     "ename": "TypeError",
     "evalue": "can only concatenate str (not \"int\") to str",
     "output_type": "error",
     "traceback": [
      "\u001b[0;31m---------------------------------------------------------------------------\u001b[0m",
      "\u001b[0;31mTypeError\u001b[0m                                 Traceback (most recent call last)",
      "Cell \u001b[0;32mIn[145], line 1\u001b[0m\n\u001b[0;32m----> 1\u001b[0m \u001b[38;5;124;43m'\u001b[39;49m\u001b[38;5;124;43m3\u001b[39;49m\u001b[38;5;124;43m'\u001b[39;49m\u001b[43m \u001b[49m\u001b[38;5;241;43m+\u001b[39;49m\u001b[43m \u001b[49m\u001b[38;5;241;43m10\u001b[39;49m\n",
      "\u001b[0;31mTypeError\u001b[0m: can only concatenate str (not \"int\") to str"
     ]
    }
   ],
   "source": [
    "'3' + 10"
   ]
  },
  {
   "cell_type": "markdown",
   "metadata": {},
   "source": []
  }
 ],
 "metadata": {
  "celltoolbar": "Tags",
  "kernel_info": {
   "name": "py4etrics"
  },
  "kernelspec": {
   "display_name": "py12",
   "language": "python",
   "name": "py12"
  },
  "language_info": {
   "codemirror_mode": {
    "name": "ipython",
    "version": 3
   },
   "file_extension": ".py",
   "mimetype": "text/x-python",
   "name": "python",
   "nbconvert_exporter": "python",
   "pygments_lexer": "ipython3",
   "version": "3.12.2"
  },
  "nteract": {
   "version": "0.22.4"
  },
  "toc": {
   "base_numbering": 1,
   "nav_menu": {},
   "number_sections": true,
   "sideBar": true,
   "skip_h1_title": false,
   "title_cell": "Table of Contents",
   "title_sidebar": "Contents",
   "toc_cell": false,
   "toc_position": {},
   "toc_section_display": true,
   "toc_window_display": true
  }
 },
 "nbformat": 4,
 "nbformat_minor": 4
}
