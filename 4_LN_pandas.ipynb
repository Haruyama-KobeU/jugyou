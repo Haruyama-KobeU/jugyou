{
 "cells": [
  {
   "cell_type": "markdown",
   "metadata": {},
   "source": [
    "# `Pandas`：データ分析"
   ]
  },
  {
   "cell_type": "code",
   "execution_count": 1,
   "metadata": {},
   "outputs": [],
   "source": [
    "import numpy as np\n",
    "import pandas as pd"
   ]
  },
  {
   "cell_type": "markdown",
   "metadata": {
    "heading_collapsed": true,
    "jp-MarkdownHeadingCollapsed": true
   },
   "source": [
    "## 説明"
   ]
  },
  {
   "cell_type": "markdown",
   "metadata": {
    "hidden": true
   },
   "source": [
    "* `DataFrame`（データ・フレーム）：Excelのスプレッドシートのイメージ\n",
    "* `Series`（シリーズ）：Excelの１列もしくは１行のスプレッドシートのイメージ\n",
    "\n",
    "データ・フレームの構造\n",
    "* 列\n",
    "    * `X`，`Y`，`Z`は「列ラベル」（アルファベットや記号など）\n",
    "    * 列インデックス（列番号）で数えることも可\n",
    "        * `X`は`0`番目の列，`Y`は`1`番目の列，`Z`は`2`番目の列\n",
    "* 行\n",
    "    * `0`，`1`，`2`は行インデックス（行番号）\n",
    "    * 「行ラベル」（アルファベットや記号など）に設定することも可能\n",
    "* その他の数字はデータ"
   ]
  },
  {
   "cell_type": "markdown",
   "metadata": {
    "hidden": true
   },
   "source": [
    "|   | X  | Y    | Z   |\n",
    "|---|----|------|-----|\n",
    "| 0 | 10 |  5.0 | 3.0 |\n",
    "| 1 | 20 | 30.0 | 2.0 |\n",
    "| 2 | 30 | 15.0 | 5.0 |\n",
    "\n",
    "通常`pd`という名前で読み込む。\n",
    "```\n",
    "    import pandas as pd\n",
    "```"
   ]
  },
  {
   "cell_type": "markdown",
   "metadata": {
    "heading_collapsed": true,
    "jp-MarkdownHeadingCollapsed": true
   },
   "source": [
    "## データの読み込みとデータのチェック"
   ]
  },
  {
   "cell_type": "markdown",
   "metadata": {
    "hidden": true
   },
   "source": [
    "以下を実行しよう。"
   ]
  },
  {
   "cell_type": "code",
   "execution_count": 2,
   "metadata": {},
   "outputs": [],
   "source": [
    "# CELL PROVIDED\n",
    "\n",
    "df = pd.read_csv(\"./data/data1.csv\")"
   ]
  },
  {
   "cell_type": "markdown",
   "metadata": {
    "hidden": true
   },
   "source": [
    "`df`にデータが割り当てられている。全体を表示させる。"
   ]
  },
  {
   "cell_type": "code",
   "execution_count": 3,
   "metadata": {
    "hidden": true
   },
   "outputs": [
    {
     "data": {
      "text/html": [
       "<div>\n",
       "<style scoped>\n",
       "    .dataframe tbody tr th:only-of-type {\n",
       "        vertical-align: middle;\n",
       "    }\n",
       "\n",
       "    .dataframe tbody tr th {\n",
       "        vertical-align: top;\n",
       "    }\n",
       "\n",
       "    .dataframe thead th {\n",
       "        text-align: right;\n",
       "    }\n",
       "</style>\n",
       "<table border=\"1\" class=\"dataframe\">\n",
       "  <thead>\n",
       "    <tr style=\"text-align: right;\">\n",
       "      <th></th>\n",
       "      <th>country</th>\n",
       "      <th>gdp</th>\n",
       "      <th>con</th>\n",
       "      <th>inv</th>\n",
       "      <th>pop</th>\n",
       "      <th>continent</th>\n",
       "    </tr>\n",
       "  </thead>\n",
       "  <tbody>\n",
       "    <tr>\n",
       "      <th>0</th>\n",
       "      <td>China</td>\n",
       "      <td>20118</td>\n",
       "      <td>7796.0</td>\n",
       "      <td>9137.0</td>\n",
       "      <td>1434</td>\n",
       "      <td>Asia</td>\n",
       "    </tr>\n",
       "    <tr>\n",
       "      <th>1</th>\n",
       "      <td>France</td>\n",
       "      <td>2950</td>\n",
       "      <td>1598.0</td>\n",
       "      <td>806.0</td>\n",
       "      <td>67</td>\n",
       "      <td>Europe</td>\n",
       "    </tr>\n",
       "    <tr>\n",
       "      <th>2</th>\n",
       "      <td>Germany</td>\n",
       "      <td>4274</td>\n",
       "      <td>2294.0</td>\n",
       "      <td>971.0</td>\n",
       "      <td>84</td>\n",
       "      <td>Europe</td>\n",
       "    </tr>\n",
       "    <tr>\n",
       "      <th>3</th>\n",
       "      <td>India</td>\n",
       "      <td>9142</td>\n",
       "      <td>5936.0</td>\n",
       "      <td>2471.0</td>\n",
       "      <td>1366</td>\n",
       "      <td>Asia</td>\n",
       "    </tr>\n",
       "    <tr>\n",
       "      <th>4</th>\n",
       "      <td>Italy</td>\n",
       "      <td>2463</td>\n",
       "      <td>1423.0</td>\n",
       "      <td>614.0</td>\n",
       "      <td>61</td>\n",
       "      <td>Europe</td>\n",
       "    </tr>\n",
       "    <tr>\n",
       "      <th>5</th>\n",
       "      <td>Japan</td>\n",
       "      <td>5032</td>\n",
       "      <td>2675.0</td>\n",
       "      <td>1238.0</td>\n",
       "      <td>127</td>\n",
       "      <td>Asia</td>\n",
       "    </tr>\n",
       "    <tr>\n",
       "      <th>6</th>\n",
       "      <td>Korea</td>\n",
       "      <td>2157</td>\n",
       "      <td>942.0</td>\n",
       "      <td>705.0</td>\n",
       "      <td>51</td>\n",
       "      <td>Asia</td>\n",
       "    </tr>\n",
       "    <tr>\n",
       "      <th>7</th>\n",
       "      <td>Singapore</td>\n",
       "      <td>477</td>\n",
       "      <td>176.0</td>\n",
       "      <td>135.0</td>\n",
       "      <td>6</td>\n",
       "      <td>Asia</td>\n",
       "    </tr>\n",
       "    <tr>\n",
       "      <th>8</th>\n",
       "      <td>Taiwan</td>\n",
       "      <td>1100</td>\n",
       "      <td>607.0</td>\n",
       "      <td>NaN</td>\n",
       "      <td>24</td>\n",
       "      <td>Asia</td>\n",
       "    </tr>\n",
       "    <tr>\n",
       "      <th>9</th>\n",
       "      <td>UK</td>\n",
       "      <td>2994</td>\n",
       "      <td>NaN</td>\n",
       "      <td>NaN</td>\n",
       "      <td>68</td>\n",
       "      <td>Europe</td>\n",
       "    </tr>\n",
       "  </tbody>\n",
       "</table>\n",
       "</div>"
      ],
      "text/plain": [
       "     country    gdp     con     inv   pop continent\n",
       "0      China  20118  7796.0  9137.0  1434      Asia\n",
       "1     France   2950  1598.0   806.0    67    Europe\n",
       "2    Germany   4274  2294.0   971.0    84    Europe\n",
       "3      India   9142  5936.0  2471.0  1366      Asia\n",
       "4      Italy   2463  1423.0   614.0    61    Europe\n",
       "5      Japan   5032  2675.0  1238.0   127      Asia\n",
       "6      Korea   2157   942.0   705.0    51      Asia\n",
       "7  Singapore    477   176.0   135.0     6      Asia\n",
       "8     Taiwan   1100   607.0     NaN    24      Asia\n",
       "9         UK   2994     NaN     NaN    68    Europe"
      ]
     },
     "execution_count": 3,
     "metadata": {},
     "output_type": "execute_result"
    }
   ],
   "source": [
    "df"
   ]
  },
  {
   "cell_type": "markdown",
   "metadata": {
    "hidden": true
   },
   "source": [
    "* 行番号になっている。\n",
    "\n",
    "列`country`を**行ラベル**に設定して`Pandas`の使い方について説明する\n",
    "* `set_index()`：選択された列を行ラベルにするメソッド"
   ]
  },
  {
   "cell_type": "code",
   "execution_count": 4,
   "metadata": {
    "hidden": true
   },
   "outputs": [
    {
     "data": {
      "text/html": [
       "<div>\n",
       "<style scoped>\n",
       "    .dataframe tbody tr th:only-of-type {\n",
       "        vertical-align: middle;\n",
       "    }\n",
       "\n",
       "    .dataframe tbody tr th {\n",
       "        vertical-align: top;\n",
       "    }\n",
       "\n",
       "    .dataframe thead th {\n",
       "        text-align: right;\n",
       "    }\n",
       "</style>\n",
       "<table border=\"1\" class=\"dataframe\">\n",
       "  <thead>\n",
       "    <tr style=\"text-align: right;\">\n",
       "      <th></th>\n",
       "      <th>gdp</th>\n",
       "      <th>con</th>\n",
       "      <th>inv</th>\n",
       "      <th>pop</th>\n",
       "      <th>continent</th>\n",
       "    </tr>\n",
       "    <tr>\n",
       "      <th>country</th>\n",
       "      <th></th>\n",
       "      <th></th>\n",
       "      <th></th>\n",
       "      <th></th>\n",
       "      <th></th>\n",
       "    </tr>\n",
       "  </thead>\n",
       "  <tbody>\n",
       "    <tr>\n",
       "      <th>China</th>\n",
       "      <td>20118</td>\n",
       "      <td>7796.0</td>\n",
       "      <td>9137.0</td>\n",
       "      <td>1434</td>\n",
       "      <td>Asia</td>\n",
       "    </tr>\n",
       "    <tr>\n",
       "      <th>France</th>\n",
       "      <td>2950</td>\n",
       "      <td>1598.0</td>\n",
       "      <td>806.0</td>\n",
       "      <td>67</td>\n",
       "      <td>Europe</td>\n",
       "    </tr>\n",
       "    <tr>\n",
       "      <th>Germany</th>\n",
       "      <td>4274</td>\n",
       "      <td>2294.0</td>\n",
       "      <td>971.0</td>\n",
       "      <td>84</td>\n",
       "      <td>Europe</td>\n",
       "    </tr>\n",
       "    <tr>\n",
       "      <th>India</th>\n",
       "      <td>9142</td>\n",
       "      <td>5936.0</td>\n",
       "      <td>2471.0</td>\n",
       "      <td>1366</td>\n",
       "      <td>Asia</td>\n",
       "    </tr>\n",
       "    <tr>\n",
       "      <th>Italy</th>\n",
       "      <td>2463</td>\n",
       "      <td>1423.0</td>\n",
       "      <td>614.0</td>\n",
       "      <td>61</td>\n",
       "      <td>Europe</td>\n",
       "    </tr>\n",
       "    <tr>\n",
       "      <th>Japan</th>\n",
       "      <td>5032</td>\n",
       "      <td>2675.0</td>\n",
       "      <td>1238.0</td>\n",
       "      <td>127</td>\n",
       "      <td>Asia</td>\n",
       "    </tr>\n",
       "    <tr>\n",
       "      <th>Korea</th>\n",
       "      <td>2157</td>\n",
       "      <td>942.0</td>\n",
       "      <td>705.0</td>\n",
       "      <td>51</td>\n",
       "      <td>Asia</td>\n",
       "    </tr>\n",
       "    <tr>\n",
       "      <th>Singapore</th>\n",
       "      <td>477</td>\n",
       "      <td>176.0</td>\n",
       "      <td>135.0</td>\n",
       "      <td>6</td>\n",
       "      <td>Asia</td>\n",
       "    </tr>\n",
       "    <tr>\n",
       "      <th>Taiwan</th>\n",
       "      <td>1100</td>\n",
       "      <td>607.0</td>\n",
       "      <td>NaN</td>\n",
       "      <td>24</td>\n",
       "      <td>Asia</td>\n",
       "    </tr>\n",
       "    <tr>\n",
       "      <th>UK</th>\n",
       "      <td>2994</td>\n",
       "      <td>NaN</td>\n",
       "      <td>NaN</td>\n",
       "      <td>68</td>\n",
       "      <td>Europe</td>\n",
       "    </tr>\n",
       "  </tbody>\n",
       "</table>\n",
       "</div>"
      ],
      "text/plain": [
       "             gdp     con     inv   pop continent\n",
       "country                                         \n",
       "China      20118  7796.0  9137.0  1434      Asia\n",
       "France      2950  1598.0   806.0    67    Europe\n",
       "Germany     4274  2294.0   971.0    84    Europe\n",
       "India       9142  5936.0  2471.0  1366      Asia\n",
       "Italy       2463  1423.0   614.0    61    Europe\n",
       "Japan       5032  2675.0  1238.0   127      Asia\n",
       "Korea       2157   942.0   705.0    51      Asia\n",
       "Singapore    477   176.0   135.0     6      Asia\n",
       "Taiwan      1100   607.0     NaN    24      Asia\n",
       "UK          2994     NaN     NaN    68    Europe"
      ]
     },
     "execution_count": 4,
     "metadata": {},
     "output_type": "execute_result"
    }
   ],
   "source": [
    "df = df.set_index('country')\n",
    "df"
   ]
  },
  {
   "cell_type": "markdown",
   "metadata": {
    "hidden": true
   },
   "source": [
    "* `=`を使って`df`に再度割り当て（「上書き」）\n",
    "* `NaN`（Not a Number）は欠損値\n",
    "* 行ラベルに`country`という列名が残っている。"
   ]
  },
  {
   "cell_type": "markdown",
   "metadata": {
    "hidden": true
   },
   "source": [
    "`df`の最初の５行を表示させる。"
   ]
  },
  {
   "cell_type": "code",
   "execution_count": 5,
   "metadata": {
    "hidden": true
   },
   "outputs": [
    {
     "data": {
      "text/html": [
       "<div>\n",
       "<style scoped>\n",
       "    .dataframe tbody tr th:only-of-type {\n",
       "        vertical-align: middle;\n",
       "    }\n",
       "\n",
       "    .dataframe tbody tr th {\n",
       "        vertical-align: top;\n",
       "    }\n",
       "\n",
       "    .dataframe thead th {\n",
       "        text-align: right;\n",
       "    }\n",
       "</style>\n",
       "<table border=\"1\" class=\"dataframe\">\n",
       "  <thead>\n",
       "    <tr style=\"text-align: right;\">\n",
       "      <th></th>\n",
       "      <th>gdp</th>\n",
       "      <th>con</th>\n",
       "      <th>inv</th>\n",
       "      <th>pop</th>\n",
       "      <th>continent</th>\n",
       "    </tr>\n",
       "    <tr>\n",
       "      <th>country</th>\n",
       "      <th></th>\n",
       "      <th></th>\n",
       "      <th></th>\n",
       "      <th></th>\n",
       "      <th></th>\n",
       "    </tr>\n",
       "  </thead>\n",
       "  <tbody>\n",
       "    <tr>\n",
       "      <th>China</th>\n",
       "      <td>20118</td>\n",
       "      <td>7796.0</td>\n",
       "      <td>9137.0</td>\n",
       "      <td>1434</td>\n",
       "      <td>Asia</td>\n",
       "    </tr>\n",
       "    <tr>\n",
       "      <th>France</th>\n",
       "      <td>2950</td>\n",
       "      <td>1598.0</td>\n",
       "      <td>806.0</td>\n",
       "      <td>67</td>\n",
       "      <td>Europe</td>\n",
       "    </tr>\n",
       "    <tr>\n",
       "      <th>Germany</th>\n",
       "      <td>4274</td>\n",
       "      <td>2294.0</td>\n",
       "      <td>971.0</td>\n",
       "      <td>84</td>\n",
       "      <td>Europe</td>\n",
       "    </tr>\n",
       "    <tr>\n",
       "      <th>India</th>\n",
       "      <td>9142</td>\n",
       "      <td>5936.0</td>\n",
       "      <td>2471.0</td>\n",
       "      <td>1366</td>\n",
       "      <td>Asia</td>\n",
       "    </tr>\n",
       "    <tr>\n",
       "      <th>Italy</th>\n",
       "      <td>2463</td>\n",
       "      <td>1423.0</td>\n",
       "      <td>614.0</td>\n",
       "      <td>61</td>\n",
       "      <td>Europe</td>\n",
       "    </tr>\n",
       "  </tbody>\n",
       "</table>\n",
       "</div>"
      ],
      "text/plain": [
       "           gdp     con     inv   pop continent\n",
       "country                                       \n",
       "China    20118  7796.0  9137.0  1434      Asia\n",
       "France    2950  1598.0   806.0    67    Europe\n",
       "Germany   4274  2294.0   971.0    84    Europe\n",
       "India     9142  5936.0  2471.0  1366      Asia\n",
       "Italy     2463  1423.0   614.0    61    Europe"
      ]
     },
     "execution_count": 5,
     "metadata": {},
     "output_type": "execute_result"
    }
   ],
   "source": [
    "df.head()"
   ]
  },
  {
   "cell_type": "markdown",
   "metadata": {
    "hidden": true
   },
   "source": [
    "最後の5行を表示させる。"
   ]
  },
  {
   "cell_type": "code",
   "execution_count": 6,
   "metadata": {
    "hidden": true
   },
   "outputs": [
    {
     "data": {
      "text/html": [
       "<div>\n",
       "<style scoped>\n",
       "    .dataframe tbody tr th:only-of-type {\n",
       "        vertical-align: middle;\n",
       "    }\n",
       "\n",
       "    .dataframe tbody tr th {\n",
       "        vertical-align: top;\n",
       "    }\n",
       "\n",
       "    .dataframe thead th {\n",
       "        text-align: right;\n",
       "    }\n",
       "</style>\n",
       "<table border=\"1\" class=\"dataframe\">\n",
       "  <thead>\n",
       "    <tr style=\"text-align: right;\">\n",
       "      <th></th>\n",
       "      <th>gdp</th>\n",
       "      <th>con</th>\n",
       "      <th>inv</th>\n",
       "      <th>pop</th>\n",
       "      <th>continent</th>\n",
       "    </tr>\n",
       "    <tr>\n",
       "      <th>country</th>\n",
       "      <th></th>\n",
       "      <th></th>\n",
       "      <th></th>\n",
       "      <th></th>\n",
       "      <th></th>\n",
       "    </tr>\n",
       "  </thead>\n",
       "  <tbody>\n",
       "    <tr>\n",
       "      <th>Japan</th>\n",
       "      <td>5032</td>\n",
       "      <td>2675.0</td>\n",
       "      <td>1238.0</td>\n",
       "      <td>127</td>\n",
       "      <td>Asia</td>\n",
       "    </tr>\n",
       "    <tr>\n",
       "      <th>Korea</th>\n",
       "      <td>2157</td>\n",
       "      <td>942.0</td>\n",
       "      <td>705.0</td>\n",
       "      <td>51</td>\n",
       "      <td>Asia</td>\n",
       "    </tr>\n",
       "    <tr>\n",
       "      <th>Singapore</th>\n",
       "      <td>477</td>\n",
       "      <td>176.0</td>\n",
       "      <td>135.0</td>\n",
       "      <td>6</td>\n",
       "      <td>Asia</td>\n",
       "    </tr>\n",
       "    <tr>\n",
       "      <th>Taiwan</th>\n",
       "      <td>1100</td>\n",
       "      <td>607.0</td>\n",
       "      <td>NaN</td>\n",
       "      <td>24</td>\n",
       "      <td>Asia</td>\n",
       "    </tr>\n",
       "    <tr>\n",
       "      <th>UK</th>\n",
       "      <td>2994</td>\n",
       "      <td>NaN</td>\n",
       "      <td>NaN</td>\n",
       "      <td>68</td>\n",
       "      <td>Europe</td>\n",
       "    </tr>\n",
       "  </tbody>\n",
       "</table>\n",
       "</div>"
      ],
      "text/plain": [
       "            gdp     con     inv  pop continent\n",
       "country                                       \n",
       "Japan      5032  2675.0  1238.0  127      Asia\n",
       "Korea      2157   942.0   705.0   51      Asia\n",
       "Singapore   477   176.0   135.0    6      Asia\n",
       "Taiwan     1100   607.0     NaN   24      Asia\n",
       "UK         2994     NaN     NaN   68    Europe"
      ]
     },
     "execution_count": 6,
     "metadata": {},
     "output_type": "execute_result"
    }
   ],
   "source": [
    "df.tail()"
   ]
  },
  {
   "cell_type": "markdown",
   "metadata": {
    "hidden": true
   },
   "source": [
    "`df`の情報を確認する。"
   ]
  },
  {
   "cell_type": "code",
   "execution_count": 7,
   "metadata": {
    "hidden": true
   },
   "outputs": [
    {
     "name": "stdout",
     "output_type": "stream",
     "text": [
      "<class 'pandas.core.frame.DataFrame'>\n",
      "Index: 10 entries, China to UK\n",
      "Data columns (total 5 columns):\n",
      " #   Column     Non-Null Count  Dtype  \n",
      "---  ------     --------------  -----  \n",
      " 0   gdp        10 non-null     int64  \n",
      " 1   con        9 non-null      float64\n",
      " 2   inv        8 non-null      float64\n",
      " 3   pop        10 non-null     int64  \n",
      " 4   continent  10 non-null     object \n",
      "dtypes: float64(2), int64(2), object(1)\n",
      "memory usage: 480.0+ bytes\n"
     ]
    }
   ],
   "source": [
    "df.info()"
   ]
  },
  {
   "cell_type": "markdown",
   "metadata": {
    "hidden": true
   },
   "source": [
    "* 2行目の`10 entries`　→　行数が`10`\n",
    "* `non-null`：非欠損値\n",
    "* データ列の数\n",
    "    * `int64`：整数型\n",
    "    * `float64`：浮動小数点型\n",
    "    * `object`：文字列など\n",
    "\n",
    "記述統計"
   ]
  },
  {
   "cell_type": "code",
   "execution_count": 8,
   "metadata": {
    "hidden": true
   },
   "outputs": [
    {
     "data": {
      "text/html": [
       "<div>\n",
       "<style scoped>\n",
       "    .dataframe tbody tr th:only-of-type {\n",
       "        vertical-align: middle;\n",
       "    }\n",
       "\n",
       "    .dataframe tbody tr th {\n",
       "        vertical-align: top;\n",
       "    }\n",
       "\n",
       "    .dataframe thead th {\n",
       "        text-align: right;\n",
       "    }\n",
       "</style>\n",
       "<table border=\"1\" class=\"dataframe\">\n",
       "  <thead>\n",
       "    <tr style=\"text-align: right;\">\n",
       "      <th></th>\n",
       "      <th>gdp</th>\n",
       "      <th>con</th>\n",
       "      <th>inv</th>\n",
       "      <th>pop</th>\n",
       "    </tr>\n",
       "  </thead>\n",
       "  <tbody>\n",
       "    <tr>\n",
       "      <th>count</th>\n",
       "      <td>10.000000</td>\n",
       "      <td>9.000000</td>\n",
       "      <td>8.000000</td>\n",
       "      <td>10.000000</td>\n",
       "    </tr>\n",
       "    <tr>\n",
       "      <th>mean</th>\n",
       "      <td>5070.700000</td>\n",
       "      <td>2605.222222</td>\n",
       "      <td>2009.625000</td>\n",
       "      <td>328.800000</td>\n",
       "    </tr>\n",
       "    <tr>\n",
       "      <th>std</th>\n",
       "      <td>5817.610106</td>\n",
       "      <td>2579.061107</td>\n",
       "      <td>2959.228564</td>\n",
       "      <td>565.729578</td>\n",
       "    </tr>\n",
       "    <tr>\n",
       "      <th>min</th>\n",
       "      <td>477.000000</td>\n",
       "      <td>176.000000</td>\n",
       "      <td>135.000000</td>\n",
       "      <td>6.000000</td>\n",
       "    </tr>\n",
       "    <tr>\n",
       "      <th>25%</th>\n",
       "      <td>2233.500000</td>\n",
       "      <td>942.000000</td>\n",
       "      <td>682.250000</td>\n",
       "      <td>53.500000</td>\n",
       "    </tr>\n",
       "    <tr>\n",
       "      <th>50%</th>\n",
       "      <td>2972.000000</td>\n",
       "      <td>1598.000000</td>\n",
       "      <td>888.500000</td>\n",
       "      <td>67.500000</td>\n",
       "    </tr>\n",
       "    <tr>\n",
       "      <th>75%</th>\n",
       "      <td>4842.500000</td>\n",
       "      <td>2675.000000</td>\n",
       "      <td>1546.250000</td>\n",
       "      <td>116.250000</td>\n",
       "    </tr>\n",
       "    <tr>\n",
       "      <th>max</th>\n",
       "      <td>20118.000000</td>\n",
       "      <td>7796.000000</td>\n",
       "      <td>9137.000000</td>\n",
       "      <td>1434.000000</td>\n",
       "    </tr>\n",
       "  </tbody>\n",
       "</table>\n",
       "</div>"
      ],
      "text/plain": [
       "                gdp          con          inv          pop\n",
       "count     10.000000     9.000000     8.000000    10.000000\n",
       "mean    5070.700000  2605.222222  2009.625000   328.800000\n",
       "std     5817.610106  2579.061107  2959.228564   565.729578\n",
       "min      477.000000   176.000000   135.000000     6.000000\n",
       "25%     2233.500000   942.000000   682.250000    53.500000\n",
       "50%     2972.000000  1598.000000   888.500000    67.500000\n",
       "75%     4842.500000  2675.000000  1546.250000   116.250000\n",
       "max    20118.000000  7796.000000  9137.000000  1434.000000"
      ]
     },
     "execution_count": 8,
     "metadata": {},
     "output_type": "execute_result"
    }
   ],
   "source": [
    "df.describe()"
   ]
  },
  {
   "cell_type": "markdown",
   "metadata": {
    "hidden": true
   },
   "source": [
    "* `count`：観測値の数\n",
    "* `mean`：平均\n",
    "* `std`：標準偏差\n",
    "* `min`：最小値\n",
    "* `max`：最大値\n",
    "* `25%`：第１四分位数\n",
    "* `50%`：第２四分位数（中央値）\n",
    "* `75%`：第３四分位数\n",
    "* `max`：最大値\n",
    "\n",
    "次のデータ属性`shape`を使って`(行の数，列の数)`を表示"
   ]
  },
  {
   "cell_type": "code",
   "execution_count": 9,
   "metadata": {
    "hidden": true
   },
   "outputs": [
    {
     "data": {
      "text/plain": [
       "(10, 5)"
      ]
     },
     "execution_count": 9,
     "metadata": {},
     "output_type": "execute_result"
    }
   ],
   "source": [
    "df.shape"
   ]
  },
  {
   "cell_type": "markdown",
   "metadata": {
    "hidden": true
   },
   "source": [
    "タプルなので行数は次のコードで取得できる。"
   ]
  },
  {
   "cell_type": "code",
   "execution_count": 10,
   "metadata": {
    "hidden": true
   },
   "outputs": [
    {
     "data": {
      "text/plain": [
       "10"
      ]
     },
     "execution_count": 10,
     "metadata": {},
     "output_type": "execute_result"
    }
   ],
   "source": [
    "df.shape[0]"
   ]
  },
  {
   "cell_type": "markdown",
   "metadata": {
    "hidden": true
   },
   "source": [
    "`len()`関数を使い行数を示すことができる。"
   ]
  },
  {
   "cell_type": "code",
   "execution_count": 11,
   "metadata": {
    "hidden": true
   },
   "outputs": [
    {
     "data": {
      "text/plain": [
       "10"
      ]
     },
     "execution_count": 11,
     "metadata": {},
     "output_type": "execute_result"
    }
   ],
   "source": [
    "len(df)"
   ]
  },
  {
   "cell_type": "markdown",
   "metadata": {
    "heading_collapsed": true,
    "jp-MarkdownHeadingCollapsed": true
   },
   "source": [
    "## `DataFrame`の構成要素"
   ]
  },
  {
   "cell_type": "markdown",
   "metadata": {
    "hidden": true
   },
   "source": [
    "* データ：`.to_numpy()`もしくは`.values`で抽出できる。\n",
    "* 列ラベル：`.columns`で抽出できる。\n",
    "* 行ラベル：`.index`で抽出できる。"
   ]
  },
  {
   "cell_type": "code",
   "execution_count": 12,
   "metadata": {
    "hidden": true
   },
   "outputs": [
    {
     "data": {
      "text/plain": [
       "array([[20118, 7796.0, 9137.0, 1434, 'Asia'],\n",
       "       [2950, 1598.0, 806.0, 67, 'Europe'],\n",
       "       [4274, 2294.0, 971.0, 84, 'Europe'],\n",
       "       [9142, 5936.0, 2471.0, 1366, 'Asia'],\n",
       "       [2463, 1423.0, 614.0, 61, 'Europe'],\n",
       "       [5032, 2675.0, 1238.0, 127, 'Asia'],\n",
       "       [2157, 942.0, 705.0, 51, 'Asia'],\n",
       "       [477, 176.0, 135.0, 6, 'Asia'],\n",
       "       [1100, 607.0, nan, 24, 'Asia'],\n",
       "       [2994, nan, nan, 68, 'Europe']], dtype=object)"
      ]
     },
     "execution_count": 12,
     "metadata": {},
     "output_type": "execute_result"
    }
   ],
   "source": [
    "df.to_numpy()"
   ]
  },
  {
   "cell_type": "code",
   "execution_count": 13,
   "metadata": {
    "hidden": true
   },
   "outputs": [
    {
     "data": {
      "text/plain": [
       "Index(['gdp', 'con', 'inv', 'pop', 'continent'], dtype='object')"
      ]
     },
     "execution_count": 13,
     "metadata": {},
     "output_type": "execute_result"
    }
   ],
   "source": [
    "df.columns"
   ]
  },
  {
   "cell_type": "code",
   "execution_count": 14,
   "metadata": {
    "hidden": true
   },
   "outputs": [
    {
     "data": {
      "text/plain": [
       "Index(['China', 'France', 'Germany', 'India', 'Italy', 'Japan', 'Korea',\n",
       "       'Singapore', 'Taiwan', 'UK'],\n",
       "      dtype='object', name='country')"
      ]
     },
     "execution_count": 14,
     "metadata": {},
     "output_type": "execute_result"
    }
   ],
   "source": [
    "df.index"
   ]
  },
  {
   "cell_type": "markdown",
   "metadata": {
    "jp-MarkdownHeadingCollapsed": true
   },
   "source": [
    "## 列の抽出"
   ]
  },
  {
   "cell_type": "markdown",
   "metadata": {},
   "source": [
    "まず、１つの列を抽出する場合を考える。\n",
    "* `Series`として抽出する場合\n",
    "    * `[]`の中に列ラベルを書く\n",
    "```\n",
    "df[\"列ラベル\"]\n",
    "```\n",
    "* `DataFrame`として抽出する場合\n",
    "    * `[]`の中にリストとして列ラベルを書く\n",
    "```\n",
    "df[[\"列ラベル\"]]\n",
    "```\n",
    "\n",
    "次に、複数の列を抽出する場合を考えよう。\n",
    "* `[]`の中にリストとして列ラベルを書く\n",
    "```\n",
    "df[[\"ラベル１\", \"ラベル２\", \"ラベル３\"]]\n",
    "```\n"
   ]
  },
  {
   "cell_type": "markdown",
   "metadata": {},
   "source": [
    "`gdp`を`Series`として抽出"
   ]
  },
  {
   "cell_type": "code",
   "execution_count": 15,
   "metadata": {},
   "outputs": [
    {
     "data": {
      "text/plain": [
       "country\n",
       "China        20118\n",
       "France        2950\n",
       "Germany       4274\n",
       "India         9142\n",
       "Italy         2463\n",
       "Japan         5032\n",
       "Korea         2157\n",
       "Singapore      477\n",
       "Taiwan        1100\n",
       "UK            2994\n",
       "Name: gdp, dtype: int64"
      ]
     },
     "execution_count": 15,
     "metadata": {},
     "output_type": "execute_result"
    }
   ],
   "source": [
    "df[\"gdp\"]"
   ]
  },
  {
   "cell_type": "markdown",
   "metadata": {},
   "source": [
    "`gdp`を`DataFrame`として抽出"
   ]
  },
  {
   "cell_type": "code",
   "execution_count": 16,
   "metadata": {},
   "outputs": [
    {
     "data": {
      "text/html": [
       "<div>\n",
       "<style scoped>\n",
       "    .dataframe tbody tr th:only-of-type {\n",
       "        vertical-align: middle;\n",
       "    }\n",
       "\n",
       "    .dataframe tbody tr th {\n",
       "        vertical-align: top;\n",
       "    }\n",
       "\n",
       "    .dataframe thead th {\n",
       "        text-align: right;\n",
       "    }\n",
       "</style>\n",
       "<table border=\"1\" class=\"dataframe\">\n",
       "  <thead>\n",
       "    <tr style=\"text-align: right;\">\n",
       "      <th></th>\n",
       "      <th>gdp</th>\n",
       "    </tr>\n",
       "    <tr>\n",
       "      <th>country</th>\n",
       "      <th></th>\n",
       "    </tr>\n",
       "  </thead>\n",
       "  <tbody>\n",
       "    <tr>\n",
       "      <th>China</th>\n",
       "      <td>20118</td>\n",
       "    </tr>\n",
       "    <tr>\n",
       "      <th>France</th>\n",
       "      <td>2950</td>\n",
       "    </tr>\n",
       "    <tr>\n",
       "      <th>Germany</th>\n",
       "      <td>4274</td>\n",
       "    </tr>\n",
       "    <tr>\n",
       "      <th>India</th>\n",
       "      <td>9142</td>\n",
       "    </tr>\n",
       "    <tr>\n",
       "      <th>Italy</th>\n",
       "      <td>2463</td>\n",
       "    </tr>\n",
       "    <tr>\n",
       "      <th>Japan</th>\n",
       "      <td>5032</td>\n",
       "    </tr>\n",
       "    <tr>\n",
       "      <th>Korea</th>\n",
       "      <td>2157</td>\n",
       "    </tr>\n",
       "    <tr>\n",
       "      <th>Singapore</th>\n",
       "      <td>477</td>\n",
       "    </tr>\n",
       "    <tr>\n",
       "      <th>Taiwan</th>\n",
       "      <td>1100</td>\n",
       "    </tr>\n",
       "    <tr>\n",
       "      <th>UK</th>\n",
       "      <td>2994</td>\n",
       "    </tr>\n",
       "  </tbody>\n",
       "</table>\n",
       "</div>"
      ],
      "text/plain": [
       "             gdp\n",
       "country         \n",
       "China      20118\n",
       "France      2950\n",
       "Germany     4274\n",
       "India       9142\n",
       "Italy       2463\n",
       "Japan       5032\n",
       "Korea       2157\n",
       "Singapore    477\n",
       "Taiwan      1100\n",
       "UK          2994"
      ]
     },
     "execution_count": 16,
     "metadata": {},
     "output_type": "execute_result"
    }
   ],
   "source": [
    "df[[\"gdp\"]]"
   ]
  },
  {
   "cell_type": "markdown",
   "metadata": {},
   "source": [
    "`gdp`、`con`、`inv`を抽出"
   ]
  },
  {
   "cell_type": "code",
   "execution_count": 17,
   "metadata": {},
   "outputs": [
    {
     "data": {
      "text/html": [
       "<div>\n",
       "<style scoped>\n",
       "    .dataframe tbody tr th:only-of-type {\n",
       "        vertical-align: middle;\n",
       "    }\n",
       "\n",
       "    .dataframe tbody tr th {\n",
       "        vertical-align: top;\n",
       "    }\n",
       "\n",
       "    .dataframe thead th {\n",
       "        text-align: right;\n",
       "    }\n",
       "</style>\n",
       "<table border=\"1\" class=\"dataframe\">\n",
       "  <thead>\n",
       "    <tr style=\"text-align: right;\">\n",
       "      <th></th>\n",
       "      <th>gdp</th>\n",
       "      <th>con</th>\n",
       "      <th>inv</th>\n",
       "    </tr>\n",
       "    <tr>\n",
       "      <th>country</th>\n",
       "      <th></th>\n",
       "      <th></th>\n",
       "      <th></th>\n",
       "    </tr>\n",
       "  </thead>\n",
       "  <tbody>\n",
       "    <tr>\n",
       "      <th>China</th>\n",
       "      <td>20118</td>\n",
       "      <td>7796.0</td>\n",
       "      <td>9137.0</td>\n",
       "    </tr>\n",
       "    <tr>\n",
       "      <th>France</th>\n",
       "      <td>2950</td>\n",
       "      <td>1598.0</td>\n",
       "      <td>806.0</td>\n",
       "    </tr>\n",
       "    <tr>\n",
       "      <th>Germany</th>\n",
       "      <td>4274</td>\n",
       "      <td>2294.0</td>\n",
       "      <td>971.0</td>\n",
       "    </tr>\n",
       "    <tr>\n",
       "      <th>India</th>\n",
       "      <td>9142</td>\n",
       "      <td>5936.0</td>\n",
       "      <td>2471.0</td>\n",
       "    </tr>\n",
       "    <tr>\n",
       "      <th>Italy</th>\n",
       "      <td>2463</td>\n",
       "      <td>1423.0</td>\n",
       "      <td>614.0</td>\n",
       "    </tr>\n",
       "    <tr>\n",
       "      <th>Japan</th>\n",
       "      <td>5032</td>\n",
       "      <td>2675.0</td>\n",
       "      <td>1238.0</td>\n",
       "    </tr>\n",
       "    <tr>\n",
       "      <th>Korea</th>\n",
       "      <td>2157</td>\n",
       "      <td>942.0</td>\n",
       "      <td>705.0</td>\n",
       "    </tr>\n",
       "    <tr>\n",
       "      <th>Singapore</th>\n",
       "      <td>477</td>\n",
       "      <td>176.0</td>\n",
       "      <td>135.0</td>\n",
       "    </tr>\n",
       "    <tr>\n",
       "      <th>Taiwan</th>\n",
       "      <td>1100</td>\n",
       "      <td>607.0</td>\n",
       "      <td>NaN</td>\n",
       "    </tr>\n",
       "    <tr>\n",
       "      <th>UK</th>\n",
       "      <td>2994</td>\n",
       "      <td>NaN</td>\n",
       "      <td>NaN</td>\n",
       "    </tr>\n",
       "  </tbody>\n",
       "</table>\n",
       "</div>"
      ],
      "text/plain": [
       "             gdp     con     inv\n",
       "country                         \n",
       "China      20118  7796.0  9137.0\n",
       "France      2950  1598.0   806.0\n",
       "Germany     4274  2294.0   971.0\n",
       "India       9142  5936.0  2471.0\n",
       "Italy       2463  1423.0   614.0\n",
       "Japan       5032  2675.0  1238.0\n",
       "Korea       2157   942.0   705.0\n",
       "Singapore    477   176.0   135.0\n",
       "Taiwan      1100   607.0     NaN\n",
       "UK          2994     NaN     NaN"
      ]
     },
     "execution_count": 17,
     "metadata": {},
     "output_type": "execute_result"
    }
   ],
   "source": [
    "cols = ['gdp', 'con', 'inv']\n",
    "df[cols]"
   ]
  },
  {
   "cell_type": "markdown",
   "metadata": {
    "heading_collapsed": true,
    "jp-MarkdownHeadingCollapsed": true
   },
   "source": [
    "## 要素の抽出"
   ]
  },
  {
   "cell_type": "markdown",
   "metadata": {
    "heading_collapsed": true,
    "hidden": true
   },
   "source": [
    "### `DataFrame`のメソッド`.loc[]`"
   ]
  },
  {
   "cell_type": "markdown",
   "metadata": {
    "hidden": true
   },
   "source": [
    "**＜一つのデータの抽出＞**\n",
    "* ラベルを使う方法：`.loc[,]`\n",
    "    * `loc`ationと覚えよう\n",
    "    * `,`の左に行ラベル，右に列ラベルを入力する。\n",
    "```\n",
    "例：　df.loc['Japan', 'gdp']\n",
    "```\n",
    "* インデックス（番号）を使う方法：`.iloc[,]`\n",
    "    * `i`はインデックス（index、番号）の`i`であり，`i`ndex `loc`ationという意味\n",
    "    * `,`の左に行番号，右に列番号を入力する。\n",
    "```\n",
    "例：　df.iloc[5, 0]\n",
    "```\n",
    "\n",
    "**＜連続するデータの抽出＞**\n",
    "行または列を連続選択する（**スライシング**）場合を考えよう。\n",
    "```\n",
    "    .loc[ start:end, start:end ]\n",
    "```\n",
    "* `:`の左を省略すると「最初から」という意味になる。\n",
    "* `:`の右を省略すると「最後まで」という意味になる。\n",
    "* `,`の左または右が`:`のみの場合，「全て」という意味になる。\n",
    "\n",
    "＜注意＞\n",
    "* `.loc[,]`の場合，`end`を含む。（要注意！）\n",
    "* `.iloc[,]`の場合，`end`は含まれず，その１つ前のインデックスまでが含まれる（`numpy`の`array`と同じ）。\n",
    "\n",
    "**＜次のルールで説明する＞**\n",
    "1. `.loc[,]`内の`,`を省略可能な場合であっても省略しない。\n",
    "2. `.loc[,]`内の`,`の左または右を省略できる場合であっても省略しない。\n",
    "\n",
    "\n",
    "**＜ヒント１＞**\n",
    "* 列の抽出の場合、次の(1)と(2)は同じ`Series`を返す。\n",
    "```\n",
    "(1) `df[\"列ラベル\"]`\n",
    "(2) `df.loc[:,\"列ラベル\"]`\n",
    "```\n",
    "\n",
    "**＜ヒント２＞**\n",
    "* 列の抽出の場合、次の(3)と(4)は同じ`DataFrame`を返す。\n",
    "```\n",
    "(3) `df[[\"列ラベル\"]]`\n",
    "(4) `df.loc[:,[\"列ラベル\"]]`\n",
    "```"
   ]
  },
  {
   "cell_type": "markdown",
   "metadata": {
    "heading_collapsed": true,
    "hidden": true,
    "jp-MarkdownHeadingCollapsed": true
   },
   "source": [
    "### `.loc[,]`（ラベル使用）"
   ]
  },
  {
   "cell_type": "markdown",
   "metadata": {
    "hidden": true
   },
   "source": [
    "**１つの列を`Series`として抽出**"
   ]
  },
  {
   "cell_type": "code",
   "execution_count": 15,
   "metadata": {
    "hidden": true
   },
   "outputs": [
    {
     "data": {
      "text/plain": [
       "country\n",
       "China        20118\n",
       "France        2950\n",
       "Germany       4274\n",
       "India         9142\n",
       "Italy         2463\n",
       "Japan         5032\n",
       "Korea         2157\n",
       "Singapore      477\n",
       "Taiwan        1100\n",
       "UK            2994\n",
       "Name: gdp, dtype: int64"
      ]
     },
     "execution_count": 15,
     "metadata": {},
     "output_type": "execute_result"
    }
   ],
   "source": [
    "df.loc[:,'gdp']"
   ]
  },
  {
   "cell_type": "markdown",
   "metadata": {
    "hidden": true
   },
   "source": [
    "次のコードでもOK\n",
    "```\n",
    "df['gdp']\n",
    "```"
   ]
  },
  {
   "cell_type": "markdown",
   "metadata": {
    "hidden": true
   },
   "source": [
    "**１つの列を`DataFrame`として抽出**"
   ]
  },
  {
   "cell_type": "code",
   "execution_count": 16,
   "metadata": {
    "hidden": true
   },
   "outputs": [
    {
     "data": {
      "text/html": [
       "<div>\n",
       "<style scoped>\n",
       "    .dataframe tbody tr th:only-of-type {\n",
       "        vertical-align: middle;\n",
       "    }\n",
       "\n",
       "    .dataframe tbody tr th {\n",
       "        vertical-align: top;\n",
       "    }\n",
       "\n",
       "    .dataframe thead th {\n",
       "        text-align: right;\n",
       "    }\n",
       "</style>\n",
       "<table border=\"1\" class=\"dataframe\">\n",
       "  <thead>\n",
       "    <tr style=\"text-align: right;\">\n",
       "      <th></th>\n",
       "      <th>gdp</th>\n",
       "    </tr>\n",
       "    <tr>\n",
       "      <th>country</th>\n",
       "      <th></th>\n",
       "    </tr>\n",
       "  </thead>\n",
       "  <tbody>\n",
       "    <tr>\n",
       "      <th>China</th>\n",
       "      <td>20118</td>\n",
       "    </tr>\n",
       "    <tr>\n",
       "      <th>France</th>\n",
       "      <td>2950</td>\n",
       "    </tr>\n",
       "    <tr>\n",
       "      <th>Germany</th>\n",
       "      <td>4274</td>\n",
       "    </tr>\n",
       "    <tr>\n",
       "      <th>India</th>\n",
       "      <td>9142</td>\n",
       "    </tr>\n",
       "    <tr>\n",
       "      <th>Italy</th>\n",
       "      <td>2463</td>\n",
       "    </tr>\n",
       "    <tr>\n",
       "      <th>Japan</th>\n",
       "      <td>5032</td>\n",
       "    </tr>\n",
       "    <tr>\n",
       "      <th>Korea</th>\n",
       "      <td>2157</td>\n",
       "    </tr>\n",
       "    <tr>\n",
       "      <th>Singapore</th>\n",
       "      <td>477</td>\n",
       "    </tr>\n",
       "    <tr>\n",
       "      <th>Taiwan</th>\n",
       "      <td>1100</td>\n",
       "    </tr>\n",
       "    <tr>\n",
       "      <th>UK</th>\n",
       "      <td>2994</td>\n",
       "    </tr>\n",
       "  </tbody>\n",
       "</table>\n",
       "</div>"
      ],
      "text/plain": [
       "             gdp\n",
       "country         \n",
       "China      20118\n",
       "France      2950\n",
       "Germany     4274\n",
       "India       9142\n",
       "Italy       2463\n",
       "Japan       5032\n",
       "Korea       2157\n",
       "Singapore    477\n",
       "Taiwan      1100\n",
       "UK          2994"
      ]
     },
     "execution_count": 16,
     "metadata": {},
     "output_type": "execute_result"
    }
   ],
   "source": [
    "df.loc[:,['gdp']]"
   ]
  },
  {
   "cell_type": "markdown",
   "metadata": {
    "hidden": true
   },
   "source": [
    "次のコードでもOK\n",
    "```\n",
    "df[['gdp']]\n",
    "```"
   ]
  },
  {
   "cell_type": "markdown",
   "metadata": {
    "hidden": true
   },
   "source": [
    "**複数列を抽出**"
   ]
  },
  {
   "cell_type": "code",
   "execution_count": 17,
   "metadata": {
    "hidden": true
   },
   "outputs": [
    {
     "data": {
      "text/html": [
       "<div>\n",
       "<style scoped>\n",
       "    .dataframe tbody tr th:only-of-type {\n",
       "        vertical-align: middle;\n",
       "    }\n",
       "\n",
       "    .dataframe tbody tr th {\n",
       "        vertical-align: top;\n",
       "    }\n",
       "\n",
       "    .dataframe thead th {\n",
       "        text-align: right;\n",
       "    }\n",
       "</style>\n",
       "<table border=\"1\" class=\"dataframe\">\n",
       "  <thead>\n",
       "    <tr style=\"text-align: right;\">\n",
       "      <th></th>\n",
       "      <th>gdp</th>\n",
       "      <th>pop</th>\n",
       "    </tr>\n",
       "    <tr>\n",
       "      <th>country</th>\n",
       "      <th></th>\n",
       "      <th></th>\n",
       "    </tr>\n",
       "  </thead>\n",
       "  <tbody>\n",
       "    <tr>\n",
       "      <th>China</th>\n",
       "      <td>20118</td>\n",
       "      <td>1434</td>\n",
       "    </tr>\n",
       "    <tr>\n",
       "      <th>France</th>\n",
       "      <td>2950</td>\n",
       "      <td>67</td>\n",
       "    </tr>\n",
       "    <tr>\n",
       "      <th>Germany</th>\n",
       "      <td>4274</td>\n",
       "      <td>84</td>\n",
       "    </tr>\n",
       "    <tr>\n",
       "      <th>India</th>\n",
       "      <td>9142</td>\n",
       "      <td>1366</td>\n",
       "    </tr>\n",
       "    <tr>\n",
       "      <th>Italy</th>\n",
       "      <td>2463</td>\n",
       "      <td>61</td>\n",
       "    </tr>\n",
       "    <tr>\n",
       "      <th>Japan</th>\n",
       "      <td>5032</td>\n",
       "      <td>127</td>\n",
       "    </tr>\n",
       "    <tr>\n",
       "      <th>Korea</th>\n",
       "      <td>2157</td>\n",
       "      <td>51</td>\n",
       "    </tr>\n",
       "    <tr>\n",
       "      <th>Singapore</th>\n",
       "      <td>477</td>\n",
       "      <td>6</td>\n",
       "    </tr>\n",
       "    <tr>\n",
       "      <th>Taiwan</th>\n",
       "      <td>1100</td>\n",
       "      <td>24</td>\n",
       "    </tr>\n",
       "    <tr>\n",
       "      <th>UK</th>\n",
       "      <td>2994</td>\n",
       "      <td>68</td>\n",
       "    </tr>\n",
       "  </tbody>\n",
       "</table>\n",
       "</div>"
      ],
      "text/plain": [
       "             gdp   pop\n",
       "country               \n",
       "China      20118  1434\n",
       "France      2950    67\n",
       "Germany     4274    84\n",
       "India       9142  1366\n",
       "Italy       2463    61\n",
       "Japan       5032   127\n",
       "Korea       2157    51\n",
       "Singapore    477     6\n",
       "Taiwan      1100    24\n",
       "UK          2994    68"
      ]
     },
     "execution_count": 17,
     "metadata": {},
     "output_type": "execute_result"
    }
   ],
   "source": [
    "df.loc[:,['gdp','pop']]"
   ]
  },
  {
   "cell_type": "markdown",
   "metadata": {
    "hidden": true
   },
   "source": [
    "次のコードでもOK\n",
    "```\n",
    "df[['gdp','pop']]\n",
    "```"
   ]
  },
  {
   "cell_type": "markdown",
   "metadata": {
    "hidden": true
   },
   "source": [
    "**複数列を連続抽出（slicing）**"
   ]
  },
  {
   "cell_type": "code",
   "execution_count": 18,
   "metadata": {
    "hidden": true
   },
   "outputs": [
    {
     "data": {
      "text/html": [
       "<div>\n",
       "<style scoped>\n",
       "    .dataframe tbody tr th:only-of-type {\n",
       "        vertical-align: middle;\n",
       "    }\n",
       "\n",
       "    .dataframe tbody tr th {\n",
       "        vertical-align: top;\n",
       "    }\n",
       "\n",
       "    .dataframe thead th {\n",
       "        text-align: right;\n",
       "    }\n",
       "</style>\n",
       "<table border=\"1\" class=\"dataframe\">\n",
       "  <thead>\n",
       "    <tr style=\"text-align: right;\">\n",
       "      <th></th>\n",
       "      <th>con</th>\n",
       "      <th>inv</th>\n",
       "      <th>pop</th>\n",
       "    </tr>\n",
       "    <tr>\n",
       "      <th>country</th>\n",
       "      <th></th>\n",
       "      <th></th>\n",
       "      <th></th>\n",
       "    </tr>\n",
       "  </thead>\n",
       "  <tbody>\n",
       "    <tr>\n",
       "      <th>China</th>\n",
       "      <td>7796.0</td>\n",
       "      <td>9137.0</td>\n",
       "      <td>1434</td>\n",
       "    </tr>\n",
       "    <tr>\n",
       "      <th>France</th>\n",
       "      <td>1598.0</td>\n",
       "      <td>806.0</td>\n",
       "      <td>67</td>\n",
       "    </tr>\n",
       "    <tr>\n",
       "      <th>Germany</th>\n",
       "      <td>2294.0</td>\n",
       "      <td>971.0</td>\n",
       "      <td>84</td>\n",
       "    </tr>\n",
       "    <tr>\n",
       "      <th>India</th>\n",
       "      <td>5936.0</td>\n",
       "      <td>2471.0</td>\n",
       "      <td>1366</td>\n",
       "    </tr>\n",
       "    <tr>\n",
       "      <th>Italy</th>\n",
       "      <td>1423.0</td>\n",
       "      <td>614.0</td>\n",
       "      <td>61</td>\n",
       "    </tr>\n",
       "    <tr>\n",
       "      <th>Japan</th>\n",
       "      <td>2675.0</td>\n",
       "      <td>1238.0</td>\n",
       "      <td>127</td>\n",
       "    </tr>\n",
       "    <tr>\n",
       "      <th>Korea</th>\n",
       "      <td>942.0</td>\n",
       "      <td>705.0</td>\n",
       "      <td>51</td>\n",
       "    </tr>\n",
       "    <tr>\n",
       "      <th>Singapore</th>\n",
       "      <td>176.0</td>\n",
       "      <td>135.0</td>\n",
       "      <td>6</td>\n",
       "    </tr>\n",
       "    <tr>\n",
       "      <th>Taiwan</th>\n",
       "      <td>607.0</td>\n",
       "      <td>NaN</td>\n",
       "      <td>24</td>\n",
       "    </tr>\n",
       "    <tr>\n",
       "      <th>UK</th>\n",
       "      <td>NaN</td>\n",
       "      <td>NaN</td>\n",
       "      <td>68</td>\n",
       "    </tr>\n",
       "  </tbody>\n",
       "</table>\n",
       "</div>"
      ],
      "text/plain": [
       "              con     inv   pop\n",
       "country                        \n",
       "China      7796.0  9137.0  1434\n",
       "France     1598.0   806.0    67\n",
       "Germany    2294.0   971.0    84\n",
       "India      5936.0  2471.0  1366\n",
       "Italy      1423.0   614.0    61\n",
       "Japan      2675.0  1238.0   127\n",
       "Korea       942.0   705.0    51\n",
       "Singapore   176.0   135.0     6\n",
       "Taiwan      607.0     NaN    24\n",
       "UK            NaN     NaN    68"
      ]
     },
     "execution_count": 18,
     "metadata": {},
     "output_type": "execute_result"
    }
   ],
   "source": [
    "df.loc[:,'con':'pop']"
   ]
  },
  {
   "cell_type": "markdown",
   "metadata": {
    "hidden": true
   },
   "source": [
    "**１つの行を`Series`として抽出** (＊＊)"
   ]
  },
  {
   "cell_type": "code",
   "execution_count": 19,
   "metadata": {
    "hidden": true
   },
   "outputs": [
    {
     "data": {
      "text/plain": [
       "gdp            5032\n",
       "con          2675.0\n",
       "inv          1238.0\n",
       "pop             127\n",
       "continent      Asia\n",
       "Name: Japan, dtype: object"
      ]
     },
     "execution_count": 19,
     "metadata": {},
     "output_type": "execute_result"
    }
   ],
   "source": [
    "df.loc['Japan',:]"
   ]
  },
  {
   "cell_type": "markdown",
   "metadata": {
    "hidden": true
   },
   "source": [
    "**１つの行を`DataFrame`として抽出** (＊＊)"
   ]
  },
  {
   "cell_type": "code",
   "execution_count": 20,
   "metadata": {
    "hidden": true
   },
   "outputs": [
    {
     "data": {
      "text/html": [
       "<div>\n",
       "<style scoped>\n",
       "    .dataframe tbody tr th:only-of-type {\n",
       "        vertical-align: middle;\n",
       "    }\n",
       "\n",
       "    .dataframe tbody tr th {\n",
       "        vertical-align: top;\n",
       "    }\n",
       "\n",
       "    .dataframe thead th {\n",
       "        text-align: right;\n",
       "    }\n",
       "</style>\n",
       "<table border=\"1\" class=\"dataframe\">\n",
       "  <thead>\n",
       "    <tr style=\"text-align: right;\">\n",
       "      <th></th>\n",
       "      <th>gdp</th>\n",
       "      <th>con</th>\n",
       "      <th>inv</th>\n",
       "      <th>pop</th>\n",
       "      <th>continent</th>\n",
       "    </tr>\n",
       "    <tr>\n",
       "      <th>country</th>\n",
       "      <th></th>\n",
       "      <th></th>\n",
       "      <th></th>\n",
       "      <th></th>\n",
       "      <th></th>\n",
       "    </tr>\n",
       "  </thead>\n",
       "  <tbody>\n",
       "    <tr>\n",
       "      <th>Japan</th>\n",
       "      <td>5032</td>\n",
       "      <td>2675.0</td>\n",
       "      <td>1238.0</td>\n",
       "      <td>127</td>\n",
       "      <td>Asia</td>\n",
       "    </tr>\n",
       "  </tbody>\n",
       "</table>\n",
       "</div>"
      ],
      "text/plain": [
       "          gdp     con     inv  pop continent\n",
       "country                                     \n",
       "Japan    5032  2675.0  1238.0  127      Asia"
      ]
     },
     "execution_count": 20,
     "metadata": {},
     "output_type": "execute_result"
    }
   ],
   "source": [
    "df.loc[['Japan'],:]"
   ]
  },
  {
   "cell_type": "markdown",
   "metadata": {
    "hidden": true
   },
   "source": [
    "**複数行を抽出** (＊＊)"
   ]
  },
  {
   "cell_type": "code",
   "execution_count": 21,
   "metadata": {
    "hidden": true
   },
   "outputs": [
    {
     "data": {
      "text/html": [
       "<div>\n",
       "<style scoped>\n",
       "    .dataframe tbody tr th:only-of-type {\n",
       "        vertical-align: middle;\n",
       "    }\n",
       "\n",
       "    .dataframe tbody tr th {\n",
       "        vertical-align: top;\n",
       "    }\n",
       "\n",
       "    .dataframe thead th {\n",
       "        text-align: right;\n",
       "    }\n",
       "</style>\n",
       "<table border=\"1\" class=\"dataframe\">\n",
       "  <thead>\n",
       "    <tr style=\"text-align: right;\">\n",
       "      <th></th>\n",
       "      <th>gdp</th>\n",
       "      <th>con</th>\n",
       "      <th>inv</th>\n",
       "      <th>pop</th>\n",
       "      <th>continent</th>\n",
       "    </tr>\n",
       "    <tr>\n",
       "      <th>country</th>\n",
       "      <th></th>\n",
       "      <th></th>\n",
       "      <th></th>\n",
       "      <th></th>\n",
       "      <th></th>\n",
       "    </tr>\n",
       "  </thead>\n",
       "  <tbody>\n",
       "    <tr>\n",
       "      <th>France</th>\n",
       "      <td>2950</td>\n",
       "      <td>1598.0</td>\n",
       "      <td>806.0</td>\n",
       "      <td>67</td>\n",
       "      <td>Europe</td>\n",
       "    </tr>\n",
       "    <tr>\n",
       "      <th>Japan</th>\n",
       "      <td>5032</td>\n",
       "      <td>2675.0</td>\n",
       "      <td>1238.0</td>\n",
       "      <td>127</td>\n",
       "      <td>Asia</td>\n",
       "    </tr>\n",
       "  </tbody>\n",
       "</table>\n",
       "</div>"
      ],
      "text/plain": [
       "          gdp     con     inv  pop continent\n",
       "country                                     \n",
       "France   2950  1598.0   806.0   67    Europe\n",
       "Japan    5032  2675.0  1238.0  127      Asia"
      ]
     },
     "execution_count": 21,
     "metadata": {},
     "output_type": "execute_result"
    }
   ],
   "source": [
    "df.loc[['France', 'Japan'],:]"
   ]
  },
  {
   "cell_type": "markdown",
   "metadata": {
    "hidden": true
   },
   "source": [
    "**複数行を連続抽出（slicing）**"
   ]
  },
  {
   "cell_type": "code",
   "execution_count": 22,
   "metadata": {
    "hidden": true
   },
   "outputs": [
    {
     "data": {
      "text/html": [
       "<div>\n",
       "<style scoped>\n",
       "    .dataframe tbody tr th:only-of-type {\n",
       "        vertical-align: middle;\n",
       "    }\n",
       "\n",
       "    .dataframe tbody tr th {\n",
       "        vertical-align: top;\n",
       "    }\n",
       "\n",
       "    .dataframe thead th {\n",
       "        text-align: right;\n",
       "    }\n",
       "</style>\n",
       "<table border=\"1\" class=\"dataframe\">\n",
       "  <thead>\n",
       "    <tr style=\"text-align: right;\">\n",
       "      <th></th>\n",
       "      <th>gdp</th>\n",
       "      <th>con</th>\n",
       "      <th>inv</th>\n",
       "      <th>pop</th>\n",
       "      <th>continent</th>\n",
       "    </tr>\n",
       "    <tr>\n",
       "      <th>country</th>\n",
       "      <th></th>\n",
       "      <th></th>\n",
       "      <th></th>\n",
       "      <th></th>\n",
       "      <th></th>\n",
       "    </tr>\n",
       "  </thead>\n",
       "  <tbody>\n",
       "    <tr>\n",
       "      <th>France</th>\n",
       "      <td>2950</td>\n",
       "      <td>1598.0</td>\n",
       "      <td>806.0</td>\n",
       "      <td>67</td>\n",
       "      <td>Europe</td>\n",
       "    </tr>\n",
       "    <tr>\n",
       "      <th>Germany</th>\n",
       "      <td>4274</td>\n",
       "      <td>2294.0</td>\n",
       "      <td>971.0</td>\n",
       "      <td>84</td>\n",
       "      <td>Europe</td>\n",
       "    </tr>\n",
       "    <tr>\n",
       "      <th>India</th>\n",
       "      <td>9142</td>\n",
       "      <td>5936.0</td>\n",
       "      <td>2471.0</td>\n",
       "      <td>1366</td>\n",
       "      <td>Asia</td>\n",
       "    </tr>\n",
       "    <tr>\n",
       "      <th>Italy</th>\n",
       "      <td>2463</td>\n",
       "      <td>1423.0</td>\n",
       "      <td>614.0</td>\n",
       "      <td>61</td>\n",
       "      <td>Europe</td>\n",
       "    </tr>\n",
       "    <tr>\n",
       "      <th>Japan</th>\n",
       "      <td>5032</td>\n",
       "      <td>2675.0</td>\n",
       "      <td>1238.0</td>\n",
       "      <td>127</td>\n",
       "      <td>Asia</td>\n",
       "    </tr>\n",
       "  </tbody>\n",
       "</table>\n",
       "</div>"
      ],
      "text/plain": [
       "          gdp     con     inv   pop continent\n",
       "country                                      \n",
       "France   2950  1598.0   806.0    67    Europe\n",
       "Germany  4274  2294.0   971.0    84    Europe\n",
       "India    9142  5936.0  2471.0  1366      Asia\n",
       "Italy    2463  1423.0   614.0    61    Europe\n",
       "Japan    5032  2675.0  1238.0   127      Asia"
      ]
     },
     "execution_count": 22,
     "metadata": {},
     "output_type": "execute_result"
    }
   ],
   "source": [
    "df.loc['France':'Japan',:]"
   ]
  },
  {
   "cell_type": "markdown",
   "metadata": {
    "heading_collapsed": true,
    "hidden": true,
    "jp-MarkdownHeadingCollapsed": true
   },
   "source": [
    "### `.iloc[]`（位置番号使用）"
   ]
  },
  {
   "cell_type": "markdown",
   "metadata": {
    "hidden": true
   },
   "source": [
    "**１つの列を`Series`として抽出**"
   ]
  },
  {
   "cell_type": "code",
   "execution_count": 23,
   "metadata": {
    "hidden": true
   },
   "outputs": [
    {
     "data": {
      "text/plain": [
       "country\n",
       "China        7796.0\n",
       "France       1598.0\n",
       "Germany      2294.0\n",
       "India        5936.0\n",
       "Italy        1423.0\n",
       "Japan        2675.0\n",
       "Korea         942.0\n",
       "Singapore     176.0\n",
       "Taiwan        607.0\n",
       "UK              NaN\n",
       "Name: con, dtype: float64"
      ]
     },
     "execution_count": 23,
     "metadata": {},
     "output_type": "execute_result"
    }
   ],
   "source": [
    "df.iloc[:,1]"
   ]
  },
  {
   "cell_type": "markdown",
   "metadata": {
    "hidden": true
   },
   "source": [
    "**１つの列を`DataFrame`として抽出**"
   ]
  },
  {
   "cell_type": "code",
   "execution_count": 24,
   "metadata": {
    "hidden": true
   },
   "outputs": [
    {
     "data": {
      "text/html": [
       "<div>\n",
       "<style scoped>\n",
       "    .dataframe tbody tr th:only-of-type {\n",
       "        vertical-align: middle;\n",
       "    }\n",
       "\n",
       "    .dataframe tbody tr th {\n",
       "        vertical-align: top;\n",
       "    }\n",
       "\n",
       "    .dataframe thead th {\n",
       "        text-align: right;\n",
       "    }\n",
       "</style>\n",
       "<table border=\"1\" class=\"dataframe\">\n",
       "  <thead>\n",
       "    <tr style=\"text-align: right;\">\n",
       "      <th></th>\n",
       "      <th>con</th>\n",
       "    </tr>\n",
       "    <tr>\n",
       "      <th>country</th>\n",
       "      <th></th>\n",
       "    </tr>\n",
       "  </thead>\n",
       "  <tbody>\n",
       "    <tr>\n",
       "      <th>China</th>\n",
       "      <td>7796.0</td>\n",
       "    </tr>\n",
       "    <tr>\n",
       "      <th>France</th>\n",
       "      <td>1598.0</td>\n",
       "    </tr>\n",
       "    <tr>\n",
       "      <th>Germany</th>\n",
       "      <td>2294.0</td>\n",
       "    </tr>\n",
       "    <tr>\n",
       "      <th>India</th>\n",
       "      <td>5936.0</td>\n",
       "    </tr>\n",
       "    <tr>\n",
       "      <th>Italy</th>\n",
       "      <td>1423.0</td>\n",
       "    </tr>\n",
       "    <tr>\n",
       "      <th>Japan</th>\n",
       "      <td>2675.0</td>\n",
       "    </tr>\n",
       "    <tr>\n",
       "      <th>Korea</th>\n",
       "      <td>942.0</td>\n",
       "    </tr>\n",
       "    <tr>\n",
       "      <th>Singapore</th>\n",
       "      <td>176.0</td>\n",
       "    </tr>\n",
       "    <tr>\n",
       "      <th>Taiwan</th>\n",
       "      <td>607.0</td>\n",
       "    </tr>\n",
       "    <tr>\n",
       "      <th>UK</th>\n",
       "      <td>NaN</td>\n",
       "    </tr>\n",
       "  </tbody>\n",
       "</table>\n",
       "</div>"
      ],
      "text/plain": [
       "              con\n",
       "country          \n",
       "China      7796.0\n",
       "France     1598.0\n",
       "Germany    2294.0\n",
       "India      5936.0\n",
       "Italy      1423.0\n",
       "Japan      2675.0\n",
       "Korea       942.0\n",
       "Singapore   176.0\n",
       "Taiwan      607.0\n",
       "UK            NaN"
      ]
     },
     "execution_count": 24,
     "metadata": {},
     "output_type": "execute_result"
    }
   ],
   "source": [
    "df.iloc[:,[1]]"
   ]
  },
  {
   "cell_type": "markdown",
   "metadata": {
    "hidden": true
   },
   "source": [
    "**複数列を選択**"
   ]
  },
  {
   "cell_type": "code",
   "execution_count": 25,
   "metadata": {
    "hidden": true
   },
   "outputs": [
    {
     "data": {
      "text/html": [
       "<div>\n",
       "<style scoped>\n",
       "    .dataframe tbody tr th:only-of-type {\n",
       "        vertical-align: middle;\n",
       "    }\n",
       "\n",
       "    .dataframe tbody tr th {\n",
       "        vertical-align: top;\n",
       "    }\n",
       "\n",
       "    .dataframe thead th {\n",
       "        text-align: right;\n",
       "    }\n",
       "</style>\n",
       "<table border=\"1\" class=\"dataframe\">\n",
       "  <thead>\n",
       "    <tr style=\"text-align: right;\">\n",
       "      <th></th>\n",
       "      <th>con</th>\n",
       "      <th>pop</th>\n",
       "    </tr>\n",
       "    <tr>\n",
       "      <th>country</th>\n",
       "      <th></th>\n",
       "      <th></th>\n",
       "    </tr>\n",
       "  </thead>\n",
       "  <tbody>\n",
       "    <tr>\n",
       "      <th>China</th>\n",
       "      <td>7796.0</td>\n",
       "      <td>1434</td>\n",
       "    </tr>\n",
       "    <tr>\n",
       "      <th>France</th>\n",
       "      <td>1598.0</td>\n",
       "      <td>67</td>\n",
       "    </tr>\n",
       "    <tr>\n",
       "      <th>Germany</th>\n",
       "      <td>2294.0</td>\n",
       "      <td>84</td>\n",
       "    </tr>\n",
       "    <tr>\n",
       "      <th>India</th>\n",
       "      <td>5936.0</td>\n",
       "      <td>1366</td>\n",
       "    </tr>\n",
       "    <tr>\n",
       "      <th>Italy</th>\n",
       "      <td>1423.0</td>\n",
       "      <td>61</td>\n",
       "    </tr>\n",
       "    <tr>\n",
       "      <th>Japan</th>\n",
       "      <td>2675.0</td>\n",
       "      <td>127</td>\n",
       "    </tr>\n",
       "    <tr>\n",
       "      <th>Korea</th>\n",
       "      <td>942.0</td>\n",
       "      <td>51</td>\n",
       "    </tr>\n",
       "    <tr>\n",
       "      <th>Singapore</th>\n",
       "      <td>176.0</td>\n",
       "      <td>6</td>\n",
       "    </tr>\n",
       "    <tr>\n",
       "      <th>Taiwan</th>\n",
       "      <td>607.0</td>\n",
       "      <td>24</td>\n",
       "    </tr>\n",
       "    <tr>\n",
       "      <th>UK</th>\n",
       "      <td>NaN</td>\n",
       "      <td>68</td>\n",
       "    </tr>\n",
       "  </tbody>\n",
       "</table>\n",
       "</div>"
      ],
      "text/plain": [
       "              con   pop\n",
       "country                \n",
       "China      7796.0  1434\n",
       "France     1598.0    67\n",
       "Germany    2294.0    84\n",
       "India      5936.0  1366\n",
       "Italy      1423.0    61\n",
       "Japan      2675.0   127\n",
       "Korea       942.0    51\n",
       "Singapore   176.0     6\n",
       "Taiwan      607.0    24\n",
       "UK            NaN    68"
      ]
     },
     "execution_count": 25,
     "metadata": {},
     "output_type": "execute_result"
    }
   ],
   "source": [
    "df.iloc[:,[1,3]]"
   ]
  },
  {
   "cell_type": "markdown",
   "metadata": {
    "hidden": true
   },
   "source": [
    "**複数列を連続抽出（slicing）**"
   ]
  },
  {
   "cell_type": "code",
   "execution_count": 26,
   "metadata": {
    "hidden": true
   },
   "outputs": [
    {
     "data": {
      "text/html": [
       "<div>\n",
       "<style scoped>\n",
       "    .dataframe tbody tr th:only-of-type {\n",
       "        vertical-align: middle;\n",
       "    }\n",
       "\n",
       "    .dataframe tbody tr th {\n",
       "        vertical-align: top;\n",
       "    }\n",
       "\n",
       "    .dataframe thead th {\n",
       "        text-align: right;\n",
       "    }\n",
       "</style>\n",
       "<table border=\"1\" class=\"dataframe\">\n",
       "  <thead>\n",
       "    <tr style=\"text-align: right;\">\n",
       "      <th></th>\n",
       "      <th>con</th>\n",
       "      <th>inv</th>\n",
       "      <th>pop</th>\n",
       "    </tr>\n",
       "    <tr>\n",
       "      <th>country</th>\n",
       "      <th></th>\n",
       "      <th></th>\n",
       "      <th></th>\n",
       "    </tr>\n",
       "  </thead>\n",
       "  <tbody>\n",
       "    <tr>\n",
       "      <th>China</th>\n",
       "      <td>7796.0</td>\n",
       "      <td>9137.0</td>\n",
       "      <td>1434</td>\n",
       "    </tr>\n",
       "    <tr>\n",
       "      <th>France</th>\n",
       "      <td>1598.0</td>\n",
       "      <td>806.0</td>\n",
       "      <td>67</td>\n",
       "    </tr>\n",
       "    <tr>\n",
       "      <th>Germany</th>\n",
       "      <td>2294.0</td>\n",
       "      <td>971.0</td>\n",
       "      <td>84</td>\n",
       "    </tr>\n",
       "    <tr>\n",
       "      <th>India</th>\n",
       "      <td>5936.0</td>\n",
       "      <td>2471.0</td>\n",
       "      <td>1366</td>\n",
       "    </tr>\n",
       "    <tr>\n",
       "      <th>Italy</th>\n",
       "      <td>1423.0</td>\n",
       "      <td>614.0</td>\n",
       "      <td>61</td>\n",
       "    </tr>\n",
       "    <tr>\n",
       "      <th>Japan</th>\n",
       "      <td>2675.0</td>\n",
       "      <td>1238.0</td>\n",
       "      <td>127</td>\n",
       "    </tr>\n",
       "    <tr>\n",
       "      <th>Korea</th>\n",
       "      <td>942.0</td>\n",
       "      <td>705.0</td>\n",
       "      <td>51</td>\n",
       "    </tr>\n",
       "    <tr>\n",
       "      <th>Singapore</th>\n",
       "      <td>176.0</td>\n",
       "      <td>135.0</td>\n",
       "      <td>6</td>\n",
       "    </tr>\n",
       "    <tr>\n",
       "      <th>Taiwan</th>\n",
       "      <td>607.0</td>\n",
       "      <td>NaN</td>\n",
       "      <td>24</td>\n",
       "    </tr>\n",
       "    <tr>\n",
       "      <th>UK</th>\n",
       "      <td>NaN</td>\n",
       "      <td>NaN</td>\n",
       "      <td>68</td>\n",
       "    </tr>\n",
       "  </tbody>\n",
       "</table>\n",
       "</div>"
      ],
      "text/plain": [
       "              con     inv   pop\n",
       "country                        \n",
       "China      7796.0  9137.0  1434\n",
       "France     1598.0   806.0    67\n",
       "Germany    2294.0   971.0    84\n",
       "India      5936.0  2471.0  1366\n",
       "Italy      1423.0   614.0    61\n",
       "Japan      2675.0  1238.0   127\n",
       "Korea       942.0   705.0    51\n",
       "Singapore   176.0   135.0     6\n",
       "Taiwan      607.0     NaN    24\n",
       "UK            NaN     NaN    68"
      ]
     },
     "execution_count": 26,
     "metadata": {},
     "output_type": "execute_result"
    }
   ],
   "source": [
    "df.iloc[:,1:4]"
   ]
  },
  {
   "cell_type": "markdown",
   "metadata": {
    "hidden": true
   },
   "source": [
    "**１つの行を`Series`として抽出**"
   ]
  },
  {
   "cell_type": "code",
   "execution_count": 27,
   "metadata": {
    "hidden": true
   },
   "outputs": [
    {
     "data": {
      "text/plain": [
       "gdp            2950\n",
       "con          1598.0\n",
       "inv           806.0\n",
       "pop              67\n",
       "continent    Europe\n",
       "Name: France, dtype: object"
      ]
     },
     "execution_count": 27,
     "metadata": {},
     "output_type": "execute_result"
    }
   ],
   "source": [
    "df.iloc[1,:]"
   ]
  },
  {
   "cell_type": "markdown",
   "metadata": {
    "hidden": true
   },
   "source": [
    "**複数行を抽出**（**）"
   ]
  },
  {
   "cell_type": "code",
   "execution_count": 28,
   "metadata": {
    "hidden": true
   },
   "outputs": [
    {
     "data": {
      "text/html": [
       "<div>\n",
       "<style scoped>\n",
       "    .dataframe tbody tr th:only-of-type {\n",
       "        vertical-align: middle;\n",
       "    }\n",
       "\n",
       "    .dataframe tbody tr th {\n",
       "        vertical-align: top;\n",
       "    }\n",
       "\n",
       "    .dataframe thead th {\n",
       "        text-align: right;\n",
       "    }\n",
       "</style>\n",
       "<table border=\"1\" class=\"dataframe\">\n",
       "  <thead>\n",
       "    <tr style=\"text-align: right;\">\n",
       "      <th></th>\n",
       "      <th>gdp</th>\n",
       "      <th>con</th>\n",
       "      <th>inv</th>\n",
       "      <th>pop</th>\n",
       "      <th>continent</th>\n",
       "    </tr>\n",
       "    <tr>\n",
       "      <th>country</th>\n",
       "      <th></th>\n",
       "      <th></th>\n",
       "      <th></th>\n",
       "      <th></th>\n",
       "      <th></th>\n",
       "    </tr>\n",
       "  </thead>\n",
       "  <tbody>\n",
       "    <tr>\n",
       "      <th>France</th>\n",
       "      <td>2950</td>\n",
       "      <td>1598.0</td>\n",
       "      <td>806.0</td>\n",
       "      <td>67</td>\n",
       "      <td>Europe</td>\n",
       "    </tr>\n",
       "    <tr>\n",
       "      <th>Italy</th>\n",
       "      <td>2463</td>\n",
       "      <td>1423.0</td>\n",
       "      <td>614.0</td>\n",
       "      <td>61</td>\n",
       "      <td>Europe</td>\n",
       "    </tr>\n",
       "  </tbody>\n",
       "</table>\n",
       "</div>"
      ],
      "text/plain": [
       "          gdp     con    inv  pop continent\n",
       "country                                    \n",
       "France   2950  1598.0  806.0   67    Europe\n",
       "Italy    2463  1423.0  614.0   61    Europe"
      ]
     },
     "execution_count": 28,
     "metadata": {},
     "output_type": "execute_result"
    }
   ],
   "source": [
    "df.iloc[[1,4],:]"
   ]
  },
  {
   "cell_type": "markdown",
   "metadata": {
    "hidden": true
   },
   "source": [
    "**複数行を連続抽出（slicing）**（**）"
   ]
  },
  {
   "cell_type": "code",
   "execution_count": 29,
   "metadata": {
    "hidden": true
   },
   "outputs": [
    {
     "data": {
      "text/html": [
       "<div>\n",
       "<style scoped>\n",
       "    .dataframe tbody tr th:only-of-type {\n",
       "        vertical-align: middle;\n",
       "    }\n",
       "\n",
       "    .dataframe tbody tr th {\n",
       "        vertical-align: top;\n",
       "    }\n",
       "\n",
       "    .dataframe thead th {\n",
       "        text-align: right;\n",
       "    }\n",
       "</style>\n",
       "<table border=\"1\" class=\"dataframe\">\n",
       "  <thead>\n",
       "    <tr style=\"text-align: right;\">\n",
       "      <th></th>\n",
       "      <th>gdp</th>\n",
       "      <th>con</th>\n",
       "      <th>inv</th>\n",
       "      <th>pop</th>\n",
       "      <th>continent</th>\n",
       "    </tr>\n",
       "    <tr>\n",
       "      <th>country</th>\n",
       "      <th></th>\n",
       "      <th></th>\n",
       "      <th></th>\n",
       "      <th></th>\n",
       "      <th></th>\n",
       "    </tr>\n",
       "  </thead>\n",
       "  <tbody>\n",
       "    <tr>\n",
       "      <th>France</th>\n",
       "      <td>2950</td>\n",
       "      <td>1598.0</td>\n",
       "      <td>806.0</td>\n",
       "      <td>67</td>\n",
       "      <td>Europe</td>\n",
       "    </tr>\n",
       "    <tr>\n",
       "      <th>Germany</th>\n",
       "      <td>4274</td>\n",
       "      <td>2294.0</td>\n",
       "      <td>971.0</td>\n",
       "      <td>84</td>\n",
       "      <td>Europe</td>\n",
       "    </tr>\n",
       "    <tr>\n",
       "      <th>India</th>\n",
       "      <td>9142</td>\n",
       "      <td>5936.0</td>\n",
       "      <td>2471.0</td>\n",
       "      <td>1366</td>\n",
       "      <td>Asia</td>\n",
       "    </tr>\n",
       "  </tbody>\n",
       "</table>\n",
       "</div>"
      ],
      "text/plain": [
       "          gdp     con     inv   pop continent\n",
       "country                                      \n",
       "France   2950  1598.0   806.0    67    Europe\n",
       "Germany  4274  2294.0   971.0    84    Europe\n",
       "India    9142  5936.0  2471.0  1366      Asia"
      ]
     },
     "execution_count": 29,
     "metadata": {},
     "output_type": "execute_result"
    }
   ],
   "source": [
    "df.iloc[1:4,:]"
   ]
  },
  {
   "cell_type": "markdown",
   "metadata": {
    "heading_collapsed": true
   },
   "source": [
    "## ある条件の下で行の抽出"
   ]
  },
  {
   "cell_type": "markdown",
   "metadata": {
    "heading_collapsed": true,
    "hidden": true,
    "jp-MarkdownHeadingCollapsed": true
   },
   "source": [
    "### １つの条件の場合"
   ]
  },
  {
   "cell_type": "markdown",
   "metadata": {
    "heading_collapsed": true,
    "hidden": true,
    "jp-MarkdownHeadingCollapsed": true
   },
   "source": [
    "#### 例１：GDPが100未満の行の抽出"
   ]
  },
  {
   "cell_type": "markdown",
   "metadata": {
    "hidden": true
   },
   "source": [
    "まず条件を作る。"
   ]
  },
  {
   "cell_type": "code",
   "execution_count": 30,
   "metadata": {
    "hidden": true
   },
   "outputs": [
    {
     "data": {
      "text/plain": [
       "country\n",
       "China        False\n",
       "France       False\n",
       "Germany      False\n",
       "India        False\n",
       "Italy        False\n",
       "Japan        False\n",
       "Korea        False\n",
       "Singapore     True\n",
       "Taiwan        True\n",
       "UK           False\n",
       "Name: gdp, dtype: bool"
      ]
     },
     "execution_count": 30,
     "metadata": {},
     "output_type": "execute_result"
    }
   ],
   "source": [
    "df.loc[:,'gdp'] < 2000"
   ]
  },
  {
   "cell_type": "markdown",
   "metadata": {
    "hidden": true
   },
   "source": [
    "この条件を変数に割り当てる。"
   ]
  },
  {
   "cell_type": "code",
   "execution_count": 31,
   "metadata": {
    "hidden": true
   },
   "outputs": [],
   "source": [
    "cond = (df.loc[:,'gdp'] < 2000)"
   ]
  },
  {
   "cell_type": "markdown",
   "metadata": {
    "hidden": true
   },
   "source": [
    "* `cond`を`.loc[,]`の引数とすることにより，`True`の行だけを抽出できる。\n",
    "* **行**を抽出しようとしているので`,`の左側に書く。"
   ]
  },
  {
   "cell_type": "code",
   "execution_count": 32,
   "metadata": {
    "hidden": true
   },
   "outputs": [
    {
     "data": {
      "text/html": [
       "<div>\n",
       "<style scoped>\n",
       "    .dataframe tbody tr th:only-of-type {\n",
       "        vertical-align: middle;\n",
       "    }\n",
       "\n",
       "    .dataframe tbody tr th {\n",
       "        vertical-align: top;\n",
       "    }\n",
       "\n",
       "    .dataframe thead th {\n",
       "        text-align: right;\n",
       "    }\n",
       "</style>\n",
       "<table border=\"1\" class=\"dataframe\">\n",
       "  <thead>\n",
       "    <tr style=\"text-align: right;\">\n",
       "      <th></th>\n",
       "      <th>gdp</th>\n",
       "      <th>con</th>\n",
       "      <th>inv</th>\n",
       "      <th>pop</th>\n",
       "      <th>continent</th>\n",
       "    </tr>\n",
       "    <tr>\n",
       "      <th>country</th>\n",
       "      <th></th>\n",
       "      <th></th>\n",
       "      <th></th>\n",
       "      <th></th>\n",
       "      <th></th>\n",
       "    </tr>\n",
       "  </thead>\n",
       "  <tbody>\n",
       "    <tr>\n",
       "      <th>Singapore</th>\n",
       "      <td>477</td>\n",
       "      <td>176.0</td>\n",
       "      <td>135.0</td>\n",
       "      <td>6</td>\n",
       "      <td>Asia</td>\n",
       "    </tr>\n",
       "    <tr>\n",
       "      <th>Taiwan</th>\n",
       "      <td>1100</td>\n",
       "      <td>607.0</td>\n",
       "      <td>NaN</td>\n",
       "      <td>24</td>\n",
       "      <td>Asia</td>\n",
       "    </tr>\n",
       "  </tbody>\n",
       "</table>\n",
       "</div>"
      ],
      "text/plain": [
       "            gdp    con    inv  pop continent\n",
       "country                                     \n",
       "Singapore   477  176.0  135.0    6      Asia\n",
       "Taiwan     1100  607.0    NaN   24      Asia"
      ]
     },
     "execution_count": 32,
     "metadata": {},
     "output_type": "execute_result"
    }
   ],
   "source": [
    "df.loc[cond,:]"
   ]
  },
  {
   "cell_type": "markdown",
   "metadata": {
    "heading_collapsed": true,
    "hidden": true,
    "jp-MarkdownHeadingCollapsed": true
   },
   "source": [
    "#### 例２：`continent`が`Asia`の行を抽出"
   ]
  },
  {
   "cell_type": "code",
   "execution_count": 33,
   "metadata": {
    "hidden": true
   },
   "outputs": [
    {
     "data": {
      "text/html": [
       "<div>\n",
       "<style scoped>\n",
       "    .dataframe tbody tr th:only-of-type {\n",
       "        vertical-align: middle;\n",
       "    }\n",
       "\n",
       "    .dataframe tbody tr th {\n",
       "        vertical-align: top;\n",
       "    }\n",
       "\n",
       "    .dataframe thead th {\n",
       "        text-align: right;\n",
       "    }\n",
       "</style>\n",
       "<table border=\"1\" class=\"dataframe\">\n",
       "  <thead>\n",
       "    <tr style=\"text-align: right;\">\n",
       "      <th></th>\n",
       "      <th>gdp</th>\n",
       "      <th>con</th>\n",
       "      <th>inv</th>\n",
       "      <th>pop</th>\n",
       "      <th>continent</th>\n",
       "    </tr>\n",
       "    <tr>\n",
       "      <th>country</th>\n",
       "      <th></th>\n",
       "      <th></th>\n",
       "      <th></th>\n",
       "      <th></th>\n",
       "      <th></th>\n",
       "    </tr>\n",
       "  </thead>\n",
       "  <tbody>\n",
       "    <tr>\n",
       "      <th>China</th>\n",
       "      <td>20118</td>\n",
       "      <td>7796.0</td>\n",
       "      <td>9137.0</td>\n",
       "      <td>1434</td>\n",
       "      <td>Asia</td>\n",
       "    </tr>\n",
       "    <tr>\n",
       "      <th>India</th>\n",
       "      <td>9142</td>\n",
       "      <td>5936.0</td>\n",
       "      <td>2471.0</td>\n",
       "      <td>1366</td>\n",
       "      <td>Asia</td>\n",
       "    </tr>\n",
       "    <tr>\n",
       "      <th>Japan</th>\n",
       "      <td>5032</td>\n",
       "      <td>2675.0</td>\n",
       "      <td>1238.0</td>\n",
       "      <td>127</td>\n",
       "      <td>Asia</td>\n",
       "    </tr>\n",
       "    <tr>\n",
       "      <th>Korea</th>\n",
       "      <td>2157</td>\n",
       "      <td>942.0</td>\n",
       "      <td>705.0</td>\n",
       "      <td>51</td>\n",
       "      <td>Asia</td>\n",
       "    </tr>\n",
       "    <tr>\n",
       "      <th>Singapore</th>\n",
       "      <td>477</td>\n",
       "      <td>176.0</td>\n",
       "      <td>135.0</td>\n",
       "      <td>6</td>\n",
       "      <td>Asia</td>\n",
       "    </tr>\n",
       "    <tr>\n",
       "      <th>Taiwan</th>\n",
       "      <td>1100</td>\n",
       "      <td>607.0</td>\n",
       "      <td>NaN</td>\n",
       "      <td>24</td>\n",
       "      <td>Asia</td>\n",
       "    </tr>\n",
       "  </tbody>\n",
       "</table>\n",
       "</div>"
      ],
      "text/plain": [
       "             gdp     con     inv   pop continent\n",
       "country                                         \n",
       "China      20118  7796.0  9137.0  1434      Asia\n",
       "India       9142  5936.0  2471.0  1366      Asia\n",
       "Japan       5032  2675.0  1238.0   127      Asia\n",
       "Korea       2157   942.0   705.0    51      Asia\n",
       "Singapore    477   176.0   135.0     6      Asia\n",
       "Taiwan      1100   607.0     NaN    24      Asia"
      ]
     },
     "execution_count": 33,
     "metadata": {},
     "output_type": "execute_result"
    }
   ],
   "source": [
    "cond = ( df.loc[:,'continent']=='Asia' )\n",
    "df.loc[cond,:]"
   ]
  },
  {
   "cell_type": "markdown",
   "metadata": {
    "heading_collapsed": true,
    "hidden": true,
    "jp-MarkdownHeadingCollapsed": true
   },
   "source": [
    "### 複数条件の場合"
   ]
  },
  {
   "cell_type": "markdown",
   "metadata": {
    "heading_collapsed": true,
    "hidden": true,
    "jp-MarkdownHeadingCollapsed": true
   },
   "source": [
    "#### 例３"
   ]
  },
  {
   "cell_type": "markdown",
   "metadata": {
    "hidden": true
   },
   "source": [
    "以下の条件の**両方**が満たされる場合：\n",
    "\n",
    "* `gdp`が`3000`以上\n",
    "* `poop`が`1000`以下"
   ]
  },
  {
   "cell_type": "code",
   "execution_count": 34,
   "metadata": {
    "hidden": true
   },
   "outputs": [],
   "source": [
    "cond1 = (df.loc[:,'gdp'] >= 3000)\n",
    "cond2 = (df.loc[:,'pop'] <= 1000)"
   ]
  },
  {
   "cell_type": "markdown",
   "metadata": {
    "hidden": true
   },
   "source": [
    "２つの条件が同時に満たされる条件を作成する。"
   ]
  },
  {
   "cell_type": "code",
   "execution_count": 35,
   "metadata": {
    "hidden": true
   },
   "outputs": [],
   "source": [
    "cond = (cond1 & cond2)"
   ]
  },
  {
   "cell_type": "markdown",
   "metadata": {
    "hidden": true
   },
   "source": [
    "`cond`を引数に使い行を抽出する。"
   ]
  },
  {
   "cell_type": "code",
   "execution_count": 36,
   "metadata": {
    "hidden": true
   },
   "outputs": [
    {
     "data": {
      "text/html": [
       "<div>\n",
       "<style scoped>\n",
       "    .dataframe tbody tr th:only-of-type {\n",
       "        vertical-align: middle;\n",
       "    }\n",
       "\n",
       "    .dataframe tbody tr th {\n",
       "        vertical-align: top;\n",
       "    }\n",
       "\n",
       "    .dataframe thead th {\n",
       "        text-align: right;\n",
       "    }\n",
       "</style>\n",
       "<table border=\"1\" class=\"dataframe\">\n",
       "  <thead>\n",
       "    <tr style=\"text-align: right;\">\n",
       "      <th></th>\n",
       "      <th>gdp</th>\n",
       "      <th>con</th>\n",
       "      <th>inv</th>\n",
       "      <th>pop</th>\n",
       "      <th>continent</th>\n",
       "    </tr>\n",
       "    <tr>\n",
       "      <th>country</th>\n",
       "      <th></th>\n",
       "      <th></th>\n",
       "      <th></th>\n",
       "      <th></th>\n",
       "      <th></th>\n",
       "    </tr>\n",
       "  </thead>\n",
       "  <tbody>\n",
       "    <tr>\n",
       "      <th>Germany</th>\n",
       "      <td>4274</td>\n",
       "      <td>2294.0</td>\n",
       "      <td>971.0</td>\n",
       "      <td>84</td>\n",
       "      <td>Europe</td>\n",
       "    </tr>\n",
       "    <tr>\n",
       "      <th>Japan</th>\n",
       "      <td>5032</td>\n",
       "      <td>2675.0</td>\n",
       "      <td>1238.0</td>\n",
       "      <td>127</td>\n",
       "      <td>Asia</td>\n",
       "    </tr>\n",
       "  </tbody>\n",
       "</table>\n",
       "</div>"
      ],
      "text/plain": [
       "          gdp     con     inv  pop continent\n",
       "country                                     \n",
       "Germany  4274  2294.0   971.0   84    Europe\n",
       "Japan    5032  2675.0  1238.0  127      Asia"
      ]
     },
     "execution_count": 36,
     "metadata": {},
     "output_type": "execute_result"
    }
   ],
   "source": [
    "df.loc[cond, :]"
   ]
  },
  {
   "cell_type": "markdown",
   "metadata": {
    "heading_collapsed": true,
    "hidden": true
   },
   "source": [
    "#### 例４"
   ]
  },
  {
   "cell_type": "markdown",
   "metadata": {
    "hidden": true
   },
   "source": [
    "以下の条件の**どちらか**が満たされる場合：\n",
    "* `gdp`は`3000`以上\n",
    "* `pop`は`50`以下"
   ]
  },
  {
   "cell_type": "code",
   "execution_count": 37,
   "metadata": {
    "hidden": true
   },
   "outputs": [
    {
     "data": {
      "text/html": [
       "<div>\n",
       "<style scoped>\n",
       "    .dataframe tbody tr th:only-of-type {\n",
       "        vertical-align: middle;\n",
       "    }\n",
       "\n",
       "    .dataframe tbody tr th {\n",
       "        vertical-align: top;\n",
       "    }\n",
       "\n",
       "    .dataframe thead th {\n",
       "        text-align: right;\n",
       "    }\n",
       "</style>\n",
       "<table border=\"1\" class=\"dataframe\">\n",
       "  <thead>\n",
       "    <tr style=\"text-align: right;\">\n",
       "      <th></th>\n",
       "      <th>gdp</th>\n",
       "      <th>con</th>\n",
       "      <th>inv</th>\n",
       "      <th>pop</th>\n",
       "      <th>continent</th>\n",
       "    </tr>\n",
       "    <tr>\n",
       "      <th>country</th>\n",
       "      <th></th>\n",
       "      <th></th>\n",
       "      <th></th>\n",
       "      <th></th>\n",
       "      <th></th>\n",
       "    </tr>\n",
       "  </thead>\n",
       "  <tbody>\n",
       "    <tr>\n",
       "      <th>France</th>\n",
       "      <td>2950</td>\n",
       "      <td>1598.0</td>\n",
       "      <td>806.0</td>\n",
       "      <td>67</td>\n",
       "      <td>Europe</td>\n",
       "    </tr>\n",
       "    <tr>\n",
       "      <th>Italy</th>\n",
       "      <td>2463</td>\n",
       "      <td>1423.0</td>\n",
       "      <td>614.0</td>\n",
       "      <td>61</td>\n",
       "      <td>Europe</td>\n",
       "    </tr>\n",
       "    <tr>\n",
       "      <th>Korea</th>\n",
       "      <td>2157</td>\n",
       "      <td>942.0</td>\n",
       "      <td>705.0</td>\n",
       "      <td>51</td>\n",
       "      <td>Asia</td>\n",
       "    </tr>\n",
       "    <tr>\n",
       "      <th>Singapore</th>\n",
       "      <td>477</td>\n",
       "      <td>176.0</td>\n",
       "      <td>135.0</td>\n",
       "      <td>6</td>\n",
       "      <td>Asia</td>\n",
       "    </tr>\n",
       "    <tr>\n",
       "      <th>Taiwan</th>\n",
       "      <td>1100</td>\n",
       "      <td>607.0</td>\n",
       "      <td>NaN</td>\n",
       "      <td>24</td>\n",
       "      <td>Asia</td>\n",
       "    </tr>\n",
       "    <tr>\n",
       "      <th>UK</th>\n",
       "      <td>2994</td>\n",
       "      <td>NaN</td>\n",
       "      <td>NaN</td>\n",
       "      <td>68</td>\n",
       "      <td>Europe</td>\n",
       "    </tr>\n",
       "  </tbody>\n",
       "</table>\n",
       "</div>"
      ],
      "text/plain": [
       "            gdp     con    inv  pop continent\n",
       "country                                      \n",
       "France     2950  1598.0  806.0   67    Europe\n",
       "Italy      2463  1423.0  614.0   61    Europe\n",
       "Korea      2157   942.0  705.0   51      Asia\n",
       "Singapore   477   176.0  135.0    6      Asia\n",
       "Taiwan     1100   607.0    NaN   24      Asia\n",
       "UK         2994     NaN    NaN   68    Europe"
      ]
     },
     "execution_count": 37,
     "metadata": {},
     "output_type": "execute_result"
    }
   ],
   "source": [
    "cond1 = (df.loc[:,'gdp'] <= 3_000)\n",
    "cond2 = (df.loc[:,'pop'] <= 50)\n",
    "cond = (cond1 | cond2)\n",
    "\n",
    "df.loc[cond, :]"
   ]
  },
  {
   "cell_type": "markdown",
   "metadata": {
    "heading_collapsed": true,
    "jp-MarkdownHeadingCollapsed": true
   },
   "source": [
    "## 列の追加"
   ]
  },
  {
   "cell_type": "markdown",
   "metadata": {
    "hidden": true
   },
   "source": [
    "> 新たな列を「抽出」するコードを`=`の左辺に、右辺には新たな列の内容を書く。\n",
    "\n",
    "\n",
    "例として、１人当たりGDPの計算を計算し，それを変数`gdp_pc`に割り当てる。"
   ]
  },
  {
   "cell_type": "code",
   "execution_count": 14,
   "metadata": {
    "hidden": true
   },
   "outputs": [
    {
     "data": {
      "text/html": [
       "<div>\n",
       "<style scoped>\n",
       "    .dataframe tbody tr th:only-of-type {\n",
       "        vertical-align: middle;\n",
       "    }\n",
       "\n",
       "    .dataframe tbody tr th {\n",
       "        vertical-align: top;\n",
       "    }\n",
       "\n",
       "    .dataframe thead th {\n",
       "        text-align: right;\n",
       "    }\n",
       "</style>\n",
       "<table border=\"1\" class=\"dataframe\">\n",
       "  <thead>\n",
       "    <tr style=\"text-align: right;\">\n",
       "      <th></th>\n",
       "      <th>gdp</th>\n",
       "      <th>con</th>\n",
       "      <th>inv</th>\n",
       "      <th>pop</th>\n",
       "      <th>continent</th>\n",
       "      <th>gdp_pc</th>\n",
       "    </tr>\n",
       "    <tr>\n",
       "      <th>country</th>\n",
       "      <th></th>\n",
       "      <th></th>\n",
       "      <th></th>\n",
       "      <th></th>\n",
       "      <th></th>\n",
       "      <th></th>\n",
       "    </tr>\n",
       "  </thead>\n",
       "  <tbody>\n",
       "    <tr>\n",
       "      <th>China</th>\n",
       "      <td>20118</td>\n",
       "      <td>7796.0</td>\n",
       "      <td>9137.0</td>\n",
       "      <td>1434</td>\n",
       "      <td>Asia</td>\n",
       "      <td>14.029289</td>\n",
       "    </tr>\n",
       "    <tr>\n",
       "      <th>France</th>\n",
       "      <td>2950</td>\n",
       "      <td>1598.0</td>\n",
       "      <td>806.0</td>\n",
       "      <td>67</td>\n",
       "      <td>Europe</td>\n",
       "      <td>44.029851</td>\n",
       "    </tr>\n",
       "    <tr>\n",
       "      <th>Germany</th>\n",
       "      <td>4274</td>\n",
       "      <td>2294.0</td>\n",
       "      <td>971.0</td>\n",
       "      <td>84</td>\n",
       "      <td>Europe</td>\n",
       "      <td>50.880952</td>\n",
       "    </tr>\n",
       "    <tr>\n",
       "      <th>India</th>\n",
       "      <td>9142</td>\n",
       "      <td>5936.0</td>\n",
       "      <td>2471.0</td>\n",
       "      <td>1366</td>\n",
       "      <td>Asia</td>\n",
       "      <td>6.692533</td>\n",
       "    </tr>\n",
       "    <tr>\n",
       "      <th>Italy</th>\n",
       "      <td>2463</td>\n",
       "      <td>1423.0</td>\n",
       "      <td>614.0</td>\n",
       "      <td>61</td>\n",
       "      <td>Europe</td>\n",
       "      <td>40.377049</td>\n",
       "    </tr>\n",
       "  </tbody>\n",
       "</table>\n",
       "</div>"
      ],
      "text/plain": [
       "           gdp     con     inv   pop continent     gdp_pc\n",
       "country                                                  \n",
       "China    20118  7796.0  9137.0  1434      Asia  14.029289\n",
       "France    2950  1598.0   806.0    67    Europe  44.029851\n",
       "Germany   4274  2294.0   971.0    84    Europe  50.880952\n",
       "India     9142  5936.0  2471.0  1366      Asia   6.692533\n",
       "Italy     2463  1423.0   614.0    61    Europe  40.377049"
      ]
     },
     "execution_count": 14,
     "metadata": {},
     "output_type": "execute_result"
    }
   ],
   "source": [
    "gdp_pc = df['gdp'] / df['pop']\n",
    "\n",
    "df['gdp_pc'] = gdp_pc\n",
    "df.head()"
   ]
  },
  {
   "cell_type": "markdown",
   "metadata": {
    "heading_collapsed": true,
    "jp-MarkdownHeadingCollapsed": true
   },
   "source": [
    "## 欠損値の扱い"
   ]
  },
  {
   "cell_type": "markdown",
   "metadata": {
    "hidden": true
   },
   "source": [
    "欠損値は次のように呼ばれる。\n",
    "* `NaN`（Not a Number）\n",
    "* `na`または`NA`（「エヌエイ」、not applicable/available）\n",
    "* `null`（「ナル」と読み「空」という意味）"
   ]
  },
  {
   "cell_type": "markdown",
   "metadata": {
    "heading_collapsed": true,
    "hidden": true,
    "jp-MarkdownHeadingCollapsed": true
   },
   "source": [
    "### 欠損値がある全ての行を削除する。"
   ]
  },
  {
   "cell_type": "code",
   "execution_count": 39,
   "metadata": {
    "hidden": true
   },
   "outputs": [
    {
     "data": {
      "text/html": [
       "<div>\n",
       "<style scoped>\n",
       "    .dataframe tbody tr th:only-of-type {\n",
       "        vertical-align: middle;\n",
       "    }\n",
       "\n",
       "    .dataframe tbody tr th {\n",
       "        vertical-align: top;\n",
       "    }\n",
       "\n",
       "    .dataframe thead th {\n",
       "        text-align: right;\n",
       "    }\n",
       "</style>\n",
       "<table border=\"1\" class=\"dataframe\">\n",
       "  <thead>\n",
       "    <tr style=\"text-align: right;\">\n",
       "      <th></th>\n",
       "      <th>gdp</th>\n",
       "      <th>con</th>\n",
       "      <th>inv</th>\n",
       "      <th>pop</th>\n",
       "      <th>continent</th>\n",
       "      <th>gdp_pc</th>\n",
       "    </tr>\n",
       "    <tr>\n",
       "      <th>country</th>\n",
       "      <th></th>\n",
       "      <th></th>\n",
       "      <th></th>\n",
       "      <th></th>\n",
       "      <th></th>\n",
       "      <th></th>\n",
       "    </tr>\n",
       "  </thead>\n",
       "  <tbody>\n",
       "    <tr>\n",
       "      <th>China</th>\n",
       "      <td>20118</td>\n",
       "      <td>7796.0</td>\n",
       "      <td>9137.0</td>\n",
       "      <td>1434</td>\n",
       "      <td>Asia</td>\n",
       "      <td>14.029289</td>\n",
       "    </tr>\n",
       "    <tr>\n",
       "      <th>France</th>\n",
       "      <td>2950</td>\n",
       "      <td>1598.0</td>\n",
       "      <td>806.0</td>\n",
       "      <td>67</td>\n",
       "      <td>Europe</td>\n",
       "      <td>44.029851</td>\n",
       "    </tr>\n",
       "    <tr>\n",
       "      <th>Germany</th>\n",
       "      <td>4274</td>\n",
       "      <td>2294.0</td>\n",
       "      <td>971.0</td>\n",
       "      <td>84</td>\n",
       "      <td>Europe</td>\n",
       "      <td>50.880952</td>\n",
       "    </tr>\n",
       "    <tr>\n",
       "      <th>India</th>\n",
       "      <td>9142</td>\n",
       "      <td>5936.0</td>\n",
       "      <td>2471.0</td>\n",
       "      <td>1366</td>\n",
       "      <td>Asia</td>\n",
       "      <td>6.692533</td>\n",
       "    </tr>\n",
       "    <tr>\n",
       "      <th>Italy</th>\n",
       "      <td>2463</td>\n",
       "      <td>1423.0</td>\n",
       "      <td>614.0</td>\n",
       "      <td>61</td>\n",
       "      <td>Europe</td>\n",
       "      <td>40.377049</td>\n",
       "    </tr>\n",
       "    <tr>\n",
       "      <th>Japan</th>\n",
       "      <td>5032</td>\n",
       "      <td>2675.0</td>\n",
       "      <td>1238.0</td>\n",
       "      <td>127</td>\n",
       "      <td>Asia</td>\n",
       "      <td>39.622047</td>\n",
       "    </tr>\n",
       "    <tr>\n",
       "      <th>Korea</th>\n",
       "      <td>2157</td>\n",
       "      <td>942.0</td>\n",
       "      <td>705.0</td>\n",
       "      <td>51</td>\n",
       "      <td>Asia</td>\n",
       "      <td>42.294118</td>\n",
       "    </tr>\n",
       "    <tr>\n",
       "      <th>Singapore</th>\n",
       "      <td>477</td>\n",
       "      <td>176.0</td>\n",
       "      <td>135.0</td>\n",
       "      <td>6</td>\n",
       "      <td>Asia</td>\n",
       "      <td>79.500000</td>\n",
       "    </tr>\n",
       "  </tbody>\n",
       "</table>\n",
       "</div>"
      ],
      "text/plain": [
       "             gdp     con     inv   pop continent     gdp_pc\n",
       "country                                                    \n",
       "China      20118  7796.0  9137.0  1434      Asia  14.029289\n",
       "France      2950  1598.0   806.0    67    Europe  44.029851\n",
       "Germany     4274  2294.0   971.0    84    Europe  50.880952\n",
       "India       9142  5936.0  2471.0  1366      Asia   6.692533\n",
       "Italy       2463  1423.0   614.0    61    Europe  40.377049\n",
       "Japan       5032  2675.0  1238.0   127      Asia  39.622047\n",
       "Korea       2157   942.0   705.0    51      Asia  42.294118\n",
       "Singapore    477   176.0   135.0     6      Asia  79.500000"
      ]
     },
     "execution_count": 39,
     "metadata": {},
     "output_type": "execute_result"
    }
   ],
   "source": [
    "df.dropna()"
   ]
  },
  {
   "cell_type": "markdown",
   "metadata": {
    "hidden": true
   },
   "source": [
    "`df`自体を変更するには、削除後の`df`を`df`自体に再割り当てする。\n",
    "```\n",
    "df = df.dropna()\n",
    "```"
   ]
  },
  {
   "cell_type": "markdown",
   "metadata": {
    "heading_collapsed": true,
    "hidden": true,
    "jp-MarkdownHeadingCollapsed": true
   },
   "source": [
    "### ある列で`NaN`がある行のみを削除（＊＊）"
   ]
  },
  {
   "cell_type": "markdown",
   "metadata": {
    "hidden": true
   },
   "source": [
    "引数`subset`を使う。"
   ]
  },
  {
   "cell_type": "code",
   "execution_count": 40,
   "metadata": {
    "hidden": true
   },
   "outputs": [
    {
     "data": {
      "text/html": [
       "<div>\n",
       "<style scoped>\n",
       "    .dataframe tbody tr th:only-of-type {\n",
       "        vertical-align: middle;\n",
       "    }\n",
       "\n",
       "    .dataframe tbody tr th {\n",
       "        vertical-align: top;\n",
       "    }\n",
       "\n",
       "    .dataframe thead th {\n",
       "        text-align: right;\n",
       "    }\n",
       "</style>\n",
       "<table border=\"1\" class=\"dataframe\">\n",
       "  <thead>\n",
       "    <tr style=\"text-align: right;\">\n",
       "      <th></th>\n",
       "      <th>gdp</th>\n",
       "      <th>con</th>\n",
       "      <th>inv</th>\n",
       "      <th>pop</th>\n",
       "      <th>continent</th>\n",
       "      <th>gdp_pc</th>\n",
       "    </tr>\n",
       "    <tr>\n",
       "      <th>country</th>\n",
       "      <th></th>\n",
       "      <th></th>\n",
       "      <th></th>\n",
       "      <th></th>\n",
       "      <th></th>\n",
       "      <th></th>\n",
       "    </tr>\n",
       "  </thead>\n",
       "  <tbody>\n",
       "    <tr>\n",
       "      <th>China</th>\n",
       "      <td>20118</td>\n",
       "      <td>7796.0</td>\n",
       "      <td>9137.0</td>\n",
       "      <td>1434</td>\n",
       "      <td>Asia</td>\n",
       "      <td>14.029289</td>\n",
       "    </tr>\n",
       "    <tr>\n",
       "      <th>France</th>\n",
       "      <td>2950</td>\n",
       "      <td>1598.0</td>\n",
       "      <td>806.0</td>\n",
       "      <td>67</td>\n",
       "      <td>Europe</td>\n",
       "      <td>44.029851</td>\n",
       "    </tr>\n",
       "    <tr>\n",
       "      <th>Germany</th>\n",
       "      <td>4274</td>\n",
       "      <td>2294.0</td>\n",
       "      <td>971.0</td>\n",
       "      <td>84</td>\n",
       "      <td>Europe</td>\n",
       "      <td>50.880952</td>\n",
       "    </tr>\n",
       "    <tr>\n",
       "      <th>India</th>\n",
       "      <td>9142</td>\n",
       "      <td>5936.0</td>\n",
       "      <td>2471.0</td>\n",
       "      <td>1366</td>\n",
       "      <td>Asia</td>\n",
       "      <td>6.692533</td>\n",
       "    </tr>\n",
       "    <tr>\n",
       "      <th>Italy</th>\n",
       "      <td>2463</td>\n",
       "      <td>1423.0</td>\n",
       "      <td>614.0</td>\n",
       "      <td>61</td>\n",
       "      <td>Europe</td>\n",
       "      <td>40.377049</td>\n",
       "    </tr>\n",
       "    <tr>\n",
       "      <th>Japan</th>\n",
       "      <td>5032</td>\n",
       "      <td>2675.0</td>\n",
       "      <td>1238.0</td>\n",
       "      <td>127</td>\n",
       "      <td>Asia</td>\n",
       "      <td>39.622047</td>\n",
       "    </tr>\n",
       "    <tr>\n",
       "      <th>Korea</th>\n",
       "      <td>2157</td>\n",
       "      <td>942.0</td>\n",
       "      <td>705.0</td>\n",
       "      <td>51</td>\n",
       "      <td>Asia</td>\n",
       "      <td>42.294118</td>\n",
       "    </tr>\n",
       "    <tr>\n",
       "      <th>Singapore</th>\n",
       "      <td>477</td>\n",
       "      <td>176.0</td>\n",
       "      <td>135.0</td>\n",
       "      <td>6</td>\n",
       "      <td>Asia</td>\n",
       "      <td>79.500000</td>\n",
       "    </tr>\n",
       "  </tbody>\n",
       "</table>\n",
       "</div>"
      ],
      "text/plain": [
       "             gdp     con     inv   pop continent     gdp_pc\n",
       "country                                                    \n",
       "China      20118  7796.0  9137.0  1434      Asia  14.029289\n",
       "France      2950  1598.0   806.0    67    Europe  44.029851\n",
       "Germany     4274  2294.0   971.0    84    Europe  50.880952\n",
       "India       9142  5936.0  2471.0  1366      Asia   6.692533\n",
       "Italy       2463  1423.0   614.0    61    Europe  40.377049\n",
       "Japan       5032  2675.0  1238.0   127      Asia  39.622047\n",
       "Korea       2157   942.0   705.0    51      Asia  42.294118\n",
       "Singapore    477   176.0   135.0     6      Asia  79.500000"
      ]
     },
     "execution_count": 40,
     "metadata": {},
     "output_type": "execute_result"
    }
   ],
   "source": [
    "df.dropna(subset=['inv'])"
   ]
  },
  {
   "cell_type": "markdown",
   "metadata": {
    "hidden": true
   },
   "source": [
    "（注意）引数`subset=`には削除する列が１つであってもリスト`[]`で指定する。"
   ]
  },
  {
   "cell_type": "markdown",
   "metadata": {
    "jp-MarkdownHeadingCollapsed": true
   },
   "source": [
    "## よく使うメソッド"
   ]
  },
  {
   "cell_type": "markdown",
   "metadata": {},
   "source": [
    "`DataFrame`には様々なメソッドが用意されており，ここでは頻繁に用いるメソッド幾つか紹介しよう。"
   ]
  },
  {
   "cell_type": "markdown",
   "metadata": {
    "heading_collapsed": true,
    "jp-MarkdownHeadingCollapsed": true
   },
   "source": [
    "### `.reset_index()`"
   ]
  },
  {
   "cell_type": "markdown",
   "metadata": {
    "hidden": true
   },
   "source": [
    "行ラベルを設定した後に，行インデックスに戻したい場合もあるだろう。\n",
    "その場合には，メソッド`.reset_index()`を使うと，行のインデックスを0,1,2,..と振り直すことができる。"
   ]
  },
  {
   "cell_type": "code",
   "execution_count": 44,
   "metadata": {
    "hidden": true
   },
   "outputs": [
    {
     "data": {
      "text/html": [
       "<div>\n",
       "<style scoped>\n",
       "    .dataframe tbody tr th:only-of-type {\n",
       "        vertical-align: middle;\n",
       "    }\n",
       "\n",
       "    .dataframe tbody tr th {\n",
       "        vertical-align: top;\n",
       "    }\n",
       "\n",
       "    .dataframe thead th {\n",
       "        text-align: right;\n",
       "    }\n",
       "</style>\n",
       "<table border=\"1\" class=\"dataframe\">\n",
       "  <thead>\n",
       "    <tr style=\"text-align: right;\">\n",
       "      <th></th>\n",
       "      <th>country</th>\n",
       "      <th>gdp</th>\n",
       "      <th>con</th>\n",
       "      <th>inv</th>\n",
       "      <th>pop</th>\n",
       "      <th>continent</th>\n",
       "      <th>gdppc</th>\n",
       "    </tr>\n",
       "  </thead>\n",
       "  <tbody>\n",
       "    <tr>\n",
       "      <th>0</th>\n",
       "      <td>China</td>\n",
       "      <td>20118</td>\n",
       "      <td>7796.0</td>\n",
       "      <td>9137.0</td>\n",
       "      <td>1434</td>\n",
       "      <td>Asia</td>\n",
       "      <td>14.029289</td>\n",
       "    </tr>\n",
       "    <tr>\n",
       "      <th>1</th>\n",
       "      <td>France</td>\n",
       "      <td>2950</td>\n",
       "      <td>1598.0</td>\n",
       "      <td>806.0</td>\n",
       "      <td>67</td>\n",
       "      <td>Europe</td>\n",
       "      <td>44.029851</td>\n",
       "    </tr>\n",
       "    <tr>\n",
       "      <th>2</th>\n",
       "      <td>Germany</td>\n",
       "      <td>4274</td>\n",
       "      <td>2294.0</td>\n",
       "      <td>971.0</td>\n",
       "      <td>84</td>\n",
       "      <td>Europe</td>\n",
       "      <td>50.880952</td>\n",
       "    </tr>\n",
       "    <tr>\n",
       "      <th>3</th>\n",
       "      <td>India</td>\n",
       "      <td>9142</td>\n",
       "      <td>5936.0</td>\n",
       "      <td>2471.0</td>\n",
       "      <td>1366</td>\n",
       "      <td>Asia</td>\n",
       "      <td>6.692533</td>\n",
       "    </tr>\n",
       "    <tr>\n",
       "      <th>4</th>\n",
       "      <td>Italy</td>\n",
       "      <td>2463</td>\n",
       "      <td>1423.0</td>\n",
       "      <td>614.0</td>\n",
       "      <td>61</td>\n",
       "      <td>Europe</td>\n",
       "      <td>40.377049</td>\n",
       "    </tr>\n",
       "    <tr>\n",
       "      <th>5</th>\n",
       "      <td>Japan</td>\n",
       "      <td>5032</td>\n",
       "      <td>2675.0</td>\n",
       "      <td>1238.0</td>\n",
       "      <td>127</td>\n",
       "      <td>Asia</td>\n",
       "      <td>39.622047</td>\n",
       "    </tr>\n",
       "    <tr>\n",
       "      <th>6</th>\n",
       "      <td>Korea</td>\n",
       "      <td>2157</td>\n",
       "      <td>942.0</td>\n",
       "      <td>705.0</td>\n",
       "      <td>51</td>\n",
       "      <td>Asia</td>\n",
       "      <td>42.294118</td>\n",
       "    </tr>\n",
       "    <tr>\n",
       "      <th>7</th>\n",
       "      <td>Singapore</td>\n",
       "      <td>477</td>\n",
       "      <td>176.0</td>\n",
       "      <td>135.0</td>\n",
       "      <td>6</td>\n",
       "      <td>Asia</td>\n",
       "      <td>79.500000</td>\n",
       "    </tr>\n",
       "    <tr>\n",
       "      <th>8</th>\n",
       "      <td>Taiwan</td>\n",
       "      <td>1100</td>\n",
       "      <td>607.0</td>\n",
       "      <td>NaN</td>\n",
       "      <td>24</td>\n",
       "      <td>Asia</td>\n",
       "      <td>45.833333</td>\n",
       "    </tr>\n",
       "    <tr>\n",
       "      <th>9</th>\n",
       "      <td>UK</td>\n",
       "      <td>2994</td>\n",
       "      <td>NaN</td>\n",
       "      <td>NaN</td>\n",
       "      <td>68</td>\n",
       "      <td>Europe</td>\n",
       "      <td>44.029412</td>\n",
       "    </tr>\n",
       "  </tbody>\n",
       "</table>\n",
       "</div>"
      ],
      "text/plain": [
       "     country    gdp     con     inv   pop continent      gdppc\n",
       "0      China  20118  7796.0  9137.0  1434      Asia  14.029289\n",
       "1     France   2950  1598.0   806.0    67    Europe  44.029851\n",
       "2    Germany   4274  2294.0   971.0    84    Europe  50.880952\n",
       "3      India   9142  5936.0  2471.0  1366      Asia   6.692533\n",
       "4      Italy   2463  1423.0   614.0    61    Europe  40.377049\n",
       "5      Japan   5032  2675.0  1238.0   127      Asia  39.622047\n",
       "6      Korea   2157   942.0   705.0    51      Asia  42.294118\n",
       "7  Singapore    477   176.0   135.0     6      Asia  79.500000\n",
       "8     Taiwan   1100   607.0     NaN    24      Asia  45.833333\n",
       "9         UK   2994     NaN     NaN    68    Europe  44.029412"
      ]
     },
     "execution_count": 44,
     "metadata": {},
     "output_type": "execute_result"
    }
   ],
   "source": [
    "df.reset_index()"
   ]
  },
  {
   "cell_type": "markdown",
   "metadata": {
    "hidden": true
   },
   "source": [
    "ここでは行のインデックスが`country`として新たな列として追加されているが、`reset_index()`に引数`drop=True`を加えると，列`country`が自動的に削除されることになる。\n",
    "\n",
    "最初に説明したが、次のコードで`country`を行ラベルに設定することができる。\n",
    "```\n",
    "df.set_index(\"country\")\n",
    "```"
   ]
  },
  {
   "cell_type": "markdown",
   "metadata": {
    "jp-MarkdownHeadingCollapsed": true
   },
   "source": [
    "### `.sort_values()`"
   ]
  },
  {
   "cell_type": "markdown",
   "metadata": {
    "hidden": true
   },
   "source": [
    "`gdp`の昇順に並び替える。"
   ]
  },
  {
   "cell_type": "code",
   "execution_count": 45,
   "metadata": {
    "hidden": true
   },
   "outputs": [
    {
     "data": {
      "text/html": [
       "<div>\n",
       "<style scoped>\n",
       "    .dataframe tbody tr th:only-of-type {\n",
       "        vertical-align: middle;\n",
       "    }\n",
       "\n",
       "    .dataframe tbody tr th {\n",
       "        vertical-align: top;\n",
       "    }\n",
       "\n",
       "    .dataframe thead th {\n",
       "        text-align: right;\n",
       "    }\n",
       "</style>\n",
       "<table border=\"1\" class=\"dataframe\">\n",
       "  <thead>\n",
       "    <tr style=\"text-align: right;\">\n",
       "      <th></th>\n",
       "      <th>gdp</th>\n",
       "      <th>con</th>\n",
       "      <th>inv</th>\n",
       "      <th>pop</th>\n",
       "      <th>continent</th>\n",
       "      <th>gdppc</th>\n",
       "    </tr>\n",
       "    <tr>\n",
       "      <th>country</th>\n",
       "      <th></th>\n",
       "      <th></th>\n",
       "      <th></th>\n",
       "      <th></th>\n",
       "      <th></th>\n",
       "      <th></th>\n",
       "    </tr>\n",
       "  </thead>\n",
       "  <tbody>\n",
       "    <tr>\n",
       "      <th>Singapore</th>\n",
       "      <td>477</td>\n",
       "      <td>176.0</td>\n",
       "      <td>135.0</td>\n",
       "      <td>6</td>\n",
       "      <td>Asia</td>\n",
       "      <td>79.500000</td>\n",
       "    </tr>\n",
       "    <tr>\n",
       "      <th>Taiwan</th>\n",
       "      <td>1100</td>\n",
       "      <td>607.0</td>\n",
       "      <td>NaN</td>\n",
       "      <td>24</td>\n",
       "      <td>Asia</td>\n",
       "      <td>45.833333</td>\n",
       "    </tr>\n",
       "    <tr>\n",
       "      <th>Korea</th>\n",
       "      <td>2157</td>\n",
       "      <td>942.0</td>\n",
       "      <td>705.0</td>\n",
       "      <td>51</td>\n",
       "      <td>Asia</td>\n",
       "      <td>42.294118</td>\n",
       "    </tr>\n",
       "    <tr>\n",
       "      <th>Italy</th>\n",
       "      <td>2463</td>\n",
       "      <td>1423.0</td>\n",
       "      <td>614.0</td>\n",
       "      <td>61</td>\n",
       "      <td>Europe</td>\n",
       "      <td>40.377049</td>\n",
       "    </tr>\n",
       "    <tr>\n",
       "      <th>France</th>\n",
       "      <td>2950</td>\n",
       "      <td>1598.0</td>\n",
       "      <td>806.0</td>\n",
       "      <td>67</td>\n",
       "      <td>Europe</td>\n",
       "      <td>44.029851</td>\n",
       "    </tr>\n",
       "  </tbody>\n",
       "</table>\n",
       "</div>"
      ],
      "text/plain": [
       "            gdp     con    inv  pop continent      gdppc\n",
       "country                                                 \n",
       "Singapore   477   176.0  135.0    6      Asia  79.500000\n",
       "Taiwan     1100   607.0    NaN   24      Asia  45.833333\n",
       "Korea      2157   942.0  705.0   51      Asia  42.294118\n",
       "Italy      2463  1423.0  614.0   61    Europe  40.377049\n",
       "France     2950  1598.0  806.0   67    Europe  44.029851"
      ]
     },
     "execution_count": 45,
     "metadata": {},
     "output_type": "execute_result"
    }
   ],
   "source": [
    "df.sort_values('gdp').head()"
   ]
  },
  {
   "cell_type": "markdown",
   "metadata": {
    "hidden": true
   },
   "source": [
    "降順の場合"
   ]
  },
  {
   "cell_type": "code",
   "execution_count": 46,
   "metadata": {
    "hidden": true
   },
   "outputs": [
    {
     "data": {
      "text/html": [
       "<div>\n",
       "<style scoped>\n",
       "    .dataframe tbody tr th:only-of-type {\n",
       "        vertical-align: middle;\n",
       "    }\n",
       "\n",
       "    .dataframe tbody tr th {\n",
       "        vertical-align: top;\n",
       "    }\n",
       "\n",
       "    .dataframe thead th {\n",
       "        text-align: right;\n",
       "    }\n",
       "</style>\n",
       "<table border=\"1\" class=\"dataframe\">\n",
       "  <thead>\n",
       "    <tr style=\"text-align: right;\">\n",
       "      <th></th>\n",
       "      <th>gdp</th>\n",
       "      <th>con</th>\n",
       "      <th>inv</th>\n",
       "      <th>pop</th>\n",
       "      <th>continent</th>\n",
       "      <th>gdppc</th>\n",
       "    </tr>\n",
       "    <tr>\n",
       "      <th>country</th>\n",
       "      <th></th>\n",
       "      <th></th>\n",
       "      <th></th>\n",
       "      <th></th>\n",
       "      <th></th>\n",
       "      <th></th>\n",
       "    </tr>\n",
       "  </thead>\n",
       "  <tbody>\n",
       "    <tr>\n",
       "      <th>China</th>\n",
       "      <td>20118</td>\n",
       "      <td>7796.0</td>\n",
       "      <td>9137.0</td>\n",
       "      <td>1434</td>\n",
       "      <td>Asia</td>\n",
       "      <td>14.029289</td>\n",
       "    </tr>\n",
       "    <tr>\n",
       "      <th>India</th>\n",
       "      <td>9142</td>\n",
       "      <td>5936.0</td>\n",
       "      <td>2471.0</td>\n",
       "      <td>1366</td>\n",
       "      <td>Asia</td>\n",
       "      <td>6.692533</td>\n",
       "    </tr>\n",
       "    <tr>\n",
       "      <th>Japan</th>\n",
       "      <td>5032</td>\n",
       "      <td>2675.0</td>\n",
       "      <td>1238.0</td>\n",
       "      <td>127</td>\n",
       "      <td>Asia</td>\n",
       "      <td>39.622047</td>\n",
       "    </tr>\n",
       "    <tr>\n",
       "      <th>Germany</th>\n",
       "      <td>4274</td>\n",
       "      <td>2294.0</td>\n",
       "      <td>971.0</td>\n",
       "      <td>84</td>\n",
       "      <td>Europe</td>\n",
       "      <td>50.880952</td>\n",
       "    </tr>\n",
       "    <tr>\n",
       "      <th>UK</th>\n",
       "      <td>2994</td>\n",
       "      <td>NaN</td>\n",
       "      <td>NaN</td>\n",
       "      <td>68</td>\n",
       "      <td>Europe</td>\n",
       "      <td>44.029412</td>\n",
       "    </tr>\n",
       "  </tbody>\n",
       "</table>\n",
       "</div>"
      ],
      "text/plain": [
       "           gdp     con     inv   pop continent      gdppc\n",
       "country                                                  \n",
       "China    20118  7796.0  9137.0  1434      Asia  14.029289\n",
       "India     9142  5936.0  2471.0  1366      Asia   6.692533\n",
       "Japan     5032  2675.0  1238.0   127      Asia  39.622047\n",
       "Germany   4274  2294.0   971.0    84    Europe  50.880952\n",
       "UK        2994     NaN     NaN    68    Europe  44.029412"
      ]
     },
     "execution_count": 46,
     "metadata": {},
     "output_type": "execute_result"
    }
   ],
   "source": [
    "df.sort_values('gdp', ascending=False).head()"
   ]
  },
  {
   "cell_type": "markdown",
   "metadata": {
    "jp-MarkdownHeadingCollapsed": true
   },
   "source": [
    "### `.unique()`と`nunique()`"
   ]
  },
  {
   "cell_type": "markdown",
   "metadata": {},
   "source": [
    "メソッド`.unique()`を使うと，選択した列に重複したデータがある場合，ユニークなものだけを抽出できる。"
   ]
  },
  {
   "cell_type": "code",
   "execution_count": 47,
   "metadata": {},
   "outputs": [
    {
     "data": {
      "text/plain": [
       "array(['Asia', 'Europe'], dtype=object)"
      ]
     },
     "execution_count": 47,
     "metadata": {},
     "output_type": "execute_result"
    }
   ],
   "source": [
    "df['continent'].unique()"
   ]
  },
  {
   "cell_type": "markdown",
   "metadata": {},
   "source": [
    "まな類似するメソッドに`.nunique()`があり，カテゴリー数を返す。"
   ]
  },
  {
   "cell_type": "code",
   "execution_count": 48,
   "metadata": {},
   "outputs": [
    {
     "data": {
      "text/plain": [
       "2"
      ]
     },
     "execution_count": 48,
     "metadata": {},
     "output_type": "execute_result"
    }
   ],
   "source": [
    "df['continent'].nunique()"
   ]
  },
  {
   "cell_type": "markdown",
   "metadata": {
    "jp-MarkdownHeadingCollapsed": true
   },
   "source": [
    "### `.value_counts()`"
   ]
  },
  {
   "cell_type": "markdown",
   "metadata": {},
   "source": [
    "関連するメソッドに`.value_counts()`がある。これを使うとカテゴリーの内訳を確認するすることができる。カテゴリーの行数を表示するには"
   ]
  },
  {
   "cell_type": "code",
   "execution_count": 49,
   "metadata": {},
   "outputs": [
    {
     "data": {
      "text/plain": [
       "continent\n",
       "Asia      6\n",
       "Europe    4\n",
       "Name: count, dtype: int64"
      ]
     },
     "execution_count": 49,
     "metadata": {},
     "output_type": "execute_result"
    }
   ],
   "source": [
    "df.loc[:,'continent'].value_counts()"
   ]
  },
  {
   "cell_type": "markdown",
   "metadata": {},
   "source": [
    "とする。引数`normalize=True`を追加すると，頻度（パーセント）として表示できる。"
   ]
  },
  {
   "cell_type": "code",
   "execution_count": 50,
   "metadata": {},
   "outputs": [
    {
     "data": {
      "text/plain": [
       "continent\n",
       "Asia      0.6\n",
       "Europe    0.4\n",
       "Name: proportion, dtype: float64"
      ]
     },
     "execution_count": 50,
     "metadata": {},
     "output_type": "execute_result"
    }
   ],
   "source": [
    "df.loc[:,'continent'].value_counts(normalize=True)"
   ]
  },
  {
   "cell_type": "markdown",
   "metadata": {
    "jp-MarkdownHeadingCollapsed": true
   },
   "source": [
    "### 列ラベルの変更（メソッドではない）"
   ]
  },
  {
   "cell_type": "markdown",
   "metadata": {},
   "source": [
    "`df`の列ラベルに新たなラベルのリストを割り当てることにより、列ラベルを変更できる。"
   ]
  },
  {
   "cell_type": "code",
   "execution_count": 17,
   "metadata": {},
   "outputs": [],
   "source": [
    "df.columns = ['gdp','con','inv','pop','continent', 'gdpPC']"
   ]
  },
  {
   "cell_type": "code",
   "execution_count": 18,
   "metadata": {},
   "outputs": [
    {
     "data": {
      "text/html": [
       "<div>\n",
       "<style scoped>\n",
       "    .dataframe tbody tr th:only-of-type {\n",
       "        vertical-align: middle;\n",
       "    }\n",
       "\n",
       "    .dataframe tbody tr th {\n",
       "        vertical-align: top;\n",
       "    }\n",
       "\n",
       "    .dataframe thead th {\n",
       "        text-align: right;\n",
       "    }\n",
       "</style>\n",
       "<table border=\"1\" class=\"dataframe\">\n",
       "  <thead>\n",
       "    <tr style=\"text-align: right;\">\n",
       "      <th></th>\n",
       "      <th>gdp</th>\n",
       "      <th>con</th>\n",
       "      <th>inv</th>\n",
       "      <th>pop</th>\n",
       "      <th>continent</th>\n",
       "      <th>gdpPC</th>\n",
       "    </tr>\n",
       "    <tr>\n",
       "      <th>country</th>\n",
       "      <th></th>\n",
       "      <th></th>\n",
       "      <th></th>\n",
       "      <th></th>\n",
       "      <th></th>\n",
       "      <th></th>\n",
       "    </tr>\n",
       "  </thead>\n",
       "  <tbody>\n",
       "    <tr>\n",
       "      <th>China</th>\n",
       "      <td>20118</td>\n",
       "      <td>7796.0</td>\n",
       "      <td>9137.0</td>\n",
       "      <td>1434</td>\n",
       "      <td>Asia</td>\n",
       "      <td>14.029289</td>\n",
       "    </tr>\n",
       "    <tr>\n",
       "      <th>France</th>\n",
       "      <td>2950</td>\n",
       "      <td>1598.0</td>\n",
       "      <td>806.0</td>\n",
       "      <td>67</td>\n",
       "      <td>Europe</td>\n",
       "      <td>44.029851</td>\n",
       "    </tr>\n",
       "  </tbody>\n",
       "</table>\n",
       "</div>"
      ],
      "text/plain": [
       "           gdp     con     inv   pop continent      gdpPC\n",
       "country                                                  \n",
       "China    20118  7796.0  9137.0  1434      Asia  14.029289\n",
       "France    2950  1598.0   806.0    67    Europe  44.029851"
      ]
     },
     "execution_count": 18,
     "metadata": {},
     "output_type": "execute_result"
    }
   ],
   "source": [
    "df.head(2)"
   ]
  },
  {
   "cell_type": "markdown",
   "metadata": {},
   "source": [
    "## 統計関連のメソッド"
   ]
  },
  {
   "cell_type": "markdown",
   "metadata": {},
   "source": [
    "時系列のデータを`ts`（time series）として読み込むことにする。"
   ]
  },
  {
   "cell_type": "code",
   "execution_count": 51,
   "metadata": {},
   "outputs": [
    {
     "data": {
      "text/html": [
       "<div>\n",
       "<style scoped>\n",
       "    .dataframe tbody tr th:only-of-type {\n",
       "        vertical-align: middle;\n",
       "    }\n",
       "\n",
       "    .dataframe tbody tr th {\n",
       "        vertical-align: top;\n",
       "    }\n",
       "\n",
       "    .dataframe thead th {\n",
       "        text-align: right;\n",
       "    }\n",
       "</style>\n",
       "<table border=\"1\" class=\"dataframe\">\n",
       "  <thead>\n",
       "    <tr style=\"text-align: right;\">\n",
       "      <th></th>\n",
       "      <th>year</th>\n",
       "      <th>gdp</th>\n",
       "      <th>con</th>\n",
       "      <th>inv</th>\n",
       "      <th>gov</th>\n",
       "      <th>net_ex</th>\n",
       "    </tr>\n",
       "  </thead>\n",
       "  <tbody>\n",
       "    <tr>\n",
       "      <th>0</th>\n",
       "      <td>2012</td>\n",
       "      <td>517928.400</td>\n",
       "      <td>295751.750</td>\n",
       "      <td>98682.200</td>\n",
       "      <td>127135.975</td>\n",
       "      <td>-3941.775</td>\n",
       "    </tr>\n",
       "    <tr>\n",
       "      <th>1</th>\n",
       "      <td>2013</td>\n",
       "      <td>528522.025</td>\n",
       "      <td>303606.600</td>\n",
       "      <td>100590.050</td>\n",
       "      <td>129984.100</td>\n",
       "      <td>-6006.850</td>\n",
       "    </tr>\n",
       "    <tr>\n",
       "      <th>2</th>\n",
       "      <td>2014</td>\n",
       "      <td>529656.425</td>\n",
       "      <td>300593.375</td>\n",
       "      <td>103200.725</td>\n",
       "      <td>131434.275</td>\n",
       "      <td>-5477.075</td>\n",
       "    </tr>\n",
       "    <tr>\n",
       "      <th>3</th>\n",
       "      <td>2015</td>\n",
       "      <td>538098.750</td>\n",
       "      <td>300107.925</td>\n",
       "      <td>108697.000</td>\n",
       "      <td>132249.450</td>\n",
       "      <td>-2955.575</td>\n",
       "    </tr>\n",
       "    <tr>\n",
       "      <th>4</th>\n",
       "      <td>2016</td>\n",
       "      <td>541964.600</td>\n",
       "      <td>298675.925</td>\n",
       "      <td>109195.975</td>\n",
       "      <td>134433.625</td>\n",
       "      <td>-340.550</td>\n",
       "    </tr>\n",
       "    <tr>\n",
       "      <th>5</th>\n",
       "      <td>2017</td>\n",
       "      <td>551205.775</td>\n",
       "      <td>301894.650</td>\n",
       "      <td>111970.275</td>\n",
       "      <td>134762.325</td>\n",
       "      <td>2800.425</td>\n",
       "    </tr>\n",
       "    <tr>\n",
       "      <th>6</th>\n",
       "      <td>2018</td>\n",
       "      <td>554349.275</td>\n",
       "      <td>302496.325</td>\n",
       "      <td>113151.350</td>\n",
       "      <td>136011.050</td>\n",
       "      <td>2901.725</td>\n",
       "    </tr>\n",
       "    <tr>\n",
       "      <th>7</th>\n",
       "      <td>2019</td>\n",
       "      <td>553019.775</td>\n",
       "      <td>300927.225</td>\n",
       "      <td>113488.750</td>\n",
       "      <td>138450.375</td>\n",
       "      <td>281.825</td>\n",
       "    </tr>\n",
       "    <tr>\n",
       "      <th>8</th>\n",
       "      <td>2020</td>\n",
       "      <td>527946.300</td>\n",
       "      <td>285155.350</td>\n",
       "      <td>104932.325</td>\n",
       "      <td>142151.400</td>\n",
       "      <td>-4601.625</td>\n",
       "    </tr>\n",
       "    <tr>\n",
       "      <th>9</th>\n",
       "      <td>2021</td>\n",
       "      <td>536811.775</td>\n",
       "      <td>288895.200</td>\n",
       "      <td>103434.900</td>\n",
       "      <td>143454.975</td>\n",
       "      <td>1222.325</td>\n",
       "    </tr>\n",
       "  </tbody>\n",
       "</table>\n",
       "</div>"
      ],
      "text/plain": [
       "   year         gdp         con         inv         gov    net_ex\n",
       "0  2012  517928.400  295751.750   98682.200  127135.975 -3941.775\n",
       "1  2013  528522.025  303606.600  100590.050  129984.100 -6006.850\n",
       "2  2014  529656.425  300593.375  103200.725  131434.275 -5477.075\n",
       "3  2015  538098.750  300107.925  108697.000  132249.450 -2955.575\n",
       "4  2016  541964.600  298675.925  109195.975  134433.625  -340.550\n",
       "5  2017  551205.775  301894.650  111970.275  134762.325  2800.425\n",
       "6  2018  554349.275  302496.325  113151.350  136011.050  2901.725\n",
       "7  2019  553019.775  300927.225  113488.750  138450.375   281.825\n",
       "8  2020  527946.300  285155.350  104932.325  142151.400 -4601.625\n",
       "9  2021  536811.775  288895.200  103434.900  143454.975  1222.325"
      ]
     },
     "execution_count": 51,
     "metadata": {},
     "output_type": "execute_result"
    }
   ],
   "source": [
    "ts = pd.read_csv(\"./data/data2.csv\")\n",
    "ts"
   ]
  },
  {
   "cell_type": "markdown",
   "metadata": {},
   "source": [
    "`year`を行ラベルに設定しよう。"
   ]
  },
  {
   "cell_type": "code",
   "execution_count": 52,
   "metadata": {},
   "outputs": [],
   "source": [
    "ts = ts.set_index(\"year\")"
   ]
  },
  {
   "cell_type": "markdown",
   "metadata": {},
   "source": [
    "* `.sum()`は各列の合計を返す（`axis='rows'`がデフォルト）。欠損値は無視される。\n",
    "\n",
    "＜注意＞ 合計を計算して意味のある列のみを選択すること。"
   ]
  },
  {
   "cell_type": "code",
   "execution_count": 53,
   "metadata": {},
   "outputs": [
    {
     "data": {
      "text/plain": [
       "gdp       5379503.100\n",
       "con       2978104.325\n",
       "inv       1067343.550\n",
       "gov       1350067.550\n",
       "net_ex     -16117.150\n",
       "dtype: float64"
      ]
     },
     "execution_count": 53,
     "metadata": {},
     "output_type": "execute_result"
    }
   ],
   "source": [
    "ts.sum()"
   ]
  },
  {
   "cell_type": "markdown",
   "metadata": {},
   "source": [
    "同じ使い方で次のメソッドが利用できる（`Series`と`DataFrame`共通）。\n",
    "* `.sum(axis='columns')`もしくは`.sum(axis=1)`：各行の合計\n",
    "* `.max()`：最大値\n",
    "* `.min()`：最小値\n",
    "* `.mean()`：（算術）平均\n",
    "* `.var()`：不偏分散（`ddof=1`がデフォルト）\n",
    "* `.std()`：標準偏差（不偏分散の平方根）\n",
    "\n",
    "\n",
    "次の２つも便利である。計算する際，欠損値は無視され，結果は`DataFrame`として返される。\n",
    "* `.cov()`：分散共分散行列\n",
    "* `.corr()`：相関係数\n",
    "\n",
    "`Series`のメソッド\n",
    "* `.autocorr()`：自己相関係数\n",
    "\n",
    "＜注意＞ 計算して意味がある列だけを使うように！\n",
    "\n",
    "例えば，`.cov()`を計算してみよう。"
   ]
  },
  {
   "cell_type": "code",
   "execution_count": 54,
   "metadata": {},
   "outputs": [
    {
     "data": {
      "text/html": [
       "<div>\n",
       "<style scoped>\n",
       "    .dataframe tbody tr th:only-of-type {\n",
       "        vertical-align: middle;\n",
       "    }\n",
       "\n",
       "    .dataframe tbody tr th {\n",
       "        vertical-align: top;\n",
       "    }\n",
       "\n",
       "    .dataframe thead th {\n",
       "        text-align: right;\n",
       "    }\n",
       "</style>\n",
       "<table border=\"1\" class=\"dataframe\">\n",
       "  <thead>\n",
       "    <tr style=\"text-align: right;\">\n",
       "      <th></th>\n",
       "      <th>gdp</th>\n",
       "      <th>con</th>\n",
       "      <th>inv</th>\n",
       "      <th>gov</th>\n",
       "      <th>net_ex</th>\n",
       "    </tr>\n",
       "  </thead>\n",
       "  <tbody>\n",
       "    <tr>\n",
       "      <th>gdp</th>\n",
       "      <td>1.497548e+08</td>\n",
       "      <td>3.133412e+07</td>\n",
       "      <td>6.187068e+07</td>\n",
       "      <td>2.398800e+07</td>\n",
       "      <td>3.475253e+07</td>\n",
       "    </tr>\n",
       "    <tr>\n",
       "      <th>con</th>\n",
       "      <td>3.133412e+07</td>\n",
       "      <td>3.773237e+07</td>\n",
       "      <td>1.138839e+07</td>\n",
       "      <td>-2.010831e+07</td>\n",
       "      <td>2.691150e+06</td>\n",
       "    </tr>\n",
       "    <tr>\n",
       "      <th>inv</th>\n",
       "      <td>6.187068e+07</td>\n",
       "      <td>1.138839e+07</td>\n",
       "      <td>2.814845e+07</td>\n",
       "      <td>9.745975e+06</td>\n",
       "      <td>1.342318e+07</td>\n",
       "    </tr>\n",
       "    <tr>\n",
       "      <th>gov</th>\n",
       "      <td>2.398800e+07</td>\n",
       "      <td>-2.010831e+07</td>\n",
       "      <td>9.745975e+06</td>\n",
       "      <td>2.702392e+07</td>\n",
       "      <td>7.750688e+06</td>\n",
       "    </tr>\n",
       "    <tr>\n",
       "      <th>net_ex</th>\n",
       "      <td>3.475253e+07</td>\n",
       "      <td>2.691150e+06</td>\n",
       "      <td>1.342318e+07</td>\n",
       "      <td>7.750688e+06</td>\n",
       "      <td>1.150046e+07</td>\n",
       "    </tr>\n",
       "  </tbody>\n",
       "</table>\n",
       "</div>"
      ],
      "text/plain": [
       "                 gdp           con           inv           gov        net_ex\n",
       "gdp     1.497548e+08  3.133412e+07  6.187068e+07  2.398800e+07  3.475253e+07\n",
       "con     3.133412e+07  3.773237e+07  1.138839e+07 -2.010831e+07  2.691150e+06\n",
       "inv     6.187068e+07  1.138839e+07  2.814845e+07  9.745975e+06  1.342318e+07\n",
       "gov     2.398800e+07 -2.010831e+07  9.745975e+06  2.702392e+07  7.750688e+06\n",
       "net_ex  3.475253e+07  2.691150e+06  1.342318e+07  7.750688e+06  1.150046e+07"
      ]
     },
     "execution_count": 54,
     "metadata": {},
     "output_type": "execute_result"
    }
   ],
   "source": [
    "ts.cov()"
   ]
  },
  {
   "cell_type": "markdown",
   "metadata": {},
   "source": [
    "対角成分は分散であり，その他は行と列のラベルに対応する共分散となる。`.corr()`も同じ位置関係となる。\n",
    "\n",
    "また変数の変化率（成長率）を計算するには`.pct_change()`が便利である（percent changeの略）。"
   ]
  },
  {
   "cell_type": "code",
   "execution_count": 55,
   "metadata": {},
   "outputs": [
    {
     "data": {
      "text/html": [
       "<div>\n",
       "<style scoped>\n",
       "    .dataframe tbody tr th:only-of-type {\n",
       "        vertical-align: middle;\n",
       "    }\n",
       "\n",
       "    .dataframe tbody tr th {\n",
       "        vertical-align: top;\n",
       "    }\n",
       "\n",
       "    .dataframe thead th {\n",
       "        text-align: right;\n",
       "    }\n",
       "</style>\n",
       "<table border=\"1\" class=\"dataframe\">\n",
       "  <thead>\n",
       "    <tr style=\"text-align: right;\">\n",
       "      <th></th>\n",
       "      <th>gdp</th>\n",
       "      <th>con</th>\n",
       "      <th>inv</th>\n",
       "      <th>gov</th>\n",
       "      <th>net_ex</th>\n",
       "    </tr>\n",
       "    <tr>\n",
       "      <th>year</th>\n",
       "      <th></th>\n",
       "      <th></th>\n",
       "      <th></th>\n",
       "      <th></th>\n",
       "      <th></th>\n",
       "    </tr>\n",
       "  </thead>\n",
       "  <tbody>\n",
       "    <tr>\n",
       "      <th>2012</th>\n",
       "      <td>NaN</td>\n",
       "      <td>NaN</td>\n",
       "      <td>NaN</td>\n",
       "      <td>NaN</td>\n",
       "      <td>NaN</td>\n",
       "    </tr>\n",
       "    <tr>\n",
       "      <th>2013</th>\n",
       "      <td>0.020454</td>\n",
       "      <td>0.026559</td>\n",
       "      <td>0.019333</td>\n",
       "      <td>0.022402</td>\n",
       "      <td>0.523895</td>\n",
       "    </tr>\n",
       "    <tr>\n",
       "      <th>2014</th>\n",
       "      <td>0.002146</td>\n",
       "      <td>-0.009925</td>\n",
       "      <td>0.025954</td>\n",
       "      <td>0.011157</td>\n",
       "      <td>-0.088195</td>\n",
       "    </tr>\n",
       "    <tr>\n",
       "      <th>2015</th>\n",
       "      <td>0.015939</td>\n",
       "      <td>-0.001615</td>\n",
       "      <td>0.053258</td>\n",
       "      <td>0.006202</td>\n",
       "      <td>-0.460373</td>\n",
       "    </tr>\n",
       "    <tr>\n",
       "      <th>2016</th>\n",
       "      <td>0.007184</td>\n",
       "      <td>-0.004772</td>\n",
       "      <td>0.004591</td>\n",
       "      <td>0.016516</td>\n",
       "      <td>-0.884777</td>\n",
       "    </tr>\n",
       "    <tr>\n",
       "      <th>2017</th>\n",
       "      <td>0.017051</td>\n",
       "      <td>0.010777</td>\n",
       "      <td>0.025407</td>\n",
       "      <td>0.002445</td>\n",
       "      <td>-9.223242</td>\n",
       "    </tr>\n",
       "    <tr>\n",
       "      <th>2018</th>\n",
       "      <td>0.005703</td>\n",
       "      <td>0.001993</td>\n",
       "      <td>0.010548</td>\n",
       "      <td>0.009266</td>\n",
       "      <td>0.036173</td>\n",
       "    </tr>\n",
       "    <tr>\n",
       "      <th>2019</th>\n",
       "      <td>-0.002398</td>\n",
       "      <td>-0.005187</td>\n",
       "      <td>0.002982</td>\n",
       "      <td>0.017935</td>\n",
       "      <td>-0.902877</td>\n",
       "    </tr>\n",
       "    <tr>\n",
       "      <th>2020</th>\n",
       "      <td>-0.045339</td>\n",
       "      <td>-0.052411</td>\n",
       "      <td>-0.075394</td>\n",
       "      <td>0.026732</td>\n",
       "      <td>-17.327952</td>\n",
       "    </tr>\n",
       "    <tr>\n",
       "      <th>2021</th>\n",
       "      <td>0.016792</td>\n",
       "      <td>0.013115</td>\n",
       "      <td>-0.014270</td>\n",
       "      <td>0.009170</td>\n",
       "      <td>-1.265629</td>\n",
       "    </tr>\n",
       "  </tbody>\n",
       "</table>\n",
       "</div>"
      ],
      "text/plain": [
       "           gdp       con       inv       gov     net_ex\n",
       "year                                                   \n",
       "2012       NaN       NaN       NaN       NaN        NaN\n",
       "2013  0.020454  0.026559  0.019333  0.022402   0.523895\n",
       "2014  0.002146 -0.009925  0.025954  0.011157  -0.088195\n",
       "2015  0.015939 -0.001615  0.053258  0.006202  -0.460373\n",
       "2016  0.007184 -0.004772  0.004591  0.016516  -0.884777\n",
       "2017  0.017051  0.010777  0.025407  0.002445  -9.223242\n",
       "2018  0.005703  0.001993  0.010548  0.009266   0.036173\n",
       "2019 -0.002398 -0.005187  0.002982  0.017935  -0.902877\n",
       "2020 -0.045339 -0.052411 -0.075394  0.026732 -17.327952\n",
       "2021  0.016792  0.013115 -0.014270  0.009170  -1.265629"
      ]
     },
     "execution_count": 55,
     "metadata": {},
     "output_type": "execute_result"
    }
   ],
   "source": [
    "ts.pct_change()"
   ]
  },
  {
   "cell_type": "markdown",
   "metadata": {},
   "source": [
    "`2011`年が無いため，`2012`年の成長率は欠損値となっている。`.pct_change()`と`.mean()`を続けて書くと簡単に成長率の**算術平均**を計算することができる。\n",
    "\n",
    "＜注意＞ **幾何平均**とは異なる。"
   ]
  },
  {
   "cell_type": "code",
   "execution_count": 56,
   "metadata": {},
   "outputs": [
    {
     "data": {
      "text/plain": [
       "gdp       0.004170\n",
       "con      -0.002385\n",
       "inv       0.005823\n",
       "gov       0.013536\n",
       "net_ex   -3.288109\n",
       "dtype: float64"
      ]
     },
     "execution_count": 56,
     "metadata": {},
     "output_type": "execute_result"
    }
   ],
   "source": [
    "ts.pct_change().mean()"
   ]
  },
  {
   "cell_type": "markdown",
   "metadata": {
    "heading_collapsed": true,
    "jp-MarkdownHeadingCollapsed": true
   },
   "source": [
    "## `Series`について"
   ]
  },
  {
   "cell_type": "markdown",
   "metadata": {
    "hidden": true
   },
   "source": [
    "`df`から`gdp`を`Series`として抽出し、変数`s`に割り当てる。"
   ]
  },
  {
   "cell_type": "code",
   "execution_count": 19,
   "metadata": {
    "hidden": true
   },
   "outputs": [
    {
     "data": {
      "text/plain": [
       "country\n",
       "China        20118\n",
       "France        2950\n",
       "Germany       4274\n",
       "India         9142\n",
       "Italy         2463\n",
       "Japan         5032\n",
       "Korea         2157\n",
       "Singapore      477\n",
       "Taiwan        1100\n",
       "UK            2994\n",
       "Name: gdp, dtype: int64"
      ]
     },
     "execution_count": 19,
     "metadata": {},
     "output_type": "execute_result"
    }
   ],
   "source": [
    "s = df['gdp']\n",
    "s"
   ]
  },
  {
   "cell_type": "markdown",
   "metadata": {
    "heading_collapsed": true,
    "hidden": true,
    "jp-MarkdownHeadingCollapsed": true
   },
   "source": [
    "### 要素の抽出"
   ]
  },
  {
   "cell_type": "markdown",
   "metadata": {
    "hidden": true
   },
   "source": [
    "ラベルを使う要素のアクセス方法を考える。この場合は辞書と同じ形になる。（`.loc[]`を使っても良い）"
   ]
  },
  {
   "cell_type": "code",
   "execution_count": 20,
   "metadata": {
    "hidden": true
   },
   "outputs": [
    {
     "data": {
      "text/plain": [
       "5032"
      ]
     },
     "execution_count": 20,
     "metadata": {},
     "output_type": "execute_result"
    }
   ],
   "source": [
    "s[\"Japan\"]"
   ]
  },
  {
   "cell_type": "code",
   "execution_count": 21,
   "metadata": {},
   "outputs": [
    {
     "data": {
      "text/plain": [
       "country\n",
       "Japan    5032\n",
       "UK       2994\n",
       "Name: gdp, dtype: int64"
      ]
     },
     "execution_count": 21,
     "metadata": {},
     "output_type": "execute_result"
    }
   ],
   "source": [
    "s[[\"Japan\", \"UK\"]]"
   ]
  },
  {
   "cell_type": "code",
   "execution_count": 22,
   "metadata": {
    "hidden": true
   },
   "outputs": [
    {
     "data": {
      "text/plain": [
       "country\n",
       "Japan        5032\n",
       "Korea        2157\n",
       "Singapore     477\n",
       "Taiwan       1100\n",
       "UK           2994\n",
       "Name: gdp, dtype: int64"
      ]
     },
     "execution_count": 22,
     "metadata": {},
     "output_type": "execute_result"
    }
   ],
   "source": [
    "s[\"Japan\":]"
   ]
  },
  {
   "cell_type": "markdown",
   "metadata": {
    "hidden": true
   },
   "source": [
    "インデックスを使い要素を抽出する場合は、必ず`.iloc[]`を使う。"
   ]
  },
  {
   "cell_type": "code",
   "execution_count": 23,
   "metadata": {
    "hidden": true
   },
   "outputs": [
    {
     "data": {
      "text/plain": [
       "5032"
      ]
     },
     "execution_count": 23,
     "metadata": {},
     "output_type": "execute_result"
    }
   ],
   "source": [
    "s.iloc[5]"
   ]
  },
  {
   "cell_type": "markdown",
   "metadata": {
    "hidden": true
   },
   "source": [
    "複数のインデックスを使うことも可能である。"
   ]
  },
  {
   "cell_type": "code",
   "execution_count": 24,
   "metadata": {
    "hidden": true
   },
   "outputs": [
    {
     "data": {
      "text/plain": [
       "country\n",
       "France    2950\n",
       "India     9142\n",
       "Japan     5032\n",
       "Name: gdp, dtype: int64"
      ]
     },
     "execution_count": 24,
     "metadata": {},
     "output_type": "execute_result"
    }
   ],
   "source": [
    "s.iloc[[1,3,5]]"
   ]
  },
  {
   "cell_type": "markdown",
   "metadata": {
    "hidden": true
   },
   "source": [
    "またスライシングも同様にできる。"
   ]
  },
  {
   "cell_type": "code",
   "execution_count": 25,
   "metadata": {
    "hidden": true
   },
   "outputs": [
    {
     "data": {
      "text/plain": [
       "country\n",
       "Japan        5032\n",
       "Korea        2157\n",
       "Singapore     477\n",
       "Name: gdp, dtype: int64"
      ]
     },
     "execution_count": 25,
     "metadata": {},
     "output_type": "execute_result"
    }
   ],
   "source": [
    "s.iloc[5:-2]"
   ]
  },
  {
   "cell_type": "markdown",
   "metadata": {
    "hidden": true,
    "jp-MarkdownHeadingCollapsed": true
   },
   "source": [
    "### 統計学関連メソッド"
   ]
  },
  {
   "cell_type": "markdown",
   "metadata": {
    "hidden": true
   },
   "source": [
    "`DataFrame`の説明を参照"
   ]
  }
 ],
 "metadata": {
  "celltoolbar": "Tags",
  "kernel_info": {
   "name": "python3"
  },
  "kernelspec": {
   "display_name": "Python 3 (ipykernel)",
   "language": "python",
   "name": "python3"
  },
  "language_info": {
   "codemirror_mode": {
    "name": "ipython",
    "version": 3
   },
   "file_extension": ".py",
   "mimetype": "text/x-python",
   "name": "python",
   "nbconvert_exporter": "python",
   "pygments_lexer": "ipython3",
   "version": "3.11.9"
  },
  "nteract": {
   "version": "0.15.0"
  },
  "toc": {
   "base_numbering": 1,
   "nav_menu": {},
   "number_sections": true,
   "sideBar": true,
   "skip_h1_title": false,
   "title_cell": "Table of Contents",
   "title_sidebar": "Contents",
   "toc_cell": false,
   "toc_position": {},
   "toc_section_display": true,
   "toc_window_display": false
  },
  "vscode": {
   "interpreter": {
    "hash": "7638eee3e7b130da5496a984d6d52bfbc9bf510a87a483ea7c2368031c9591e0"
   }
  }
 },
 "nbformat": 4,
 "nbformat_minor": 4
}
