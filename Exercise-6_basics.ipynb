{
 "cells": [
  {
   "cell_type": "markdown",
   "id": "unlikely-hormone",
   "metadata": {},
   "source": [
    "# 練習問題６\n",
    "* 必要であればコードセルを追加してください。\n",
    "* **提出する必要はありません。**\n",
    "* 復習に役立ててくださ。"
   ]
  },
  {
   "cell_type": "markdown",
   "id": "9c8264d6",
   "metadata": {},
   "source": [
    "`numpy`、`matplotlib`、`random`をインポートしなさい。"
   ]
  },
  {
   "cell_type": "code",
   "execution_count": 11,
   "id": "0e6d87fd",
   "metadata": {},
   "outputs": [],
   "source": [
    "import numpy as np\n",
    "import matplotlib.pyplot as plt\n",
    "import random"
   ]
  },
  {
   "cell_type": "markdown",
   "id": "4036939d",
   "metadata": {
    "heading_collapsed": true,
    "jp-MarkdownHeadingCollapsed": true
   },
   "source": [
    "## Q1：合計"
   ]
  },
  {
   "cell_type": "markdown",
   "id": "8708c135",
   "metadata": {
    "heading_collapsed": true,
    "hidden": true,
    "jp-MarkdownHeadingCollapsed": true
   },
   "source": [
    "### 問(i)"
   ]
  },
  {
   "cell_type": "markdown",
   "id": "cc44e717",
   "metadata": {
    "hidden": true
   },
   "source": [
    "`1`から`10`までの整数が表示されている10面サイコロを考えよう。内包表記を使って，そのサイコロを1万回振った結果をりストに格納し，変数`lst1`に割り当てなさい。"
   ]
  },
  {
   "cell_type": "code",
   "execution_count": 3,
   "id": "efaf5a55",
   "metadata": {
    "hidden": true
   },
   "outputs": [],
   "source": [
    "lst1 = [random.randint(1,10) for _ in range(10_000)]"
   ]
  },
  {
   "cell_type": "markdown",
   "id": "9a1a34fd-6017-462c-b513-0153c4edaf68",
   "metadata": {
    "heading_collapsed": true,
    "hidden": true,
    "jp-MarkdownHeadingCollapsed": true
   },
   "source": [
    "### 問(ii)"
   ]
  },
  {
   "cell_type": "markdown",
   "id": "714868ea",
   "metadata": {
    "hidden": true
   },
   "source": [
    "`for`ループを使い，次の関数を作成しなさい。\n",
    "* 関数名：`sum_even_only`\n",
    "* 引数：リスト（実行する際は`lst1`を引数とする）\n",
    "* 戻り値：リストにある偶数の合計"
   ]
  },
  {
   "cell_type": "code",
   "execution_count": 4,
   "id": "1422deeb",
   "metadata": {
    "hidden": true
   },
   "outputs": [],
   "source": [
    "def sum_even_only(lst_):\n",
    "    \n",
    "    x = 0\n",
    "    \n",
    "    for i in lst_:\n",
    "        \n",
    "        if i % 2 == 0:\n",
    "            \n",
    "            x = x + i\n",
    "        \n",
    "        else:     # なくても良い\n",
    "            pass  # なくても良い\n",
    "\n",
    "    return x"
   ]
  },
  {
   "cell_type": "markdown",
   "id": "70a533d1",
   "metadata": {
    "hidden": true
   },
   "source": [
    "`sum_even_only()`を使い`lst1`の偶数の合計を計算しなさい。"
   ]
  },
  {
   "cell_type": "code",
   "execution_count": 5,
   "id": "585621d0",
   "metadata": {
    "hidden": true
   },
   "outputs": [
    {
     "data": {
      "text/plain": [
       "29934"
      ]
     },
     "execution_count": 5,
     "metadata": {},
     "output_type": "execute_result"
    }
   ],
   "source": [
    "sum_even = sum_even_only(lst1)\n",
    "sum_even"
   ]
  },
  {
   "cell_type": "markdown",
   "id": "642a4d4f",
   "metadata": {
    "heading_collapsed": true,
    "hidden": true,
    "jp-MarkdownHeadingCollapsed": true
   },
   "source": [
    "### 問(iii)"
   ]
  },
  {
   "cell_type": "markdown",
   "id": "98368b97",
   "metadata": {
    "hidden": true
   },
   "source": [
    "`for`ループを使い，次の関数を作成しなさい。\n",
    "* 関数名：`sum_odd_only`\n",
    "* 引数：リスト（実行する際は`lst1`を引数とする）\n",
    "* 戻り値：リストにある奇数の合計"
   ]
  },
  {
   "cell_type": "code",
   "execution_count": 6,
   "id": "326bd6ac",
   "metadata": {
    "hidden": true
   },
   "outputs": [],
   "source": [
    "def sum_odd_only(lst_):\n",
    "    \n",
    "    x = 0\n",
    "    \n",
    "    for i in lst_:\n",
    "        \n",
    "        if i % 2 != 0:\n",
    "            \n",
    "            x = x + i\n",
    "        \n",
    "        else:     # なくても良い\n",
    "            pass  # なくても良い\n",
    "\n",
    "    return x"
   ]
  },
  {
   "cell_type": "markdown",
   "id": "e571556a",
   "metadata": {
    "hidden": true
   },
   "source": [
    "`sum_odd_only()`を使い`lst1`の奇数の合計を計算しなさい。"
   ]
  },
  {
   "cell_type": "code",
   "execution_count": 7,
   "id": "745610bf",
   "metadata": {
    "hidden": true
   },
   "outputs": [
    {
     "data": {
      "text/plain": [
       "24969"
      ]
     },
     "execution_count": 7,
     "metadata": {},
     "output_type": "execute_result"
    }
   ],
   "source": [
    "sum_odd = sum_odd_only(lst1)\n",
    "sum_odd"
   ]
  },
  {
   "cell_type": "markdown",
   "id": "925c36f2",
   "metadata": {
    "heading_collapsed": true,
    "hidden": true,
    "jp-MarkdownHeadingCollapsed": true
   },
   "source": [
    "## Q2：ランダム変数生成関数"
   ]
  },
  {
   "cell_type": "markdown",
   "id": "d0ea97de-4140-4f15-b3b2-5a15901fce1d",
   "metadata": {},
   "source": [
    "授業では`random.randint()`関数を説明したが，ここでは，ランダム変数を生成る別の２つの関数を紹介する。"
   ]
  },
  {
   "cell_type": "markdown",
   "id": "e895bbca-fadd-4199-b932-5160f2f902a8",
   "metadata": {
    "jp-MarkdownHeadingCollapsed": true
   },
   "source": [
    "### 問(i)"
   ]
  },
  {
   "cell_type": "markdown",
   "id": "061b6bd6",
   "metadata": {
    "hidden": true
   },
   "source": [
    "`random.uniform(a, b)`関数は，`a`から`b`の間の浮動小数点型の値をランダムに`1`つ返す（連続一様分布）。 \n",
    "`random.random(0,1)`を実行しなさい。"
   ]
  },
  {
   "cell_type": "code",
   "execution_count": 4,
   "id": "fcc9e3a2-5397-43c0-8cdd-8f79755149e9",
   "metadata": {},
   "outputs": [
    {
     "data": {
      "text/plain": [
       "0.5190800971380866"
      ]
     },
     "execution_count": 4,
     "metadata": {},
     "output_type": "execute_result"
    }
   ],
   "source": [
    "random.uniform(0,1)"
   ]
  },
  {
   "cell_type": "markdown",
   "id": "8d5337e4-2671-4c44-8825-3e94cde88f97",
   "metadata": {},
   "source": [
    "`random.random()`と内包表記を使って，`10`個のランダム変数から構成されるリストを作成しなさい。"
   ]
  },
  {
   "cell_type": "code",
   "execution_count": 5,
   "id": "bfcfaaf5",
   "metadata": {
    "hidden": true
   },
   "outputs": [
    {
     "data": {
      "text/plain": [
       "[0.3422483539580726,\n",
       " 0.4321185606358179,\n",
       " 0.5153145044490217,\n",
       " 0.34994723433249064,\n",
       " 0.252013873589768,\n",
       " 0.42325011425540193,\n",
       " 0.414607494572107,\n",
       " 0.7601874189630132,\n",
       " 0.04463077248655423,\n",
       " 0.050676336871907535]"
      ]
     },
     "execution_count": 5,
     "metadata": {},
     "output_type": "execute_result"
    }
   ],
   "source": [
    "[random.uniform(0,1) for _ in range(10)]"
   ]
  },
  {
   "cell_type": "markdown",
   "id": "5e716ccf-c34d-46b7-bcd9-e512227b148b",
   "metadata": {
    "jp-MarkdownHeadingCollapsed": true
   },
   "source": [
    "### 問(ii)"
   ]
  },
  {
   "cell_type": "markdown",
   "id": "2fca38a7-9545-41b4-afd5-f1a976fc34e7",
   "metadata": {
    "hidden": true
   },
   "source": [
    "`random.gauss(mu, sigma)`関数は，平均`mu`と標準偏差`sigma`の正規分布から浮動小数点型の値をランダムに`1`つ返す。 \n",
    "標準正規分布からランダム変数を生成する`random.gauss(0,1)`を実行しなさい。"
   ]
  },
  {
   "cell_type": "code",
   "execution_count": 6,
   "id": "f19d6768-2837-4537-8fce-dcf3f7c55826",
   "metadata": {},
   "outputs": [
    {
     "data": {
      "text/plain": [
       "1.7772492401575588"
      ]
     },
     "execution_count": 6,
     "metadata": {},
     "output_type": "execute_result"
    }
   ],
   "source": [
    "random.gauss(0,1)"
   ]
  },
  {
   "cell_type": "markdown",
   "id": "7bedb0b0-7d6c-4430-8c5f-d32017cb561f",
   "metadata": {},
   "source": [
    "`random.gauss(0,1)`と内包表記を使って，`10`個のランダム変数から構成されるリストを作成しなさい。"
   ]
  },
  {
   "cell_type": "code",
   "execution_count": 9,
   "id": "447b5b78-07c4-4d36-93bf-5c8a37ac0f91",
   "metadata": {
    "hidden": true
   },
   "outputs": [
    {
     "data": {
      "text/plain": [
       "[-1.3574486301504936,\n",
       " 1.0902002505310504,\n",
       " -0.535393283075012,\n",
       " 0.42766923779212745,\n",
       " 0.7770068009559153,\n",
       " -2.4386405945907246,\n",
       " -1.8492372397644796,\n",
       " -0.0688939969902952,\n",
       " 0.21707735545284704,\n",
       " -0.5672267812424314]"
      ]
     },
     "execution_count": 9,
     "metadata": {},
     "output_type": "execute_result"
    }
   ],
   "source": [
    "[random.gauss(0,1) for _ in range(10)]"
   ]
  },
  {
   "cell_type": "markdown",
   "id": "accompanied-manor",
   "metadata": {
    "heading_collapsed": true
   },
   "source": [
    "## Q3：シミュレーション１"
   ]
  },
  {
   "cell_type": "markdown",
   "id": "07f84084-00ef-450c-bc71-bc9749d30d13",
   "metadata": {},
   "source": [
    "* 次のリンクにある図では，横軸$[0,1]$と縦軸$[0,1]$の領域が$A$と$B$に分かれており，境界線は$y=x^2$で与えられる。\n",
    "    * [画像のリンク](https://cloudkobeu-my.sharepoint.com/:b:/g/personal/k0102988_cloud_kobe-u_jp/Ebtuyy4HKLxIh5mDLg2LD4EBfLvrZ12B6sCiXxbVxNJIBA?e=lPaPds)\n",
    "* 目的：領域`A`の面積をシミュレーションを使い近似値を求める。\n",
    "* 仮定：\n",
    "    * $A$と$B$からなる正方形をダーツの的と考え，ダーツ（矢）を投げるたびに必ず的にランダムにあたると考える。\n",
    "    * ダーツが$A$に入る場合を「当たり」とする。\n",
    "    * 当たりの確率は次の式で与えられる。\n",
    "\n",
    "    $$\n",
    "    A\\text{の面積}\n",
    "    =\\text{当たりの確率}\n",
    "    =\\frac{A\\text{の面積}}{(A+B)\\text{の面積}}\n",
    "    $$\n",
    "\n",
    "* 「投げたダーツの数」が十分に大きい場合，次の近似が成立する。\n",
    "\n",
    "    $$\n",
    "    A\\text{の面積}=\\text{当たりの確率}\n",
    "    \\approx\n",
    "    \\frac{\\text{当たりの数}}{\\text{投げたダーツの数}}\n",
    "    \\tag{1}\n",
    "    $$"
   ]
  },
  {
   "cell_type": "markdown",
   "id": "7f7ee9a8-fdcb-42cb-848e-e2cf58cb7f54",
   "metadata": {},
   "source": [
    "＜仮定の追加＞ $y=x^2$の線は$A$と$B$のどちらの領域と考えても良いが，次を仮定する。。\n",
    "* 座標$(x_0,y_0)$が領域$A$にある場合は，次の不等式が成立する。\n",
    "\n",
    "    $$\n",
    "    y_0\\leq x_0^2\n",
    "    $$\n",
    "\n",
    "* 座標$(x_0,y_0)$が領域$B$にある場合は，次の不等式が成立する。\n",
    "\n",
    "    $$\n",
    "    y_0>x_0^2\n",
    "    $$  "
   ]
  },
  {
   "cell_type": "markdown",
   "id": "7d463b98-b1f9-4f7d-8fff-ec1c1bcf92e2",
   "metadata": {},
   "source": [
    "### 問(i)"
   ]
  },
  {
   "cell_type": "markdown",
   "id": "a21f3462-3b27-45fb-9353-f9d0f987290c",
   "metadata": {},
   "source": [
    "`random.uniform(0,1)`を実行しなさい。"
   ]
  },
  {
   "cell_type": "code",
   "execution_count": 12,
   "id": "5c41e75c-5539-4f6b-b4d9-1b4ca7407fd8",
   "metadata": {},
   "outputs": [
    {
     "data": {
      "text/plain": [
       "0.42683421986568215"
      ]
     },
     "execution_count": 12,
     "metadata": {},
     "output_type": "execute_result"
    }
   ],
   "source": [
    "random.uniform(0,1)"
   ]
  },
  {
   "cell_type": "markdown",
   "id": "848d6e86-4464-404f-aa49-1dcc3b4ef2db",
   "metadata": {},
   "source": [
    "### 問(ii)"
   ]
  },
  {
   "cell_type": "markdown",
   "id": "4d9c8ba2-6800-4fae-b644-2f5186e1e4b6",
   "metadata": {},
   "source": [
    "問(i)のコードを使い，`x0`に横軸の座標，`y0`に縦軸の座標を割り当てなさい。"
   ]
  },
  {
   "cell_type": "code",
   "execution_count": 13,
   "id": "5a3d4aa0-1312-4cd4-9ce4-d261c7b792b6",
   "metadata": {},
   "outputs": [],
   "source": [
    "x0 = random.uniform(0,1)\n",
    "y0 = random.uniform(0,1)"
   ]
  },
  {
   "cell_type": "markdown",
   "id": "e32bc102-0a1b-4ca2-8521-861f26e82a9d",
   "metadata": {},
   "source": [
    "### 問(iii)"
   ]
  },
  {
   "cell_type": "markdown",
   "id": "3a38c284-3d49-42e4-8325-1fc2c9630d87",
   "metadata": {},
   "source": [
    "問(ii)の`x0`と`y0`の座標が領域$A$にある場合は`True`，そうでない場合は`False`を返しなさい。"
   ]
  },
  {
   "cell_type": "code",
   "execution_count": 14,
   "id": "21622cdc-7b0e-4ace-85b7-eeba2a71c3a8",
   "metadata": {},
   "outputs": [
    {
     "data": {
      "text/plain": [
       "False"
      ]
     },
     "execution_count": 14,
     "metadata": {},
     "output_type": "execute_result"
    }
   ],
   "source": [
    "y0 <= x0**2"
   ]
  },
  {
   "cell_type": "markdown",
   "id": "294113b5-98bc-4bb1-a8ef-cf234d2c7b4e",
   "metadata": {},
   "source": [
    "### 問(iv)"
   ]
  },
  {
   "cell_type": "markdown",
   "id": "562b89e0-e780-46b2-ab66-1f9de2eaccfb",
   "metadata": {},
   "source": [
    "次の作業をおこないなさい。\n",
    "* 変数`n=1000`を作成する。\n",
    "* 変数`number_of_hit=0`を作成する。\n",
    "* `n`回の`for`ループを使い，各ループでは次の計算をしなさい。\n",
    "    * `x`に$[0,1]$のランダム変数を割り当てる。\n",
    "    * `y`に$[0,1]$のランダム変数を割り当てる。\n",
    "    * `x`と`y`の座標が領域$A$にある場合は`number_of_hit`に`1`追加する。\n",
    "    * そうでない場合は何もしない。"
   ]
  },
  {
   "cell_type": "code",
   "execution_count": 15,
   "id": "90142019-6d4b-445e-8d43-0b753ce7155b",
   "metadata": {},
   "outputs": [],
   "source": [
    "n = 1000\n",
    "number_of_hit = 0\n",
    "\n",
    "for i in range(n):\n",
    "\n",
    "    x = random.uniform(0,1)\n",
    "    y = random.uniform(0,1)\n",
    "\n",
    "    if y <= x**2:\n",
    "        number_of_hit = number_of_hit + 1\n",
    "\n",
    "    else:\n",
    "        pass"
   ]
  },
  {
   "cell_type": "markdown",
   "id": "f770a0f6-94f6-4932-8def-b1c02fca4142",
   "metadata": {},
   "source": [
    "### 問(v)"
   ]
  },
  {
   "cell_type": "markdown",
   "id": "f01e88ab-74a9-438f-bf6b-816f97ee5546",
   "metadata": {},
   "source": [
    "近似式(1)と問(iv)の解答を使い，領域$A$の面積を計算しなさい。"
   ]
  },
  {
   "cell_type": "code",
   "execution_count": 16,
   "id": "a1b8c54f-19e9-4a56-9545-c7cd71be06e4",
   "metadata": {},
   "outputs": [
    {
     "data": {
      "text/plain": [
       "0.337"
      ]
     },
     "execution_count": 16,
     "metadata": {},
     "output_type": "execute_result"
    }
   ],
   "source": [
    "number_of_hit / n"
   ]
  },
  {
   "cell_type": "markdown",
   "id": "071aa0d5-a018-42b9-a31e-4d2581f84116",
   "metadata": {},
   "source": [
    "### 問(vi)"
   ]
  },
  {
   "cell_type": "markdown",
   "id": "82c735ee-bcb4-48fd-96ae-d58923e1e4a7",
   "metadata": {},
   "source": [
    "問(iv)のコードを関数化しなさい。\n",
    "* 関数名：`calculate_A`\n",
    "* 引数： \n",
    "    * `n`：ダーツを投げる回数（ループの回数，デフォルトなし）\n",
    "* 戻り値：\n",
    "    * 領域$A$の面積の近似値"
   ]
  },
  {
   "cell_type": "code",
   "execution_count": 17,
   "id": "66acd66c-b82f-4834-ae8e-513f1920de66",
   "metadata": {},
   "outputs": [],
   "source": [
    "def calculate_A(n):\n",
    "\n",
    "    number_of_hit = 0\n",
    "    \n",
    "    for i in range(n):\n",
    "        \n",
    "        x = random.uniform(0,1)\n",
    "        y = random.uniform(0,1)\n",
    "    \n",
    "        if y <= x**2:\n",
    "            \n",
    "            number_of_hit = number_of_hit + 1\n",
    "\n",
    "    return number_of_hit / n        "
   ]
  },
  {
   "cell_type": "markdown",
   "id": "b05d6662-9df1-4408-b58e-3c3251803424",
   "metadata": {},
   "source": [
    "### 問(vii)"
   ]
  },
  {
   "cell_type": "markdown",
   "id": "4fb9a6dc-d517-4077-ae3a-dc2b3a2fe1cb",
   "metadata": {},
   "source": [
    "`calculate_A()`関数を使い，様々な値を`n`に使い計算しなさい。"
   ]
  },
  {
   "cell_type": "code",
   "execution_count": 21,
   "id": "99f35518-32a1-4885-b58d-75d454909da9",
   "metadata": {},
   "outputs": [
    {
     "data": {
      "text/plain": [
       "0.33263"
      ]
     },
     "execution_count": 21,
     "metadata": {},
     "output_type": "execute_result"
    }
   ],
   "source": [
    "calculate_A(100_000)"
   ]
  },
  {
   "cell_type": "markdown",
   "id": "5069a4ce-45e4-4e52-9a01-903206ac7820",
   "metadata": {},
   "source": [
    "### 問(viii)"
   ]
  },
  {
   "cell_type": "markdown",
   "id": "1ca03f04-76d2-4418-a245-f8e85019c3bf",
   "metadata": {},
   "source": [
    "どの値に収束しているように見えますか？"
   ]
  },
  {
   "cell_type": "code",
   "execution_count": 39,
   "id": "0dbc522f-01f2-4b0d-8476-e871fb9d0275",
   "metadata": {},
   "outputs": [],
   "source": [
    "# 1/3  このようなシミュレーションを Monte Carlo Simulation と呼び、上のコードの精度は特に良いわけではない。"
   ]
  },
  {
   "cell_type": "markdown",
   "id": "7449792a-ddcb-4ca1-a2fe-dbcda7039aaf",
   "metadata": {
    "jp-MarkdownHeadingCollapsed": true
   },
   "source": [
    "## Q4：シミュレーション２"
   ]
  },
  {
   "cell_type": "markdown",
   "id": "db82cbd1-1f4c-4877-bc5b-018a755caced",
   "metadata": {},
   "source": [
    "* 目的：円周率$\\pi=3.14159\\cdots$をシミュレーションを使い近似値を計算する。\n",
    "* 仮定：\n",
    "    * 次のリンクにあるような，一辺が`a=1`の正方形に内接する半径`r=a/2`の円を考えよう。\n",
    "        * [画像のリンク](https://cloudkobeu-my.sharepoint.com/:b:/g/personal/k0102988_cloud_kobe-u_jp/EaQ5__pF0JxBgazxU7iBcjQBDGx3HFemDZqunABzWktG7g?e=S3Kmkv)\n",
    "        * シミュレーションでは，円の中心を原点$(0,0)$と考える。\n",
    "    * その正方形をダーツの的と考え，ダーツ（矢）を投げるたびに必ず的にランダムにあたると考える。\n",
    "    * 円周内（円周上も含めて）にダーツが入る場合を「当たり」とする。\n",
    "    * 当たりの確率は次の式で与えられる。\n",
    "\n",
    "    $$\n",
    "    \\text{当たりの確率}\n",
    "    =\\frac{\\text{円の面積}}{\\text{正方形の面積}}\n",
    "    =\\frac{r^2\\pi}{a^2}\n",
    "    =\\frac{(a/2)^2\\pi}{a^2}\n",
    "    =\\frac{\\pi}{2^2}\n",
    "    =\\frac{\\pi}{4}\n",
    "    $$\n",
    "\n",
    "* 「投げたダーツの数」が十分に大きい場合，上の式を次のように近似できる。\n",
    "\n",
    "    $$\n",
    "    \\text{当たりの確率}=\\frac{\\pi}{4}\n",
    "    \\approx\n",
    "    \\frac{\\text{当たりの数}}{\\text{投げたダーツの数}}\n",
    "    $$\n",
    "\n",
    "    又は\n",
    "\n",
    "    $$\n",
    "    \\pi\\approx\n",
    "    4\\times\\frac{\\text{当たりの数}}{\\text{投げたダーツの数}}\n",
    "    \\tag{2}\n",
    "    $$"
   ]
  },
  {
   "cell_type": "markdown",
   "id": "a8c088dc-3d49-48e8-b53f-d165574fc987",
   "metadata": {},
   "source": [
    "＜ヒント＞\n",
    "* 円の面積 $=r^2\\pi$\n",
    "* 原点を中心とする円の公式\n",
    "\n",
    "    $$\n",
    "    x^2+y^2=r^2\n",
    "    $$\n",
    "  \n",
    "* 座標$(x_0,y_0)$が円の内側にある場合（当たりの場合）は，次の不等式が成立する。\n",
    "\n",
    "    $$\n",
    "    x_0^2+y_0^2\\leq r^2\n",
    "    $$"
   ]
  },
  {
   "cell_type": "markdown",
   "id": "5933655c-c236-4092-9c37-0cb570521e9a",
   "metadata": {},
   "source": [
    "### 問(i)"
   ]
  },
  {
   "cell_type": "markdown",
   "id": "95f03220-f90a-4510-bde2-4a8c3ec60823",
   "metadata": {},
   "source": [
    "`random.uniform(0,1)`を実行しなさい。"
   ]
  },
  {
   "cell_type": "code",
   "execution_count": 24,
   "id": "37291fa7-e32c-4718-90b7-7c5403cab401",
   "metadata": {},
   "outputs": [
    {
     "data": {
      "text/plain": [
       "0.011365736802733117"
      ]
     },
     "execution_count": 24,
     "metadata": {},
     "output_type": "execute_result"
    }
   ],
   "source": [
    "random.uniform(0,1)"
   ]
  },
  {
   "cell_type": "markdown",
   "id": "c9ae749a-8dca-4340-814e-9865bb4c96dc",
   "metadata": {},
   "source": [
    "### 問(ii)"
   ]
  },
  {
   "cell_type": "markdown",
   "id": "99fa2b40-98df-437a-be8a-37052b0b1f8f",
   "metadata": {},
   "source": [
    "`random.uniform(-0.5,0.5)`は$[-0.5,0.5]$の浮動小数点型が値を返す。実行しなさい。"
   ]
  },
  {
   "cell_type": "code",
   "execution_count": 30,
   "id": "c20f51cd-13be-4072-b60f-5c5fde617bd6",
   "metadata": {},
   "outputs": [
    {
     "data": {
      "text/plain": [
       "-0.16432390454045687"
      ]
     },
     "execution_count": 30,
     "metadata": {},
     "output_type": "execute_result"
    }
   ],
   "source": [
    "random.uniform(-0.5,0.5)"
   ]
  },
  {
   "cell_type": "markdown",
   "id": "d746e2ea-63fc-4fd5-96e9-dcf9ddbe1e9b",
   "metadata": {},
   "source": [
    "### 問(iii)"
   ]
  },
  {
   "cell_type": "markdown",
   "id": "7182887d-1a56-45f7-b15f-b8e8ae9656ec",
   "metadata": {},
   "source": [
    "問(ii)のコードを使い，`x0`に横軸の座標，`y0`に縦軸の座標を割り当てなさい。"
   ]
  },
  {
   "cell_type": "code",
   "execution_count": 31,
   "id": "3fee21fe-555b-47e5-b07c-bf2f8003c662",
   "metadata": {},
   "outputs": [],
   "source": [
    "x0 = random.uniform(-0.5,0.5)\n",
    "y0 = random.uniform(-0.5,0.5)"
   ]
  },
  {
   "cell_type": "markdown",
   "id": "575e49ba-9927-4bba-862f-a00b9903a705",
   "metadata": {},
   "source": [
    "### 問(iv)"
   ]
  },
  {
   "cell_type": "markdown",
   "id": "8bfd13fa-885e-4235-94db-3590a58c97eb",
   "metadata": {},
   "source": [
    "問(iii)の`x0`と`y0`の座標が円の内側にある場合は`True`，そうでない場合は`False`を返しなさい。"
   ]
  },
  {
   "cell_type": "code",
   "execution_count": 32,
   "id": "89b93e61-3c4a-4c6d-9931-f63ac69508d1",
   "metadata": {},
   "outputs": [
    {
     "data": {
      "text/plain": [
       "True"
      ]
     },
     "execution_count": 32,
     "metadata": {},
     "output_type": "execute_result"
    }
   ],
   "source": [
    "x0**2+y0**2 <= 0.5**2"
   ]
  },
  {
   "cell_type": "markdown",
   "id": "a12cae16-5b6c-4a76-965f-890dc3b7783a",
   "metadata": {},
   "source": [
    "### 問(v)"
   ]
  },
  {
   "cell_type": "markdown",
   "id": "21ee2623-c5e5-48a9-9aaf-1368453db150",
   "metadata": {},
   "source": [
    "問(iii)のコードと内包表記を使い，`n=1000`の横軸の座標を`x`に，`n=1000`の縦軸の座標を`y`に割り当てなさい。"
   ]
  },
  {
   "cell_type": "code",
   "execution_count": 33,
   "id": "dad3e016-184e-441b-a18d-a4246b9bd5a1",
   "metadata": {},
   "outputs": [],
   "source": [
    "n = 1000\n",
    "x = [random.uniform(-0.5,0.5) for _ in range(n)]\n",
    "y = [random.uniform(-0.5,0.5) for _ in range(n)]"
   ]
  },
  {
   "cell_type": "markdown",
   "id": "934d01f8-b353-41d2-9820-3f76682a66c6",
   "metadata": {},
   "source": [
    "### 問(vi)"
   ]
  },
  {
   "cell_type": "markdown",
   "id": "7249270a-f6cf-4abf-ab75-620b2b93fbf7",
   "metadata": {},
   "source": [
    "問(v)のリスト`x`と`y`の値は，次のように解釈できる。\n",
    "* `x[0]`と`y[0]`は，正方形の中の一つの座標\n",
    "* `x[1]`と`y[1]`は，正方形の中の一つの座標\n",
    "* `x[2]`と`y[2]`は，正方形の中の一つの座標\n",
    "* `...`\n",
    "* `x[n]`と`y[n]`は，正方形の中の一つの座標\n",
    "\n",
    "ここで`n`はダートを投げた回数。\n",
    "\n",
    "この解釈に基づき，次の作業をおこないなさい。\n",
    "* 空のリスト`thrown_result`を作成する。\n",
    "* `n=1000`回の`for`ループを使い，各ループでは次の作業をおこない実行しなさい。\n",
    "    * 当たりの場合は`1`を`thrown_result`に追加する。\n",
    "    * そうでない場合は`0`を`thrown_result`に追加する。"
   ]
  },
  {
   "cell_type": "code",
   "execution_count": 34,
   "id": "18a0b46f-8c7c-4065-88bd-b36632184696",
   "metadata": {},
   "outputs": [],
   "source": [
    "thrown_result = []\n",
    "\n",
    "for i in range(n):\n",
    "\n",
    "    if ( x[i]**2 + y[i]**2 ) <= 0.5**2:\n",
    "        thrown_result.append(1)\n",
    "\n",
    "    else:\n",
    "        thrown_result.append(0)"
   ]
  },
  {
   "cell_type": "markdown",
   "id": "6c98efc6-aef1-4e80-9033-9f98162c1d42",
   "metadata": {},
   "source": [
    "### 問(vii)"
   ]
  },
  {
   "cell_type": "markdown",
   "id": "641ba445-4873-4dd7-8f17-9388508b4737",
   "metadata": {},
   "source": [
    "問(vi)の結果を使い次の作業を行いなさい。\n",
    "* 空のリスト`calculated_pi_lst`を作成する。\n",
    "* `n`回の`for`ループを使い，各ループの中で次の計算をしなさい。\n",
    "    * `thrown_result`の最初の`j`個の値から構成されるリストを`darts_thown`に割り当てる。\n",
    "    * `darts_thown`の要素の数を`n_darts`に割り当てる。\n",
    "    * `darts_thown`の`1`の合計を`hit`に割り当てる。\n",
    "    * 近似式(2)を使い，結果を`calculated_pi_lst`に割り当てる。"
   ]
  },
  {
   "cell_type": "code",
   "execution_count": 35,
   "id": "aac2c389-e0c6-4e93-9b59-f3bebede2646",
   "metadata": {},
   "outputs": [],
   "source": [
    "calculated_pi_lst = []\n",
    "\n",
    "for j in range(n):\n",
    "\n",
    "    darts_thrown = thrown_result[:j+1]\n",
    "    n_darts = len(darts_thrown)\n",
    "    hit = sum(darts_thrown)\n",
    "    res = 4 * hit / n_darts\n",
    "    calculated_pi_lst.append(res)"
   ]
  },
  {
   "cell_type": "markdown",
   "id": "56ed01db-d217-40ac-bb94-9d98f99ebe2e",
   "metadata": {},
   "source": [
    "### 問(viii)"
   ]
  },
  {
   "cell_type": "markdown",
   "id": "adeb2356-fe84-4fd0-aeeb-3cbefed614a9",
   "metadata": {},
   "source": [
    "`calculated_pi_lst`をプロットしなさい。"
   ]
  },
  {
   "cell_type": "code",
   "execution_count": 36,
   "id": "5b0d2490-16d0-44e7-8711-08652a36bb63",
   "metadata": {},
   "outputs": [
    {
     "data": {
      "text/plain": [
       "[<matplotlib.lines.Line2D at 0x1112e8410>]"
      ]
     },
     "execution_count": 36,
     "metadata": {},
     "output_type": "execute_result"
    },
    {
     "data": {
      "image/png": "[encoded data removed]",
      "text/plain": [
       "<Figure size 640x480 with 1 Axes>"
      ]
     },
     "metadata": {},
     "output_type": "display_data"
    }
   ],
   "source": [
    "plt.plot(calculated_pi_lst)"
   ]
  },
  {
   "cell_type": "markdown",
   "id": "82c95e6e-1469-41bc-aacb-c981e44b8261",
   "metadata": {},
   "source": [
    "### 問(ix)"
   ]
  },
  {
   "cell_type": "markdown",
   "id": "e0552fd2-5bc4-473a-afa7-5d9bd501e8c6",
   "metadata": {},
   "source": [
    "問(v)から(vii)のコードを関数化しなさい。\n",
    "* 関数名：`calculate_pi`\n",
    "* 引数： \n",
    "    * `n`：投げるダーツの数（ループの回数，デフォルトなし）\n",
    "* 戻り値：\n",
    "    * `calculated_pi_lst`"
   ]
  },
  {
   "cell_type": "code",
   "execution_count": 37,
   "id": "97862df4-0709-456f-a388-f57b687bf4b2",
   "metadata": {
    "scrolled": true
   },
   "outputs": [],
   "source": [
    "def calculate_pi(n):\n",
    "\n",
    "    x = [random.uniform(-0.5,0.5) for _ in range(n)]\n",
    "    y = [random.uniform(-0.5,0.5) for _ in range(n)]\n",
    "\n",
    "    thrown_result = []\n",
    "    \n",
    "    for i in range(n):\n",
    "    \n",
    "        if ( x[i]**2 + y[i]**2 ) <= 0.5**2:\n",
    "            thrown_result.append(1)\n",
    "    \n",
    "        else:\n",
    "            thrown_result.append(0)\n",
    "    \n",
    "    calculated_pi_lst = []\n",
    "    \n",
    "    for j in range(n):\n",
    "    \n",
    "        darts_thrown = thrown_result[:j+1]\n",
    "        n_darts = len(darts_thrown)\n",
    "        hit = sum(darts_thrown)\n",
    "        res = 4 * hit / n_darts\n",
    "        calculated_pi_lst.append(res)\n",
    "\n",
    "    return calculated_pi_lst"
   ]
  },
  {
   "cell_type": "markdown",
   "id": "9d1d927f-46fc-4423-8019-8cb040ffc8b4",
   "metadata": {},
   "source": [
    "### 問(x)"
   ]
  },
  {
   "cell_type": "markdown",
   "id": "2978dac8-5a99-4991-9840-8160bc2b1820",
   "metadata": {},
   "source": [
    "`calculate_pi(1000)`関数を実行し，その結果をプロットしなさい。"
   ]
  },
  {
   "cell_type": "code",
   "execution_count": 38,
   "id": "9b918a9a-9388-43c9-bbac-3a0e35fa5b5e",
   "metadata": {},
   "outputs": [
    {
     "data": {
      "image/png": "[encoded data removed]",
      "text/plain": [
       "<Figure size 640x480 with 1 Axes>"
      ]
     },
     "metadata": {},
     "output_type": "display_data"
    }
   ],
   "source": [
    "plt.plot(calculate_pi(1000))\n",
    "pass"
   ]
  },
  {
   "cell_type": "code",
   "execution_count": null,
   "id": "d65683d5-54b3-41c9-bd82-1e2d44893796",
   "metadata": {},
   "outputs": [],
   "source": []
  }
 ],
 "metadata": {
  "kernelspec": {
   "display_name": "Python 3 (ipykernel)",
   "language": "python",
   "name": "python3"
  },
  "language_info": {
   "codemirror_mode": {
    "name": "ipython",
    "version": 3
   },
   "file_extension": ".py",
   "mimetype": "text/x-python",
   "name": "python",
   "nbconvert_exporter": "python",
   "pygments_lexer": "ipython3",
   "version": "3.11.9"
  }
 },
 "nbformat": 4,
 "nbformat_minor": 5
}
