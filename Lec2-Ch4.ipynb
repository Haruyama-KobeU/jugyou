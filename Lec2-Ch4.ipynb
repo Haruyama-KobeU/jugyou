{
 "cells": [
  {
   "cell_type": "markdown",
   "id": "0",
   "metadata": {
    "id": "88b92a63-be57-43ea-8194-b58339075e39"
   },
   "source": [
    "# 第4章：関数（１/２）"
   ]
  },
  {
   "cell_type": "markdown",
   "id": "1",
   "metadata": {
    "id": "e8da2717-a718-492b-aac3-5ae880cd2a1d"
   },
   "source": [
    "## 関数とは"
   ]
  },
  {
   "cell_type": "markdown",
   "id": "141fdff3-70b8-4a98-9d8c-85bd49af529d",
   "metadata": {},
   "source": [
    "関数は一連の手順をまとめた便利なレシピのようなものです。関数を呼び出すと，Pythonはその指示に従って動作します。同じコードを何度も書く代わりに，関数の中にまとめておけば，必要なときに何度でも使うことができます。\n",
    "1. 組み込み関数\n",
    "    * `Python`が起動すると，直ぐに使えるように様々な関数が用意されており、それらは組み込み関数（built-in functions）と呼ばれる。\n",
    "2. ユーザー定義の関数"
   ]
  },
  {
   "cell_type": "markdown",
   "id": "2",
   "metadata": {
    "id": "6421be37-5ea4-42be-a10a-123540b290bb"
   },
   "source": [
    "## 組み込み関数"
   ]
  },
  {
   "cell_type": "markdown",
   "id": "3",
   "metadata": {
    "id": "463856b0-f6b2-4b19-b5f8-4ff9c5ad9ed4"
   },
   "source": [
    "### `print()`関数"
   ]
  },
  {
   "cell_type": "markdown",
   "id": "50cf57fc-66dd-43ee-adac-99a609f3e047",
   "metadata": {},
   "source": [
    "表示するための関数"
   ]
  },
  {
   "cell_type": "markdown",
   "id": "8915ea9a-7238-4b8f-bbde-9e8064b65f31",
   "metadata": {},
   "source": [
    "$$\n",
    "\\overset{\n",
    "    \\texttt{関数名}\n",
    "}{\n",
    "  \\overbrace{\n",
    "      \\texttt{print}\n",
    "  }\n",
    "}\n",
    "\\texttt{(}\\;\\;\n",
    "\\overset{\n",
    "  \\texttt{引数}\n",
    "}{\n",
    "\\overbrace{\\texttt{\"GDPは557兆円\"}}\n",
    "}\n",
    "\\;\\;\\texttt{)}\n",
    "$$"
   ]
  },
  {
   "cell_type": "code",
   "execution_count": null,
   "id": "4",
   "metadata": {
    "colab": {
     "base_uri": "https://localhost:8080/"
    },
    "executionInfo": {
     "elapsed": 51,
     "status": "ok",
     "timestamp": 1758070141308,
     "user": {
      "displayName": "T Haruyama",
      "userId": "09851044792665346893"
     },
     "user_tz": -540
    },
    "id": "ffe7bed6-5e65-4fe9-b2ec-5b3d6c66b477",
    "outputId": "a763a764-7fe7-4a52-c89b-a786dab117e5"
   },
   "outputs": [],
   "source": [
    "print(\"GDPは557兆円\")"
   ]
  },
  {
   "cell_type": "markdown",
   "id": "5",
   "metadata": {
    "id": "JeVMvKoRCAr4"
   },
   "source": [
    "コード4.2.1"
   ]
  },
  {
   "cell_type": "code",
   "execution_count": null,
   "id": "6",
   "metadata": {
    "colab": {
     "base_uri": "https://localhost:8080/"
    },
    "executionInfo": {
     "elapsed": 57,
     "status": "ok",
     "timestamp": 1758070141367,
     "user": {
      "displayName": "T Haruyama",
      "userId": "09851044792665346893"
     },
     "user_tz": -540
    },
    "id": "q9OwH_DDA8G3",
    "outputId": "74f5e11f-1952-4ae8-f3f4-a8833ffe9266"
   },
   "outputs": [],
   "source": [
    "print(\"GDPは\\n557兆円\")"
   ]
  },
  {
   "cell_type": "markdown",
   "id": "18565e7d-12bd-4d64-8275-dfdb82810d3f",
   "metadata": {},
   "source": [
    "f文字列\n",
    "* 文字列の前にfを書く\n",
    "* 文字列の中で{}を使う\n",
    "* 割り当てた変数の値や計算結果などを表示できる。"
   ]
  },
  {
   "cell_type": "code",
   "execution_count": 11,
   "id": "8",
   "metadata": {
    "colab": {
     "base_uri": "https://localhost:8080/"
    },
    "executionInfo": {
     "elapsed": 35,
     "status": "ok",
     "timestamp": 1758070141368,
     "user": {
      "displayName": "T Haruyama",
      "userId": "09851044792665346893"
     },
     "user_tz": -540
    },
    "id": "2c0c61ca-3fe7-4892-a34b-b3a45363d7db",
    "outputId": "4bb42efd-0834-4162-d3b6-59279d155dbc"
   },
   "outputs": [
    {
     "name": "stdout",
     "output_type": "stream",
     "text": [
      "xの値は0.6666666666666666\n"
     ]
    }
   ],
   "source": [
    "x = 2 /3\n",
    "print(f\"xの値は{x}\")"
   ]
  },
  {
   "cell_type": "code",
   "execution_count": 12,
   "id": "7fb34d79-547a-4748-9b36-13e6be697c7b",
   "metadata": {},
   "outputs": [
    {
     "name": "stdout",
     "output_type": "stream",
     "text": [
      "xの値は0.667\n"
     ]
    }
   ],
   "source": [
    "print(f\"xの値は{x:.3f}\")"
   ]
  },
  {
   "cell_type": "markdown",
   "id": "5dd8e24f-9cca-47fd-baf2-c4f1aef86da9",
   "metadata": {},
   "source": [
    "＜`:.3f`の解釈＞\n",
    "* `:`はこの後に続くコードは表示に関するものだと宣言している。\n",
    "* `.`は小数点表示に関しての設定であることを示している。\n",
    "* `3`は小数点第３位を示している。\n",
    "* `f`は`float`の`f`（省略可）\n",
    "\n",
    "`3f`を`5f`にすると，小数点第５位までの四捨五入となる。試してみよう。"
   ]
  },
  {
   "cell_type": "markdown",
   "id": "9",
   "metadata": {
    "id": "16f69888-1517-4a94-b0cb-8a9c8768660c"
   },
   "source": [
    "### 関数の呼び出しと実行"
   ]
  },
  {
   "cell_type": "markdown",
   "id": "d5a6c823-6a5a-4ec6-bd56-eefe6cbbe924",
   "metadata": {},
   "source": [
    "授業では扱いません。"
   ]
  },
  {
   "cell_type": "markdown",
   "id": "10",
   "metadata": {
    "id": "0ad23539-3146-4ac7-8a97-b1b98c4dab47"
   },
   "source": [
    "### `type()`関数"
   ]
  },
  {
   "cell_type": "markdown",
   "id": "8f1ff391-50b4-4b13-8beb-bba9da34b1be",
   "metadata": {},
   "source": [
    "授業では扱わない。"
   ]
  },
  {
   "cell_type": "markdown",
   "id": "11",
   "metadata": {
    "id": "YPjoK_axDMYK"
   },
   "source": [
    "コード4.2.3"
   ]
  },
  {
   "cell_type": "code",
   "execution_count": null,
   "id": "12",
   "metadata": {
    "colab": {
     "base_uri": "https://localhost:8080/"
    },
    "executionInfo": {
     "elapsed": 28,
     "status": "ok",
     "timestamp": 1758070141369,
     "user": {
      "displayName": "T Haruyama",
      "userId": "09851044792665346893"
     },
     "user_tz": -540
    },
    "id": "afrZO5gjBXXv",
    "outputId": "cbb09c1b-82c5-4992-f2f8-b1e07546ffbc"
   },
   "outputs": [],
   "source": [
    "x = 3.14\n",
    "type(x)"
   ]
  },
  {
   "cell_type": "markdown",
   "id": "13",
   "metadata": {
    "id": "zWwjo0n6TeM4"
   },
   "source": [
    "#### 例4.1"
   ]
  },
  {
   "cell_type": "code",
   "execution_count": null,
   "id": "14",
   "metadata": {
    "colab": {
     "base_uri": "https://localhost:8080/"
    },
    "executionInfo": {
     "elapsed": 16,
     "status": "ok",
     "timestamp": 1758072840248,
     "user": {
      "displayName": "T Haruyama",
      "userId": "09851044792665346893"
     },
     "user_tz": -540
    },
    "id": "V89YaSsVTkEe",
    "outputId": "1346a8ad-156f-4283-fbd3-bb03c0d4c948"
   },
   "outputs": [],
   "source": [
    "type(10)"
   ]
  },
  {
   "cell_type": "code",
   "execution_count": null,
   "id": "aefcc2b1-5208-4835-bbcf-4a6092e30b66",
   "metadata": {},
   "outputs": [],
   "source": [
    "type(0.5)"
   ]
  },
  {
   "cell_type": "code",
   "execution_count": null,
   "id": "16",
   "metadata": {
    "colab": {
     "base_uri": "https://localhost:8080/"
    },
    "executionInfo": {
     "elapsed": 9,
     "status": "ok",
     "timestamp": 1758072840299,
     "user": {
      "displayName": "T Haruyama",
      "userId": "09851044792665346893"
     },
     "user_tz": -540
    },
    "id": "w88PM3ZETn9v",
    "outputId": "5aa37871-b6b7-4457-97ca-ef810d87a1c9"
   },
   "outputs": [],
   "source": [
    "type(\"GDP\")"
   ]
  },
  {
   "cell_type": "code",
   "execution_count": null,
   "id": "17",
   "metadata": {
    "colab": {
     "base_uri": "https://localhost:8080/"
    },
    "executionInfo": {
     "elapsed": 12,
     "status": "ok",
     "timestamp": 1758072850999,
     "user": {
      "displayName": "T Haruyama",
      "userId": "09851044792665346893"
     },
     "user_tz": -540
    },
    "id": "qnigWd2YTqgg",
    "outputId": "5b611689-a3e0-4772-e794-a9b952edee77"
   },
   "outputs": [],
   "source": [
    "type([1,2])"
   ]
  },
  {
   "cell_type": "code",
   "execution_count": null,
   "id": "18",
   "metadata": {
    "colab": {
     "base_uri": "https://localhost:8080/"
    },
    "executionInfo": {
     "elapsed": 12,
     "status": "ok",
     "timestamp": 1758072858440,
     "user": {
      "displayName": "T Haruyama",
      "userId": "09851044792665346893"
     },
     "user_tz": -540
    },
    "id": "xSgphFu5Ts9D",
    "outputId": "8ea61c6f-082a-4dc7-a7c3-d66dab7b48bf"
   },
   "outputs": [],
   "source": [
    "type((1,2))"
   ]
  },
  {
   "cell_type": "code",
   "execution_count": null,
   "id": "19",
   "metadata": {
    "colab": {
     "base_uri": "https://localhost:8080/"
    },
    "executionInfo": {
     "elapsed": 41,
     "status": "ok",
     "timestamp": 1758072871522,
     "user": {
      "displayName": "T Haruyama",
      "userId": "09851044792665346893"
     },
     "user_tz": -540
    },
    "id": "Hey5FFS3Tu58",
    "outputId": "6cc39506-2027-4def-ea7b-c701b4783eb8"
   },
   "outputs": [],
   "source": [
    "type({\"GDP\":592})"
   ]
  },
  {
   "cell_type": "code",
   "execution_count": null,
   "id": "20",
   "metadata": {
    "colab": {
     "base_uri": "https://localhost:8080/"
    },
    "executionInfo": {
     "elapsed": 13,
     "status": "ok",
     "timestamp": 1758072879424,
     "user": {
      "displayName": "T Haruyama",
      "userId": "09851044792665346893"
     },
     "user_tz": -540
    },
    "id": "LBBPK1oATyDZ",
    "outputId": "8aaa04ae-858a-4f1d-8893-d3244c1edf90"
   },
   "outputs": [],
   "source": [
    "type(True)"
   ]
  },
  {
   "cell_type": "markdown",
   "id": "21",
   "metadata": {
    "id": "1d53013e-4b2d-403e-86fe-a287b558d897"
   },
   "source": [
    "### さまざまな関数"
   ]
  },
  {
   "cell_type": "markdown",
   "id": "22",
   "metadata": {
    "id": "FvcX4tNtDTDn"
   },
   "source": [
    "教科書の表4.1には色々な関数を紹介しているが、ここでは次の関数を説明する。"
   ]
  },
  {
   "cell_type": "markdown",
   "id": "a7e37022-f25c-428c-b984-bc0e279c6796",
   "metadata": {},
   "source": [
    "#### `sum()`"
   ]
  },
  {
   "cell_type": "markdown",
   "id": "34b322d7-4bb8-49a3-8995-46bcc75dd1a9",
   "metadata": {},
   "source": [
    "合計を返す関数"
   ]
  },
  {
   "cell_type": "code",
   "execution_count": 114,
   "id": "245fa3ca-ed12-4907-867e-80dc59f3b77b",
   "metadata": {},
   "outputs": [
    {
     "data": {
      "text/plain": [
       "21"
      ]
     },
     "execution_count": 114,
     "metadata": {},
     "output_type": "execute_result"
    }
   ],
   "source": [
    "x = [1, 2, 3, 4, 5, 6]\n",
    "\n",
    "sum(x)"
   ]
  },
  {
   "cell_type": "markdown",
   "id": "127286c3-f1da-4937-a226-3ff221fd0c67",
   "metadata": {},
   "source": [
    "#### `len()`"
   ]
  },
  {
   "cell_type": "markdown",
   "id": "540930b1-d8f8-4122-b9b9-f55befac9257",
   "metadata": {},
   "source": [
    "要素数を返す関数"
   ]
  },
  {
   "cell_type": "code",
   "execution_count": 115,
   "id": "3e91e105-4641-48a6-ba57-e424c01bf3d7",
   "metadata": {},
   "outputs": [
    {
     "data": {
      "text/plain": [
       "6"
      ]
     },
     "execution_count": 115,
     "metadata": {},
     "output_type": "execute_result"
    }
   ],
   "source": [
    "len(x)"
   ]
  },
  {
   "cell_type": "markdown",
   "id": "72966751-93ab-40f5-91ad-ba7f375d4b5b",
   "metadata": {},
   "source": [
    "`x`の平均は次のように計算できる。"
   ]
  },
  {
   "cell_type": "code",
   "execution_count": 116,
   "id": "ba553f60-b513-49bc-b6b1-e65ed6264987",
   "metadata": {},
   "outputs": [
    {
     "data": {
      "text/plain": [
       "3.5"
      ]
     },
     "execution_count": 116,
     "metadata": {},
     "output_type": "execute_result"
    }
   ],
   "source": [
    "sum(x) / len(x)"
   ]
  },
  {
   "cell_type": "markdown",
   "id": "a15d3a78-b38d-4b96-bd0f-329fa7a59b59",
   "metadata": {},
   "source": [
    "#### `abs()`"
   ]
  },
  {
   "cell_type": "markdown",
   "id": "d25e4f31-9469-4e44-8631-4813c0cbeb11",
   "metadata": {},
   "source": [
    "絶対値を返す関数"
   ]
  },
  {
   "cell_type": "code",
   "execution_count": 117,
   "id": "20a49be8-6a8e-47b4-81f9-9398d1bded9f",
   "metadata": {},
   "outputs": [
    {
     "data": {
      "text/plain": [
       "10"
      ]
     },
     "execution_count": 117,
     "metadata": {},
     "output_type": "execute_result"
    }
   ],
   "source": [
    "abs(-10)"
   ]
  },
  {
   "cell_type": "markdown",
   "id": "4ef86290-c28e-4836-939a-05dedf5c0bc1",
   "metadata": {},
   "source": [
    "#### `range()`"
   ]
  },
  {
   "cell_type": "markdown",
   "id": "427b9474-3ef0-4626-8f91-fc0b09a6f29a",
   "metadata": {},
   "source": [
    "等差数列のオブジェクトを用意する関数\n",
    "```\n",
    "range(start,stop,step)\n",
    "```\n",
    "* `start`：最初の整数（デフォルト、引数を与えない場合は`0`）\n",
    "* `stop`：最後の整数の次の値\n",
    "* `step`：隣接する整数の差（公差）（デフォルト、引数を与えない場合は`1`）\n",
    "\n",
    "例えば，0から9までの10の整数を準備するには"
   ]
  },
  {
   "cell_type": "code",
   "execution_count": 118,
   "id": "f87f1123-914b-4e4b-a0e5-6d9e5962da6d",
   "metadata": {},
   "outputs": [
    {
     "data": {
      "text/plain": [
       "range(0, 10)"
      ]
     },
     "execution_count": 118,
     "metadata": {},
     "output_type": "execute_result"
    }
   ],
   "source": [
    "range(10)"
   ]
  },
  {
   "cell_type": "markdown",
   "id": "c7887d6e-4598-4be0-842f-213eb40b840a",
   "metadata": {},
   "source": [
    "↑↑↑　`0`から`10`までの整数が表示されないが，使えるように裏で準備されている。\n",
    "\n",
    "次のコードは`0`から`999,999,999`（10億-1）までの10億個の整数を準備している。"
   ]
  },
  {
   "cell_type": "code",
   "execution_count": 119,
   "id": "1089aa55-a727-42a8-8ba8-ea5b85b2ea1f",
   "metadata": {},
   "outputs": [
    {
     "data": {
      "text/plain": [
       "range(0, 1000000000)"
      ]
     },
     "execution_count": 119,
     "metadata": {},
     "output_type": "execute_result"
    }
   ],
   "source": [
    "range(1_000_000_000)"
   ]
  },
  {
   "cell_type": "markdown",
   "id": "6fe82402-1399-4e15-9f9f-896e34938723",
   "metadata": {},
   "source": [
    "* **遅延評価**：実際に使うときに、`0`、`1`、`2`、`3`、、、と順番に整数の生成が実行されことになる。\n",
    "* `for`ループではよく使う関数となる。"
   ]
  },
  {
   "cell_type": "markdown",
   "id": "9ff1d2a8-6511-4cb3-8e16-71cd9742d576",
   "metadata": {},
   "source": [
    "#### `list()`"
   ]
  },
  {
   "cell_type": "markdown",
   "id": "64804a4d-722c-4760-963d-f8abbe7fa2e1",
   "metadata": {},
   "source": [
    "リストを作成する関数"
   ]
  },
  {
   "cell_type": "code",
   "execution_count": 63,
   "id": "e9d2dcf1-9a5d-4249-8958-4220c567d626",
   "metadata": {},
   "outputs": [
    {
     "data": {
      "text/plain": [
       "[0, 1, 2, 3, 4, 5, 6, 7, 8, 9]"
      ]
     },
     "execution_count": 63,
     "metadata": {},
     "output_type": "execute_result"
    }
   ],
   "source": [
    "z = range(10)\n",
    "\n",
    "list(z)"
   ]
  },
  {
   "cell_type": "markdown",
   "id": "bc6c5246-c659-46ef-be1c-196d39dd809a",
   "metadata": {},
   "source": [
    "`range(10)`で準備された`0`から`9`までの整数を使って，リストを作成している。\n",
    "\n",
    "次のコードをアンコメントして（`# `を削除して）実行すると10億個の整数からなるリストを作成することができる。しかし、終了まで数分掛かるだろう！You are warned!"
   ]
  },
  {
   "cell_type": "code",
   "execution_count": 62,
   "id": "0be00608-4bee-456e-9552-b7263bd484e0",
   "metadata": {},
   "outputs": [],
   "source": [
    "# list( range(1_000_000_000) )"
   ]
  },
  {
   "cell_type": "markdown",
   "id": "9e507826-9d85-4913-a94a-17b85cbf4a99",
   "metadata": {},
   "source": [
    "実行を中止する場合\n",
    "* メニューから「Kernel」→「Interrupt Kernel」\n",
    "* メニューから「カーネル」→「カーネルの中断」"
   ]
  },
  {
   "cell_type": "code",
   "execution_count": null,
   "id": "b5e007c1-525e-4714-b036-c237ffdaf7fe",
   "metadata": {},
   "outputs": [],
   "source": []
  }
 ],
 "metadata": {
  "colab": {
   "provenance": []
  },
  "kernelspec": {
   "display_name": "Python 3 (ipykernel)",
   "language": "python",
   "name": "python3"
  },
  "language_info": {
   "codemirror_mode": {
    "name": "ipython",
    "version": 3
   },
   "file_extension": ".py",
   "mimetype": "text/x-python",
   "name": "python",
   "nbconvert_exporter": "python",
   "pygments_lexer": "ipython3",
   "version": "3.13.7"
  }
 },
 "nbformat": 4,
 "nbformat_minor": 5
}
