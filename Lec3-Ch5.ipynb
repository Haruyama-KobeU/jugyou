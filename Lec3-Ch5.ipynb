{
 "cells": [
  {
   "cell_type": "markdown",
   "id": "0",
   "metadata": {
    "id": "358dccea-d274-470e-bd17-c0891de183e2"
   },
   "source": [
    "# 第5章：オブジェクトと属性"
   ]
  },
  {
   "cell_type": "markdown",
   "id": "1",
   "metadata": {
    "id": "c7b45768-a5fd-4270-875c-365aa54a0d1c"
   },
   "source": [
    "## オブジェクト"
   ]
  },
  {
   "cell_type": "markdown",
   "id": "2",
   "metadata": {
    "id": "053d96e2-c8ab-4d8e-9f07-fcdcad2b7b42"
   },
   "source": [
    "### オブジェクトとは"
   ]
  },
  {
   "cell_type": "markdown",
   "id": "d596106e-c06f-4992-9e00-9a26e9d1ae34",
   "metadata": {},
   "source": [
    "例：自転車、冷蔵庫"
   ]
  },
  {
   "cell_type": "markdown",
   "id": "9aa63992-ea52-424d-b2c5-3f777ef9cf9f",
   "metadata": {},
   "source": [
    "* データ属性\n",
    "    * $3.14$の場合，$3.14$という値や浮動小数点型という情報\n",
    "* メソッドと呼ばれる関数属性\n",
    "    * $3.14$の場合，加算，除算のように$3.14$に働きかける関数\n",
    "    \n",
    "授業では：\n",
    "* データ属性 → 属性\n",
    "* 関数属性 → メソッド"
   ]
  },
  {
   "cell_type": "markdown",
   "id": "3",
   "metadata": {
    "id": "d247f865-0374-4ebe-ac21-85540eec9c76"
   },
   "source": [
    "### 属性とメソッドの調べ方"
   ]
  },
  {
   "cell_type": "markdown",
   "id": "4",
   "metadata": {
    "id": "MeaQPI1hEdca"
   },
   "source": [
    "コード5.1.1"
   ]
  },
  {
   "cell_type": "code",
   "execution_count": 2,
   "id": "5",
   "metadata": {
    "colab": {
     "base_uri": "https://localhost:8080/"
    },
    "executionInfo": {
     "elapsed": 9,
     "status": "ok",
     "timestamp": 1758070169239,
     "user": {
      "displayName": "T Haruyama",
      "userId": "09851044792665346893"
     },
     "user_tz": -540
    },
    "id": "23a26e32-1f6e-4051-923f-55fcba3c9fb0",
    "outputId": "1f4e55ac-ea6f-40b4-c357-2f1d08698171"
   },
   "outputs": [
    {
     "data": {
      "text/plain": [
       "['__abs__',\n",
       " '__add__',\n",
       " '__bool__',\n",
       " '__ceil__',\n",
       " '__class__',\n",
       " '__delattr__',\n",
       " '__dir__',\n",
       " '__divmod__',\n",
       " '__doc__',\n",
       " '__eq__',\n",
       " '__float__',\n",
       " '__floor__',\n",
       " '__floordiv__',\n",
       " '__format__',\n",
       " '__ge__',\n",
       " '__getattribute__',\n",
       " '__getformat__',\n",
       " '__getnewargs__',\n",
       " '__getstate__',\n",
       " '__gt__',\n",
       " '__hash__',\n",
       " '__init__',\n",
       " '__init_subclass__',\n",
       " '__int__',\n",
       " '__le__',\n",
       " '__lt__',\n",
       " '__mod__',\n",
       " '__mul__',\n",
       " '__ne__',\n",
       " '__neg__',\n",
       " '__new__',\n",
       " '__pos__',\n",
       " '__pow__',\n",
       " '__radd__',\n",
       " '__rdivmod__',\n",
       " '__reduce__',\n",
       " '__reduce_ex__',\n",
       " '__repr__',\n",
       " '__rfloordiv__',\n",
       " '__rmod__',\n",
       " '__rmul__',\n",
       " '__round__',\n",
       " '__rpow__',\n",
       " '__rsub__',\n",
       " '__rtruediv__',\n",
       " '__setattr__',\n",
       " '__sizeof__',\n",
       " '__str__',\n",
       " '__sub__',\n",
       " '__subclasshook__',\n",
       " '__truediv__',\n",
       " '__trunc__',\n",
       " 'as_integer_ratio',\n",
       " 'conjugate',\n",
       " 'fromhex',\n",
       " 'hex',\n",
       " 'imag',\n",
       " 'is_integer',\n",
       " 'real']"
      ]
     },
     "execution_count": 2,
     "metadata": {},
     "output_type": "execute_result"
    }
   ],
   "source": [
    "x = 3.14\n",
    "dir(x)"
   ]
  },
  {
   "cell_type": "markdown",
   "id": "6",
   "metadata": {
    "id": "EWx-EFchEgRw"
   },
   "source": [
    "コード5.1.2"
   ]
  },
  {
   "cell_type": "code",
   "execution_count": 3,
   "id": "7",
   "metadata": {
    "colab": {
     "base_uri": "https://localhost:8080/"
    },
    "executionInfo": {
     "elapsed": 6,
     "status": "ok",
     "timestamp": 1758070169244,
     "user": {
      "displayName": "T Haruyama",
      "userId": "09851044792665346893"
     },
     "user_tz": -540
    },
    "id": "J0kX_4wMObAw",
    "outputId": "3d9065c1-80f5-451e-97bc-72060f957ad3"
   },
   "outputs": [
    {
     "data": {
      "text/plain": [
       "float"
      ]
     },
     "execution_count": 3,
     "metadata": {},
     "output_type": "execute_result"
    }
   ],
   "source": [
    "type(x)"
   ]
  },
  {
   "cell_type": "markdown",
   "id": "10",
   "metadata": {
    "id": "4742970b-9290-4698-9a5e-3545075b60e7"
   },
   "source": [
    "## メソッド"
   ]
  },
  {
   "cell_type": "markdown",
   "id": "11",
   "metadata": {
    "id": "0c32296a-71d0-4515-9812-4f0bae12e102"
   },
   "source": [
    "### リスト"
   ]
  },
  {
   "cell_type": "markdown",
   "id": "e22fe5ed-fd87-4533-8253-d3a66d044562",
   "metadata": {},
   "source": [
    "コード5.2.1"
   ]
  },
  {
   "cell_type": "code",
   "execution_count": 4,
   "id": "70a8dba7-0aba-4648-89e8-7b1de8d225d7",
   "metadata": {},
   "outputs": [],
   "source": [
    "# CELL PROVIDED\n",
    "\n",
    "lst = [2.1, 5, 5]"
   ]
  },
  {
   "cell_type": "code",
   "execution_count": 5,
   "id": "5f49613e-eac0-4ae5-9d94-70c593f760ed",
   "metadata": {},
   "outputs": [],
   "source": [
    "lst.append(3)"
   ]
  },
  {
   "cell_type": "markdown",
   "id": "18",
   "metadata": {
    "id": "oOR4pKXfEtSy"
   },
   "source": [
    "表5.1"
   ]
  },
  {
   "cell_type": "code",
   "execution_count": 6,
   "id": "21",
   "metadata": {
    "colab": {
     "base_uri": "https://localhost:8080/"
    },
    "executionInfo": {
     "elapsed": 18,
     "status": "ok",
     "timestamp": 1758070169449,
     "user": {
      "displayName": "T Haruyama",
      "userId": "09851044792665346893"
     },
     "user_tz": -540
    },
    "id": "MDKCza1ekoff",
    "outputId": "7beb41ae-7a7c-4ba3-dfa5-6eb7a8b24fa3"
   },
   "outputs": [
    {
     "data": {
      "text/plain": [
       "2"
      ]
     },
     "execution_count": 6,
     "metadata": {},
     "output_type": "execute_result"
    }
   ],
   "source": [
    "# CELL PROVIDED\n",
    "\n",
    "lst = [2.1, 5, 5]\n",
    "lst.append(3)\n",
    "lst.count(5)"
   ]
  },
  {
   "cell_type": "markdown",
   "id": "34",
   "metadata": {
    "id": "IrzxsRuzEz8v"
   },
   "source": [
    "表5.1"
   ]
  },
  {
   "cell_type": "code",
   "execution_count": 7,
   "id": "35",
   "metadata": {
    "colab": {
     "base_uri": "https://localhost:8080/"
    },
    "executionInfo": {
     "elapsed": 4,
     "status": "ok",
     "timestamp": 1758070169469,
     "user": {
      "displayName": "T Haruyama",
      "userId": "09851044792665346893"
     },
     "user_tz": -540
    },
    "id": "0Wf0o7GYnWhD",
    "outputId": "b88e1ae8-fe03-4326-9bf7-56d9f3dfb766"
   },
   "outputs": [
    {
     "data": {
      "text/plain": [
       "[2.1, 3, 5, 5]"
      ]
     },
     "execution_count": 7,
     "metadata": {},
     "output_type": "execute_result"
    }
   ],
   "source": [
    "lst = [2.1, 5, 5]\n",
    "lst.append(3)\n",
    "lst.sort()\n",
    "lst"
   ]
  },
  {
   "cell_type": "markdown",
   "id": "38",
   "metadata": {
    "id": "18679084-5188-4e2f-b3fb-915d51b2d62e"
   },
   "source": [
    "### 辞書"
   ]
  },
  {
   "cell_type": "markdown",
   "id": "39",
   "metadata": {
    "id": "a3yxqZd8FKgW"
   },
   "source": [
    "後の授業で説明"
   ]
  },
  {
   "cell_type": "markdown",
   "id": "60",
   "metadata": {
    "id": "d7e9c758-633b-4483-8f87-e484cd6f6340"
   },
   "source": [
    "### 文字列"
   ]
  },
  {
   "cell_type": "markdown",
   "id": "61",
   "metadata": {
    "id": "3hjftdLGFxeP"
   },
   "source": [
    "授業では扱わない"
   ]
  }
 ],
 "metadata": {
  "colab": {
   "provenance": []
  },
  "kernelspec": {
   "display_name": "Python 3 (ipykernel)",
   "language": "python",
   "name": "python3"
  },
  "language_info": {
   "codemirror_mode": {
    "name": "ipython",
    "version": 3
   },
   "file_extension": ".py",
   "mimetype": "text/x-python",
   "name": "python",
   "nbconvert_exporter": "python",
   "pygments_lexer": "ipython3",
   "version": "3.13.7"
  }
 },
 "nbformat": 4,
 "nbformat_minor": 5
}
