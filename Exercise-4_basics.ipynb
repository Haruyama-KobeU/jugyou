{
 "cells": [
  {
   "cell_type": "markdown",
   "metadata": {},
   "source": [
    "# 練習問題４\n",
    "* 必要であればコードセルを追加してください。\n",
    "* **提出する必要はありません。**\n",
    "* 復習に役立ててくださ。"
   ]
  },
  {
   "cell_type": "markdown",
   "metadata": {
    "heading_collapsed": true,
    "jp-MarkdownHeadingCollapsed": true
   },
   "source": [
    "## Q1： `for`ループ"
   ]
  },
  {
   "cell_type": "markdown",
   "metadata": {
    "heading_collapsed": true,
    "hidden": true,
    "jp-MarkdownHeadingCollapsed": true
   },
   "source": [
    "### 問(i)"
   ]
  },
  {
   "cell_type": "markdown",
   "metadata": {
    "hidden": true
   },
   "source": [
    "次のコードを実行して結果を確認しなさい。"
   ]
  },
  {
   "cell_type": "code",
   "execution_count": 1,
   "metadata": {
    "hidden": true
   },
   "outputs": [
    {
     "name": "stdout",
     "output_type": "stream",
     "text": [
      "2 x 3 = 6\n"
     ]
    }
   ],
   "source": [
    "# CELL PROVIDED\n",
    "\n",
    "print(2, 'x', 3, '=', 2*3)"
   ]
  },
  {
   "cell_type": "markdown",
   "metadata": {
    "hidden": true
   },
   "source": [
    "上のコードを利用して，`for`ループを使って九九の2の段を表示しなさい。"
   ]
  },
  {
   "cell_type": "code",
   "execution_count": 2,
   "metadata": {
    "hidden": true
   },
   "outputs": [
    {
     "name": "stdout",
     "output_type": "stream",
     "text": [
      "2 x 1 = 2\n",
      "2 x 2 = 4\n",
      "2 x 3 = 6\n",
      "2 x 4 = 8\n",
      "2 x 5 = 10\n",
      "2 x 6 = 12\n",
      "2 x 7 = 14\n",
      "2 x 8 = 16\n",
      "2 x 9 = 18\n"
     ]
    }
   ],
   "source": [
    "for i in range(1, 10):\n",
    "    \n",
    "    print(2, 'x', i, '=', 2*i)"
   ]
  },
  {
   "cell_type": "markdown",
   "metadata": {
    "heading_collapsed": true,
    "hidden": true,
    "jp-MarkdownHeadingCollapsed": true
   },
   "source": [
    "### 問(ii)"
   ]
  },
  {
   "cell_type": "markdown",
   "metadata": {
    "hidden": true
   },
   "source": [
    "次の変数を考えよう。\n",
    "* `y0`：元金\n",
    "* `t`：投資期間（年）\n",
    "* `r`：実質利子率（年率）\n",
    "* `yt`：`t`年後の元利合計\n",
    "\n",
    "この場合の`t`年後の元利合計は次の式で与えられる。\n",
    "\n",
    "$$\n",
    "yt=y0\\left( 1+r  \\right)^{t}\n",
    "$$\n",
    "\n",
    "次の条件を満たす関数を作成しなさい。\n",
    "* 関数名：`calculate_futre_value`\n",
    "* 引数\n",
    "    * `y0`：整数型もしくは浮動小数点型（デフォルトなし）\n",
    "    * `r`：浮動小数点型（デフォルトなし）\n",
    "    * `t`：整数型（デフォルトなし）\n",
    "* 戻り値\n",
    "    * `y0`, `y1`, `y2`, ...., `yt`から構成されるリスト"
   ]
  },
  {
   "cell_type": "code",
   "execution_count": 3,
   "metadata": {
    "hidden": true
   },
   "outputs": [],
   "source": [
    "def calculate_futre_value(y0, r, t):\n",
    "    \n",
    "    y = y0\n",
    "    \n",
    "    value_list = [y]\n",
    "    \n",
    "    for _ in range(t):\n",
    "        \n",
    "        y = y*(1+r)\n",
    "        \n",
    "        value_list.append(y)\n",
    "    \n",
    "    return value_list"
   ]
  },
  {
   "cell_type": "code",
   "execution_count": 4,
   "metadata": {},
   "outputs": [],
   "source": [
    "# 次のコードでも同じ結果が返される。\n",
    "\n",
    "# def calculate_futre_value(y0, r, t):\n",
    "    \n",
    "#     value_list = []\n",
    "    \n",
    "#     for t in range(t+1):\n",
    "        \n",
    "#         y = y0*(1+r)**t\n",
    "        \n",
    "#         value_list.append(y)\n",
    "    \n",
    "#     return value_list"
   ]
  },
  {
   "cell_type": "markdown",
   "metadata": {
    "hidden": true
   },
   "source": [
    "次の値を使い関数を評価しなさい。\n",
    "* `y0=100`\n",
    "* `r=0.02`\n",
    "* `t=5`"
   ]
  },
  {
   "cell_type": "code",
   "execution_count": 5,
   "metadata": {
    "hidden": true
   },
   "outputs": [
    {
     "data": {
      "text/plain": [
       "[100, 102.0, 104.04, 106.1208, 108.243216, 110.40808032000001]"
      ]
     },
     "execution_count": 5,
     "metadata": {},
     "output_type": "execute_result"
    }
   ],
   "source": [
    "calculate_futre_value(100, r=0.02, t=5)"
   ]
  },
  {
   "cell_type": "markdown",
   "metadata": {
    "heading_collapsed": true,
    "hidden": true
   },
   "source": [
    "### 問(iii)"
   ]
  },
  {
   "cell_type": "markdown",
   "metadata": {
    "hidden": true
   },
   "source": [
    "問(ii)の`calculate_futre_value()`関数を実行すると，次の表示が追加されるように修正しなさい。\n",
    "```\n",
    "    0年後：100.0万円\n",
    "    1年後：102.0万円\n",
    "    2年後：104.0万円\n",
    "    3年後：106.1万円\n",
    "    4年後：108.2万円\n",
    "    ......\n",
    "    ......\n",
    "```\n",
    "ヒント：`f-string`を使おう。"
   ]
  },
  {
   "cell_type": "code",
   "execution_count": 8,
   "metadata": {
    "hidden": true
   },
   "outputs": [],
   "source": [
    "def calculate_futre_value_v2(y0, r, t):\n",
    "    \n",
    "    y = y0\n",
    "    \n",
    "    value_list = [y]\n",
    "    \n",
    "    for yr in range(t):\n",
    "        \n",
    "        print(f'{yr}年後：{y:.1f}万円')  # この行を追加\n",
    "        \n",
    "        y = y * (1 + r)\n",
    "        \n",
    "        value_list.append(y)\n",
    "    \n",
    "    print(f'{t}年後：{y:.1f}万円')  # この行を追加\n",
    "    \n",
    "    return value_list"
   ]
  },
  {
   "cell_type": "markdown",
   "metadata": {
    "hidden": true
   },
   "source": [
    "`calculate_futre_value_v2()`関数を実行し`x2`に割り当てなさい。"
   ]
  },
  {
   "cell_type": "code",
   "execution_count": 9,
   "metadata": {
    "hidden": true
   },
   "outputs": [
    {
     "name": "stdout",
     "output_type": "stream",
     "text": [
      "0年後：100.0万円\n",
      "1年後：102.0万円\n",
      "2年後：104.0万円\n",
      "3年後：106.1万円\n",
      "4年後：108.2万円\n",
      "5年後：110.4万円\n"
     ]
    }
   ],
   "source": [
    "x2 = calculate_futre_value_v2(100, r=0.02, t=5)"
   ]
  },
  {
   "cell_type": "markdown",
   "metadata": {
    "jp-MarkdownHeadingCollapsed": true
   },
   "source": [
    "### 問(iv)"
   ]
  },
  {
   "cell_type": "markdown",
   "metadata": {},
   "source": [
    "次のコードを実行しなさい。"
   ]
  },
  {
   "cell_type": "code",
   "execution_count": 126,
   "metadata": {},
   "outputs": [
    {
     "data": {
      "text/plain": [
       "[1, 2, 3, 4, 5, 6, 7, 8, 9, 10]"
      ]
     },
     "execution_count": 126,
     "metadata": {},
     "output_type": "execute_result"
    }
   ],
   "source": [
    "# CELL PROVIDED\n",
    "\n",
    "lst = list( range(1,11) )\n",
    "lst"
   ]
  },
  {
   "cell_type": "markdown",
   "metadata": {},
   "source": [
    "`for`ループを使い、全ての要素の合計を計算しなさい。"
   ]
  },
  {
   "cell_type": "code",
   "execution_count": 127,
   "metadata": {},
   "outputs": [
    {
     "data": {
      "text/plain": [
       "55"
      ]
     },
     "execution_count": 127,
     "metadata": {},
     "output_type": "execute_result"
    }
   ],
   "source": [
    "result = 0\n",
    "\n",
    "for v in lst1:\n",
    "\n",
    "    result = result + v\n",
    "\n",
    "result"
   ]
  },
  {
   "cell_type": "markdown",
   "metadata": {
    "heading_collapsed": true,
    "jp-MarkdownHeadingCollapsed": true
   },
   "source": [
    "## Q3：内包表記"
   ]
  },
  {
   "cell_type": "markdown",
   "metadata": {
    "heading_collapsed": true,
    "hidden": true,
    "jp-MarkdownHeadingCollapsed": true
   },
   "source": [
    "### 問(i)"
   ]
  },
  {
   "cell_type": "markdown",
   "metadata": {
    "hidden": true
   },
   "source": [
    "次のコードを実行しなさい。"
   ]
  },
  {
   "cell_type": "code",
   "execution_count": 12,
   "metadata": {
    "hidden": true
   },
   "outputs": [
    {
     "data": {
      "text/plain": [
       "[0, 1, 2, 3, 4, 5, 6, 7, 8, 9]"
      ]
     },
     "execution_count": 12,
     "metadata": {},
     "output_type": "execute_result"
    }
   ],
   "source": [
    "# CELL PROVIDED\n",
    "\n",
    "lst0 = list( range(10) )\n",
    "lst0"
   ]
  },
  {
   "cell_type": "markdown",
   "metadata": {
    "hidden": true
   },
   "source": [
    "`lst0`の全ての要素を`3`乗し，新たなリストを作成し、変数`lst1`に割り当てなさい。"
   ]
  },
  {
   "cell_type": "code",
   "execution_count": 15,
   "metadata": {
    "hidden": true
   },
   "outputs": [
    {
     "data": {
      "text/plain": [
       "[0, 1, 8, 27, 64, 125, 216, 343, 512, 729]"
      ]
     },
     "execution_count": 15,
     "metadata": {},
     "output_type": "execute_result"
    }
   ],
   "source": [
    "lst1 = [x**3 for x in lst0]\n",
    "lst1"
   ]
  },
  {
   "cell_type": "markdown",
   "metadata": {
    "heading_collapsed": true,
    "hidden": true,
    "jp-MarkdownHeadingCollapsed": true
   },
   "source": [
    "### 問(ii)"
   ]
  },
  {
   "cell_type": "markdown",
   "metadata": {},
   "source": [
    "問(i)の`lst1`の全ての要素を`1/3`乗し、結果を`lst0`と比較してどう異なるか確認しなさい。"
   ]
  },
  {
   "cell_type": "code",
   "execution_count": 16,
   "metadata": {},
   "outputs": [
    {
     "data": {
      "text/plain": [
       "[0.0,\n",
       " 1.0,\n",
       " 2.0,\n",
       " 3.0,\n",
       " 3.9999999999999996,\n",
       " 4.999999999999999,\n",
       " 5.999999999999999,\n",
       " 6.999999999999999,\n",
       " 7.999999999999999,\n",
       " 8.999999999999998]"
      ]
     },
     "execution_count": 16,
     "metadata": {},
     "output_type": "execute_result"
    }
   ],
   "source": [
    "[x**(1/3) for x in lst1]"
   ]
  },
  {
   "cell_type": "code",
   "execution_count": 28,
   "metadata": {},
   "outputs": [],
   "source": [
    "# 誤差が発生しているが、無視できる程非常に小さい。"
   ]
  },
  {
   "cell_type": "markdown",
   "metadata": {
    "heading_collapsed": true,
    "hidden": true,
    "jp-MarkdownHeadingCollapsed": true
   },
   "source": [
    "### 問(iii)"
   ]
  },
  {
   "cell_type": "markdown",
   "metadata": {},
   "source": [
    "`str()`関数は整数型や浮動小数点型を文字列型に変換する。次のコードを考えよう。\n",
    "```\n",
    "x = 10\n",
    "str(x)\n",
    "```\n",
    "ここで`str(x)`は文字列型である`'10'`を返す。\n",
    "\n",
    "`lst0`を二乗し、文字列に変換した結果から構成されるリストを作成し、`lst2`に割り当てなさい。"
   ]
  },
  {
   "cell_type": "code",
   "execution_count": 32,
   "metadata": {},
   "outputs": [
    {
     "data": {
      "text/plain": [
       "['0', '2', '4', '6', '8', '10', '12', '14', '16', '18']"
      ]
     },
     "execution_count": 32,
     "metadata": {},
     "output_type": "execute_result"
    }
   ],
   "source": [
    "lst2 = [str(2*x) for x in lst0]\n",
    "lst2"
   ]
  },
  {
   "cell_type": "markdown",
   "metadata": {
    "jp-MarkdownHeadingCollapsed": true
   },
   "source": [
    "### 問(vi)"
   ]
  },
  {
   "cell_type": "markdown",
   "metadata": {},
   "source": [
    "`lst2`の`0`番目の要素を変数`v0`に割り当てなさい。"
   ]
  },
  {
   "cell_type": "code",
   "execution_count": 34,
   "metadata": {},
   "outputs": [
    {
     "data": {
      "text/plain": [
       "'0'"
      ]
     },
     "execution_count": 34,
     "metadata": {},
     "output_type": "execute_result"
    }
   ],
   "source": [
    "v0 = lst2[0]\n",
    "v0"
   ]
  },
  {
   "cell_type": "markdown",
   "metadata": {},
   "source": [
    "`lst2`の最後の要素を変数`v1`に割り当てなさい。"
   ]
  },
  {
   "cell_type": "code",
   "execution_count": 35,
   "metadata": {},
   "outputs": [
    {
     "data": {
      "text/plain": [
       "'18'"
      ]
     },
     "execution_count": 35,
     "metadata": {},
     "output_type": "execute_result"
    }
   ],
   "source": [
    "v1 = lst2[-1]\n",
    "v1"
   ]
  },
  {
   "cell_type": "markdown",
   "metadata": {},
   "source": [
    "`v0 + v1`を`print()`関数を使い表示しなさい。"
   ]
  },
  {
   "cell_type": "code",
   "execution_count": 38,
   "metadata": {},
   "outputs": [
    {
     "name": "stdout",
     "output_type": "stream",
     "text": [
      "018\n"
     ]
    }
   ],
   "source": [
    "print(v0 + v1)"
   ]
  },
  {
   "cell_type": "markdown",
   "metadata": {
    "heading_collapsed": true,
    "jp-MarkdownHeadingCollapsed": true
   },
   "source": [
    "## Q4：`numpy`ライブラリーと`random`モジュール"
   ]
  },
  {
   "cell_type": "markdown",
   "metadata": {
    "heading_collapsed": true,
    "hidden": true,
    "jp-MarkdownHeadingCollapsed": true
   },
   "source": [
    "### 問(i)"
   ]
  },
  {
   "cell_type": "markdown",
   "metadata": {},
   "source": [
    "`numpy`は、実行の高速化や数学や統計学の関数が含まれ、データ分析には非常に便利なライブラリーである。`numpy`をインポートしなさい。"
   ]
  },
  {
   "cell_type": "code",
   "execution_count": 42,
   "metadata": {},
   "outputs": [],
   "source": [
    "import numpy"
   ]
  },
  {
   "cell_type": "markdown",
   "metadata": {
    "hidden": true
   },
   "source": [
    "`100`を変数`x`に割り当てなさい。"
   ]
  },
  {
   "cell_type": "code",
   "execution_count": 43,
   "metadata": {
    "hidden": true
   },
   "outputs": [],
   "source": [
    "x = 100"
   ]
  },
  {
   "cell_type": "markdown",
   "metadata": {},
   "source": [
    "`numpy`の対数関数（自然対数）`.log()`を使い`100`の対数を計算しなさい。"
   ]
  },
  {
   "cell_type": "code",
   "execution_count": 48,
   "metadata": {},
   "outputs": [
    {
     "data": {
      "text/plain": [
       "4.605170185988092"
      ]
     },
     "execution_count": 48,
     "metadata": {},
     "output_type": "execute_result"
    }
   ],
   "source": [
    "numpy.log(x)"
   ]
  },
  {
   "cell_type": "markdown",
   "metadata": {},
   "source": [
    "次に`numpy`を`np`としてインポートしなさい。"
   ]
  },
  {
   "cell_type": "code",
   "execution_count": 49,
   "metadata": {},
   "outputs": [],
   "source": [
    "import numpy as np"
   ]
  },
  {
   "cell_type": "markdown",
   "metadata": {},
   "source": [
    "`x`の対数を計算しなさい。"
   ]
  },
  {
   "cell_type": "code",
   "execution_count": 50,
   "metadata": {
    "hidden": true
   },
   "outputs": [
    {
     "data": {
      "text/plain": [
       "4.605170185988092"
      ]
     },
     "execution_count": 50,
     "metadata": {},
     "output_type": "execute_result"
    }
   ],
   "source": [
    "np.log(x)"
   ]
  },
  {
   "cell_type": "markdown",
   "metadata": {},
   "source": [
    "`numpy`の`sqrt()`関数は値のルートを計算する。`100`のルートを計算しなさい。"
   ]
  },
  {
   "cell_type": "code",
   "execution_count": 51,
   "metadata": {
    "hidden": true
   },
   "outputs": [
    {
     "data": {
      "text/plain": [
       "10.0"
      ]
     },
     "execution_count": 51,
     "metadata": {},
     "output_type": "execute_result"
    }
   ],
   "source": [
    "np.sqrt(x)"
   ]
  },
  {
   "cell_type": "markdown",
   "metadata": {
    "heading_collapsed": true,
    "hidden": true,
    "jp-MarkdownHeadingCollapsed": true
   },
   "source": [
    "### 問(ii)"
   ]
  },
  {
   "cell_type": "markdown",
   "metadata": {
    "hidden": true
   },
   "source": [
    "`random`モジュールをインポートしなさい。"
   ]
  },
  {
   "cell_type": "code",
   "execution_count": 52,
   "metadata": {
    "hidden": true
   },
   "outputs": [],
   "source": [
    "import random"
   ]
  },
  {
   "cell_type": "markdown",
   "metadata": {
    "hidden": true
   },
   "source": [
    "`for`ループと`randint()`関数を使い、サイコロを`10`回投げた結果をリストとして表示しなさい。"
   ]
  },
  {
   "cell_type": "code",
   "execution_count": 96,
   "metadata": {
    "hidden": true
   },
   "outputs": [
    {
     "data": {
      "text/plain": [
       "[5, 6, 6, 4, 2, 5, 4, 5, 2, 5]"
      ]
     },
     "execution_count": 96,
     "metadata": {},
     "output_type": "execute_result"
    }
   ],
   "source": [
    "dice_list = []\n",
    "\n",
    "for _ in range(10):\n",
    "\n",
    "    result = random.randint(1,6)\n",
    "    dice_list.append( result )\n",
    "\n",
    "dice_list"
   ]
  },
  {
   "cell_type": "markdown",
   "metadata": {
    "hidden": true
   },
   "source": [
    "上の`for`ループのコードを内包表記を使って書きなさい。"
   ]
  },
  {
   "cell_type": "code",
   "execution_count": 97,
   "metadata": {
    "hidden": true
   },
   "outputs": [
    {
     "data": {
      "text/plain": [
       "[5, 5, 2, 3, 5, 4, 2, 2, 4, 6]"
      ]
     },
     "execution_count": 97,
     "metadata": {},
     "output_type": "execute_result"
    }
   ],
   "source": [
    "[random.randint(1,6) for _ in range(10)]"
   ]
  },
  {
   "cell_type": "markdown",
   "metadata": {
    "jp-MarkdownHeadingCollapsed": true
   },
   "source": [
    "### 問(iii)"
   ]
  },
  {
   "cell_type": "markdown",
   "metadata": {},
   "source": [
    "`randint()`関数を使い、サイコロを一回投げて出た数字を`x`に割り当てなさい。"
   ]
  },
  {
   "cell_type": "code",
   "execution_count": 89,
   "metadata": {},
   "outputs": [],
   "source": [
    "x = random.randint(1,6)"
   ]
  },
  {
   "cell_type": "markdown",
   "metadata": {
    "hidden": true
   },
   "source": [
    "`x`の値が偶数の場合は`偶数`と表示され，奇数の場合は`奇数`と表示される`if`文を書きなさい。\n",
    "（ヒント）剰余演算を使いなさい。"
   ]
  },
  {
   "cell_type": "code",
   "execution_count": 90,
   "metadata": {
    "hidden": true
   },
   "outputs": [
    {
     "name": "stdout",
     "output_type": "stream",
     "text": [
      "偶数\n"
     ]
    }
   ],
   "source": [
    "if x % 2 == 0:\n",
    "    print('偶数')\n",
    "    \n",
    "else:\n",
    "    print('奇数')"
   ]
  },
  {
   "cell_type": "markdown",
   "metadata": {},
   "source": [
    "上のコードを利用して次の関数を作成しなさい。\n",
    "* 関数名：odd_or_even\n",
    "* 引数：なし\n",
    "* 戻り値：\n",
    "    * 文字列`偶数`もしくは文字列`奇数`\n",
    "    * （注意）`print()`関数は使わない。"
   ]
  },
  {
   "cell_type": "code",
   "execution_count": 91,
   "metadata": {},
   "outputs": [],
   "source": [
    "def odd_or_even():\n",
    "\n",
    "    x = random.randint(1,6)\n",
    "\n",
    "    if x % 2 == 0:\n",
    "        return '偶数'\n",
    "        \n",
    "    else:\n",
    "        return '奇数'"
   ]
  },
  {
   "cell_type": "markdown",
   "metadata": {},
   "source": [
    "`odd_or_even()`関数を実行しなさい。"
   ]
  },
  {
   "cell_type": "code",
   "execution_count": 92,
   "metadata": {},
   "outputs": [
    {
     "data": {
      "text/plain": [
       "'偶数'"
      ]
     },
     "execution_count": 92,
     "metadata": {},
     "output_type": "execute_result"
    }
   ],
   "source": [
    "odd_or_even()"
   ]
  },
  {
   "cell_type": "markdown",
   "metadata": {},
   "source": [
    "内包表記を使い、`odd_or_even()`関数を`10`回実行し、その結果から構成されるリストを作成しなさい。"
   ]
  },
  {
   "cell_type": "code",
   "execution_count": 93,
   "metadata": {},
   "outputs": [
    {
     "data": {
      "text/plain": [
       "['偶数', '奇数', '偶数', '奇数', '奇数', '奇数', '偶数', '偶数', '偶数', '奇数']"
      ]
     },
     "execution_count": 93,
     "metadata": {},
     "output_type": "execute_result"
    }
   ],
   "source": [
    "[odd_or_even() for _ in range(10)]"
   ]
  },
  {
   "cell_type": "markdown",
   "metadata": {
    "heading_collapsed": true,
    "hidden": true,
    "jp-MarkdownHeadingCollapsed": true
   },
   "source": [
    "### 問(iv)"
   ]
  },
  {
   "cell_type": "markdown",
   "metadata": {},
   "source": [
    "`random`モジュールには正規分布からランダム変数を１つ返す`.gausee()`関数がある。次のように使う。\n",
    "```\n",
    "random.gauss(mu, sigma)\n",
    "```\n",
    "引数：\n",
    "* `mu`：平均（デフォルトは`0`）\n",
    "* `sigma`：標準偏差（デフォルトは`1`）\n",
    "\n",
    "標準正規分布（平均は`0`、標準偏差は`1`）からランダム変数を１つ生成しなさい。"
   ]
  },
  {
   "cell_type": "code",
   "execution_count": 106,
   "metadata": {},
   "outputs": [
    {
     "data": {
      "text/plain": [
       "-0.7837893886760409"
      ]
     },
     "execution_count": 106,
     "metadata": {},
     "output_type": "execute_result"
    }
   ],
   "source": [
    "random.gauss()"
   ]
  },
  {
   "cell_type": "markdown",
   "metadata": {},
   "source": [
    "平均は`10`、標準偏差は`2`のランダム変数を１つ生成しなさい。"
   ]
  },
  {
   "cell_type": "code",
   "execution_count": 107,
   "metadata": {},
   "outputs": [
    {
     "data": {
      "text/plain": [
       "9.078633137874153"
      ]
     },
     "execution_count": 107,
     "metadata": {},
     "output_type": "execute_result"
    }
   ],
   "source": [
    "random.gauss(10, 2)"
   ]
  },
  {
   "cell_type": "markdown",
   "metadata": {},
   "source": [
    "平均は`100`、標準偏差は`10`のランダム変数`10`個から構成されるリストを作成しなさい。"
   ]
  },
  {
   "cell_type": "code",
   "execution_count": 110,
   "metadata": {},
   "outputs": [
    {
     "data": {
      "text/plain": [
       "[102.95140681303747,\n",
       " 93.7445019264233,\n",
       " 90.7012604111694,\n",
       " 94.78336505187112,\n",
       " 117.47020358482762,\n",
       " 88.08867822944107,\n",
       " 103.86999847778499,\n",
       " 110.8571669647578,\n",
       " 103.60927419750492,\n",
       " 98.32426369784959]"
      ]
     },
     "execution_count": 110,
     "metadata": {},
     "output_type": "execute_result"
    }
   ],
   "source": [
    "[random.gauss(100, 10) for _ in range(10)]"
   ]
  },
  {
   "cell_type": "markdown",
   "metadata": {
    "jp-MarkdownHeadingCollapsed": true
   },
   "source": [
    "### 問(v)"
   ]
  },
  {
   "cell_type": "markdown",
   "metadata": {},
   "source": [
    "問(iv)のコードを参考に、正規分布からランダム変数を抽出し、リストを作成する次の関数を作成しなさい。\n",
    "* 関数名：`above_or_below100`\n",
    "* 引数\n",
    "    * `n`：平均は`100`、標準偏差は`10`の正規分布から抽出するランダム変数の数（デフォルトなし）\n",
    "* 戻り値\n",
    "    * `2`つのリストを返す：\n",
    "        1. `100`もしくは`100`より大きい要素から構成されるリスト\n",
    "        2. `100`未満要素から構成されるリスト"
   ]
  },
  {
   "cell_type": "code",
   "execution_count": 116,
   "metadata": {},
   "outputs": [],
   "source": [
    "def above_or_below100(n):\n",
    "\n",
    "    above100 = []\n",
    "    below100 = []\n",
    "\n",
    "    result = [random.gauss(100, 10) for _ in range(n)]\n",
    "    \n",
    "    for v in result:\n",
    "\n",
    "        if v >= 100:\n",
    "            above100.append( v )\n",
    "            \n",
    "        else:\n",
    "            below100.append( v )\n",
    "\n",
    "    return above100, below100"
   ]
  },
  {
   "cell_type": "markdown",
   "metadata": {},
   "source": [
    "`n=20`として`above_or_below100()`関数を実行し、結果を変数`lst100`に割り当てなさい。"
   ]
  },
  {
   "cell_type": "code",
   "execution_count": 118,
   "metadata": {},
   "outputs": [],
   "source": [
    "lst100 = above_or_below100(20)"
   ]
  },
  {
   "cell_type": "markdown",
   "metadata": {},
   "source": [
    "`lst100`から`100`もしくは`100`より大きい要素から構成されるリストを抽出しなさい。"
   ]
  },
  {
   "cell_type": "code",
   "execution_count": 120,
   "metadata": {},
   "outputs": [
    {
     "data": {
      "text/plain": [
       "[107.80735668455371,\n",
       " 100.89952120531505,\n",
       " 111.92224274196266,\n",
       " 104.63092836751052,\n",
       " 108.9637468425085,\n",
       " 106.71763423692306,\n",
       " 100.15235473108154,\n",
       " 106.9711416234984,\n",
       " 108.39735586230228]"
      ]
     },
     "execution_count": 120,
     "metadata": {},
     "output_type": "execute_result"
    }
   ],
   "source": [
    "lst100[0]"
   ]
  },
  {
   "cell_type": "markdown",
   "metadata": {},
   "source": [
    "`lst100`から`100`未満要素から構成されるリストを抽出しなさい。"
   ]
  },
  {
   "cell_type": "code",
   "execution_count": 121,
   "metadata": {},
   "outputs": [
    {
     "data": {
      "text/plain": [
       "[99.66537580884308,\n",
       " 97.80586195369318,\n",
       " 94.08183560000226,\n",
       " 96.33303220654028,\n",
       " 82.58189393421479,\n",
       " 95.21250936477719,\n",
       " 92.72984867638917,\n",
       " 87.37922535650115,\n",
       " 97.35664053503878,\n",
       " 89.25602981045736,\n",
       " 97.6703807080233]"
      ]
     },
     "execution_count": 121,
     "metadata": {},
     "output_type": "execute_result"
    }
   ],
   "source": [
    "lst100[1]"
   ]
  },
  {
   "cell_type": "markdown",
   "metadata": {},
   "source": [
    "# Move to 6"
   ]
  },
  {
   "cell_type": "markdown",
   "metadata": {
    "hidden": true
   },
   "source": [
    "`randint()`関数と内包表記を使い、サイコロを`n`回投げて出た目の平均を計算する関数を作成しなさい。\n",
    "* 関数名：`calculate_mean`\n",
    "* 引数\n",
    "    * `n`：サイコロを投げたした回数（デフォルトなし）\n",
    "* 戻り値\n",
    "    * 出た目の平均"
   ]
  },
  {
   "cell_type": "code",
   "execution_count": 98,
   "metadata": {
    "hidden": true
   },
   "outputs": [],
   "source": [
    "def calculate_mean(n):\n",
    "\n",
    "    result = [random.randint(1,6) for _ in range(n)]\n",
    "    total = sum(result)\n",
    "    \n",
    "    return total / n"
   ]
  },
  {
   "cell_type": "markdown",
   "metadata": {
    "hidden": true
   },
   "source": [
    "この関数を使い，サイコロを`100`回投げた結果の平均を計算しなさい。"
   ]
  },
  {
   "cell_type": "code",
   "execution_count": 104,
   "metadata": {
    "hidden": true
   },
   "outputs": [
    {
     "data": {
      "text/plain": [
       "3.51"
      ]
     },
     "execution_count": 104,
     "metadata": {},
     "output_type": "execute_result"
    }
   ],
   "source": [
    "calculate_mean(100)"
   ]
  }
 ],
 "metadata": {
  "kernelspec": {
   "display_name": "Python 3 (ipykernel)",
   "language": "python",
   "name": "python3"
  },
  "language_info": {
   "codemirror_mode": {
    "name": "ipython",
    "version": 3
   },
   "file_extension": ".py",
   "mimetype": "text/x-python",
   "name": "python",
   "nbconvert_exporter": "python",
   "pygments_lexer": "ipython3",
   "version": "3.11.9"
  },
  "vscode": {
   "interpreter": {
    "hash": "7638eee3e7b130da5496a984d6d52bfbc9bf510a87a483ea7c2368031c9591e0"
   }
  }
 },
 "nbformat": 4,
 "nbformat_minor": 4
}
