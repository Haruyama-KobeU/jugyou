{
    "cells": [
        {
            "cell_type": "markdown",
            "id": "3f135818",
            "metadata": {},
            "source": [
                "# \u56f3\u793a"
            ]
        },
        {
            "cell_type": "markdown",
            "id": "735180ac-dcca-4843-9278-483c5bf6430c",
            "metadata": {},
            "source": [
                "* \u5168\u3066\u3092\u6271\u3046\u308f\u3051\u3067\u306f\u306a\u3044\u304c\u3001\u6b21\u306e\u30b5\u30a4\u30c8\u306b\u57fa\u3065\u304f\n",
                "    * [\u56f3\u793a\u3068\u30b7\u30df\u30e5\u30ec\u30fc\u30b7\u30e7\u30f3](https://py4basics.github.io/1_Basics_VI.html)"
            ]
        },
        {
            "cell_type": "markdown",
            "id": "f6a494b9",
            "metadata": {},
            "source": [
                "## \u59cb\u3081\u308b\u524d\u306b"
            ]
        },
        {
            "cell_type": "markdown",
            "id": "f1978b28-d51a-4b5f-90a8-2783405d5e06",
            "metadata": {},
            "source": [
                "\u6b21\u306e\u30b3\u30fc\u30c9\u306fJupyterLite\u7279\u6709\u306e\u30b3\u30fc\u30c9\u3068\u306a\u308b\uff08\u8a66\u9a13\u7bc4\u56f2\u5916\uff09\u3002\u5b9f\u884c\u3057\u306a\u3055\u3044\u3002"
            ]
        },
        {
            "cell_type": "code",
            "execution_count": null,
            "id": "8a6c6528-3073-4957-9bf2-8886e86f326d",
            "metadata": {},
            "outputs": [],
            "source": [
                "# CELL PROVIDED\n",
                "import piplite\n",
                "await piplite.install(['py4macro','japanize-matplotlib-jlite'])"
            ]
        },
        {
            "cell_type": "markdown",
            "id": "9ba6cbd8",
            "metadata": {},
            "source": [
                "\u6b21\u306e\u30b3\u30fc\u30c9\u3092\u5b9f\u884c\u3057\uff0c\u305d\u308c\u305e\u308c\u306e\u30d1\u30c3\u30b1\u30fc\u30b8\u3084\u30e2\u30b8\u30e5\u30fc\u30eb\u3092\u30a4\u30f3\u30dd\u30fc\u30c8\u3057\u306a\u3055\u3044\u3002"
            ]
        },
        {
            "cell_type": "code",
            "execution_count": null,
            "id": "3a3141f4",
            "metadata": {},
            "outputs": [],
            "source": [
                "# CELL PROVIDED\n",
                "import numpy as np\n",
                "import matplotlib.pyplot as plt\n",
                "import random\n",
                "from py4macro import xvalues\n",
                "\n",
                "# \u4ee5\u4e0b\u306f\u8a66\u9a13\u7bc4\u56f2\u5916\uff08\u30d7\u30ed\u30c3\u30c8\u306e\u30b5\u30a4\u30ba\u3092\u8abf\u6574\u3059\u308b\uff09\n",
                "import japanize_matplotlib_jlite\n",
                "plt.rcParams['figure.figsize'] = (5, 3.75)"
            ]
        },
        {
            "cell_type": "markdown",
            "id": "794fae51",
            "metadata": {},
            "source": [
                "\uff1c\u8aac\u660e\uff1e\n",
                "* `numpy`\uff1a\u6570\u5b66\u306e\u95a2\u6570\u304c\u542b\u307e\u308c\u308b\u30e2\u30b8\u30e5\u30fc\u30eb\n",
                "* `matplotlib.pyplot`\uff1a\u56f3\u793a\u306e\u305f\u3081\u306e\u30d1\u30c3\u30b1\u30fc\u30b8`matplotlib`\u306e\u4e2d\u306b\u3042\u308b\u30e2\u30b8\u30e5\u30fc\u30eb`pyplot`\uff08`plt`\u3068\u3057\u3066\u8aad\u307f\u8fbc\u3080\uff09\n",
                "* `py4macro`\uff1a`xvalues()`\u95a2\u6570\u304c\u542b\u307e\u308c\u3066\u3044\u308b\u3002\n",
                "* `random`\uff1a\u30e9\u30f3\u30c0\u30e0\u5909\u6570\u3084\u5206\u5e03\u306b\u95a2\u9023\u3059\u308b\u30e2\u30b8\u30e5\u30fc\u30eb\n",
                "* \u4ee5\u4e0b\u306f\u8a66\u9a13\u7bc4\u56f2\u5916\n",
                "    * `japanize_matplotlib_jlite`\uff1a`matplotlib`\u3092\u65e5\u672c\u8a9e\u5316\u3059\u308b\u30e2\u30b8\u30e5\u30fc\u30eb\n",
                "    * `plt.rcParams['figure.figsize'] = (5, 3.75)`\uff1a\u8868\u793a\u3055\u308c\u308b\u30d7\u30ed\u30c3\u30c8\u306e\u5927\u304d\u3055\u3092\u6307\u5b9a\u3059\u308b\u3002"
            ]
        },
        {
            "cell_type": "markdown",
            "id": "fc2e8506",
            "metadata": {
                "hidden": true
            },
            "source": [
                "`Matplotlib`\u306f\u5927\u304d\u306a\u30e9\u30a4\u30d6\u30e9\u30ea\u3067\u3042\u308a\uff0c\u305d\u306e\u4e2d\u306b\u3042\u308b`pyplot`\u30e2\u30b8\u30e5\u30fc\u30eb\u3092\u4f7f\u3046\u3053\u3068\u306b\u306a\u308b\u3002\u6163\u4f8b\u306b\u6cbf\u3063\u3066`plt`\u3068\u3057\u3066\u30a4\u30f3\u30dd\u30fc\u30c8\u3057\u3066\u3044\u308b\u3002"
            ]
        },
        {
            "cell_type": "markdown",
            "id": "00816406-b0b6-4add-9037-36673310a4ec",
            "metadata": {
                "heading_collapsed": true
            },
            "source": [
                "## \u30e9\u30a4\u30f3\u30fb\u30d7\u30ed\u30c3\u30c8"
            ]
        },
        {
            "cell_type": "markdown",
            "id": "2eb8d74d-b85f-4f47-bbac-7b2c1fe6049d",
            "metadata": {
                "heading_collapsed": true,
                "hidden": true
            },
            "source": [
                "### \u8aac\u660e"
            ]
        },
        {
            "cell_type": "markdown",
            "id": "75cc33dc-fa2e-4ad1-8a55-7725d473470d",
            "metadata": {
                "hidden": true
            },
            "source": [
                "`plt.plot()`\u95a2\u6570\u3092\u4f7f\u3044\u30c7\u30fc\u30bf\u3092\u30d7\u30ed\u30c3\u30c8\u3059\u3002\u6b21\u304c\u30b3\u30fc\u30c9\u306e\u69cb\u6587\u3068\u306a\u308b\u3002\n",
                "```\n",
                "plt.plot(\uff1cx\u8ef8\u306e\u5024\uff1e, \uff1cy\u8ef8\u306e\u5024\uff1e)\n",
                "```"
            ]
        },
        {
            "cell_type": "markdown",
            "id": "41b51879-31bd-460a-a873-7fbd4f7be8a7",
            "metadata": {
                "hidden": true
            },
            "source": [
                "\u5b9f\u969b\u306b\u30d7\u30ed\u30c3\u30c8\u3059\u308b\u305f\u3081\u306b\u6b21\u306e\u5024\u3092\u8a2d\u5b9a\u3057\u3088\u3046\u3002"
            ]
        },
        {
            "cell_type": "code",
            "execution_count": null,
            "id": "8bdd9c5d-f70c-46cc-ab2f-6353342a8d74",
            "metadata": {},
            "outputs": [],
            "source": [
                "# CELL PROVIDED\n",
                "\n",
                "x = [1,2,3]\n",
                "y = [10,30,20]"
            ]
        },
        {
            "cell_type": "markdown",
            "id": "397088c6-68b9-426a-bad6-9dd58843164d",
            "metadata": {
                "hidden": true
            },
            "source": [
                "\u5f15\u6570\u306b`x`\u3068`y`\u3092\u6307\u5b9a\u3059\u308b\u3068\u30d7\u30ed\u30c3\u30c8\u3067\u304d\u308b\u3002"
            ]
        },
        {
            "cell_type": "code",
            "execution_count": null,
            "id": "22eabb32-8ffd-4330-a73c-7bc8d9555def",
            "metadata": {},
            "outputs": [],
            "source": []
        },
        {
            "cell_type": "markdown",
            "id": "98edfa96-694d-4495-95d2-8c08c350c5dc",
            "metadata": {
                "hidden": true
            },
            "source": [
                "* `marker='o'`\u306f\u5f8c\u3067\u8aac\u660e\u3059\u308b\u3002\n",
                "* \u300c\u25cf\u300d\u306e\u30de\u30fc\u30ab\u30fc\u304c\u3042\u308b\u70b9\u304c`x`\u3068`y`\u306e\u5024\u306e\u7d44\u307f\u5408\u308f\u305b\u3068\u3057\u3066\u8868\u793a\u3055\u308c\u3066\u3044\u308b\u3002\n",
                "* \u5ea7\u6a19\u306e\u70b9\u3092\u5897\u3084\u3059\u3053\u3068\u306b\u3088\u308a\u30b9\u30e0\u30fc\u30ba\u306a\u66f2\u7dda\u3092\u8868\u793a\u3059\u308b\u3053\u3068\u304c\u53ef\u80fd\u3068\u306a\u308b\u3002"
            ]
        },
        {
            "cell_type": "markdown",
            "id": "3234c0e2-0c1b-48a4-92e1-a1c6320ad4f8",
            "metadata": {
                "hidden": true
            },
            "source": [
                "### \u5024\u306e\u751f\u6210"
            ]
        },
        {
            "cell_type": "markdown",
            "id": "c146aed7-5db7-4e92-8ff6-4a66291850c9",
            "metadata": {
                "hidden": true
            },
            "source": [
                "#### `x`\u8ef8\u306e\u5024"
            ]
        },
        {
            "cell_type": "markdown",
            "id": "70fe458b",
            "metadata": {
                "hidden": true
            },
            "source": [
                "\u30e2\u30b8\u30e5\u30fc\u30eb`py4macro`\u306b\u542b\u307e\u308c\u308b`xvalues()`\u95a2\u6570\u3092\u4f7f\u3046\u3002"
            ]
        },
        {
            "cell_type": "code",
            "execution_count": null,
            "id": "8dc206d5-ff92-4ff0-b134-3c8a358ba4b2",
            "metadata": {},
            "outputs": [],
            "source": []
        },
        {
            "cell_type": "markdown",
            "id": "2fac0b28-97b2-4118-ab1c-2f0dbb2bb88d",
            "metadata": {
                "hidden": true
            },
            "source": [
                "\u3053\u306e\u95a2\u6570\u3092\u4f7f\u3044\uff0c`-1`\u304b\u3089`1`\u306e\u9593\u306b`5`\u306e\u5024\u3092\u751f\u6210\u3057`x`\u306b\u5272\u308a\u5f53\u3066\u308b\u3002"
            ]
        },
        {
            "cell_type": "code",
            "execution_count": null,
            "id": "2b05aa00-428e-4375-b9c2-dbbe1cdfecc5",
            "metadata": {},
            "outputs": [],
            "source": [
                "\n"
            ]
        },
        {
            "cell_type": "markdown",
            "id": "f62ccead-5dfc-4a46-8437-c60398dc09b4",
            "metadata": {
                "hidden": true
            },
            "source": [
                "#### `y`\u8ef8\u306e\u5024\n"
            ]
        },
        {
            "cell_type": "markdown",
            "id": "61486d56-8163-454c-8a18-cdd210f20ffe",
            "metadata": {
                "hidden": true
            },
            "source": [
                "\u6b21\u306e\uff12\u6b21\u95a2\u6570\u3092\u30d7\u30ed\u30c3\u30c8\u3057\u305f\u3044\u3068\u3057\u3088\u3046\u3002\n",
                "\n",
                "$$y=x^2$$\n",
                "\n",
                "\u307e\u305a\u95a2\u6570\u3092\u4f5c\u6210\u3059\u308b\u3002"
            ]
        },
        {
            "cell_type": "code",
            "execution_count": null,
            "id": "df9be957-b289-4732-a06e-6e28657c2c13",
            "metadata": {},
            "outputs": [],
            "source": [
                "\n",
                "\n",
                ""
            ]
        },
        {
            "cell_type": "markdown",
            "id": "69181860-a10d-4b1c-bae2-0a69cdcef528",
            "metadata": {
                "hidden": true
            },
            "source": [
                "\u6b21\u306b\uff0c`x`\u306e\u5024\u3092\u4f7f\u3044\u5185\u5305\u8868\u8a18\u3067`y`\u306e\u5024\u304b\u3089\u69cb\u6210\u3055\u308c\u308b\u30ea\u30b9\u30c8\u3092\u4f5c\u6210\u3059\u308b\u3002"
            ]
        },
        {
            "cell_type": "code",
            "execution_count": null,
            "id": "a207ed32-7daa-475d-8518-f2e298da6bd8",
            "metadata": {},
            "outputs": [],
            "source": [
                "\n"
            ]
        },
        {
            "cell_type": "markdown",
            "id": "6d48a45e-a991-4f20-9e5e-80a3792da585",
            "metadata": {
                "hidden": true
            },
            "source": [
                "### \u66f2\u7dda\u306e\u30d7\u30ed\u30c3\u30c8"
            ]
        },
        {
            "cell_type": "markdown",
            "id": "7c533583-1c16-4bdd-8678-cf9a3fe1f35e",
            "metadata": {
                "hidden": true
            },
            "source": [
                "\u4e0a\u3067\u4f5c\u6210\u3057\u305f`x`\u3068`y`\u3092\u4f7f\u3044\u30d7\u30ed\u30c3\u30c8\u3057\u3088\u3046\u3002"
            ]
        },
        {
            "cell_type": "code",
            "execution_count": null,
            "id": "fcebc74b-9c09-476f-b1e6-50469f750627",
            "metadata": {},
            "outputs": [],
            "source": []
        },
        {
            "cell_type": "markdown",
            "id": "2bb6d5c6-162c-4a26-ae39-1cec0fe2d75c",
            "metadata": {
                "hidden": true
            },
            "source": [
                "\u3082\u3063\u3068\u5ea7\u6a19\u3092\u5897\u3084\u3057\u3066\u307f\u3088\u3046\u3002"
            ]
        },
        {
            "cell_type": "code",
            "execution_count": null,
            "id": "83e0169e-7014-467b-80c8-411899337b71",
            "metadata": {},
            "outputs": [],
            "source": [
                "\n",
                "\n",
                "",
                ""
            ]
        },
        {
            "cell_type": "markdown",
            "id": "4204bb03",
            "metadata": {
                "hidden": true
            },
            "source": [
                "### `plot()`\u306e\u57fa\u672c\u7684\u306a\u5f15\u6570"
            ]
        },
        {
            "cell_type": "markdown",
            "id": "3bd7f23c",
            "metadata": {
                "hidden": true
            },
            "source": [
                "`plot()`\u306b\u5f15\u6570\u3092\u4f7f\u3046\u3053\u3068\u306b\u3088\u308a\u30c7\u30fc\u30bf\u306e\u8868\u793a\u65b9\u6cd5\u3092\u6307\u5b9a\u3067\u304d\u308b\u3002\u8a73\u3057\u304f\u306f[\u3053\u306e\u30ea\u30f3\u30af](https://matplotlib.org/stable/api/_as_gen/matplotlib.pyplot.plot.html)\u3092\u53c2\u7167\u3059\u308b\u3053\u3068\u306b\u3057\u3066\uff0c\u3053\u3053\u3067\u306f\u57fa\u672c\u7684\u306a\u5f15\u6570\u3060\u3051\u3092\u7d39\u4ecb\u3059\u308b\u3002\n",
                "* `linestyle`\uff1a\u7dda\u306e\u30b9\u30bf\u30a4\u30eb\uff08\u30ea\u30b9\u30c8\u306b\u3057\u3066\u5217\u306e\u9806\u756a\u3067\u6307\u5b9a\u3059\u308b;`-`\uff0c`--`\uff0c`-.`\uff0c`:`\u306a\u3069\u304c\u3042\u308b\uff09\n",
                "* `linewidth` or `lw`\uff1a\u7dda\u306e\u5e45\n",
                "* `color` or `c`\uff1a\u8272\uff08[\u53c2\u7167\u30b5\u30a4\u30c8](https://matplotlib.org/stable/gallery/color/named_colors.html)\uff09\n",
                "    * `r`\u53c8\u306f`red`\u306f\u8d64\n",
                "    * `k`\u53c8\u306f`black`\u306f\u9ed2\n",
                "    * `g`\u53c8\u306f`green`\u306f\u30b0\u30ea\u30fc\u30f3\n",
                "* `marker`\uff1a\u89b3\u6e2c\u5024\u306e\u30de\u30fc\u30ab\u30fc\uff08`o`\uff0c`.`\uff0c`>`\uff0c`^`\u306a\u3069\u304c\u3042\u308b; [\u53c2\u7167\u30b5\u30a4\u30c8](https://matplotlib.org/stable/api/markers_api.html)\uff09\n",
                "* `markersize`\uff1a\u30de\u30fc\u30ab\u30fc\u306e\u5927\u304d\u3055"
            ]
        },
        {
            "cell_type": "code",
            "execution_count": null,
            "id": "f54e4f29",
            "metadata": {},
            "outputs": [],
            "source": [
                "\n",
                "\n",
                "",
                "",
                "",
                ""
            ]
        },
        {
            "cell_type": "markdown",
            "id": "bf20378b",
            "metadata": {
                "heading_collapsed": true,
                "hidden": true
            },
            "source": [
                "### \u305d\u306e\u4ed6\u306e\u300c\u98fe\u308a\u4ed8\u3051\u300d"
            ]
        },
        {
            "cell_type": "markdown",
            "id": "8d8007b2",
            "metadata": {
                "hidden": true
            },
            "source": [
                "\u6b21\u306e\uff15\u3064\u306f`plt.plot()`\u306e\u4e0b\u306b\u4ed8\u3051\u52a0\u3048\u308b\u3053\u3068\u306b\u3088\u3063\u3066\u8868\u793a\u3067\u304d\u308b\u3002\n",
                "* `plt.title()`\uff1a\u30bf\u30a4\u30c8\u30eb\u3092\u8a2d\u5b9a\u3059\u308b\u3002\n",
                "    * \u6587\u5b57\u5217\u3067\u6307\u5b9a\u3057\u3001\u5927\u304d\u3055\u306f\u5f15\u6570`size`\u3067\u6307\u5b9a\u3059\u308b\u3002\n",
                "* `plt.xlabel()`\uff1a\u6a2a\u8ef8\u30e9\u30d9\u30eb\n",
                "    * \u6587\u5b57\u5217\u3067\u6307\u5b9a\u3057\u3001\u5927\u304d\u3055\u306f\u5f15\u6570`size`\u3067\u6307\u5b9a\u3059\u308b\u3002\n",
                "* `plt.ylabel()`\uff1a\u7e26\u8ef8\u30e9\u30d9\u30eb\n",
                "    * \u6587\u5b57\u5217\u3067\u6307\u5b9a\u3057\u3001\u5927\u304d\u3055\u306f\u5f15\u6570`size`\u3067\u6307\u5b9a\u3059\u308b\u3002"
            ]
        },
        {
            "cell_type": "code",
            "execution_count": null,
            "id": "70296cb6",
            "metadata": {},
            "outputs": [],
            "source": [
                "\n",
                "\n",
                "",
                ""
            ]
        },
        {
            "cell_type": "markdown",
            "id": "db26a6eb",
            "metadata": {
                "hidden": true
            },
            "source": [
                "\u56f3\u306e\u5927\u304d\u3055\u3092\u5909\u66f4\u3059\u308b\u306b\u306f\uff0c\u4f8b\u3048\u3070\uff0c\u6b21\u306e\u884c\u3092`plt.plot()`\u306e**\u4e0a**\u306b\u4ed8\u3051\u52a0\u3048\u308b\u3060\u3051\u3067\u3042\u308b\u3002\n",
                "```\n",
                "plt.figure(figsize=(7,3))\n",
                "```\n",
                "\u3053\u306e\u4f8b\u3067\u306f\uff0c\u6a2a\u306e\u9577\u3055\u3092`7`\uff0c\u7e26\u306e\u9577\u3055\u3092`3`\u306b\u6307\u5b9a\u3057\u3066\u3044\u308b\uff08\u5358\u4f4d\u306f\u30a4\u30f3\u30c1\uff09\u3002\n",
                "* `plt.figure()`\u306f\u900f\u660e\u306e\u30ad\u30e3\u30f3\u30d0\u30b9\u3092\u6e96\u5099\u3059\u308b\u3002\n",
                "* \u5f15\u6570`figsize=(8,4)`\u306f\uff0c\u305d\u306e\u30ad\u30e3\u30f3\u30d0\u30b9\u306e\u30b5\u30a4\u30ba\u3092\u6307\u5b9a\u3059\u308b\u3002\n",
                "* \u900f\u660e\u306e\u30ad\u30e3\u30f3\u30d0\u30b9\u4e0a\u306b\uff0c`plt.plot()`\u306f\u56f3\u3092\u30d7\u30ed\u30c3\u30c8\u3059\u308b\u3053\u3068\u306b\u306a\u308b\u3002"
            ]
        },
        {
            "cell_type": "code",
            "execution_count": null,
            "id": "20c077ec",
            "metadata": {},
            "outputs": [],
            "source": [
                "\n"
            ]
        },
        {
            "cell_type": "markdown",
            "id": "df34f396",
            "metadata": {
                "heading_collapsed": true
            },
            "source": [
                "## \u30d2\u30b9\u30c8\u30b0\u30e9\u30e0"
            ]
        },
        {
            "cell_type": "markdown",
            "id": "563262ee",
            "metadata": {
                "hidden": true
            },
            "source": [
                "\u57fa\u672c\u7684\u306b\u306f\u6b21\u306e\u69cb\u6587\u3068\u306a\u308b\u3002\n",
                "```\n",
                "plt.hist(\uff1c\u30c7\u30fc\u30bf\uff1e)\n",
                "```\n",
                "\n",
                "\u307e\u305a\u6a19\u6e96\u6b63\u898f\u5206\u5e03\u304b\u3089\u30e9\u30f3\u30c0\u30e0\u5909\u6570\u309210,000\u500b\u62bd\u51fa\u3057\u3066\u5909\u6570`z0`\u306b\u5272\u308a\u5f53\u3066\u3088\u3046\u3002"
            ]
        },
        {
            "cell_type": "code",
            "execution_count": null,
            "id": "80bdfda4",
            "metadata": {},
            "outputs": [],
            "source": []
        },
        {
            "cell_type": "markdown",
            "id": "57ae8013",
            "metadata": {
                "hidden": true
            },
            "source": [
                "\u3053\u306e\u30c7\u30fc\u30bf\u306e\u30d2\u30b9\u30c8\u30b0\u30e9\u30e0\u3092\u8868\u793a\u3057\u3066\u307f\u3088\u3046\u3002"
            ]
        },
        {
            "cell_type": "code",
            "execution_count": null,
            "id": "b54e5bef",
            "metadata": {},
            "outputs": [],
            "source": [
                "\n"
            ]
        },
        {
            "cell_type": "markdown",
            "id": "06a72d36",
            "metadata": {
                "hidden": true
            },
            "source": [
                "**\uff1c\u57fa\u672c\u7684\u306a\u5f15\u6570\uff1e**\n",
                "\n",
                "\u69d8\u3005\u306a\u5f15\u6570\u304c\u3042\u308a\u56f3\u306b\u300c\u98fe\u308a\u4ed8\u3051\u300d\u3092\u3059\u308b\u3053\u3068\u304c\u3067\u304d\u308b\u3002\u8a73\u3057\u304f\u306f[\u3053\u306e\u30ea\u30f3\u30af](https://matplotlib.org/stable/api/_as_gen/matplotlib.pyplot.hist.html)\u3092\u53c2\u7167\u3059\u308b\u3053\u3068\u306b\u3057\u3066\uff0c\u3053\u3053\u3067\u306f\u57fa\u672c\u7684\u306a\u5f15\u6570\u3060\u3051\u3092\u7d39\u4ecb\u3059\u308b\u3002\n",
                "* `bins`\uff1a\u968e\u7d1a\u306e\u6570\uff08\u67f1\u306e\u6570\uff09\n",
                "    * \u6574\u6570\u578b\u3092\u4f7f\u3048\u3070\u6587\u5b57\u901a\u308a\u306e\u67f1\u306e\u6570\u3068\u306a\u308b\u3002\n",
                "    * \u533a\u9593\u306e\u5024\u3092\u30ea\u30b9\u30c8\u3068\u3057\u3066\u8a2d\u5b9a\u3059\u308b\u3053\u3068\u304c\u3067\u304d\u308b\u3002\u4f8b\u3048\u3070\uff0c`0`\u3068`1`\u3092\u7b49\u533a\u9593\u306b\u67f1\u3092\uff12\u3064\u8a2d\u5b9a\u3059\u308b\u5834\u5408\u306f`[0, 0.5, 1]`\u3068\u306a\u308b\u3002\n",
                "* `linewidth`\u53c8\u306f`lw`\uff1a\u67f1\u306e\u9593\u9694\uff08\u30c7\u30d5\u30a9\u30eb\u30c8\u306f`1`\uff09\n",
                "* `color`\uff1a\u8272\uff08\u30ea\u30b9\u30c8\u306b\u3057\u3066\u5217\u306e\u9806\u756a\u3067\u6307\u5b9a\u3059\u308b; [\u53c2\u7167\u30b5\u30a4\u30c8](https://matplotlib.org/3.1.0/gallery/color/named_colors.html)\uff09\n",
                "    * `r`\u53c8\u306f`red`\uff1a\u8d64\n",
                "    * `k`\u53c8\u306f`black`\uff1a\u9ed2\n",
                "    * `g`\u53c8\u306f`green`\uff1a\u30b0\u30ea\u30fc\u30f3\n",
                "    * `b`\u53c8\u306f`blue`\uff1a\u9752\n",
                "* `edgecolor`\u53c8\u306f`ec`\uff1a\u67f1\u306e\u5883\u754c\u7dda\u306e\u8272\n",
                "* `density`\uff1a\u7e26\u8ef8\u3092\u76f8\u5bfe\u5ea6\u6570\u306b\u3059\u308b\uff08\u30c7\u30d5\u30a9\u30eb\u30c8\u306f`False`\uff09\n",
                "    * \u5168\u3066\u306e\u67f1\u306e**\u9762\u7a4d**\u306e\u5408\u8a08\u304c`1`\u306b\u306a\u308b\u3088\u3046\u306b\u7e26\u8ef8\u304c\u8abf\u6574\u3055\u308c\u308b\u3002\uff08\uff11\u3064\u306e\u67f1\u306e\u9ad8\u3055\u304c`1`\u3088\u308a\u3082\u5927\u304d\u304f\u306a\u308b\u5834\u5408\u3082\u3042\u308b\u3002\uff09\n",
                "    \n",
                "\u4e0a\u306e\u30d2\u30b9\u30c8\u30b0\u30e9\u30e0\u306b\u5f15\u6570\u3092\u3057\u3066\u3057\u3066\u307f\u3088\u3046\u3002"
            ]
        },
        {
            "cell_type": "code",
            "execution_count": null,
            "id": "7121291b",
            "metadata": {},
            "outputs": [],
            "source": [
                "\n",
                "\n",
                "",
                "",
                "",
                "",
                ""
            ]
        },
        {
            "cell_type": "markdown",
            "id": "f03631d0",
            "metadata": {
                "hidden": true
            },
            "source": [
                "\u305d\u306e\u4ed6\u306e\u300c\u98fe\u308a\u4ed8\u3051\u300d\u306b\u3064\u3044\u3066\u3002"
            ]
        },
        {
            "cell_type": "markdown",
            "id": "ac2f7273",
            "metadata": {
                "hidden": true
            },
            "source": [
                "\u56f3\u306e\u30b5\u30a4\u30ba\u3092\u8abf\u6574\u3059\u308b\u306b\u306f\uff0c\u6b21\u306e\u30b3\u30fc\u30c9\u3092`plt.plot()`\u306e\u4e0a\u306b\u4ed8\u3051\u52a0\u3048\u308b\u3002\n",
                "```\n",
                "plt.figure( figsize=(6,4) )\n",
                "```\n",
                "\u3053\u306e\u4f8b\u3067\u306f\uff0c\u6a2a\u306e\u9577\u3055\u3092`6`\uff0c\u7e26\u306e\u9577\u3055\u3092`4`\u3068\u3057\u3066\u3044\u308b\uff08\u5358\u4f4d\u306f\u30a4\u30f3\u30c1\uff09\u3002\n",
                "\n",
                "\u6b21\u306e\uff15\u3064\u306f`plt.plot()`\u306e\u4e0b\u306b\u4ed8\u3051\u52a0\u3048\u308b\u3053\u3068\u306b\u3088\u3063\u3066\u8868\u793a\u3067\u304d\u308b\u3002\n",
                "* `plt.title()`\uff1a\u30bf\u30a4\u30c8\u30eb\u3092\u8a2d\u5b9a\u3059\u308b\u3002\n",
                "    * \u6587\u5b57\u5217\u3067\u6307\u5b9a\u3057\u3001\u5927\u304d\u3055\u306f\u5f15\u6570`size`\u3067\u6307\u5b9a\u3059\u308b\u3002\n",
                "* `plt.xlabel()`\uff1a\u6a2a\u8ef8\u30e9\u30d9\u30eb\n",
                "    * \u6587\u5b57\u5217\u3067\u6307\u5b9a\u3057\u3001\u5927\u304d\u3055\u306f\u5f15\u6570`size`\u3067\u6307\u5b9a\u3059\u308b\u3002\n",
                "* `plt.ylabel()`\uff1a\u7e26\u8ef8\u30e9\u30d9\u30eb\n",
                "    * \u6587\u5b57\u5217\u3067\u6307\u5b9a\u3057\u3001\u5927\u304d\u3055\u306f\u5f15\u6570`size`\u3067\u6307\u5b9a\u3059\u308b\u3002"
            ]
        },
        {
            "cell_type": "code",
            "execution_count": null,
            "id": "97690746",
            "metadata": {},
            "outputs": [],
            "source": [
                "\n",
                "\n",
                "",
                "",
                "",
                "",
                "",
                "",
                ""
            ]
        },
        {
            "cell_type": "code",
            "execution_count": null,
            "id": "02b96ff0",
            "metadata": {},
            "outputs": [],
            "source": []
        }
    ],
    "metadata": {
        "celltoolbar": "Tags",
        "kernelspec": {
            "display_name": "rise",
            "language": "python",
            "name": "rise"
        },
        "language_info": {
            "codemirror_mode": {
                "name": "ipython",
                "version": 3
            },
            "file_extension": ".py",
            "mimetype": "text/x-python",
            "name": "python",
            "nbconvert_exporter": "python",
            "pygments_lexer": "ipython3",
            "version": "3.12.4"
        }
    },
    "nbformat": 4,
    "nbformat_minor": 5
}