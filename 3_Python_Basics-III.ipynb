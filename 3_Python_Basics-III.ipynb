{
 "cells": [
  {
   "cell_type": "markdown",
   "metadata": {
    "jp-MarkdownHeadingCollapsed": true
   },
   "source": [
    "# 第３回授業"
   ]
  },
  {
   "cell_type": "markdown",
   "metadata": {},
   "source": [
    "* 全てを扱うわけではないが、次のサイトに基づく\n",
    "    * [関数とメソッド](https://py4basics.github.io/1_Basics_III.html)\n",
    "    * [制御フロー](https://py4basics.github.io/1_Basics_IV.html)"
   ]
  },
  {
   "cell_type": "markdown",
   "metadata": {
    "heading_collapsed": true,
    "jp-MarkdownHeadingCollapsed": true
   },
   "source": [
    "## ユーザー定義関数"
   ]
  },
  {
   "cell_type": "markdown",
   "metadata": {},
   "source": [
    "### 最も簡単な例"
   ]
  },
  {
   "cell_type": "markdown",
   "metadata": {
    "hidden": true
   },
   "source": [
    "組み込み関数以外に，ユーザーは自由に関数を作成することができる。"
   ]
  },
  {
   "cell_type": "markdown",
   "metadata": {
    "hidden": true
   },
   "source": [
    "最初の例は数字の2乗を計算する関数である。"
   ]
  },
  {
   "cell_type": "code",
   "execution_count": 65,
   "metadata": {
    "hidden": true
   },
   "outputs": [],
   "source": [
    "def squared(x):    \n",
    "    return x**2"
   ]
  },
  {
   "cell_type": "markdown",
   "metadata": {
    "hidden": true
   },
   "source": [
    "上の関数の説明：\n",
    "* １行目：\n",
    "    * `def`で始まり（`def`はdefinitionの省略形）`:`で終わる。\n",
    "    * `squared`が関数名\n",
    "    * `x`が第１引数（ひきすう）であり唯一の引数である。\n",
    "        * 引数の**位置**と`=`が重要な役割を果たすことになる。\n",
    "* ２行目：\n",
    "    * `return`は評価した値を「返す」もしくは「戻す」という意味。`return`の前には4つの半角スペースが必要がある。\n",
    "    * `x**2`という返り値（戻り値）の設定をする\n",
    "\n",
    "関数を評価するには，引数に数字を入れて実行する。"
   ]
  },
  {
   "cell_type": "code",
   "execution_count": 66,
   "metadata": {
    "hidden": true
   },
   "outputs": [
    {
     "data": {
      "text/plain": [
       "4"
      ]
     },
     "execution_count": 66,
     "metadata": {},
     "output_type": "execute_result"
    }
   ],
   "source": [
    "squared(2)"
   ]
  },
  {
   "cell_type": "markdown",
   "metadata": {
    "hidden": true
   },
   "source": [
    "（注意）\n",
    "* 関数を定義する場合の引数（上の例では`x`)は「仮引数」（parameter）と呼ぶ。\n",
    "* 関数を評価する際に関数に引き渡す引数（上の例では`2`）は「実引数」（argument）と呼ぶ。\n",
    "* 以下では両方を「引数」と呼ぶ。\n",
    "\n",
    "---\n",
    "引数が無い関数を定義することを可能である。"
   ]
  },
  {
   "cell_type": "code",
   "execution_count": 68,
   "metadata": {
    "hidden": true
   },
   "outputs": [
    {
     "data": {
      "text/plain": [
       "'I love Kobe (^_^)'"
      ]
     },
     "execution_count": 68,
     "metadata": {},
     "output_type": "execute_result"
    }
   ],
   "source": [
    "def func_kobe():\n",
    "    \n",
    "    return 'I love Kobe (^_^)'\n",
    "    \n",
    "\n",
    "func_kobe()"
   ]
  },
  {
   "cell_type": "markdown",
   "metadata": {
    "heading_collapsed": true,
    "hidden": true,
    "jp-MarkdownHeadingCollapsed": true
   },
   "source": [
    "### 引数の位置が重要"
   ]
  },
  {
   "cell_type": "markdown",
   "metadata": {
    "hidden": true
   },
   "source": [
    "引数を複数設定することも可能。"
   ]
  },
  {
   "cell_type": "code",
   "execution_count": 69,
   "metadata": {
    "hidden": true
   },
   "outputs": [],
   "source": [
    "def division(a, b):\n",
    "    \n",
    "    return a / b"
   ]
  },
  {
   "cell_type": "code",
   "execution_count": 70,
   "metadata": {
    "hidden": true
   },
   "outputs": [
    {
     "data": {
      "text/plain": [
       "5.0"
      ]
     },
     "execution_count": 70,
     "metadata": {},
     "output_type": "execute_result"
    }
   ],
   "source": [
    "division(10, 2)"
   ]
  },
  {
   "cell_type": "markdown",
   "metadata": {
    "hidden": true
   },
   "source": [
    "`a`が第`1`引数，`b`が第`2`引数である。引数の順番（位置）を間違えると意図しない結果につながる。"
   ]
  },
  {
   "cell_type": "code",
   "execution_count": 127,
   "metadata": {
    "hidden": true
   },
   "outputs": [
    {
     "data": {
      "text/plain": [
       "0.2"
      ]
     },
     "execution_count": 127,
     "metadata": {},
     "output_type": "execute_result"
    }
   ],
   "source": [
    "division(2, 10)"
   ]
  },
  {
   "cell_type": "markdown",
   "metadata": {
    "heading_collapsed": true,
    "hidden": true,
    "jp-MarkdownHeadingCollapsed": true
   },
   "source": [
    "### **実行**する際に`=`を使う"
   ]
  },
  {
   "cell_type": "markdown",
   "metadata": {
    "hidden": true
   },
   "source": [
    "**関数を実行する際**に，引数に`=`を使うと引数の順番を変えることが可能となる。"
   ]
  },
  {
   "cell_type": "code",
   "execution_count": 74,
   "metadata": {
    "hidden": true
   },
   "outputs": [
    {
     "data": {
      "text/plain": [
       "5.0"
      ]
     },
     "execution_count": 74,
     "metadata": {},
     "output_type": "execute_result"
    }
   ],
   "source": [
    "division(b=2, a=10)"
   ]
  },
  {
   "cell_type": "markdown",
   "metadata": {
    "hidden": true
   },
   "source": [
    "この場合，全ての引数に`=`を使わないとエラーとなる。"
   ]
  },
  {
   "cell_type": "code",
   "execution_count": 132,
   "metadata": {
    "hidden": true,
    "tags": [
     "raises-exception"
    ]
   },
   "outputs": [
    {
     "ename": "TypeError",
     "evalue": "division() got multiple values for argument 'a'",
     "output_type": "error",
     "traceback": [
      "\u001b[0;31m---------------------------------------------------------------------------\u001b[0m",
      "\u001b[0;31mTypeError\u001b[0m                                 Traceback (most recent call last)",
      "Cell \u001b[0;32mIn[132], line 1\u001b[0m\n\u001b[0;32m----> 1\u001b[0m \u001b[43mdivision\u001b[49m\u001b[43m(\u001b[49m\u001b[38;5;241;43m10\u001b[39;49m\u001b[43m,\u001b[49m\u001b[43m \u001b[49m\u001b[43ma\u001b[49m\u001b[38;5;241;43m=\u001b[39;49m\u001b[38;5;241;43m2\u001b[39;49m\u001b[43m)\u001b[49m\n",
      "\u001b[0;31mTypeError\u001b[0m: division() got multiple values for argument 'a'"
     ]
    }
   ],
   "source": [
    "division(10, a=2)"
   ]
  },
  {
   "cell_type": "markdown",
   "metadata": {
    "hidden": true
   },
   "source": [
    "理由は最初の`10`を`a`の値と解釈されるためである。\n",
    "\n",
    "一方で，引数の位置が揃っていれば，全ての引数に`=`を付ける必要はない。ただし、`=`を使う引数は右側に配置すること。"
   ]
  },
  {
   "cell_type": "code",
   "execution_count": 77,
   "metadata": {
    "hidden": true
   },
   "outputs": [
    {
     "data": {
      "text/plain": [
       "-0.14285714285714285"
      ]
     },
     "execution_count": 77,
     "metadata": {},
     "output_type": "execute_result"
    }
   ],
   "source": [
    "def my_func(a, b, c, d):\n",
    "    return (a-b) / (c+d)\n",
    "\n",
    "\n",
    "my_func(10, 20, d=40, c=30)"
   ]
  },
  {
   "cell_type": "markdown",
   "metadata": {
    "hidden": true,
    "jp-MarkdownHeadingCollapsed": true
   },
   "source": [
    "### **定義**する際に`=`を使う"
   ]
  },
  {
   "cell_type": "markdown",
   "metadata": {
    "hidden": true
   },
   "source": [
    "**関数を定義する際**，`=`を使って引数のデフォルトの値を設定することができる。\n",
    "* 引数を入力すると入力された数値を使うが，引数を入力しない場合は引数を予め設定した値（デフォルトの値）が使われて評価される。\n",
    "\n",
    "次の例では`c`のデフォルトの値が`10`に設定されている。"
   ]
  },
  {
   "cell_type": "code",
   "execution_count": 78,
   "metadata": {
    "hidden": true
   },
   "outputs": [],
   "source": [
    "def another_func(a, b, c=10):\n",
    "    \n",
    "    return (a + b) * c"
   ]
  },
  {
   "cell_type": "markdown",
   "metadata": {
    "hidden": true
   },
   "source": [
    "`c`の値を与えずに評価してみる。"
   ]
  },
  {
   "cell_type": "code",
   "execution_count": 79,
   "metadata": {
    "hidden": true
   },
   "outputs": [
    {
     "data": {
      "text/plain": [
       "50"
      ]
     },
     "execution_count": 79,
     "metadata": {},
     "output_type": "execute_result"
    }
   ],
   "source": [
    "another_func(2, 3)"
   ]
  },
  {
   "cell_type": "markdown",
   "metadata": {
    "hidden": true
   },
   "source": [
    "次に`c`にデフォルトと異なる値を設定してみる。"
   ]
  },
  {
   "cell_type": "code",
   "execution_count": 80,
   "metadata": {
    "hidden": true
   },
   "outputs": [
    {
     "data": {
      "text/plain": [
       "500"
      ]
     },
     "execution_count": 80,
     "metadata": {},
     "output_type": "execute_result"
    }
   ],
   "source": [
    "another_func(2, 3, 100)"
   ]
  },
  {
   "cell_type": "markdown",
   "metadata": {
    "hidden": true
   },
   "source": [
    "＜Note＞\n",
    "* 関数を実行する際に`=`無しで関数に使う引数は，その位置が重要であるため「位置引数」と呼ばれる。\n",
    "* 関数を実行する際に`=`付きで関数に使う引数は「キーワード引数」と呼ばれる。"
   ]
  },
  {
   "cell_type": "markdown",
   "metadata": {},
   "source": [
    "### 複数の値を返す場合"
   ]
  },
  {
   "cell_type": "markdown",
   "metadata": {},
   "source": [
    "複数の値を返す場合は、`,`を使ってタプルとして返すのが良いだろう。\n",
    "\n",
    "例："
   ]
  },
  {
   "cell_type": "code",
   "execution_count": 1,
   "metadata": {},
   "outputs": [],
   "source": [
    "def example_func(x):\n",
    "\n",
    "    return x, x**2, x**3"
   ]
  },
  {
   "cell_type": "code",
   "execution_count": 2,
   "metadata": {},
   "outputs": [
    {
     "data": {
      "text/plain": [
       "(2, 4, 8)"
      ]
     },
     "execution_count": 2,
     "metadata": {},
     "output_type": "execute_result"
    }
   ],
   "source": [
    "example_func(2)"
   ]
  },
  {
   "cell_type": "markdown",
   "metadata": {
    "heading_collapsed": true,
    "jp-MarkdownHeadingCollapsed": true
   },
   "source": [
    "## オブジェクトとメソッド"
   ]
  },
  {
   "cell_type": "markdown",
   "metadata": {
    "jp-MarkdownHeadingCollapsed": true
   },
   "source": [
    "### オブジェクトとは"
   ]
  },
  {
   "cell_type": "markdown",
   "metadata": {},
   "source": [
    "自転車は、データと関数が備わるオブジェクト\n",
    "* 車輪が２つ，サドルが１つ，左右にペダルが２つある。これらの数字が自転車に関する**データ**である。\n",
    "* ペダルを踏むことにより前に動き，ハンドルを右にきると右方向に進むことになる。即ち，あることを実行すると，ある結果が返される。これは数学の**関数**と同じように理解できる。$y=x^2$の場合，$x$が`2`であれば$y$の値として`4`が返される。\n",
    "\n",
    "`Python`でも同じであり，データを**属性**と呼び，関数を**メソッド**と呼ぶ。\n",
    "\n",
    "整数型`10`というオブジェクトの場合：\n",
    "1. **属性**（attributes）は`10`が持つ様々なデータ（例えば，`10`という値や整数型という情報）\n",
    "1. **メソッド**（methods）は`10`特有の関数（例えば，加算，除算のように`10`というデータに働きかける関数）\n",
    "\n",
    "整数型`10`と文字列型`神戸大学`は異なるデータと関数を備えるオブジェクトとなる。"
   ]
  },
  {
   "cell_type": "markdown",
   "metadata": {
    "jp-MarkdownHeadingCollapsed": true
   },
   "source": [
    "### メソッドの例"
   ]
  },
  {
   "cell_type": "markdown",
   "metadata": {
    "hidden": true
   },
   "source": [
    "* **関数**、例えば，上で定義した`division()`や`sum()`は事前に決められた特定のオブジェクトに働きかけるものではない。\n",
    "* **メソッド**はオブジェクトに備わっている関数である。\n",
    "\n",
    "例えば，リストには様々なメソッドが用意されており，組み込み関数`dir()`を使うと表示できる。"
   ]
  },
  {
   "cell_type": "code",
   "execution_count": 82,
   "metadata": {
    "hidden": true
   },
   "outputs": [
    {
     "data": {
      "text/plain": [
       "['__add__',\n",
       " '__class__',\n",
       " '__class_getitem__',\n",
       " '__contains__',\n",
       " '__delattr__',\n",
       " '__delitem__',\n",
       " '__dir__',\n",
       " '__doc__',\n",
       " '__eq__',\n",
       " '__format__',\n",
       " '__ge__',\n",
       " '__getattribute__',\n",
       " '__getitem__',\n",
       " '__getstate__',\n",
       " '__gt__',\n",
       " '__hash__',\n",
       " '__iadd__',\n",
       " '__imul__',\n",
       " '__init__',\n",
       " '__init_subclass__',\n",
       " '__iter__',\n",
       " '__le__',\n",
       " '__len__',\n",
       " '__lt__',\n",
       " '__mul__',\n",
       " '__ne__',\n",
       " '__new__',\n",
       " '__reduce__',\n",
       " '__reduce_ex__',\n",
       " '__repr__',\n",
       " '__reversed__',\n",
       " '__rmul__',\n",
       " '__setattr__',\n",
       " '__setitem__',\n",
       " '__sizeof__',\n",
       " '__str__',\n",
       " '__subclasshook__',\n",
       " 'append',\n",
       " 'clear',\n",
       " 'copy',\n",
       " 'count',\n",
       " 'extend',\n",
       " 'index',\n",
       " 'insert',\n",
       " 'pop',\n",
       " 'remove',\n",
       " 'reverse',\n",
       " 'sort']"
      ]
     },
     "execution_count": 82,
     "metadata": {},
     "output_type": "execute_result"
    }
   ],
   "source": [
    "lst = [4, 3, 9, 0, 1]\n",
    "\n",
    "dir(lst)"
   ]
  },
  {
   "cell_type": "markdown",
   "metadata": {
    "hidden": true
   },
   "source": [
    "この中に`append`とあるが，リストに要素を追加する際に使ったメソッドである。"
   ]
  },
  {
   "cell_type": "code",
   "execution_count": 83,
   "metadata": {
    "hidden": true
   },
   "outputs": [],
   "source": [
    "lst.append(100)"
   ]
  },
  {
   "cell_type": "markdown",
   "metadata": {},
   "source": [
    "`append`はメソッドの名前であって，実行するには`()`が必要となる。\n",
    "表示してみる。"
   ]
  },
  {
   "cell_type": "code",
   "execution_count": 84,
   "metadata": {
    "hidden": true
   },
   "outputs": [
    {
     "data": {
      "text/plain": [
       "[4, 3, 9, 0, 1, 100]"
      ]
     },
     "execution_count": 84,
     "metadata": {},
     "output_type": "execute_result"
    }
   ],
   "source": [
    "lst"
   ]
  },
  {
   "cell_type": "markdown",
   "metadata": {
    "heading_collapsed": true
   },
   "source": [
    "## `if` 文"
   ]
  },
  {
   "cell_type": "markdown",
   "metadata": {
    "hidden": true
   },
   "source": [
    "`if`文を使うと，ブール型（真偽）に基づいてコードを実行することが可能となる。例えば，`x`の値が正の場合，\n",
    "\n",
    "`print(x, 'は正です')`\n",
    "\n",
    "を実行したいとしよう。"
   ]
  },
  {
   "cell_type": "code",
   "execution_count": 85,
   "metadata": {
    "hidden": true
   },
   "outputs": [],
   "source": [
    "x = 10"
   ]
  },
  {
   "cell_type": "markdown",
   "metadata": {},
   "source": [
    "この場合、次のコードは`True`を返す。"
   ]
  },
  {
   "cell_type": "code",
   "execution_count": 86,
   "metadata": {},
   "outputs": [
    {
     "data": {
      "text/plain": [
       "True"
      ]
     },
     "execution_count": 86,
     "metadata": {},
     "output_type": "execute_result"
    }
   ],
   "source": [
    "x > 0"
   ]
  },
  {
   "cell_type": "markdown",
   "metadata": {},
   "source": [
    "これを利用して`if`文を書く。"
   ]
  },
  {
   "cell_type": "code",
   "execution_count": 155,
   "metadata": {
    "hidden": true
   },
   "outputs": [
    {
     "name": "stdout",
     "output_type": "stream",
     "text": [
      "10 は正です。\n"
     ]
    }
   ],
   "source": [
    "if x > 0:\n",
    "    print(x, 'は正です。')\n",
    "    \n",
    "else:\n",
    "    print(x, 'は正ではありません。')"
   ]
  },
  {
   "cell_type": "markdown",
   "metadata": {
    "hidden": true
   },
   "source": [
    "＜注意点＞\n",
    ">* `if`と`else` で始まる条件を示す行の最後は`:`となる。\n",
    ">* `print()`の行は４つの半角スペースのインデントを入れること。\n",
    ">* `else`とは「`X>0`以外の場合」という意味。\n",
    "\n",
    "ここで`else`以下を省略してもエラーにはならないが，`x>0`が`False`の場合，なにも表示されない。"
   ]
  },
  {
   "cell_type": "markdown",
   "metadata": {},
   "source": [
    "関数化してみる。"
   ]
  },
  {
   "cell_type": "code",
   "execution_count": 91,
   "metadata": {},
   "outputs": [],
   "source": [
    "def sign_variable(x):\n",
    "    \n",
    "    if x > 0:\n",
    "        print(x, 'は正です。')\n",
    "    \n",
    "    else:\n",
    "        print(x, 'は正ではありません。')"
   ]
  },
  {
   "cell_type": "markdown",
   "metadata": {},
   "source": [
    "＜注意点＞\n",
    ">* `if`と`else` の行は４つの半角スペースのインデントが入っている。\n",
    ">* `print()`の行は8つの半角スペースのインデントを入っている。"
   ]
  },
  {
   "cell_type": "code",
   "execution_count": 90,
   "metadata": {},
   "outputs": [
    {
     "name": "stdout",
     "output_type": "stream",
     "text": [
      "-10 は正ではありません。\n"
     ]
    }
   ],
   "source": [
    "sign_variable(-10)"
   ]
  },
  {
   "cell_type": "markdown",
   "metadata": {
    "hidden": true
   },
   "source": [
    "次に，複数の条件を導入するために次の３つ`print`関数を使おう。\n",
    "\n",
    "1. `print(X, 'は正です')`\n",
    "1. `print(X, 'はゼロです')`\n",
    "1. `print(X, 'は負です')`"
   ]
  },
  {
   "cell_type": "code",
   "execution_count": 92,
   "metadata": {
    "hidden": true
   },
   "outputs": [],
   "source": [
    "x = -1"
   ]
  },
  {
   "cell_type": "code",
   "execution_count": 93,
   "metadata": {
    "hidden": true
   },
   "outputs": [
    {
     "name": "stdout",
     "output_type": "stream",
     "text": [
      "-1 は負です。\n"
     ]
    }
   ],
   "source": [
    "if x == 0:\n",
    "    print(x, 'はゼロです。')\n",
    "    \n",
    "elif x > 0:\n",
    "    print(x, 'は正です。')\n",
    "    \n",
    "else:\n",
    "    print(x, 'は負です。')"
   ]
  },
  {
   "cell_type": "markdown",
   "metadata": {
    "hidden": true
   },
   "source": [
    "注意点\n",
    "* `elif`は`else if`の省略形であり，２つ目の条件を定義する。\n",
    "* `elif`は`if`と`else`の間に複数入れることが可能\n",
    "* `x<0`の条件は不要（残りの可能性は`x<0`しかないため）"
   ]
  }
 ],
 "metadata": {
  "celltoolbar": "Tags",
  "kernel_info": {
   "name": "py4etrics"
  },
  "kernelspec": {
   "display_name": "py12",
   "language": "python",
   "name": "py12"
  },
  "language_info": {
   "codemirror_mode": {
    "name": "ipython",
    "version": 3
   },
   "file_extension": ".py",
   "mimetype": "text/x-python",
   "name": "python",
   "nbconvert_exporter": "python",
   "pygments_lexer": "ipython3",
   "version": "3.12.2"
  },
  "nteract": {
   "version": "0.22.4"
  },
  "toc": {
   "base_numbering": 1,
   "nav_menu": {},
   "number_sections": true,
   "sideBar": true,
   "skip_h1_title": false,
   "title_cell": "Table of Contents",
   "title_sidebar": "Contents",
   "toc_cell": false,
   "toc_position": {},
   "toc_section_display": true,
   "toc_window_display": true
  }
 },
 "nbformat": 4,
 "nbformat_minor": 4
}
