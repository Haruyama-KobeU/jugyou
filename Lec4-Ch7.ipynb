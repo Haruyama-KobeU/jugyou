{
 "cells": [
  {
   "cell_type": "markdown",
   "id": "0",
   "metadata": {
    "id": "cda8f6bb-1673-4218-a538-e47cdf09a782"
   },
   "source": [
    "# 第7章: ライブラリとエラーの基本"
   ]
  },
  {
   "cell_type": "markdown",
   "id": "1",
   "metadata": {
    "id": "4b752a23-e2f6-4187-9c94-47d6b404fc9d"
   },
   "source": [
    "## ライブラリ"
   ]
  },
  {
   "cell_type": "markdown",
   "id": "2",
   "metadata": {
    "id": "CPthmkjlKZM8"
   },
   "source": [
    "* ノートブックを開いてすべての組み込み関数が使える状態になっているわけではない。使えるようにするためには，モジュール（module），パッケージ（package），ライブラリ（library）が必要\n",
    "* `JupyterLite`では\n",
    "    * 一部のライブラリはインストールされているが、インポート（読み込み）する必要がある。\n",
    "    * その他のライブラリはインストールされていないため、インストールとインポート（読み込み）の両方をする必要がある。"
   ]
  },
  {
   "cell_type": "markdown",
   "id": "4345ecd6-fcd7-4dc9-beca-46878c6a321e",
   "metadata": {},
   "source": [
    "授業で使うインポート方法\n",
    "```\n",
    "(1) import ＜ライブラリ名＞\n",
    "(2) import ＜ライブラリ名＞ as ＜省略形＞\n",
    "```"
   ]
  },
  {
   "cell_type": "markdown",
   "id": "3",
   "metadata": {
    "id": "9455e682-be8a-4142-b74f-19680b411fb8"
   },
   "source": [
    "### `NumPy`ライブラリ"
   ]
  },
  {
   "cell_type": "markdown",
   "id": "84caf3b1-1fca-4fdf-8b67-806f836002e2",
   "metadata": {},
   "source": [
    "数値計算の高速化"
   ]
  },
  {
   "cell_type": "markdown",
   "id": "4",
   "metadata": {
    "id": "9sCINVxqKgMJ"
   },
   "source": [
    "コード7.1.1"
   ]
  },
  {
   "cell_type": "code",
   "execution_count": 1,
   "id": "5",
   "metadata": {
    "colab": {
     "base_uri": "https://localhost:8080/"
    },
    "executionInfo": {
     "elapsed": 19,
     "status": "ok",
     "timestamp": 1758070231490,
     "user": {
      "displayName": "T Haruyama",
      "userId": "09851044792665346893"
     },
     "user_tz": -540
    },
    "id": "14a9244b-0af0-4110-bcaf-1011f2a74766",
    "outputId": "c8a2d858-e29d-421e-e3ea-fbbbf3c2dddf"
   },
   "outputs": [
    {
     "name": "stdout",
     "output_type": "stream",
     "text": [
      "2.302585092994046\n"
     ]
    }
   ],
   "source": [
    "import numpy\n",
    "print( numpy.log(10) )"
   ]
  },
  {
   "cell_type": "markdown",
   "id": "6",
   "metadata": {
    "id": "OjyJ4WzKNUZm"
   },
   "source": [
    "コード7.1.2"
   ]
  },
  {
   "cell_type": "code",
   "execution_count": 2,
   "id": "7",
   "metadata": {
    "colab": {
     "base_uri": "https://localhost:8080/"
    },
    "executionInfo": {
     "elapsed": 9,
     "status": "ok",
     "timestamp": 1758070231501,
     "user": {
      "displayName": "T Haruyama",
      "userId": "09851044792665346893"
     },
     "user_tz": -540
    },
    "id": "889271cf-83dd-4505-a523-b6ce141601a7",
    "outputId": "d9aa4400-1715-47e2-868e-2ea1e404c591"
   },
   "outputs": [
    {
     "name": "stdout",
     "output_type": "stream",
     "text": [
      "2.302585092994046\n"
     ]
    }
   ],
   "source": [
    "import numpy as np\n",
    "print( np.log(10) )"
   ]
  },
  {
   "cell_type": "markdown",
   "id": "14",
   "metadata": {
    "id": "_-YPHL92NnHa"
   },
   "source": [
    "表7.1：$\\log_{10}10$（常用対数）"
   ]
  },
  {
   "cell_type": "code",
   "execution_count": null,
   "id": "15",
   "metadata": {
    "colab": {
     "base_uri": "https://localhost:8080/"
    },
    "executionInfo": {
     "elapsed": 10,
     "status": "ok",
     "timestamp": 1758070231546,
     "user": {
      "displayName": "T Haruyama",
      "userId": "09851044792665346893"
     },
     "user_tz": -540
    },
    "id": "5579edb8-bd73-42be-977f-92ff2e6e942d",
    "outputId": "9bc52d68-cc3f-4645-9732-94778e5a8d82"
   },
   "outputs": [],
   "source": [
    "print( np.log10(10) )"
   ]
  },
  {
   "cell_type": "markdown",
   "id": "16",
   "metadata": {
    "id": "Sr0F5-XcOIhu"
   },
   "source": [
    "表7.1：$\\log_{e}10=\\ln10$（自然対数）"
   ]
  },
  {
   "cell_type": "code",
   "execution_count": null,
   "id": "17",
   "metadata": {
    "colab": {
     "base_uri": "https://localhost:8080/"
    },
    "executionInfo": {
     "elapsed": 6,
     "status": "ok",
     "timestamp": 1758070231547,
     "user": {
      "displayName": "T Haruyama",
      "userId": "09851044792665346893"
     },
     "user_tz": -540
    },
    "id": "dmxSiR28OIhu",
    "outputId": "9c147407-f258-4553-c241-4bd58ef00f63"
   },
   "outputs": [],
   "source": [
    "print( np.log(10) )"
   ]
  },
  {
   "cell_type": "markdown",
   "id": "18",
   "metadata": {
    "id": "hpAevb2mOE3y"
   },
   "source": [
    "表7.1：$e^1$"
   ]
  },
  {
   "cell_type": "code",
   "execution_count": null,
   "id": "19",
   "metadata": {
    "colab": {
     "base_uri": "https://localhost:8080/"
    },
    "executionInfo": {
     "elapsed": 59,
     "status": "ok",
     "timestamp": 1758070231603,
     "user": {
      "displayName": "T Haruyama",
      "userId": "09851044792665346893"
     },
     "user_tz": -540
    },
    "id": "SjkAp_XROE30",
    "outputId": "388c108b-09d1-4236-9267-1c943d8e2ea4"
   },
   "outputs": [],
   "source": [
    "print( np.exp(1) )"
   ]
  },
  {
   "cell_type": "markdown",
   "id": "20",
   "metadata": {
    "id": "aJTTRP2_OOcy"
   },
   "source": [
    "表7.1：$\\sqrt{4}$"
   ]
  },
  {
   "cell_type": "code",
   "execution_count": null,
   "id": "21",
   "metadata": {
    "colab": {
     "base_uri": "https://localhost:8080/"
    },
    "executionInfo": {
     "elapsed": 17,
     "status": "ok",
     "timestamp": 1758070231604,
     "user": {
      "displayName": "T Haruyama",
      "userId": "09851044792665346893"
     },
     "user_tz": -540
    },
    "id": "737b88ec-29d0-4768-a430-f5e076f44965",
    "outputId": "d4e3c63f-2143-467e-bda1-91fbcf194520"
   },
   "outputs": [],
   "source": [
    "print( np.sqrt(4) )"
   ]
  },
  {
   "cell_type": "markdown",
   "id": "22",
   "metadata": {
    "id": "6a84a3d8-1eb0-431c-aff6-aa2bd0503d03"
   },
   "source": [
    "### `random`モジュール"
   ]
  },
  {
   "cell_type": "markdown",
   "id": "69342418-c78b-4150-adbe-2b350ffc737e",
   "metadata": {},
   "source": [
    "ランダム変数（疑似乱数）を生成する"
   ]
  },
  {
   "cell_type": "markdown",
   "id": "23",
   "metadata": {
    "id": "ZuebuYHbOdCD"
   },
   "source": [
    "コード7.1.6"
   ]
  },
  {
   "cell_type": "code",
   "execution_count": 4,
   "id": "24",
   "metadata": {
    "executionInfo": {
     "elapsed": 11,
     "status": "ok",
     "timestamp": 1758070231604,
     "user": {
      "displayName": "T Haruyama",
      "userId": "09851044792665346893"
     },
     "user_tz": -540
    },
    "id": "816e69a0-66a0-4d93-b9b1-364ac2d4e002"
   },
   "outputs": [],
   "source": [
    "import random"
   ]
  },
  {
   "cell_type": "markdown",
   "id": "65e8c00f-c4f9-4e2a-8ea9-d58d2e6d9e1d",
   "metadata": {},
   "source": [
    "```\n",
    "離散一型様分布のランダム変数生成関数\n",
    "\n",
    "random.randint(a, b)\n",
    "\n",
    "    [引数]                 [戻り値]\n",
    "    a：最小値（整数型）        離散型一様分布(a, bを含む)\n",
    "    b：最大値（整数型）        からのランダム変数一つ\n",
    "```"
   ]
  },
  {
   "cell_type": "markdown",
   "id": "25",
   "metadata": {
    "id": "lGOASTzJOgQJ"
   },
   "source": [
    "コード7.1.7"
   ]
  },
  {
   "cell_type": "code",
   "execution_count": 5,
   "id": "26",
   "metadata": {
    "colab": {
     "base_uri": "https://localhost:8080/"
    },
    "executionInfo": {
     "elapsed": 13,
     "status": "ok",
     "timestamp": 1758070231606,
     "user": {
      "displayName": "T Haruyama",
      "userId": "09851044792665346893"
     },
     "user_tz": -540
    },
    "id": "ba5521c1-fa8d-49a4-a548-7a4fb3f65f6a",
    "outputId": "6dffd4d1-a015-48cb-86bc-fe3fff218c4c"
   },
   "outputs": [
    {
     "data": {
      "text/plain": [
       "4"
      ]
     },
     "execution_count": 5,
     "metadata": {},
     "output_type": "execute_result"
    }
   ],
   "source": [
    "random.randint(1, 6)"
   ]
  },
  {
   "cell_type": "markdown",
   "id": "27",
   "metadata": {
    "id": "_oSHHP86Oh7R"
   },
   "source": [
    "コード7.1.8"
   ]
  },
  {
   "cell_type": "code",
   "execution_count": 8,
   "id": "28",
   "metadata": {
    "executionInfo": {
     "elapsed": 7,
     "status": "ok",
     "timestamp": 1758070231606,
     "user": {
      "displayName": "T Haruyama",
      "userId": "09851044792665346893"
     },
     "user_tz": -540
    },
    "id": "d8fd24bd-f1b2-4822-936e-c75691414320"
   },
   "outputs": [
    {
     "data": {
      "text/plain": [
       "[6, 6, 1, 5, 4]"
      ]
     },
     "execution_count": 8,
     "metadata": {},
     "output_type": "execute_result"
    }
   ],
   "source": [
    "lst = []\n",
    "\n",
    "for _ in range(5):\n",
    "    \n",
    "    val = random.randint(1,6)\n",
    "    \n",
    "    lst.append(val)\n",
    "\n",
    "lst"
   ]
  },
  {
   "cell_type": "markdown",
   "id": "29",
   "metadata": {
    "id": "qv-8zDxDOrlK"
   },
   "source": [
    "コード7.1.9"
   ]
  },
  {
   "cell_type": "code",
   "execution_count": 9,
   "id": "30",
   "metadata": {
    "colab": {
     "base_uri": "https://localhost:8080/"
    },
    "executionInfo": {
     "elapsed": 7,
     "status": "ok",
     "timestamp": 1758070231607,
     "user": {
      "displayName": "T Haruyama",
      "userId": "09851044792665346893"
     },
     "user_tz": -540
    },
    "id": "0e73c284-1040-4c28-b5bd-1e3eccd2d618",
    "outputId": "a8ba4bea-ec76-46f0-86d2-a30b76080718"
   },
   "outputs": [
    {
     "data": {
      "text/plain": [
       "[6, 2, 4, 2, 2]"
      ]
     },
     "execution_count": 9,
     "metadata": {},
     "output_type": "execute_result"
    }
   ],
   "source": [
    "[random.randint(1,6) for _ in range(5)]"
   ]
  },
  {
   "cell_type": "markdown",
   "id": "630c8fa2-7384-4129-878e-8763c2771091",
   "metadata": {},
   "source": [
    "```\n",
    "正規分布のランダム変数生成関数\n",
    "\n",
    "random.gauss(mu=0, sigma=1)\n",
    "    \n",
    "    [引数]             [戻り値]\n",
    "    mu：平均            正規分布からのランダム変数一つ\n",
    "    sigma：標準偏差\n",
    "```"
   ]
  },
  {
   "cell_type": "markdown",
   "id": "31",
   "metadata": {
    "id": "V8j0yhpAO13N"
   },
   "source": [
    "コード7.1.10：標準正規分布からのランダム変数"
   ]
  },
  {
   "cell_type": "code",
   "execution_count": 10,
   "id": "32",
   "metadata": {
    "colab": {
     "base_uri": "https://localhost:8080/"
    },
    "executionInfo": {
     "elapsed": 2,
     "status": "ok",
     "timestamp": 1758070231609,
     "user": {
      "displayName": "T Haruyama",
      "userId": "09851044792665346893"
     },
     "user_tz": -540
    },
    "id": "ef99e253-70d2-41b0-adf6-ef4c5290bbad",
    "outputId": "0b9fe667-b38f-4a4e-e53f-c131c234ad6e"
   },
   "outputs": [
    {
     "data": {
      "text/plain": [
       "-0.6356647431426835"
      ]
     },
     "execution_count": 10,
     "metadata": {},
     "output_type": "execute_result"
    }
   ],
   "source": [
    "random.gauss()"
   ]
  },
  {
   "cell_type": "markdown",
   "id": "33",
   "metadata": {
    "id": "vJZBvUxIO37-"
   },
   "source": [
    "コード7.1.11"
   ]
  },
  {
   "cell_type": "code",
   "execution_count": null,
   "id": "34",
   "metadata": {
    "colab": {
     "base_uri": "https://localhost:8080/"
    },
    "executionInfo": {
     "elapsed": 5,
     "status": "ok",
     "timestamp": 1758070231615,
     "user": {
      "displayName": "T Haruyama",
      "userId": "09851044792665346893"
     },
     "user_tz": -540
    },
    "id": "bf7a8467-35ad-4484-a253-e1f61ac6c6d2",
    "outputId": "88b63913-126c-418c-8818-a189d03b6fb6"
   },
   "outputs": [],
   "source": [
    "[random.gauss(0,10) for _ in range(5)]"
   ]
  },
  {
   "cell_type": "markdown",
   "id": "9c25c325-fd79-4ba4-888a-14f726abfaf6",
   "metadata": {},
   "source": [
    "ランダム変数の「種」（`seed`）で引数を指定すると同じ値を生成することができる"
   ]
  },
  {
   "cell_type": "markdown",
   "id": "35",
   "metadata": {
    "id": "DfpWZ1neO76H"
   },
   "source": [
    "コード7.1.12"
   ]
  },
  {
   "cell_type": "code",
   "execution_count": 17,
   "id": "36",
   "metadata": {
    "colab": {
     "base_uri": "https://localhost:8080/"
    },
    "executionInfo": {
     "elapsed": 11,
     "status": "ok",
     "timestamp": 1758070231627,
     "user": {
      "displayName": "T Haruyama",
      "userId": "09851044792665346893"
     },
     "user_tz": -540
    },
    "id": "c5b0f4d2-d086-4af5-ac61-6da49ddd8e33",
    "outputId": "1b63514f-5e71-4659-84af-1a4bbad06c98"
   },
   "outputs": [
    {
     "data": {
      "text/plain": [
       "[4.042284332246665, 1.380113926483041, -3.985847224936054, 2.6274798902660246]"
      ]
     },
     "execution_count": 17,
     "metadata": {},
     "output_type": "execute_result"
    }
   ],
   "source": [
    "random.seed(123)\n",
    "\n",
    "[random.gauss(0,10) for _ in range(4)]"
   ]
  },
  {
   "cell_type": "markdown",
   "id": "37",
   "metadata": {
    "id": "edaf9bd1-1069-46c3-bac1-f5d6d73d1233"
   },
   "source": [
    "### `py4macro`モジュール"
   ]
  },
  {
   "cell_type": "markdown",
   "id": "36717ac4-e878-4602-8bcd-d4f99cf2af85",
   "metadata": {},
   "source": [
    "* データや様々な関数\n",
    "* インストールする必要がある。"
   ]
  },
  {
   "cell_type": "markdown",
   "id": "38",
   "metadata": {
    "id": "zhZFDhlVPAuN"
   },
   "source": [
    "コード7.1.13"
   ]
  },
  {
   "cell_type": "code",
   "execution_count": 1,
   "id": "39",
   "metadata": {
    "colab": {
     "base_uri": "https://localhost:8080/"
    },
    "executionInfo": {
     "elapsed": 11134,
     "status": "ok",
     "timestamp": 1758070242761,
     "user": {
      "displayName": "T Haruyama",
      "userId": "09851044792665346893"
     },
     "user_tz": -540
    },
    "id": "774cb173-d771-4949-b78e-e83e16d2f460",
    "outputId": "006ff73c-d69d-4503-e007-4085c097a5a0"
   },
   "outputs": [
    {
     "name": "stdout",
     "output_type": "stream",
     "text": [
      "Note: you may need to restart the kernel to use updated packages.\n"
     ]
    }
   ],
   "source": [
    "%pip install -q py4macro   # インストール（試験対象外）\n",
    "import py4macro            # インポート"
   ]
  },
  {
   "cell_type": "markdown",
   "id": "3cd5c791-374b-48e5-bcf3-a98b3fe4f528",
   "metadata": {},
   "source": [
    "```\n",
    "ある区間を等分する値のリストを作成する関数\n",
    "    \n",
    "py4macro.xvalues(low, high, number)\n",
    "\n",
    "    [引数]                     [戻り値]\n",
    "    low：最小値                 lowからhighの区間を等分\n",
    "    high：最大値                しn個の浮動小数点型から構\n",
    "    number：作成する数値の数      成されるリスト\n",
    "           （正の整数型）\n",
    "```"
   ]
  },
  {
   "cell_type": "markdown",
   "id": "40",
   "metadata": {
    "id": "JJeBun_FPJGk"
   },
   "source": [
    "コード7.1.14"
   ]
  },
  {
   "cell_type": "code",
   "execution_count": 2,
   "id": "41",
   "metadata": {
    "colab": {
     "base_uri": "https://localhost:8080/"
    },
    "executionInfo": {
     "elapsed": 3,
     "status": "ok",
     "timestamp": 1758070242768,
     "user": {
      "displayName": "T Haruyama",
      "userId": "09851044792665346893"
     },
     "user_tz": -540
    },
    "id": "f4fbd6b8-0c59-439a-82e6-d6f4fbc4fdcf",
    "outputId": "746df0cf-4b8d-45aa-a3a6-5a6d9561ef07"
   },
   "outputs": [
    {
     "data": {
      "text/plain": [
       "[0.0, 0.5, 1.0]"
      ]
     },
     "execution_count": 2,
     "metadata": {},
     "output_type": "execute_result"
    }
   ],
   "source": [
    "py4macro.xvalues(0, 1, 3)"
   ]
  },
  {
   "cell_type": "markdown",
   "id": "42",
   "metadata": {
    "id": "8jbXYDN7PMVA"
   },
   "source": [
    "コード7.1.15"
   ]
  },
  {
   "cell_type": "code",
   "execution_count": 3,
   "id": "43",
   "metadata": {
    "colab": {
     "base_uri": "https://localhost:8080/"
    },
    "executionInfo": {
     "elapsed": 5,
     "status": "ok",
     "timestamp": 1758070242774,
     "user": {
      "displayName": "T Haruyama",
      "userId": "09851044792665346893"
     },
     "user_tz": -540
    },
    "id": "9fd5660d-a353-4a3d-b29f-e0d32959ee3e",
    "outputId": "e0bfc46f-b208-4042-bb4e-7ecd8239873e"
   },
   "outputs": [
    {
     "name": "stdout",
     "output_type": "stream",
     "text": [
      ".as_integer_ratio()  .conjugate()         .fromhex()           .hex()\n",
      ".imag                .is_integer()        .real\n"
     ]
    }
   ],
   "source": [
    "pi = 3.14\n",
    "py4macro.see(pi)"
   ]
  },
  {
   "cell_type": "markdown",
   "id": "44",
   "metadata": {
    "id": "31c6f1c9-b694-4ec8-b6d6-e4205128d70f"
   },
   "source": [
    "## エラー"
   ]
  },
  {
   "cell_type": "markdown",
   "id": "45",
   "metadata": {
    "id": "62b5612c-82d0-4c98-b546-a0bbababdcc9"
   },
   "source": [
    "授業では扱わない"
   ]
  }
 ],
 "metadata": {
  "colab": {
   "provenance": []
  },
  "kernelspec": {
   "display_name": "py13",
   "language": "python",
   "name": "py13"
  },
  "language_info": {
   "codemirror_mode": {
    "name": "ipython",
    "version": 3
   },
   "file_extension": ".py",
   "mimetype": "text/x-python",
   "name": "python",
   "nbconvert_exporter": "python",
   "pygments_lexer": "ipython3",
   "version": "3.13.7"
  }
 },
 "nbformat": 4,
 "nbformat_minor": 5
}
