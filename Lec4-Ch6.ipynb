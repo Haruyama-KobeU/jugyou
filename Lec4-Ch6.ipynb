{
 "cells": [
  {
   "cell_type": "markdown",
   "id": "0",
   "metadata": {
    "id": "b3458afa-2272-4e28-9976-dca7d49db4ce"
   },
   "source": [
    "# 第6章：制御フロー"
   ]
  },
  {
   "cell_type": "markdown",
   "id": "1",
   "metadata": {
    "id": "a3a14021-ab67-4772-8d8f-ac9b05df0cb1"
   },
   "source": [
    "## 制御フローとは"
   ]
  },
  {
   "cell_type": "markdown",
   "id": "17",
   "metadata": {
    "id": "4e3cd4b0-4a8d-4da0-b2f7-d2124c17640d",
    "jp-MarkdownHeadingCollapsed": true
   },
   "source": [
    "## `for`ループ"
   ]
  },
  {
   "cell_type": "markdown",
   "id": "18",
   "metadata": {
    "id": "3e2c8314-d95d-4e79-8847-bc652db1df8c",
    "jp-MarkdownHeadingCollapsed": true
   },
   "source": [
    "### `for`ループの書き方"
   ]
  },
  {
   "cell_type": "markdown",
   "id": "6cf8532c-c889-4ba4-807d-b1723be93392",
   "metadata": {},
   "source": [
    "```\n",
    "for ＜イテラブルの要素を割り当てる変数＞ in ＜イテラブル＞:\n",
    "    ＜ループ処理のコード＞\n",
    "```\n",
    "\n",
    "* イテラブル（iterable）とはリストやタプル，文字列のように要素を１つずつ返すことができる反復可能なオブジェクトを指します。\n",
    "* 2行目以降には、慣例では4つの半角スペースのインデントが行頭に入ります。"
   ]
  },
  {
   "cell_type": "markdown",
   "id": "19",
   "metadata": {
    "id": "a74f2a58-e0e4-4577-80bd-4fa083ad80b3",
    "jp-MarkdownHeadingCollapsed": true
   },
   "source": [
    "### 例1：`print()`関数を使う"
   ]
  },
  {
   "cell_type": "markdown",
   "id": "20",
   "metadata": {
    "id": "pxOypBh5HSxC"
   },
   "source": [
    "コード6.3.1"
   ]
  },
  {
   "cell_type": "code",
   "execution_count": 1,
   "id": "21",
   "metadata": {
    "colab": {
     "base_uri": "https://localhost:8080/"
    },
    "executionInfo": {
     "elapsed": 88,
     "status": "ok",
     "timestamp": 1758070189966,
     "user": {
      "displayName": "T Haruyama",
      "userId": "09851044792665346893"
     },
     "user_tz": -540
    },
    "id": "f7cd2df4-ce35-453d-b3e4-b7b067e756bd",
    "outputId": "99632286-d7e9-4b73-b568-9108b1649d78"
   },
   "outputs": [
    {
     "name": "stdout",
     "output_type": "stream",
     "text": [
      "消費\n",
      "投資\n",
      "政府支出\n",
      "純輸出\n"
     ]
    }
   ],
   "source": [
    "# CELL PROVIDED\n",
    "\n",
    "components = [\"消費\", \"投資\", \"政府支出\", \"純輸出\"]\n",
    "\n",
    "for c in components:\n",
    "    print(c)"
   ]
  },
  {
   "cell_type": "markdown",
   "id": "22",
   "metadata": {
    "id": "634ab982-d6d1-4661-b0bb-89d4c986758f",
    "jp-MarkdownHeadingCollapsed": true
   },
   "source": [
    "### 例2：リストのメソッド`.append()`を使う"
   ]
  },
  {
   "cell_type": "markdown",
   "id": "86ce3be5-6401-44c8-a154-76b3220bb93a",
   "metadata": {},
   "source": [
    "消費関数\n",
    "\n",
    "$c = a + b y$\n",
    "\n",
    "* $c$：消費\n",
    "* $y$：所得\n",
    "* $a=0.1$：自発的（自律的）消費\n",
    "    * 所得が`0`の場合にも必要な消費\n",
    "* $b=0.6$：限界消費性向（marginal propensity to consume, MPC）\n",
    "    * 所得が一単位増加した場合の消費の変化"
   ]
  },
  {
   "cell_type": "markdown",
   "id": "23",
   "metadata": {
    "id": "lL_D8XLbHalk"
   },
   "source": [
    "コード6.3.2"
   ]
  },
  {
   "cell_type": "code",
   "execution_count": 4,
   "id": "24",
   "metadata": {
    "id": "e5e86823-8326-4229-82f5-bc521066ff7a"
   },
   "outputs": [],
   "source": [
    "# CELL PROVIDED\n",
    "\n",
    "y_lst = [1, 2, 3, 4, 5]"
   ]
  },
  {
   "cell_type": "markdown",
   "id": "25",
   "metadata": {
    "id": "ykM6B-uFHfaS"
   },
   "source": [
    "コード6.3.3"
   ]
  },
  {
   "cell_type": "code",
   "execution_count": null,
   "id": "26",
   "metadata": {
    "colab": {
     "base_uri": "https://localhost:8080/"
    },
    "executionInfo": {
     "elapsed": 15,
     "status": "ok",
     "timestamp": 1758070189987,
     "user": {
      "displayName": "T Haruyama",
      "userId": "09851044792665346893"
     },
     "user_tz": -540
    },
    "id": "7a0f42f1-94f1-4354-a415-150514cab2b2",
    "outputId": "16524f09-7df0-4bc5-db8a-ac628e81c1d0"
   },
   "outputs": [],
   "source": [
    "c_lst = []\n",
    "\n",
    "for y in y_lst:\n",
    "    c = 0.1 + 0.6 * y\n",
    "    c_lst.append(c)\n",
    "\n",
    "c_lst"
   ]
  },
  {
   "cell_type": "markdown",
   "id": "27",
   "metadata": {
    "id": "ndwWg4-THmFK"
   },
   "source": [
    "コード6.3.4"
   ]
  },
  {
   "cell_type": "code",
   "execution_count": null,
   "id": "28",
   "metadata": {
    "id": "ed4a31f8-208e-41fe-9d0c-d1cfff79a907"
   },
   "outputs": [],
   "source": [
    "def consumption(lst):\n",
    "\n",
    "    c_lst = []\n",
    "\n",
    "    for y in lst:\n",
    "        c = 0.1 + 0.6 * y\n",
    "        c_lst.append(c)\n",
    "\n",
    "    return c_lst"
   ]
  },
  {
   "cell_type": "markdown",
   "id": "29",
   "metadata": {
    "id": "2761a0d0-0d40-4af9-a622-903b224af9a5",
    "jp-MarkdownHeadingCollapsed": true
   },
   "source": [
    "### 例3：`zip()`関数を使う"
   ]
  },
  {
   "cell_type": "markdown",
   "id": "58760b16-4485-4811-ac39-f2427a8f66ed",
   "metadata": {},
   "source": [
    "*所得$y$と限界消費性向$b$の両方が同時に変化する場合"
   ]
  },
  {
   "cell_type": "markdown",
   "id": "30",
   "metadata": {
    "id": "SCubMRmNHxN-"
   },
   "source": [
    "コード6.3.5"
   ]
  },
  {
   "cell_type": "code",
   "execution_count": 5,
   "id": "31",
   "metadata": {
    "id": "e8cee3b2-d5a4-493a-864e-39c87723e2db"
   },
   "outputs": [],
   "source": [
    "# CELL PROVIDED\n",
    "\n",
    "mpc_lst = [0.6, 0.5, 0.5, 0.3, 0.2]"
   ]
  },
  {
   "cell_type": "markdown",
   "id": "32",
   "metadata": {
    "id": "8n2u_t4iH2qk"
   },
   "source": [
    "コード6.3.6"
   ]
  },
  {
   "cell_type": "code",
   "execution_count": 6,
   "id": "33",
   "metadata": {
    "colab": {
     "base_uri": "https://localhost:8080/"
    },
    "executionInfo": {
     "elapsed": 58,
     "status": "ok",
     "timestamp": 1758070190070,
     "user": {
      "displayName": "T Haruyama",
      "userId": "09851044792665346893"
     },
     "user_tz": -540
    },
    "id": "0c5cab4c-dd83-410e-91c0-6c720487e4d8",
    "outputId": "8b4d9fac-1a05-463f-c25a-268e3217ef12"
   },
   "outputs": [
    {
     "data": {
      "text/plain": [
       "[0.7, 1.1, 1.6, 1.3, 1.1]"
      ]
     },
     "execution_count": 6,
     "metadata": {},
     "output_type": "execute_result"
    }
   ],
   "source": [
    "c_lst = []\n",
    "\n",
    "for y, mpc in zip(y_lst, mpc_lst):\n",
    "    c = 0.1 + mpc * y\n",
    "    c_lst.append(c)\n",
    "\n",
    "c_lst"
   ]
  },
  {
   "cell_type": "markdown",
   "id": "34",
   "metadata": {
    "id": "1a6a2060-2d26-4afa-9306-d7f69a9bac8f",
    "jp-MarkdownHeadingCollapsed": true
   },
   "source": [
    "### 例4：`range()`関数を使う（資本蓄積）"
   ]
  },
  {
   "cell_type": "markdown",
   "id": "35",
   "metadata": {
    "id": "-E_ROK-7H_eh"
   },
   "source": [
    "コード6.3.7"
   ]
  },
  {
   "cell_type": "code",
   "execution_count": 7,
   "id": "36",
   "metadata": {
    "colab": {
     "base_uri": "https://localhost:8080/"
    },
    "executionInfo": {
     "elapsed": 33,
     "status": "ok",
     "timestamp": 1758070190073,
     "user": {
      "displayName": "T Haruyama",
      "userId": "09851044792665346893"
     },
     "user_tz": -540
    },
    "id": "b6cd2205-3755-4d8b-8814-14e9f937633d",
    "outputId": "a3bbf96b-6163-44d0-b6c1-0b381c8f7cee"
   },
   "outputs": [
    {
     "data": {
      "text/plain": [
       "[0, 10, 20, 30, 40, 50]"
      ]
     },
     "execution_count": 7,
     "metadata": {},
     "output_type": "execute_result"
    }
   ],
   "source": [
    "k = 0\n",
    "k_lst = [k]    # 初期値をリストの最初の要素に使う\n",
    "\n",
    "for _ in range(5):\n",
    "    k = k + 10\n",
    "    k_lst.append(k)\n",
    "\n",
    "k_lst"
   ]
  },
  {
   "cell_type": "markdown",
   "id": "37",
   "metadata": {
    "id": "6aeb1fd7-9d8b-4de5-a7de-a8f8b96082b2",
    "jp-MarkdownHeadingCollapsed": true
   },
   "source": [
    "### 例5：`range()`（資産の推移）"
   ]
  },
  {
   "cell_type": "markdown",
   "id": "38",
   "metadata": {
    "id": "FShLuAfWIGgo"
   },
   "source": [
    "コード6.3.8"
   ]
  },
  {
   "cell_type": "code",
   "execution_count": 8,
   "id": "39",
   "metadata": {
    "colab": {
     "base_uri": "https://localhost:8080/"
    },
    "executionInfo": {
     "elapsed": 27,
     "status": "ok",
     "timestamp": 1758070190073,
     "user": {
      "displayName": "T Haruyama",
      "userId": "09851044792665346893"
     },
     "user_tz": -540
    },
    "id": "ba854e29-6992-4bba-9cee-e17a01bf7356",
    "outputId": "95b6bb80-46ae-4eed-aef8-45516aa77713"
   },
   "outputs": [
    {
     "data": {
      "text/plain": [
       "[100, 103.0, 106.09, 109.2727, 112.550881, 115.92740743]"
      ]
     },
     "execution_count": 8,
     "metadata": {},
     "output_type": "execute_result"
    }
   ],
   "source": [
    "wealth = 100\n",
    "wealth_lst = [wealth]   # 初期値をリストの最初の要素に使う\n",
    "\n",
    "for _ in range(5):\n",
    "    wealth = wealth * (1 + 0.03)\n",
    "    wealth_lst.append(wealth)\n",
    "\n",
    "wealth_lst"
   ]
  },
  {
   "cell_type": "markdown",
   "id": "40",
   "metadata": {
    "id": "7g6i6iP3IOx1"
   },
   "source": [
    "コード6.3.9"
   ]
  },
  {
   "cell_type": "code",
   "execution_count": 10,
   "id": "41",
   "metadata": {
    "id": "e83c67ca-73c2-47b8-b68c-8c2bab0f0224"
   },
   "outputs": [
    {
     "data": {
      "text/plain": [
       "[100.0, 103.0, 106.08999999999999, 109.2727, 112.55088100000002, 115.92740743]"
      ]
     },
     "execution_count": 10,
     "metadata": {},
     "output_type": "execute_result"
    }
   ],
   "source": [
    "wealth_lst = []\n",
    "\n",
    "for t in range(6):\n",
    "    wealth = 100 * (1+0.03)**t\n",
    "    wealth_lst.append(wealth)\n",
    "\n",
    "wealth_lst"
   ]
  },
  {
   "cell_type": "markdown",
   "id": "42",
   "metadata": {
    "id": "002ac211-d0b5-4a66-b713-6b221d15cdbb",
    "jp-MarkdownHeadingCollapsed": true
   },
   "source": [
    "## リスト内包表記"
   ]
  },
  {
   "cell_type": "markdown",
   "id": "2082dc30-7328-4f27-b987-f06c0625a225",
   "metadata": {},
   "source": [
    "リスト内包表記では、`for`ループの考えを使い，コード$1$行でリストを簡単に生成することができます。\n",
    "\n",
    "リスト内包表記の書き方\n",
    "```\n",
    "[＜実行したい内容＞ for ＜要素を割り当てる変数＞ in ＜イテラブル＞]\n",
    "```"
   ]
  },
  {
   "cell_type": "markdown",
   "id": "43",
   "metadata": {
    "id": "zQXedP8DIadw"
   },
   "source": [
    "コード6.4.1"
   ]
  },
  {
   "cell_type": "code",
   "execution_count": 11,
   "id": "44",
   "metadata": {
    "colab": {
     "base_uri": "https://localhost:8080/"
    },
    "executionInfo": {
     "elapsed": 26,
     "status": "ok",
     "timestamp": 1758070190074,
     "user": {
      "displayName": "T Haruyama",
      "userId": "09851044792665346893"
     },
     "user_tz": -540
    },
    "id": "66a29083-445a-4918-99e3-2427775dcf0c",
    "outputId": "6358cf58-8253-47d8-c1ee-becd6a4b8317"
   },
   "outputs": [
    {
     "data": {
      "text/plain": [
       "[10, 20, 30, 40, 50]"
      ]
     },
     "execution_count": 11,
     "metadata": {},
     "output_type": "execute_result"
    }
   ],
   "source": [
    "[10 * y for y in y_lst]"
   ]
  },
  {
   "cell_type": "markdown",
   "id": "45",
   "metadata": {
    "id": "-cK8dMNWId1o"
   },
   "source": [
    "コード6.4.2"
   ]
  },
  {
   "cell_type": "code",
   "execution_count": 12,
   "id": "46",
   "metadata": {
    "colab": {
     "base_uri": "https://localhost:8080/"
    },
    "executionInfo": {
     "elapsed": 8,
     "status": "ok",
     "timestamp": 1758070190080,
     "user": {
      "displayName": "T Haruyama",
      "userId": "09851044792665346893"
     },
     "user_tz": -540
    },
    "id": "240b157b-8b2d-4d8e-a75b-9453b56b9937",
    "outputId": "55c6c8f1-58d9-4449-b539-e880abef5b44"
   },
   "outputs": [
    {
     "data": {
      "text/plain": [
       "[0.7, 1.3, 1.9, 2.5, 3.1]"
      ]
     },
     "execution_count": 12,
     "metadata": {},
     "output_type": "execute_result"
    }
   ],
   "source": [
    "[0.1 + 0.6 * y for y in y_lst]"
   ]
  },
  {
   "cell_type": "markdown",
   "id": "47",
   "metadata": {
    "id": "5AafpKuhIh0k"
   },
   "source": [
    "コード6.4.3"
   ]
  },
  {
   "cell_type": "code",
   "execution_count": 13,
   "id": "48",
   "metadata": {
    "colab": {
     "base_uri": "https://localhost:8080/"
    },
    "executionInfo": {
     "elapsed": 7,
     "status": "ok",
     "timestamp": 1758070190087,
     "user": {
      "displayName": "T Haruyama",
      "userId": "09851044792665346893"
     },
     "user_tz": -540
    },
    "id": "55bc07dc-0778-43f3-a595-223400348321",
    "outputId": "c17c886b-7b6f-4fed-d5fc-f27d6a71f5ab"
   },
   "outputs": [
    {
     "data": {
      "text/plain": [
       "[100.0, 103.0, 106.08999999999999, 109.2727, 112.55088100000002, 115.92740743]"
      ]
     },
     "execution_count": 13,
     "metadata": {},
     "output_type": "execute_result"
    }
   ],
   "source": [
    "[100 * (1+0.03) ** t for t in range(6)]"
   ]
  },
  {
   "cell_type": "markdown",
   "id": "58031896-89aa-4865-a66e-3666cb55e29e",
   "metadata": {},
   "source": [
    "## `While`ループ"
   ]
  },
  {
   "cell_type": "markdown",
   "id": "20f57bc5-e5a6-4f93-91a1-4fbdafabe470",
   "metadata": {},
   "source": [
    "授業では扱わない"
   ]
  },
  {
   "cell_type": "code",
   "execution_count": null,
   "id": "42423422-c80f-4660-90d8-453fecc98c1e",
   "metadata": {},
   "outputs": [],
   "source": []
  }
 ],
 "metadata": {
  "colab": {
   "provenance": []
  },
  "kernelspec": {
   "display_name": "Python 3 (ipykernel)",
   "language": "python",
   "name": "python3"
  },
  "language_info": {
   "codemirror_mode": {
    "name": "ipython",
    "version": 3
   },
   "file_extension": ".py",
   "mimetype": "text/x-python",
   "name": "python",
   "nbconvert_exporter": "python",
   "pygments_lexer": "ipython3",
   "version": "3.13.7"
  }
 },
 "nbformat": 4,
 "nbformat_minor": 5
}
