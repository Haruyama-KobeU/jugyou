{
    "cells": [
        {
            "cell_type": "markdown",
            "metadata": {},
            "source": [
                "# \u5358\u56de\u5e30\u5206\u6790"
            ]
        },
        {
            "cell_type": "code",
            "execution_count": null,
            "metadata": {},
            "outputs": [],
            "source": [
                "\n",
                "\n",
                "",
                "",
                ""
            ]
        },
        {
            "cell_type": "markdown",
            "metadata": {
                "heading_collapsed": true
            },
            "source": [
                "## \u56de\u5e30\u5206\u6790\uff1a\u5fa9\u7fd2"
            ]
        },
        {
            "cell_type": "markdown",
            "metadata": {
                "hidden": true
            },
            "source": [
                "**\u6bcd\u96c6\u56e3\u56de\u5e30\u5f0f**\n",
                "\n",
                "\u30c7\u30fc\u30bf\u3092\u751f\u6210\u3059\u308b\u5f0f\uff08\u89b3\u6e2c\u3067\u304d\u306a\u3044\uff09\u3068\u8003\u3048\u3088\u3046\u3002\n",
                "\n",
                "$$y=\\beta_0+\\beta_1 x + u$$\n",
                "\n",
                "* $\\beta_0$\uff1a\u5b9a\u6570\u9805\uff08\u771f\u306e\u5024\uff09\n",
                "* $\\beta_1$\uff1a\u30b9\u30ed\u30fc\u30d7\u4fc2\u6570\uff08\u771f\u306e\u5024\uff09\n",
                "* $y$\uff1a \u88ab\u8aac\u660e\u5909\u6570\n",
                "* $x$\uff1a \u8aac\u660e\u5909\u6570\n",
                "* $u$\uff1a \u8aa4\u5dee\u9805\uff08errors)\n",
                "    * \u5e73\u5747\u306f\u30bc\u30ed\u3068\u4eee\u5b9a\u3059\u308b"
            ]
        },
        {
            "cell_type": "markdown",
            "metadata": {
                "hidden": true
            },
            "source": [
                "**\u6a19\u672c**\n",
                "\n",
                "* \u5927\u304d\u3055$n$\u306e\u7121\u4f5c\u70ba\u6a19\u672c\u3092\u53d6\u308b\u3002\n",
                "\n",
                "    $$(y_i,x_i),\\quad i=1,2,3...n$$\n",
                "\n",
                "* \u6bcd\u96c6\u56e3\u304b\u3089\u306e\u6a19\u672c\u306f\u6b21\u5f0f\u3092\u6e80\u305f\u3059\u3002\n",
                "\n",
                "    $$y_i=\\beta_0+\\beta_1 x_i + u_i,\\quad i=1,2,..n$$\n",
                "    \n",
                "    * $\\beta_0,\\;\\beta_1\\;u_i$\u306f\u89b3\u6e2c\u4e0d\u53ef\u80fd"
            ]
        },
        {
            "cell_type": "markdown",
            "metadata": {
                "hidden": true
            },
            "source": [
                "**\u6700\u5c0f\u4e8c\u4e57\u6cd5\u6cd5\uff08Ordinary Least Squares; OLS\uff09**\n",
                "\n",
                "$$\\sum_{i=1}^n\\left(y_i-\\beta_0-\\beta_1 x_i\\right)^2$$\n",
                "\n",
                "\u3092\u6700\u5c0f\u5316\u3059\u308b$\\beta_0$\u3068$\\beta_1$\u3092\u9078\u629e\u3059\u308b\u3002\u6700\u5c0f\u5316\u306e\u4e00\u968e\u6761\u4ef6\uff1a\n",
                "\n",
                "$$\n",
                "\\hat{\\beta}_0=\\bar{y}-\\hat{\\beta}_1\\bar{x},\\qquad\\qquad\n",
                "\\hat{\\beta}_1=\\frac{\\text{Cov}(x,y)}{\\text{Var}(x)}\n",
                "$$\n",
                "\n",
                "* $x$\u306e\u3088\u3046\u306b\u6dfb\u3048\u5b57$i$\u3092\u7701\u3044\u305f\u5834\u5408\u306f\uff0c$x_1$\u304b\u3089$x_n$\u307e\u3067\u306e\u5168\u3066\u306e\u89b3\u6e2c\u5024\u3068\u3044\u3046\u610f\u5473\uff08$y$\u3082\u540c\u3058\uff09\n",
                "* `^`\uff08\u30cf\u30c3\u30c8\uff09\u304c\u3042\u308b\u5909\u6570\uff08$\\hat{\\beta}_0$\u3068$\\hat{\\beta}_1$\uff09\u3092**OLS\u63a8\u5b9a\u91cf**\u3068\u547c\u3076\n",
                "* `-`\uff08\u30d0\u30fc\uff09\u304c\u3042\u308b\u5909\u6570\uff08\u4f8b\u3048\u3070\uff0c$\\bar{y}$\uff09\u306f\u5e73\u5747\u5024\n",
                "* $\\text{Cov}(x,y)=$ $x$\u3068$y$\u306e\u5171\u5206\u6563\n",
                "* $\\text{Var}(x)=$ $x$\u306e\u5206\u6563\n",
                "\n",
                "* \u6b21\u5f0f\u304c\u6210\u7acb\u3059\u308b\u3002\n",
                "\n",
                "    $$y_i=\\hat{\\beta}_0+\\hat{\\beta}_1 x_i + \\hat{u}_i$$\n",
                "    \n",
                "    * $\\hat{u}_i$\uff1a\u6b8b\u5dee\n",
                "    * \u4e88\u6e2c\u5024 $\\hat{y}_i$\n",
                "\n",
                "$$\\hat{y}_i=\\hat{\\beta}_0 + \\hat{\\beta}_1x_i$$\n",
                "\n",
                "$$\\hat{u}_i=y_i-\\hat{y}_i$$"
            ]
        },
        {
            "cell_type": "markdown",
            "metadata": {
                "heading_collapsed": true
            },
            "source": [
                "## \u30c7\u30fc\u30bf"
            ]
        },
        {
            "cell_type": "markdown",
            "metadata": {
                "hidden": true
            },
            "source": [
                "`wooldridge`\u306e\u30d1\u30c3\u30b1\u30fc\u30b8\u306b\u542b\u307e\u308c\u308b\u30c7\u30fc\u30bf\u3092\u4f7f\u3046\u3002\u4f7f\u3046\u95a2\u6570\u306f`data()`\u3067\u3042\u308a\uff0c\u5f15\u6570\u306a\u3057\u3067\u5b9f\u884c\u3059\u308b\u3068\u30c7\u30fc\u30bf\u30bb\u30c3\u30c8\u306e\u30ea\u30b9\u30c8\u304c\u8868\u793a\u3055\u308c\u308b\u3002"
            ]
        },
        {
            "cell_type": "code",
            "execution_count": null,
            "metadata": {},
            "outputs": [],
            "source": []
        },
        {
            "cell_type": "markdown",
            "metadata": {
                "hidden": true
            },
            "source": [
                "\u3053\u306e\u4e2d\u306b\u3042\u308b`wage1`\u3092\u4f7f\u3046\u3002"
            ]
        },
        {
            "cell_type": "code",
            "execution_count": null,
            "metadata": {},
            "outputs": [],
            "source": []
        },
        {
            "cell_type": "markdown",
            "metadata": {
                "hidden": true
            },
            "source": [
                "\u30aa\u30d7\u30b7\u30e7\u30f3`description=True`\u3092\u8ffd\u52a0\u3059\u308b\u3068\u30c7\u30fc\u30bf\u306e\u8aac\u660e\u3092\u8868\u793a\u3059\u308b\u3053\u3068\u304c\u3067\u304d\u308b\u3002"
            ]
        },
        {
            "cell_type": "code",
            "execution_count": null,
            "metadata": {},
            "outputs": [],
            "source": []
        },
        {
            "cell_type": "markdown",
            "metadata": {
                "hidden": true
            },
            "source": [
                "> \u6559\u80b2\u6c34\u6e96\u306f\u8cc3\u91d1\u306b\u3069\u306e\u3088\u3046\u306a\u5f71\u97ff\u3092\u4e0e\u3048\u308b\u306e\u304b\n",
                "\n",
                "* \u88ab\u8aac\u660e\u5909\u6570\uff1a`wage`\uff08\u5e73\u5747\u6642\u7d66\u3001\u5358\u4f4d\uff1a\u7c73\u30c9\u30eb\uff09\n",
                "* \u8aac\u660e\u5909\u6570\uff1a`educ`\uff08\u6559\u80b2\u5e74\u6570\u3001\u5358\u4f4d\uff1a\u5e74\uff09\n",
                "\n",
                "\u307e\u305a\u95a2\u4fc2\u3059\u308b\u5909\u6570\u3060\u3051\u3092\u53d6\u308a\u51fa\u3057\u3066\u307f\u308b\u3002"
            ]
        },
        {
            "cell_type": "code",
            "execution_count": null,
            "metadata": {},
            "outputs": [],
            "source": []
        },
        {
            "cell_type": "markdown",
            "metadata": {
                "hidden": true
            },
            "source": [
                "\u6700\u521d\u306e3\u884c\u306e\u8868\u793a\u3092\u3057\u3066\u307f\u3088\u3046\u3002\n"
            ]
        },
        {
            "cell_type": "code",
            "execution_count": null,
            "metadata": {},
            "outputs": [],
            "source": []
        },
        {
            "cell_type": "markdown",
            "metadata": {
                "hidden": true
            },
            "source": [
                "`DataFrame`\u306e\u7279\u5fb4\u3092\u78ba\u8a8d\u3059\u308b\u3002"
            ]
        },
        {
            "cell_type": "code",
            "execution_count": null,
            "metadata": {},
            "outputs": [],
            "source": []
        },
        {
            "cell_type": "markdown",
            "metadata": {
                "hidden": true
            },
            "source": [
                "\u8a18\u8ff0\u7d71\u8a08"
            ]
        },
        {
            "cell_type": "code",
            "execution_count": null,
            "metadata": {},
            "outputs": [],
            "source": []
        },
        {
            "cell_type": "markdown",
            "metadata": {
                "heading_collapsed": true
            },
            "source": [
                "## \u300c\u624b\u8a08\u7b97\u300d"
            ]
        },
        {
            "cell_type": "markdown",
            "metadata": {
                "hidden": true
            },
            "source": [
                "\u4e0a\u3067\u793a\u3057\u305f$\\hat{\\beta}_0$\u3068$\\hat{\\beta}_1$\u306e\u5f0f\u3092\u4f7f\u3044\u4fc2\u6570\u306e\u63a8\u5b9a\u5024\u3092\u8a08\u7b97\u3059\u308b\u3002\u307e\u305a\u5206\u6563\u5171\u5206\u6563\u884c\u5217\u3092\u8a08\u7b97\u3059\u308b\u3002"
            ]
        },
        {
            "cell_type": "code",
            "execution_count": null,
            "metadata": {},
            "outputs": [],
            "source": [
                "\n"
            ]
        },
        {
            "cell_type": "markdown",
            "metadata": {
                "hidden": true
            },
            "source": [
                "\u5171\u5206\u6563\u306e\u5024\u3092`cov_wage_edu`\u306b\u5272\u308a\u5f53\u3066\u308b\u3002"
            ]
        },
        {
            "cell_type": "code",
            "execution_count": null,
            "metadata": {},
            "outputs": [],
            "source": [
                "\n"
            ]
        },
        {
            "cell_type": "markdown",
            "metadata": {
                "hidden": true
            },
            "source": [
                "`wage`\u3068`educ`\u306e\u5206\u6563\u306f\u6b21\u306e\u30b3\u30fc\u30c9\u3067\u53d6\u5f97\u3067\u304d\u308b\u3002"
            ]
        },
        {
            "cell_type": "code",
            "execution_count": null,
            "metadata": {},
            "outputs": [],
            "source": []
        },
        {
            "cell_type": "markdown",
            "metadata": {
                "hidden": true
            },
            "source": [
                "\u4e0a\u306e\u5f0f\u306b\u5f93\u3063\u3066$\\beta_1$\u306e\u63a8\u5b9a\u5024 $\\left(\\hat{\\beta}_1\\right)$\u3092\u8a08\u7b97\u3059\u308b\u3002"
            ]
        },
        {
            "cell_type": "code",
            "execution_count": null,
            "metadata": {},
            "outputs": [],
            "source": [
                "\n"
            ]
        },
        {
            "cell_type": "markdown",
            "metadata": {
                "hidden": true
            },
            "source": [
                "**\uff1c\u7d50\u679c\u306e\u89e3\u91c8\uff1e**\n",
                "\n",
                "`b1hat`\u306f\u6b21\u5f0f\u306e\u63a8\u5b9a\u7d50\u679c\u3067\u3042\u308b\u3002\n",
                "\n",
                "$$y = \\beta_0+\\beta_1x+u$$\n",
                "\n",
                "$x$\u306b\u3064\u3044\u3066\u5fae\u5206\u3059\u308b\u3068\n",
                "\n",
                "$$\n",
                "\\dfrac{dy}{dx}=\\dfrac{y\\text{\u306e\u5909\u5316}}{x\\text{\u306e\u5897\u52a0}}\n",
                "=\n",
                "\\left(\n",
                "\\begin{array}{l}\n",
                "    x\\text{\u304c1\u5358\u4f4d\u5897\u52a0\u3057\u305f}\\\\\n",
                "    \\text{\u5834\u5408\u306e}y\u306e\\text{\u5909\u5316}\n",
                "    \\phantom{\u6625}\n",
                "\\end{array}\n",
                "\\right)\n",
                "=\\beta_1\n",
                "$$\n",
                "\n",
                "OLS\u63a8\u5b9a\u7d50\u679c\u306f\u6559\u80b2\u5e74\u6570\u304c\uff11\u5e74\u5897\u3048\u308b\u3068\u8cc3\u91d1\u306f\u7d040.54\u30c9\u30eb\u4e0a\u6607\u3059\u308b\u3053\u3068\u3092\u793a\u3057\u3066\u3044\u308b\u3002"
            ]
        },
        {
            "cell_type": "markdown",
            "metadata": {
                "hidden": true
            },
            "source": [
                "\u540c\u69d8\u306b$\\beta_0$\u306e\u63a8\u5b9a\u5024 $\\left(\\hat{\\beta}_0\\right)$\u3082\u8a08\u7b97\u3059\u308b\u3002\u307e\u305a\u305d\u308c\u305e\u308c\u306e\u5909\u6570\u306e\u5e73\u5747\u3092\u8a08\u7b97\u3059\u308b\u3002"
            ]
        },
        {
            "cell_type": "code",
            "execution_count": null,
            "metadata": {},
            "outputs": [],
            "source": [
                "\n"
            ]
        },
        {
            "cell_type": "code",
            "execution_count": null,
            "metadata": {},
            "outputs": [],
            "source": [
                "\n"
            ]
        },
        {
            "cell_type": "markdown",
            "metadata": {},
            "source": [
                "## `statsmodels`\u3092\u4f7f\u3046"
            ]
        },
        {
            "cell_type": "markdown",
            "metadata": {},
            "source": [
                "`statsmodels`\u3092\u6b21\u306e\u9806\u756a\u3067\u4f7f\u3044\u65b9\u3092\u8aac\u660e\u3059\u308b\u3002\n",
                "* `ols`\u30b5\u30d6\u30d1\u30c3\u30b1\u30fc\u30b8\u3092\u8aad\u307f\u8fbc\u3080\n",
                "* \u56de\u5e30\u5f0f\u3092\u5b9a\u7fa9\u3059\u308b\n",
                "* \u63a8\u5b9a\u5024\u306e\u81ea\u52d5\u8a08\u7b97"
            ]
        },
        {
            "cell_type": "markdown",
            "metadata": {},
            "source": [
                "**Step 1: \u30b5\u30d6\u30d1\u30c3\u30b1\u30fc\u30b8\u306e\u8aad\u307f\u8fbc\u307f**\n",
                "\n",
                "`statsmodels`\u306b\u306f\u591a\u304f\u306e\u30b5\u30d6\u30d1\u30c3\u30b1\u30fc\u30b8\u3084\u95a2\u6570\u304c\u3042\u308a\u3001\u56de\u5e30\u5206\u6790\u3092\u304a\u3053\u306a\u3046\u969b\u306b\u8272\u3005\u306a\u30b3\u30fc\u30c9\u306e\u66f8\u304d\u65b9\u304c\u3042\u308b\u3002\u3053\u3053\u3067\u306f\u6700\u3082\u76f4\u611f\u7684\u306a\u66f8\u304d\u65b9\u3092\u8aac\u660e\u3059\u308b\u3002\u5192\u982d\u3067\u6b21\u306e\u30b3\u30fc\u30c9\u3067\u30a4\u30f3\u30dd\u30fc\u30c8\u3055\u308c\u3066\u3044\u308b\u3002\n",
                "```\n",
                "import statsmodels.formula.api as smf\n",
                "```\n",
                "`smf`\u306b\u542b\u307e\u308c\u308b\u95a2\u6570`ols`\u3092\u4f7f\u3044\u8a08\u7b97\u3059\u308b\u3002"
            ]
        },
        {
            "cell_type": "markdown",
            "metadata": {},
            "source": [
                "**Step 2: \u56de\u5e30\u5f0f\u306e\u5b9a\u7fa9**\n",
                "\n",
                "* \u5f0f\u3092`''`\u3067\u56f2\u3080\uff08\u6587\u5b57\u5217\uff09\n",
                "* \u5b9a\u6570\u9805\u3067\u3042\u308b\uff08$\\beta_0$\uff09\u306f\u81ea\u52d5\u7684\u306b\u633f\u5165\u3055\u308c\u308b\u3002\n",
                "\n",
                "```\n",
                "\u88ab\u8aac\u660e\u5909\u6570 ~ \u8aac\u660e\u5909\u6570\n",
                "```\n",
                "---\n",
                "`wage`\u3092\u88ab\u8aac\u660e\u5909\u6570\u306b\u3057\uff0c\u5b9a\u6570\u9805\u3092\u52a0\u3048\u3066`educ`\u3092\u8aac\u660e\u5909\u6570\u3092\u3059\u308b\u5834\u5408\uff0c\u6b21\u306e\u3088\u3046\u306b\u66f8\u304f\u3053\u3068\u306b\u306a\u308b\u3002"
            ]
        },
        {
            "cell_type": "code",
            "execution_count": null,
            "metadata": {},
            "outputs": [],
            "source": []
        },
        {
            "cell_type": "markdown",
            "metadata": {},
            "source": [
                "**Step 3: \u81ea\u52d5\u8a08\u7b97**\n",
                "\n",
                "* \u81ea\u52d5\u8a08\u7b97\u306e\u6e96\u5099\u3068\u3057\u3066\u8a08\u7b97\u306e\u5bfe\u8c61\u3068\u306a\u308b\u3082\u306e\uff08\u30a4\u30f3\u30b9\u30bf\u30f3\u30b9\u3068\u547c\u3070\u308c\u308b\u30aa\u30d6\u30b8\u30a7\u30af\u30c8\uff09\u3092\u751f\u6210\u3057\u3001\u5909\u6570`mod`\uff08\"model\"\u306e\u7701\u7565\u5f62\uff09\u306b\u5272\u308a\u5f53\u3066\u308b\u3002\n",
                "* \u7b2c\uff11\u5f15\u6570\u306f\u4e0a\u3067\u5b9a\u7fa9\u3057\u305f\u56de\u5e30\u5f0f\uff0c\u7b2c\uff12\u5f15\u6570`data`\u306f\u4f7f\u7528\u3059\u308b\u30c7\u30fc\u30bf\u3092\u3092\u6307\u5b9a\u3059\u308b\u3002"
            ]
        },
        {
            "cell_type": "code",
            "execution_count": null,
            "metadata": {},
            "outputs": [],
            "source": []
        },
        {
            "cell_type": "markdown",
            "metadata": {},
            "source": [
                "`mod`\u306e\u5c5e\u6027\u3092\u8abf\u3079\u3066\u307f\u3088\u3046\u3002"
            ]
        },
        {
            "cell_type": "code",
            "execution_count": null,
            "metadata": {},
            "outputs": [],
            "source": []
        },
        {
            "cell_type": "markdown",
            "metadata": {},
            "source": [
                "* OLS\u95a2\u9023\u306e\u8a08\u7b97\u3092\u4e00\u77ac\u3067\u5b9f\u884c\u3059\u308b\u30e1\u30bd\u30c3\u30c9`fit()`\u304c\u6e96\u5099\u3055\u308c\u3066\u3044\u308b\u3002\n",
                "* \u7d50\u679c\u3092`res`\u306b\u5272\u308a\u5f53\u3066\u308b\uff08`res`\u306fresult\u306e\u7565\uff09\u3002"
            ]
        },
        {
            "cell_type": "code",
            "execution_count": null,
            "metadata": {},
            "outputs": [],
            "source": []
        },
        {
            "cell_type": "markdown",
            "metadata": {},
            "source": [
                "\u4e0a\u306e\uff12\u3064\u3092\u5206\u3051\u305a\u306b\u4e00\u884c\u3067\u66f8\u3044\u3066\u3082\u826f\u3044\u3002\n",
                "```\n",
                "res = smf.ols(formula, data=df).fit()\n",
                "```\n",
                "`res`\u306e\u5c5e\u6027\u3092\u78ba\u8a8d\u3057\u3066\u307f\u3088\u3046\u3002"
            ]
        },
        {
            "cell_type": "code",
            "execution_count": null,
            "metadata": {},
            "outputs": [],
            "source": []
        },
        {
            "cell_type": "markdown",
            "metadata": {},
            "source": [
                "\u4e0a\u306e\u30ea\u30b9\u30c8\u306e\u4e2d\u306b`.params`\u3068\u3042\u308b\u304c\uff0c\u3053\u306e\u5c5e\u6027\u3092\u4f7f\u3044\u4fc2\u6570\u306e\u63a8\u5b9a\u5024\u3092\u53d6\u308a\u51fa\u3059\u3053\u3068\u304c\u3067\u304d\u308b\u3002"
            ]
        },
        {
            "cell_type": "code",
            "execution_count": null,
            "metadata": {},
            "outputs": [],
            "source": []
        },
        {
            "cell_type": "markdown",
            "metadata": {},
            "source": [
                "* \u30e1\u30bd\u30c3\u30c9`summary()`\u3092\u4f7f\u3046\u3068\u4e3b\u306a\u7d50\u679c\u304c\u307e\u3068\u3081\u3089\u308c\u305f\u8868\u3092\u51fa\u529b\u3059\u308b\u3002"
            ]
        },
        {
            "cell_type": "code",
            "execution_count": null,
            "metadata": {},
            "outputs": [],
            "source": []
        },
        {
            "cell_type": "markdown",
            "metadata": {},
            "source": [
                "\u4e0a\u306e\u8868\u306f\uff13\u3064\u306e\u8868\u304b\u3089\u69cb\u6210\u3055\u308c\u3066\u304a\u308a\uff0c\u5fc5\u8981\u306a\u90e8\u5206\u3060\u3051\u3092\u8868\u793a\u3059\u308b\u3053\u3068\u3082\u53ef\u80fd\u3067\u3042\u308b\u3002\n",
                "```\n",
                "res.summary().tables[0]\n",
                "res.summary().tables[1]\n",
                "res.summary().tables[2]\n",
                "```\n",
                "\u4f8b\u3048\u3070\uff0c\u4fc2\u6570\u306e\u63a8\u5b9a\u5024\u306b\u95a2\u3059\u308b\u57fa\u672c\u7684\u306a\u7d71\u8a08\u91cf\u3060\u3051\u3092\u8868\u793a\u3059\u308b\u306b\u306f\u4ee5\u4e0b\u306e\u3088\u3046\u306b\u3059\u308c\u3070\u826f\u3044\u3002"
            ]
        },
        {
            "cell_type": "code",
            "execution_count": null,
            "metadata": {},
            "outputs": [],
            "source": []
        },
        {
            "cell_type": "markdown",
            "metadata": {},
            "source": [
                "**\uff1c\u8868\u306e\u8aac\u660e\uff1e**\n",
                "\n",
                "\u8868\u306f3\u3064\u306e\u30bb\u30af\u30b7\u30e7\u30f3\u304b\u3089\u69cb\u6210\u3055\u308c\u3066\u3044\u308b\u3002\n",
                "* \u4e0a\u6bb5\u306b\u306fOLS\u63a8\u5b9a\u306e\u57fa\u672c\u7684\u306a\u60c5\u5831\u304c\u8868\u793a\u3055\u308c\u3066\u3044\u308b\u3002\n",
                "    * \u5de6\u5074\n",
                "        * `Dep. Variable`\uff1a\u88ab\u8aac\u660e\u5909\u6570\n",
                "        * `Model`\uff1a\u30e2\u30c7\u30eb\n",
                "        * `Method`\uff1a\u624b\u6cd5\n",
                "        * `Data`\uff1a\u65e5\u306b\u3061\n",
                "        * `Time`\uff1a\u6642\u9593\n",
                "        * `No. Observation`\uff1a\u6a19\u672c\u306e\u5927\u304d\u3055\n",
                "        * `Df Residuals`\uff1a\u6b8b\u5dee\u306e\u81ea\u7531\u5ea6\n",
                "        * `Df Model`\uff1a\u30e2\u30c7\u30eb\u306e\u81ea\u7531\u5ea6\uff08\u5b9a\u6570\u9805\u4ee5\u5916\u306e\u8aac\u660e\u5909\u6570\u306e\u6570\uff09\n",
                "        * `Covariance Type`\uff1a\u5171\u5206\u6563\u306e\u30bf\u30a4\u30d7\n",
                "    * \u53f3\u5074\n",
                "        * `R-squared`\uff1a\u6c7a\u5b9a\u4fc2\u6570\n",
                "        * `adj. R-squared`\uff1a\u81ea\u7531\u5ea6\u8abf\u6574\u6e08\u307f\u6c7a\u5b9a\u4fc2\u6570\n",
                "        * `F-statistic`\uff1a$F$\u7d71\u8a08\u91cf\n",
                "        * `Prob (F-statistic)`\uff1a$F$\u5024\n",
                "        * `Log-Likelihood`\uff1a\u5bfe\u6570\u5c24\u5ea6\n",
                "        * `AIC`\uff1a\u8d64\u6c60\u60c5\u5831\u91cf\u898f\u6e96\n",
                "        * `BIC`\uff1a\u30d9\u30a4\u30ba\u60c5\u5831\u91cf\u898f\u6e96\n",
                "* \u4e2d\u6bb5\u306b\u306f\u4e3b\u306a\u63a8\u5b9a\u7d50\u679c\u304c\u8868\u793a\u3055\u308c\u308b\u3002\n",
                "    * \u5217\u30e9\u30d9\u30eb\n",
                "        * `coef`\uff1a\u4fc2\u6570\n",
                "        * `std err`\uff1a\u6a19\u6e96\u8aa4\u5dee\n",
                "        * `t`\uff1a$t$\u5024\n",
                "        * `P>|t|`\uff1a$p$\u5024\n",
                "        * `[0.025,0.975]`\uff1a\u4fe1\u983c\u533a\u9593\uff085%)\n",
                "    * \u884c\u30e9\u30d9\u30eb\n",
                "        * `Intercept`\uff1a\u5b9a\u6570\u9805\n",
                "        * `tfp_relative`\uff1a\u8aac\u660e\u5909\u6570\uff08\u9078\u629e\u3059\u308b\u5909\u6570\u306b\u3088\u3063\u3066\u5909\u308f\u308b\uff09\n",
                "* \u4e0b\u6bb5\u306b\u306f\u69d8\u3005\u306a\u691c\u5b9a\u306a\u3069\u306b\u95a2\u3059\u308b\u6570\u5024\u304c\u4e26\u3093\u3067\u3044\u308b\u3002\n",
                "    * \u5de6\u5074\n",
                "        * `Omnibus`\uff1a\u30aa\u30e0\u30cb\u30d0\u30b9\u691c\u5b9a\u7d71\u8a08\u91cf\uff08\u5e30\u7121\u4eee\u8aac\uff1a\u6b8b\u5dee\u306f\u6b63\u898f\u5206\u5e03\u306b\u5f93\u3046\uff09\n",
                "        * `Prob(Omnibus)`\uff1a\u30aa\u30e0\u30cb\u30d0\u30b9\u691c\u5b9a$p$\u5024\uff08\u5e30\u7121\u4eee\u8aac\uff1a\u6b8b\u5dee\u306f\u6b63\u898f\u5206\u5e03\u306b\u5f93\u3046\uff09\n",
                "        * `Skew`\uff1a\u6b8b\u5dee\u306e\u6b6a\u5ea6\uff08\u6b63\u898f\u5206\u5e03\u3067\u3042\u308c\u3070`0`\uff09\n",
                "        * `Kurtosis`\uff1a\u6b8b\u5dee\u306e\u5c16\u5ea6\uff08\u6b63\u898f\u5206\u5e03\u3067\u3042\u308c\u3070`3`\uff09\n",
                "    * \u53f3\u5074\n",
                "        * `Durbin-Watson`\uff1a\u30c0\u30fc\u30d3\u30f3\u30fb\u30ef\u30c8\u30bd\u30f3\u7d71\u8a08\u91cf\uff08\u6b8b\u5dee\u306e\u81ea\u5df1\u76f8\u95a2\u306e\u691c\u5b9a\uff09\n",
                "        * `Jarque-Bera (JB)`\uff1a\u30b8\u30e3\u30fc\u30af\u30fb\u30d9\u30e9\u691c\u5b9a\u7d71\u8a08\u91cf\uff08\u5e30\u7121\u4eee\u8aac\uff1a\u6b8b\u5dee\u306f\u6b63\u898f\u5206\u5e03\u306b\u5f93\u3046\uff09\n",
                "        * `Prob(JB)`\uff1a\u30b8\u30e3\u30fc\u30af\u30fb\u30d9\u30e9\u691c\u5b9a$p$\u5024\uff08\u5e30\u7121\u4eee\u8aac\uff1a\u6b8b\u5dee\u306f\u6b63\u898f\u5206\u5e03\u306b\u5f93\u3046\uff09\n",
                "        * `Cond. No.`\uff1a\u6761\u4ef6\u6307\u6570\uff08Condition Index\uff09\u306e\u6700\u5927\u5024\uff08\u591a\u91cd\u5171\u7dda\u6027\u3092\u78ba\u8a8d\u3059\u308b\u305f\u3081\u306e\u6307\u6a19\u3067\u3042\u308a\uff0c\u5358\u56de\u5e30\u5206\u6790\u3067\u306f\u7121\u8996\u3057\u3066\u826f\u3044\u3002\uff09"
            ]
        },
        {
            "cell_type": "markdown",
            "metadata": {},
            "source": [
                "\u4e3b\u306a\u5c5e\u6027\u3068\u30e1\u30bd\u30c3\u30c9\uff1a\n",
                "* `nobs`\uff1a\u6a19\u672c\u306e\u5927\u304d\u3055\uff08Number of OBservationS\uff09\n",
                "* `params`\uff1a\u63a8\u5b9a\u5024\uff08PARAMeterS\uff09\n",
                "* `bse`\uff1a\u63a8\u5b9a\u5024\u306e\u6a19\u6e96\u8aa4\u5dee\uff08Standard Errors\uff09\n",
                "* `tvalues`\uff1a\u63a8\u5b9a\u5024\u306e$t$\u5024\uff08T VALUES\uff09\n",
                "* `pvalues`\uff1a\u63a8\u5b9a\u5024\u306e$p$\u5024\uff08P VALUES\uff09\n",
                "* `rsquared`\uff1a\u6c7a\u5b9a\u4fc2\u6570\uff08R SQUARED\uff09\n",
                "* `rsquared_adj`\uff1a\u81ea\u7531\u5ea6\u8abf\u6574\u305a\u307f\u6c7a\u5b9a\u4fc2\u6570\uff08ADJusted R SQUARED\uff09\n",
                "* `conf_int()`\uff1a95%\u4fe1\u983c\u533a\u9593\uff08CONFidence INTerval\uff09\n",
                "* `fittedvalues`\uff1a\u4e88\u6e2c\u5024\uff08$\\hat{y}$\uff09\uff08FITTED VALUES\uff09\n",
                "* `resid`\uff1a\u6b8b\u5dee\uff08$\\hat{u}$\uff09\uff08RESIDuals\uff09"
            ]
        },
        {
            "cell_type": "markdown",
            "metadata": {
                "heading_collapsed": true
            },
            "source": [
                "## \u56f3\u793a"
            ]
        },
        {
            "cell_type": "markdown",
            "metadata": {
                "hidden": true
            },
            "source": [
                "\u56de\u5e30\u5206\u6790\u306e\u7d50\u679c\u3092\u56f3\u793a\u3059\u308b\u305f\u3081\u306b\u3001\u307e\u305a\u4e88\u6e2c\u5024\u306e\u53d6\u5f97\u3059\u308b\u3002"
            ]
        },
        {
            "cell_type": "code",
            "execution_count": null,
            "metadata": {},
            "outputs": [],
            "source": []
        },
        {
            "cell_type": "markdown",
            "metadata": {
                "hidden": true
            },
            "source": [
                "\u30c7\u30fc\u30bf\u306e\u6563\u5e03\u56f3\u3068\u56de\u5e30\u76f4\u7dda\u3092\u56f3\u793a\u3059\u308b\u3002"
            ]
        },
        {
            "cell_type": "code",
            "execution_count": null,
            "metadata": {},
            "outputs": [],
            "source": [
                "\n",
                "\n",
                "",
                ""
            ]
        },
        {
            "cell_type": "markdown",
            "metadata": {
                "heading_collapsed": true
            },
            "source": [
                "## \u8cc3\u91d1\u306e\u5bfe\u6570\u5316"
            ]
        },
        {
            "cell_type": "markdown",
            "metadata": {
                "hidden": true
            },
            "source": [
                "* \u4e0a\u306e\u56de\u5e30\u5206\u6790\u306e\u554f\u984c\uff1a\u5b9a\u6570\u9805\u306e\u5024\u306f`0`\n",
                "* \u8cc3\u91d1\u3068\u6559\u80b2\u5e74\u6570\u306f\u975e\u7dda\u5f62\u306e\u95a2\u4fc2\u304c\u6210\u308a\u7acb\u3064\u306e\u3067\u306f\uff1f\n",
                "* \u52b4\u50cd\u7d4c\u6e08\u5b66\u3067\u306f\u8cc3\u91d1\u306e\u5bfe\u6570\u3092\u3068\u308a\u63a8\u5b9a\u3059\u308b\u306e\u304c\u4e00\u822c\u7684\u3067\u3042\u308a\u3001\u305d\u306e\u3088\u3046\u306a\u5f0f\u3092\u8cc3\u91d1\u65b9\u7a0b\u5f0f\u3068\u547c\u3076\u3002"
            ]
        },
        {
            "cell_type": "code",
            "execution_count": null,
            "metadata": {},
            "outputs": [],
            "source": []
        },
        {
            "cell_type": "code",
            "execution_count": null,
            "metadata": {},
            "outputs": [],
            "source": []
        },
        {
            "cell_type": "code",
            "execution_count": null,
            "metadata": {},
            "outputs": [],
            "source": []
        },
        {
            "cell_type": "code",
            "execution_count": null,
            "metadata": {},
            "outputs": [],
            "source": []
        },
        {
            "cell_type": "markdown",
            "metadata": {
                "hidden": true
            },
            "source": [
                "**\uff1c\u7d50\u679c\u306e\u89e3\u91c8\uff1e**\n",
                "\n",
                "`res`\u306f\u6b21\u5f0f\u306e\u63a8\u5b9a\u7d50\u679c\u3067\u3042\u308b\u3002\n",
                "\n",
                "$$\\ln y = \\beta_0+\\beta_1x+u$$\n",
                "\n",
                "$x$\u306b\u3064\u3044\u3066\u5fae\u5206\u3059\u308b\u3068\n",
                "\n",
                "$$\\dfrac{d\\ln y}{dx}=\\dfrac{dy/y}{dx}=\\dfrac{y\\text{\u306e%\u5909\u5316}}{dx}=\\beta_1$$\n",
                "\n",
                "* OLS\u63a8\u5b9a\u7d50\u679c\u306f\u6559\u80b2\u5e74\u6570\u304c\uff11\u5e74\u5897\u3048\u308b\u3068\u8cc3\u91d1\u306f\u7d048.3%\u5897\u52a0\u3059\u308b\u3053\u3068\u3092\u793a\u3057\u3066\u3044\u308b\u3002\n",
                "* \u3053\u306e\u5024\u306f\u6559\u80b2\u306e\u53ce\u76ca\u7387\u3067\u3042\u308b\u3002"
            ]
        },
        {
            "cell_type": "code",
            "execution_count": null,
            "metadata": {},
            "outputs": [],
            "source": [
                "# \u6563\u5e03\u56f3\u3068\u56de\u5e30\u66f2\u7dda\n",
                "\n",
                "\n",
                "",
                ""
            ]
        }
    ],
    "metadata": {
        "celltoolbar": "Tags",
        "kernel_info": {
            "name": "py4etrics"
        },
        "kernelspec": {
            "display_name": "latest",
            "language": "python",
            "name": "latest"
        },
        "language_info": {
            "codemirror_mode": {
                "name": "ipython",
                "version": 3
            },
            "file_extension": ".py",
            "mimetype": "text/x-python",
            "name": "python",
            "nbconvert_exporter": "python",
            "pygments_lexer": "ipython3",
            "version": "3.9.0"
        },
        "nteract": {
            "version": "0.14.5"
        },
        "toc": {
            "base_numbering": 1,
            "nav_menu": {},
            "number_sections": true,
            "sideBar": true,
            "skip_h1_title": false,
            "title_cell": "Table of Contents",
            "title_sidebar": "Contents",
            "toc_cell": false,
            "toc_position": {},
            "toc_section_display": true,
            "toc_window_display": false
        }
    },
    "nbformat": 4,
    "nbformat_minor": 2
}