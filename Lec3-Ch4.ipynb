{
 "cells": [
  {
   "cell_type": "markdown",
   "id": "0",
   "metadata": {
    "id": "88b92a63-be57-43ea-8194-b58339075e39"
   },
   "source": [
    "# 第4章：関数（２/２）"
   ]
  },
  {
   "cell_type": "markdown",
   "id": "50",
   "metadata": {
    "id": "dX8Oj1B4Cze6"
   },
   "source": [
    "## ユーザー定義の関数"
   ]
  },
  {
   "cell_type": "markdown",
   "id": "51",
   "metadata": {
    "id": "jUwFdmOgC8NV"
   },
   "source": [
    "### 関数の書き方"
   ]
  },
  {
   "cell_type": "markdown",
   "id": "fea4109c-aecc-4375-b210-059209b760f2",
   "metadata": {},
   "source": [
    "```\n",
    "def ＜関数名＞(＜引数＞):\n",
    "    ＜実行するコード＞\n",
    "    return ＜実行後に返す値＞\n",
    "```"
   ]
  },
  {
   "cell_type": "markdown",
   "id": "52",
   "metadata": {
    "id": "HhpFwhdiDCbT"
   },
   "source": [
    "### 簡単な例"
   ]
  },
  {
   "cell_type": "markdown",
   "id": "53",
   "metadata": {
    "id": "jKFIafKCDquh"
   },
   "source": [
    "コード4.3.1"
   ]
  },
  {
   "cell_type": "code",
   "execution_count": 1,
   "id": "54",
   "metadata": {
    "id": "VOR4-8ARDFTy"
   },
   "outputs": [],
   "source": [
    "def squared(x, a, b):\n",
    "  y = a * x ** 2 + b\n",
    "  return y"
   ]
  },
  {
   "cell_type": "markdown",
   "id": "55",
   "metadata": {
    "id": "G-VztsnsDvMC"
   },
   "source": [
    "コード4.3.2"
   ]
  },
  {
   "cell_type": "code",
   "execution_count": 2,
   "id": "56",
   "metadata": {
    "colab": {
     "base_uri": "https://localhost:8080/"
    },
    "executionInfo": {
     "elapsed": 2,
     "status": "ok",
     "timestamp": 1758070141611,
     "user": {
      "displayName": "T Haruyama",
      "userId": "09851044792665346893"
     },
     "user_tz": -540
    },
    "id": "5mV98aIYDLgS",
    "outputId": "9c0389cc-7e36-40b4-96ff-c64a0da63205"
   },
   "outputs": [
    {
     "data": {
      "text/plain": [
       "14"
      ]
     },
     "execution_count": 2,
     "metadata": {},
     "output_type": "execute_result"
    }
   ],
   "source": [
    "squared(2, 1, 10)"
   ]
  },
  {
   "cell_type": "markdown",
   "id": "f83cf5a5-e26e-4bbd-9605-4bde6c35b6f0",
   "metadata": {},
   "source": [
    "位置引数：\n",
    "* 位置に合わせて値を設定する引数"
   ]
  },
  {
   "cell_type": "markdown",
   "id": "57",
   "metadata": {
    "id": "BgFy0gOrDQFe"
   },
   "source": [
    "### 関数を実行する際に`=`を使う"
   ]
  },
  {
   "cell_type": "markdown",
   "id": "c28bea20-0b4f-4555-82a2-71dac68bfd6c",
   "metadata": {},
   "source": [
    "**キーワード引数**\n",
    "* $=$を使う引数\n",
    "* 位置を入れ替えることができる\n",
    "* 全てのキーワード引数は右端に揃える"
   ]
  },
  {
   "cell_type": "markdown",
   "id": "58",
   "metadata": {
    "id": "QvuiMWEVDyoU"
   },
   "source": [
    "コード4.3.3"
   ]
  },
  {
   "cell_type": "code",
   "execution_count": 3,
   "id": "59",
   "metadata": {
    "colab": {
     "base_uri": "https://localhost:8080/"
    },
    "executionInfo": {
     "elapsed": 3,
     "status": "ok",
     "timestamp": 1758070141620,
     "user": {
      "displayName": "T Haruyama",
      "userId": "09851044792665346893"
     },
     "user_tz": -540
    },
    "id": "wMXStZLQDVVF",
    "outputId": "efe6698e-53e1-45f6-d458-5f05227d38c4"
   },
   "outputs": [
    {
     "data": {
      "text/plain": [
       "14"
      ]
     },
     "execution_count": 3,
     "metadata": {},
     "output_type": "execute_result"
    }
   ],
   "source": [
    "squared(2, b=10, a=1)"
   ]
  },
  {
   "cell_type": "markdown",
   "id": "60",
   "metadata": {
    "id": "TnPFaRM_DY3Z"
   },
   "source": [
    "### 関数を定義する際に`=`を使う"
   ]
  },
  {
   "cell_type": "markdown",
   "id": "b55fe85f-eb64-4203-8eae-875ed850f9f7",
   "metadata": {},
   "source": [
    "`=`を使うことによりデフォルト値を設定する"
   ]
  },
  {
   "cell_type": "markdown",
   "id": "61",
   "metadata": {
    "id": "zkmnIQMqD0B6"
   },
   "source": [
    "コード4.3.4"
   ]
  },
  {
   "cell_type": "code",
   "execution_count": 4,
   "id": "62",
   "metadata": {
    "id": "L_FhpeSQDccf"
   },
   "outputs": [],
   "source": [
    "def squared(x, a, b=10):\n",
    "  return a * x ** 2 + b"
   ]
  },
  {
   "cell_type": "markdown",
   "id": "63",
   "metadata": {
    "id": "09845734-c442-4338-bbdf-9ab92265a112"
   },
   "source": [
    "## 関数の例"
   ]
  },
  {
   "cell_type": "markdown",
   "id": "64",
   "metadata": {
    "id": "836c1c96-8c7f-473d-ba74-e2d224bffaa7"
   },
   "source": [
    "### 将来価値"
   ]
  },
  {
   "cell_type": "markdown",
   "id": "65",
   "metadata": {
    "id": "ggu0PF34D4Se"
   },
   "source": [
    "コード4.4.1"
   ]
  },
  {
   "cell_type": "code",
   "execution_count": 5,
   "id": "66",
   "metadata": {
    "colab": {
     "base_uri": "https://localhost:8080/"
    },
    "executionInfo": {
     "elapsed": 15,
     "status": "ok",
     "timestamp": 1758070141643,
     "user": {
      "displayName": "T Haruyama",
      "userId": "09851044792665346893"
     },
     "user_tz": -540
    },
    "id": "24576156-e60f-4f6e-bf54-5bd8f513c370",
    "outputId": "e24c6fd1-233e-4b8f-b7d7-d2ff65364da3"
   },
   "outputs": [
    {
     "data": {
      "text/plain": [
       "134.39163793441222"
      ]
     },
     "execution_count": 5,
     "metadata": {},
     "output_type": "execute_result"
    }
   ],
   "source": [
    "def future_value(x, r=0.03, t=10):\n",
    "    result = x * (1+r) ** t\n",
    "    return result\n",
    "\n",
    "future_value(100)"
   ]
  },
  {
   "cell_type": "markdown",
   "id": "67",
   "metadata": {
    "id": "Lwp1f3uxD59c"
   },
   "source": [
    "コード4.4.2"
   ]
  },
  {
   "cell_type": "code",
   "execution_count": 6,
   "id": "68",
   "metadata": {
    "colab": {
     "base_uri": "https://localhost:8080/"
    },
    "executionInfo": {
     "elapsed": 14,
     "status": "ok",
     "timestamp": 1758070141658,
     "user": {
      "displayName": "T Haruyama",
      "userId": "09851044792665346893"
     },
     "user_tz": -540
    },
    "id": "536e4634-d7dd-4cd3-86c2-ffad171df71a",
    "outputId": "16f28479-78b3-48b8-bdc0-259c7b9fe1be"
   },
   "outputs": [
    {
     "name": "stdout",
     "output_type": "stream",
     "text": [
      "計算中です ...\n"
     ]
    },
    {
     "data": {
      "text/plain": [
       "134.39163793441222"
      ]
     },
     "execution_count": 6,
     "metadata": {},
     "output_type": "execute_result"
    }
   ],
   "source": [
    "def future_value2(x, r=0.03, t=10):\n",
    "\n",
    "    print(\"計算中です ...\")\n",
    "    result = x * (1+r) ** t\n",
    "    return result\n",
    "\n",
    "future_value2(100)"
   ]
  },
  {
   "cell_type": "markdown",
   "id": "69",
   "metadata": {
    "id": "ab7e9428-ebfa-4d44-9028-737be8f88def"
   },
   "source": [
    "### 需要・供給モデル"
   ]
  },
  {
   "cell_type": "markdown",
   "id": "70",
   "metadata": {
    "id": "_nhwrzqaD-xe"
   },
   "source": [
    "練習問題として"
   ]
  },
  {
   "cell_type": "markdown",
   "id": "78",
   "metadata": {
    "id": "dc3ad74a-efe7-4916-8bdc-f080bf2404d9"
   },
   "source": [
    "## ドキュメンテーション文字列"
   ]
  },
  {
   "cell_type": "markdown",
   "id": "20bbcc43-4da2-448a-82ae-9b3526fd5bec",
   "metadata": {},
   "source": [
    "```\n",
    "    \"\"\"投資の将来価値を計算する\n",
    "    引数:\n",
    "      x (float): 初期投資額\n",
    "      r (float): 期待収益率（デフォルトは3％）\n",
    "      t (int): 投資期間（デフォルトは10年）\n",
    "    戻り値:\n",
    "      float: t年後の収益\"\"\"\n",
    "```"
   ]
  },
  {
   "cell_type": "markdown",
   "id": "79",
   "metadata": {
    "id": "5NYX4Fn1EJG9"
   },
   "source": [
    "コード4.5.1"
   ]
  },
  {
   "cell_type": "code",
   "execution_count": 7,
   "id": "80",
   "metadata": {
    "id": "daa36aca-1060-4c41-a136-19d567957081"
   },
   "outputs": [],
   "source": [
    "def future_value_docstring(x, r=0.03, t=10):\n",
    "    \"\"\"投資の将来価値を計算する\n",
    "    引数:\n",
    "      x (float): 初期投資額\n",
    "      r (float): 期待収益率（デフォルトは3％）\n",
    "      t (int): 投資期間（デフォルトは10年）\n",
    "    戻り値:\n",
    "      float: t年後の収益\"\"\"\n",
    "\n",
    "    result = x * (1+r)**t\n",
    "\n",
    "    return result"
   ]
  },
  {
   "cell_type": "code",
   "execution_count": 8,
   "id": "81",
   "metadata": {
    "colab": {
     "base_uri": "https://localhost:8080/"
    },
    "executionInfo": {
     "elapsed": 6,
     "status": "ok",
     "timestamp": 1758070141716,
     "user": {
      "displayName": "T Haruyama",
      "userId": "09851044792665346893"
     },
     "user_tz": -540
    },
    "id": "c01538ec-e4cd-4456-a02a-7701a503df5f",
    "outputId": "bd56dcc3-633b-4105-9e68-bf2987d5d548"
   },
   "outputs": [
    {
     "name": "stdout",
     "output_type": "stream",
     "text": [
      "Help on function future_value_docstring in module __main__:\n",
      "\n",
      "future_value_docstring(x, r=0.03, t=10)\n",
      "    投資の将来価値を計算する\n",
      "    引数:\n",
      "      x (float): 初期投資額\n",
      "      r (float): 期待収益率（デフォルトは3％）\n",
      "      t (int): 投資期間（デフォルトは10年）\n",
      "    戻り値:\n",
      "      float: t年後の収益\n",
      "\n"
     ]
    }
   ],
   "source": [
    "help(future_value_docstring)"
   ]
  },
  {
   "cell_type": "markdown",
   "id": "82",
   "metadata": {
    "id": "76e98803-0084-4b4d-97c3-951eed47a6e7"
   },
   "source": [
    "## スコープ"
   ]
  },
  {
   "cell_type": "markdown",
   "id": "d00eb662-b83f-455e-8451-e7743d545be7",
   "metadata": {},
   "source": [
    "授業では扱わない"
   ]
  }
 ],
 "metadata": {
  "colab": {
   "provenance": []
  },
  "kernelspec": {
   "display_name": "Python 3 (ipykernel)",
   "language": "python",
   "name": "python3"
  },
  "language_info": {
   "codemirror_mode": {
    "name": "ipython",
    "version": 3
   },
   "file_extension": ".py",
   "mimetype": "text/x-python",
   "name": "python",
   "nbconvert_exporter": "python",
   "pygments_lexer": "ipython3",
   "version": "3.13.7"
  }
 },
 "nbformat": 4,
 "nbformat_minor": 5
}
