{
 "cells": [
  {
   "cell_type": "markdown",
   "id": "ad6f03ae-abd3-4a72-a665-021b6e3ee3af",
   "metadata": {},
   "source": [
    "# 簡単なデータ分析：`pandas`"
   ]
  },
  {
   "cell_type": "code",
   "execution_count": 3,
   "id": "6f628cc7-f97c-4a88-a3de-de6d1f54570f",
   "metadata": {},
   "outputs": [],
   "source": [
    "import numpy as np\n",
    "import pandas as pd"
   ]
  },
  {
   "cell_type": "markdown",
   "id": "0a9e125b-416f-4710-a1d3-d9ea4c51f40d",
   "metadata": {},
   "source": [
    "## `pandas`について"
   ]
  },
  {
   "cell_type": "markdown",
   "id": "b24c120d-87e6-434c-a4de-01cb9a30c9f8",
   "metadata": {},
   "source": [
    "`DataFrame`（データ・フレーム）：Excelのスプレッドシートのイメージ\n",
    "\n",
    "データ・フレームの構造\n",
    "* `X`，`Y`，`Z`は列ラベル\n",
    "    * アルファベットや記号など\n",
    "* `0`，`1`，`2`は行番号\n",
    "* その他の数字はデータ"
   ]
  },
  {
   "cell_type": "markdown",
   "id": "32c27684-987d-467b-90b2-59f45688bbf5",
   "metadata": {},
   "source": [
    "|   | X  | Y    | Z   |\n",
    "|---|----|------|-----|\n",
    "| 0 | 10 |  5.0 | 3.0 |\n",
    "| 1 | 20 | 30.0 | 2.0 |\n",
    "| 2 | 30 | 15.0 | 5.0 |\n",
    "\n",
    "通常`pd`という名前で読み込む。\n",
    "```\n",
    "    import pandas as pd\n",
    "```"
   ]
  },
  {
   "cell_type": "markdown",
   "id": "bcdd2433-2701-4afb-8c4a-63e7a76380dd",
   "metadata": {},
   "source": [
    "## データの読み込みとデータのチェック"
   ]
  },
  {
   "cell_type": "markdown",
   "id": "12b8a156-bebe-4005-abe6-0dd014c30dec",
   "metadata": {},
   "source": [
    "様々なデータを読み込むことが可能だが，ここでは`read_csv()`関数を使って`.csv`ファイルを読み込むことにする。（`csv`はcomma separated valuesの略称であり、.csvファイルについては[この検索結果](https://www.google.com/search?q=csv%E3%83%95%E3%82%A1%E3%82%A4%E3%83%AB%E3%81%A8%E3%81%AF)を参照）ここでは`data2.csv`を使う。"
   ]
  },
  {
   "cell_type": "code",
   "execution_count": 4,
   "id": "12cab230-fb51-4e0c-8188-d205da0f495a",
   "metadata": {},
   "outputs": [],
   "source": [
    "# データの読み込み\n",
    "df = pd.read_csv('./data/data2.csv')"
   ]
  },
  {
   "cell_type": "markdown",
   "id": "b5bd83ec-8f37-4775-ad0f-8a2eefffbba2",
   "metadata": {},
   "source": [
    "何も表示されないが、`df`にデータが割り当てられている。。`df`を実行すると全てが表示される。"
   ]
  },
  {
   "cell_type": "code",
   "execution_count": 5,
   "id": "6508d061-7467-4031-95d7-d60c74d11572",
   "metadata": {},
   "outputs": [
    {
     "data": {
      "text/html": [
       "<div>\n",
       "<style scoped>\n",
       "    .dataframe tbody tr th:only-of-type {\n",
       "        vertical-align: middle;\n",
       "    }\n",
       "\n",
       "    .dataframe tbody tr th {\n",
       "        vertical-align: top;\n",
       "    }\n",
       "\n",
       "    .dataframe thead th {\n",
       "        text-align: right;\n",
       "    }\n",
       "</style>\n",
       "<table border=\"1\" class=\"dataframe\">\n",
       "  <thead>\n",
       "    <tr style=\"text-align: right;\">\n",
       "      <th></th>\n",
       "      <th>year</th>\n",
       "      <th>gdp</th>\n",
       "      <th>con</th>\n",
       "      <th>inv</th>\n",
       "      <th>gov</th>\n",
       "      <th>net_ex</th>\n",
       "    </tr>\n",
       "  </thead>\n",
       "  <tbody>\n",
       "    <tr>\n",
       "      <th>0</th>\n",
       "      <td>2012</td>\n",
       "      <td>517928.400</td>\n",
       "      <td>295751.750</td>\n",
       "      <td>98682.200</td>\n",
       "      <td>127135.975</td>\n",
       "      <td>-3941.775</td>\n",
       "    </tr>\n",
       "    <tr>\n",
       "      <th>1</th>\n",
       "      <td>2013</td>\n",
       "      <td>528522.025</td>\n",
       "      <td>303606.600</td>\n",
       "      <td>100590.050</td>\n",
       "      <td>129984.100</td>\n",
       "      <td>-6006.850</td>\n",
       "    </tr>\n",
       "    <tr>\n",
       "      <th>2</th>\n",
       "      <td>2014</td>\n",
       "      <td>529656.425</td>\n",
       "      <td>300593.375</td>\n",
       "      <td>103200.725</td>\n",
       "      <td>131434.275</td>\n",
       "      <td>-5477.075</td>\n",
       "    </tr>\n",
       "    <tr>\n",
       "      <th>3</th>\n",
       "      <td>2015</td>\n",
       "      <td>538098.750</td>\n",
       "      <td>300107.925</td>\n",
       "      <td>108697.000</td>\n",
       "      <td>132249.450</td>\n",
       "      <td>-2955.575</td>\n",
       "    </tr>\n",
       "    <tr>\n",
       "      <th>4</th>\n",
       "      <td>2016</td>\n",
       "      <td>541964.600</td>\n",
       "      <td>298675.925</td>\n",
       "      <td>109195.975</td>\n",
       "      <td>134433.625</td>\n",
       "      <td>-340.550</td>\n",
       "    </tr>\n",
       "    <tr>\n",
       "      <th>5</th>\n",
       "      <td>2017</td>\n",
       "      <td>551205.775</td>\n",
       "      <td>301894.650</td>\n",
       "      <td>111970.275</td>\n",
       "      <td>134762.325</td>\n",
       "      <td>2800.425</td>\n",
       "    </tr>\n",
       "    <tr>\n",
       "      <th>6</th>\n",
       "      <td>2018</td>\n",
       "      <td>554349.275</td>\n",
       "      <td>302496.325</td>\n",
       "      <td>113151.350</td>\n",
       "      <td>136011.050</td>\n",
       "      <td>2901.725</td>\n",
       "    </tr>\n",
       "    <tr>\n",
       "      <th>7</th>\n",
       "      <td>2019</td>\n",
       "      <td>553019.775</td>\n",
       "      <td>300927.225</td>\n",
       "      <td>113488.750</td>\n",
       "      <td>138450.375</td>\n",
       "      <td>281.825</td>\n",
       "    </tr>\n",
       "    <tr>\n",
       "      <th>8</th>\n",
       "      <td>2020</td>\n",
       "      <td>527946.300</td>\n",
       "      <td>285155.350</td>\n",
       "      <td>104932.325</td>\n",
       "      <td>142151.400</td>\n",
       "      <td>-4601.625</td>\n",
       "    </tr>\n",
       "    <tr>\n",
       "      <th>9</th>\n",
       "      <td>2021</td>\n",
       "      <td>536811.775</td>\n",
       "      <td>288895.200</td>\n",
       "      <td>103434.900</td>\n",
       "      <td>143454.975</td>\n",
       "      <td>1222.325</td>\n",
       "    </tr>\n",
       "  </tbody>\n",
       "</table>\n",
       "</div>"
      ],
      "text/plain": [
       "   year         gdp         con         inv         gov    net_ex\n",
       "0  2012  517928.400  295751.750   98682.200  127135.975 -3941.775\n",
       "1  2013  528522.025  303606.600  100590.050  129984.100 -6006.850\n",
       "2  2014  529656.425  300593.375  103200.725  131434.275 -5477.075\n",
       "3  2015  538098.750  300107.925  108697.000  132249.450 -2955.575\n",
       "4  2016  541964.600  298675.925  109195.975  134433.625  -340.550\n",
       "5  2017  551205.775  301894.650  111970.275  134762.325  2800.425\n",
       "6  2018  554349.275  302496.325  113151.350  136011.050  2901.725\n",
       "7  2019  553019.775  300927.225  113488.750  138450.375   281.825\n",
       "8  2020  527946.300  285155.350  104932.325  142151.400 -4601.625\n",
       "9  2021  536811.775  288895.200  103434.900  143454.975  1222.325"
      ]
     },
     "execution_count": 5,
     "metadata": {},
     "output_type": "execute_result"
    }
   ],
   "source": [
    "df"
   ]
  },
  {
   "cell_type": "markdown",
   "id": "09f8e108-e055-4f73-9b01-3fb2ae32bc78",
   "metadata": {},
   "source": [
    "数値は日本の四半期データを年平均（単位：`10`億円）にしている。\n",
    "* `year`：年\n",
    "* `gdp`：国内総生産（Gross Domestic Product）\n",
    "* `con`：消費（consumption）\n",
    "* `inv`：投資（investment）\n",
    "* `gov`：政府支出（government expenditure）\n",
    "* `net_ex`：純輸出（net exports）"
   ]
  },
  {
   "cell_type": "markdown",
   "id": "8789a50e-14a9-4624-b686-490e1a5801c1",
   "metadata": {},
   "source": [
    "最初の5行だけを表示するためには、次のコードを実行します。\n",
    "```\n",
    "df.head()\n",
    "```\n",
    "コードを実行しましょう。"
   ]
  },
  {
   "cell_type": "code",
   "execution_count": 7,
   "id": "fa257837-0b6d-43ed-ba00-2910d4c90f3d",
   "metadata": {},
   "outputs": [
    {
     "data": {
      "text/html": [
       "<div>\n",
       "<style scoped>\n",
       "    .dataframe tbody tr th:only-of-type {\n",
       "        vertical-align: middle;\n",
       "    }\n",
       "\n",
       "    .dataframe tbody tr th {\n",
       "        vertical-align: top;\n",
       "    }\n",
       "\n",
       "    .dataframe thead th {\n",
       "        text-align: right;\n",
       "    }\n",
       "</style>\n",
       "<table border=\"1\" class=\"dataframe\">\n",
       "  <thead>\n",
       "    <tr style=\"text-align: right;\">\n",
       "      <th></th>\n",
       "      <th>year</th>\n",
       "      <th>gdp</th>\n",
       "      <th>con</th>\n",
       "      <th>inv</th>\n",
       "      <th>gov</th>\n",
       "      <th>net_ex</th>\n",
       "    </tr>\n",
       "  </thead>\n",
       "  <tbody>\n",
       "    <tr>\n",
       "      <th>0</th>\n",
       "      <td>2012</td>\n",
       "      <td>517928.400</td>\n",
       "      <td>295751.750</td>\n",
       "      <td>98682.200</td>\n",
       "      <td>127135.975</td>\n",
       "      <td>-3941.775</td>\n",
       "    </tr>\n",
       "    <tr>\n",
       "      <th>1</th>\n",
       "      <td>2013</td>\n",
       "      <td>528522.025</td>\n",
       "      <td>303606.600</td>\n",
       "      <td>100590.050</td>\n",
       "      <td>129984.100</td>\n",
       "      <td>-6006.850</td>\n",
       "    </tr>\n",
       "    <tr>\n",
       "      <th>2</th>\n",
       "      <td>2014</td>\n",
       "      <td>529656.425</td>\n",
       "      <td>300593.375</td>\n",
       "      <td>103200.725</td>\n",
       "      <td>131434.275</td>\n",
       "      <td>-5477.075</td>\n",
       "    </tr>\n",
       "    <tr>\n",
       "      <th>3</th>\n",
       "      <td>2015</td>\n",
       "      <td>538098.750</td>\n",
       "      <td>300107.925</td>\n",
       "      <td>108697.000</td>\n",
       "      <td>132249.450</td>\n",
       "      <td>-2955.575</td>\n",
       "    </tr>\n",
       "    <tr>\n",
       "      <th>4</th>\n",
       "      <td>2016</td>\n",
       "      <td>541964.600</td>\n",
       "      <td>298675.925</td>\n",
       "      <td>109195.975</td>\n",
       "      <td>134433.625</td>\n",
       "      <td>-340.550</td>\n",
       "    </tr>\n",
       "  </tbody>\n",
       "</table>\n",
       "</div>"
      ],
      "text/plain": [
       "   year         gdp         con         inv         gov    net_ex\n",
       "0  2012  517928.400  295751.750   98682.200  127135.975 -3941.775\n",
       "1  2013  528522.025  303606.600  100590.050  129984.100 -6006.850\n",
       "2  2014  529656.425  300593.375  103200.725  131434.275 -5477.075\n",
       "3  2015  538098.750  300107.925  108697.000  132249.450 -2955.575\n",
       "4  2016  541964.600  298675.925  109195.975  134433.625  -340.550"
      ]
     },
     "execution_count": 7,
     "metadata": {},
     "output_type": "execute_result"
    }
   ],
   "source": [
    "df.head()"
   ]
  },
  {
   "cell_type": "markdown",
   "id": "1428c981-abdb-4534-8376-02e4d3fc5f7f",
   "metadata": {},
   "source": [
    "## 列の抽出"
   ]
  },
  {
   "cell_type": "markdown",
   "id": "98caaf85-3da8-44c1-9d4f-9f0707bc7c64",
   "metadata": {},
   "source": [
    "列`gdp`だけを抽出するためには、次のコードを使う。\n",
    "```\n",
    "df[\"gdp\"]\n",
    "```\n",
    "列ラベルは文字列として指定している。実行してみましょう（クォート`\"`で列の名前を囲むことを忘れずに！）。"
   ]
  },
  {
   "cell_type": "code",
   "execution_count": 10,
   "id": "5d2ab5ee-70be-4d1b-b866-78db233a082a",
   "metadata": {},
   "outputs": [
    {
     "data": {
      "text/plain": [
       "0    517928.400\n",
       "1    528522.025\n",
       "2    529656.425\n",
       "3    538098.750\n",
       "4    541964.600\n",
       "5    551205.775\n",
       "6    554349.275\n",
       "7    553019.775\n",
       "8    527946.300\n",
       "9    536811.775\n",
       "Name: gdp, dtype: float64"
      ]
     },
     "execution_count": 10,
     "metadata": {},
     "output_type": "execute_result"
    }
   ],
   "source": [
    "df[\"gdp\"]"
   ]
  },
  {
   "cell_type": "markdown",
   "id": "755676ec-69b9-490c-a288-c11329349462",
   "metadata": {},
   "source": [
    "同様に列`con`を抽出してみましょう。（クォート`\"`で列の名前を囲むことを忘れずに！）"
   ]
  },
  {
   "cell_type": "code",
   "execution_count": 13,
   "id": "8a04e83c-d999-4daa-b3df-88d425b2d4cb",
   "metadata": {},
   "outputs": [
    {
     "data": {
      "text/plain": [
       "0    295751.750\n",
       "1    303606.600\n",
       "2    300593.375\n",
       "3    300107.925\n",
       "4    298675.925\n",
       "5    301894.650\n",
       "6    302496.325\n",
       "7    300927.225\n",
       "8    285155.350\n",
       "9    288895.200\n",
       "Name: con, dtype: float64"
      ]
     },
     "execution_count": 13,
     "metadata": {},
     "output_type": "execute_result"
    }
   ],
   "source": [
    "df[\"con\"]"
   ]
  },
  {
   "cell_type": "markdown",
   "id": "7ec36f02-0017-4c2f-8495-d80cb5b232bd",
   "metadata": {},
   "source": [
    "## 列を使った計算"
   ]
  },
  {
   "cell_type": "markdown",
   "id": "138f2adf-b857-4a26-b7ef-d7f76e438a0c",
   "metadata": {},
   "source": [
    "列`con`を列`gdp`で割ることにより、GDPにおける消費の割合を計算することができます。（クォート`\"`で列の名前を囲むことを忘れずに！）"
   ]
  },
  {
   "cell_type": "code",
   "execution_count": 14,
   "id": "52672eb1-d66f-4b40-8cfc-8cd1b04a374e",
   "metadata": {},
   "outputs": [
    {
     "data": {
      "text/plain": [
       "0    0.571028\n",
       "1    0.574445\n",
       "2    0.567525\n",
       "3    0.557719\n",
       "4    0.551099\n",
       "5    0.547699\n",
       "6    0.545678\n",
       "7    0.544153\n",
       "8    0.540122\n",
       "9    0.538169\n",
       "dtype: float64"
      ]
     },
     "execution_count": 14,
     "metadata": {},
     "output_type": "execute_result"
    }
   ],
   "source": [
    "df[\"con\"] / df[\"gdp\"]"
   ]
  },
  {
   "cell_type": "markdown",
   "id": "4dd86e6a-958b-474e-8d6e-bf295743eb19",
   "metadata": {},
   "source": [
    "## 新たな列の追加"
   ]
  },
  {
   "cell_type": "markdown",
   "id": "bf456adc-7daf-497c-ae38-8c918947a910",
   "metadata": {},
   "source": [
    "次に、消費の割合を`df`の新たな列として追加する。列の名前は`con2gdp`（consumption to gdp ratioの略）とし、次のコードで追加することができます。\n",
    "```\n",
    "df[\"con2gdp\"] = df[\"con\"] / df[\"gdp\"]\n",
    "```\n",
    "実行しよう。（クォート`\"`で列の名前を囲むことを忘れずに！）"
   ]
  },
  {
   "cell_type": "code",
   "execution_count": 15,
   "id": "a6a9496d-6712-45a9-a1a0-4b0bc96c2507",
   "metadata": {},
   "outputs": [],
   "source": [
    "df[\"con2gdp\"] = df[\"con\"] / df[\"gdp\"]"
   ]
  },
  {
   "cell_type": "markdown",
   "id": "65d1f96a-4078-486e-97d0-f55ff2673b15",
   "metadata": {},
   "source": [
    "`df.head()`を実行して最初の5行を表示し、新たな列が追加されているか確認しよう。"
   ]
  },
  {
   "cell_type": "code",
   "execution_count": 16,
   "id": "1f144012-53e6-4efb-9e35-10a694f45928",
   "metadata": {},
   "outputs": [
    {
     "data": {
      "text/html": [
       "<div>\n",
       "<style scoped>\n",
       "    .dataframe tbody tr th:only-of-type {\n",
       "        vertical-align: middle;\n",
       "    }\n",
       "\n",
       "    .dataframe tbody tr th {\n",
       "        vertical-align: top;\n",
       "    }\n",
       "\n",
       "    .dataframe thead th {\n",
       "        text-align: right;\n",
       "    }\n",
       "</style>\n",
       "<table border=\"1\" class=\"dataframe\">\n",
       "  <thead>\n",
       "    <tr style=\"text-align: right;\">\n",
       "      <th></th>\n",
       "      <th>year</th>\n",
       "      <th>gdp</th>\n",
       "      <th>con</th>\n",
       "      <th>inv</th>\n",
       "      <th>gov</th>\n",
       "      <th>net_ex</th>\n",
       "      <th>con2gdp</th>\n",
       "    </tr>\n",
       "  </thead>\n",
       "  <tbody>\n",
       "    <tr>\n",
       "      <th>0</th>\n",
       "      <td>2012</td>\n",
       "      <td>517928.400</td>\n",
       "      <td>295751.750</td>\n",
       "      <td>98682.200</td>\n",
       "      <td>127135.975</td>\n",
       "      <td>-3941.775</td>\n",
       "      <td>0.571028</td>\n",
       "    </tr>\n",
       "    <tr>\n",
       "      <th>1</th>\n",
       "      <td>2013</td>\n",
       "      <td>528522.025</td>\n",
       "      <td>303606.600</td>\n",
       "      <td>100590.050</td>\n",
       "      <td>129984.100</td>\n",
       "      <td>-6006.850</td>\n",
       "      <td>0.574445</td>\n",
       "    </tr>\n",
       "    <tr>\n",
       "      <th>2</th>\n",
       "      <td>2014</td>\n",
       "      <td>529656.425</td>\n",
       "      <td>300593.375</td>\n",
       "      <td>103200.725</td>\n",
       "      <td>131434.275</td>\n",
       "      <td>-5477.075</td>\n",
       "      <td>0.567525</td>\n",
       "    </tr>\n",
       "    <tr>\n",
       "      <th>3</th>\n",
       "      <td>2015</td>\n",
       "      <td>538098.750</td>\n",
       "      <td>300107.925</td>\n",
       "      <td>108697.000</td>\n",
       "      <td>132249.450</td>\n",
       "      <td>-2955.575</td>\n",
       "      <td>0.557719</td>\n",
       "    </tr>\n",
       "    <tr>\n",
       "      <th>4</th>\n",
       "      <td>2016</td>\n",
       "      <td>541964.600</td>\n",
       "      <td>298675.925</td>\n",
       "      <td>109195.975</td>\n",
       "      <td>134433.625</td>\n",
       "      <td>-340.550</td>\n",
       "      <td>0.551099</td>\n",
       "    </tr>\n",
       "  </tbody>\n",
       "</table>\n",
       "</div>"
      ],
      "text/plain": [
       "   year         gdp         con         inv         gov    net_ex   con2gdp\n",
       "0  2012  517928.400  295751.750   98682.200  127135.975 -3941.775  0.571028\n",
       "1  2013  528522.025  303606.600  100590.050  129984.100 -6006.850  0.574445\n",
       "2  2014  529656.425  300593.375  103200.725  131434.275 -5477.075  0.567525\n",
       "3  2015  538098.750  300107.925  108697.000  132249.450 -2955.575  0.557719\n",
       "4  2016  541964.600  298675.925  109195.975  134433.625  -340.550  0.551099"
      ]
     },
     "execution_count": 16,
     "metadata": {},
     "output_type": "execute_result"
    }
   ],
   "source": [
    "df.head()"
   ]
  },
  {
   "cell_type": "markdown",
   "id": "9f62e4a4-c861-4e11-bf7b-fe261c4dcaf0",
   "metadata": {},
   "source": [
    "## `numpy`の関数を使う"
   ]
  },
  {
   "cell_type": "markdown",
   "id": "7a001af2-4e28-42b6-8f2e-2b01e36b2853",
   "metadata": {},
   "source": [
    "`numpy`の関数の関数を使うと、列の値全てを関数を使った計算結果に変換できる。例えば、自然対数関数を使ってみよう。"
   ]
  },
  {
   "cell_type": "code",
   "execution_count": 20,
   "id": "73339a46-75ab-4d2e-a20d-6669df54c41a",
   "metadata": {},
   "outputs": [
    {
     "data": {
      "text/plain": [
       "0    13.157592\n",
       "1    13.177840\n",
       "2    13.179984\n",
       "3    13.195797\n",
       "4    13.202956\n",
       "5    13.219863\n",
       "6    13.225550\n",
       "7    13.223149\n",
       "8    13.176750\n",
       "9    13.193403\n",
       "Name: gdp, dtype: float64"
      ]
     },
     "execution_count": 20,
     "metadata": {},
     "output_type": "execute_result"
    }
   ],
   "source": [
    "np.log( df['gdp'] )"
   ]
  }
 ],
 "metadata": {
  "kernelspec": {
   "display_name": "py11",
   "language": "python",
   "name": "py11"
  },
  "language_info": {
   "codemirror_mode": {
    "name": "ipython",
    "version": 3
   },
   "file_extension": ".py",
   "mimetype": "text/x-python",
   "name": "python",
   "nbconvert_exporter": "python",
   "pygments_lexer": "ipython3",
   "version": "3.11.9"
  }
 },
 "nbformat": 4,
 "nbformat_minor": 5
}
