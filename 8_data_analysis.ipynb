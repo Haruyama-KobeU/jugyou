{
 "cells": [
  {
   "cell_type": "markdown",
   "id": "139c1bd0-bb84-4f6c-912e-422a6fc1bcff",
   "metadata": {
    "editable": true,
    "slideshow": {
     "slide_type": "slide"
    },
    "tags": []
   },
   "source": [
    "# データ分析：日本のデータ"
   ]
  },
  {
   "cell_type": "markdown",
   "id": "aceb520c-0084-4f6d-9fe1-8d8272034467",
   "metadata": {},
   "source": [
    "次のコードをアンコメントして実行しなさい。"
   ]
  },
  {
   "cell_type": "code",
   "execution_count": 2,
   "id": "fafc63ed-b5bb-4df3-9940-ff8f7b056414",
   "metadata": {},
   "outputs": [],
   "source": [
    "# CELL PROVIDED\n",
    "\n",
    "# import piplite\n",
    "# await piplite.install(['py4macro','japanize_matplotlib_jlite'])"
   ]
  },
  {
   "cell_type": "markdown",
   "id": "31571b7d-23d9-4d2a-924f-356700d8803e",
   "metadata": {},
   "source": [
    "次のコードを実行しなさい。"
   ]
  },
  {
   "cell_type": "code",
   "execution_count": 3,
   "id": "9ff43b23-af9c-4f40-83ab-00b0c38a842d",
   "metadata": {
    "editable": true,
    "slideshow": {
     "slide_type": "-"
    },
    "tags": []
   },
   "outputs": [],
   "source": [
    "import japanize_matplotlib_jlite\n",
    "import matplotlib.pyplot as plt\n",
    "import numpy as np\n",
    "import pandas as pd\n",
    "import py4macro"
   ]
  },
  {
   "cell_type": "markdown",
   "id": "b5cd59e7-c3f2-4e02-967b-18355f73f57d",
   "metadata": {
    "editable": true,
    "slideshow": {
     "slide_type": "slide"
    },
    "tags": []
   },
   "source": [
    "## GDP：三面等価の原則"
   ]
  },
  {
   "cell_type": "markdown",
   "id": "ba3b59dd-fb20-4470-8b2d-a43eec2c31e3",
   "metadata": {
    "editable": true,
    "slideshow": {
     "slide_type": ""
    },
    "tags": []
   },
   "source": [
    "GDPを財・サービスとお金の流れで考えよう\n",
    "\n",
    "* GDP\n",
    "    * 経済全体で生産された財・サービス（最終財）を円単位で合計\n",
    "    * <span style=\"color:red\">生産側GDP</span>\n",
    "* 生産されたものは購入（消費や投資）される\n",
    "    * 購入額の合計：支出側GDP\n",
    "    * <span style=\"color:red\">生産側GDP</span> = <span style=\"color:red\">支出側GDP</span>\n",
    "    * 「売れ残り」= 在庫投資（投資支出の一部）\n",
    "* 誰かが購入すると誰かの所得となる\n",
    "    * 所得の合計：分配側GDP\n",
    "    * <span style=\"color:red\">支出側GDP</span> = <span style=\"color:red\">分配側GDP</span>\n",
    "\n",
    "$$\n",
    "\\text{生産側GDP = 支出側GDP = 分配側GDP}\n",
    "$$\n",
    "\n",
    "これを<span style=\"color:blue\">三面等価の原則</span>と呼ぶ"
   ]
  },
  {
   "cell_type": "markdown",
   "id": "28711928-6f5e-47c1-a1ed-10f62a6923df",
   "metadata": {},
   "source": [
    "## 2023年の１年間の実質GDP"
   ]
  },
  {
   "attachments": {},
   "cell_type": "markdown",
   "id": "516f21fe-e9b8-4f8c-936e-15ffb983d911",
   "metadata": {},
   "source": [
    "$$\\phantom{ttt}$$\n",
    "\n",
    "$$\\phantom{ttt}$$\n",
    "\n",
    "$$\\LARGE 559,374,100,000,000\\text{円}$$\n",
    "\n",
    "又は\n",
    "\n",
    "$$\\LARGE 559\\text{兆}3,741\\text{億円}$$\n",
    "\n",
    "$$\\phantom{ttt}$$\n",
    "\n",
    "$$\\phantom{ttt}$$\n",
    "\n",
    "2015暦年連鎖価格"
   ]
  },
  {
   "cell_type": "markdown",
   "id": "90759b83-3588-4a77-a673-8a602aee1905",
   "metadata": {
    "editable": true,
    "slideshow": {
     "slide_type": "slide"
    },
    "tags": []
   },
   "source": [
    "## 一人当たりGDPの解釈"
   ]
  },
  {
   "cell_type": "markdown",
   "id": "a015ef76-9fcb-4a13-9f4f-7b235803eef7",
   "metadata": {
    "editable": true,
    "slideshow": {
     "slide_type": ""
    },
    "tags": []
   },
   "source": [
    "* 総生側GDP = 総支側GDP = <span style=\"color:red\">分配側GDP</span>\n",
    "* 分配側GDP = 所得の総合計\n",
    "* 一人当たりGDPの意味\n",
    "\n",
    "$$\n",
    "\\text{一人当たりGDP}=\\frac{\\text{GDP}}{\\text{人口}}=\\frac{\\text{所得の総合計}}{\\text{人口}}=\\text{一人当たり所得}\n",
    "$$\n",
    "\n",
    "* 解釈\n",
    "    * 総所得を全ての人に平等に同じ金額を分配した場合の金額\n",
    "    * 「平均的な人」で捉えた生活水準\n",
    "* 以下では、一人当たり実質GDPのデータを使い、日本の生活水準の変化を考える"
   ]
  },
  {
   "cell_type": "markdown",
   "id": "ab70ef29-0cea-437b-9b0a-d07dbe60a471",
   "metadata": {
    "editable": true,
    "heading_collapsed": true,
    "slideshow": {
     "slide_type": "slide"
    },
    "tags": []
   },
   "source": [
    "## 日本の一人当たりGDP"
   ]
  },
  {
   "cell_type": "markdown",
   "id": "b5a0dcb4-c22f-4cef-a4cc-332af4101b88",
   "metadata": {
    "editable": true,
    "heading_collapsed": true,
    "jp-MarkdownHeadingCollapsed": true,
    "slideshow": {
     "slide_type": ""
    },
    "tags": []
   },
   "source": [
    "* 内閣府の公式データ\n",
    "* `1980`〜`2023`年\n",
    "    * 時系列データ　→　動画のイメージ\n",
    "* 単位：円\n",
    "* 実質：`2015`年（参照年）"
   ]
  },
  {
   "cell_type": "markdown",
   "id": "95983407-fbde-4f48-86e2-4bba02e3fc6e",
   "metadata": {
    "editable": true,
    "heading_collapsed": true,
    "hidden": true,
    "slideshow": {
     "slide_type": "slide"
    },
    "tags": []
   },
   "source": [
    "### 一人当たりGDPの推移"
   ]
  },
  {
   "cell_type": "markdown",
   "id": "a0710994-6a15-46a2-b8d0-3ec883f7de5c",
   "metadata": {},
   "source": [
    "データの読み込み。"
   ]
  },
  {
   "cell_type": "code",
   "execution_count": 4,
   "id": "36819067-3302-48cb-9fb7-dca0ac3120ba",
   "metadata": {},
   "outputs": [],
   "source": [
    "jpn = py4macro.data(\"jpn-yr\")"
   ]
  },
  {
   "cell_type": "markdown",
   "id": "8a83ab17-c242-4708-b68a-bb63e167c6f9",
   "metadata": {},
   "source": [
    "含まれるデータの確認"
   ]
  },
  {
   "cell_type": "code",
   "execution_count": 5,
   "id": "5a64e19b-a423-4630-8700-14e0f7be41b3",
   "metadata": {},
   "outputs": [
    {
     "name": "stdout",
     "output_type": "stream",
     "text": [
      "\n",
      "    | `gdp`:          国内総生産（GDP）\n",
      "    | `consumption`:  消費\n",
      "    | `investment`:   投資\n",
      "    | `government`:   政府支出\n",
      "    | `exports`:      輸出\n",
      "    | `imports`:      輸入\n",
      "    | `gdp_gap`:      GDPギャップ\n",
      "    | `deflator`:     GDPデフレーター\n",
      "    | `inflation`:    インフレ率\n",
      "    | `unemployment_rate`: 失業率\n",
      "    | `employed`:     就業者数\n",
      "    | `population`:   人口\n",
      "    | `gov_debt`:     政府負債\n",
      "    | `gov_net_debt`: 政府純負債\n",
      "    |\n",
      "    | * 年次データ（暦年）\n",
      "    |\n",
      "    | ＜出典＞\n",
      "    | GDPと各需要項目\n",
      "    |    * 1994年~\n",
      "    |        * 実額\n",
      "    |        * 2015暦年（平成27年）連鎖価格\n",
      "    |        * 単位：10億円\n",
      "    |        * 国民経済計算（GDP統計）\n",
      "    |    * 1980年~1993年\n",
      "    |        * 実額\n",
      "    |        * 2015年（平成27年）基準支出側GDP系列簡易遡及（参考系列であり上のデータと接続可能）\n",
      "    |        * 単位：10億円\n",
      "    |        * 国民経済計算（GDP統計）\n",
      "    |\n",
      "    | GDPギャップ\n",
      "    |   * 単位：％\n",
      "    |   * GDPの潜在GDPからの乖離\n",
      "    |   * IMF World Economic Outlook\n",
      "    |\n",
      "    | GDPデフレーター\n",
      "    |   * IMF World Economic Outlook\n",
      "    |\n",
      "    | インフレ率\n",
      "    |   * 単位：％\n",
      "    |   * 年平均\n",
      "    |   * IMF World Economic Outlook\n",
      "    |\n",
      "    | 失業率\n",
      "    |   * 単位：％\n",
      "    |   * IMF World Economic Outlook\n",
      "    |\n",
      "    | 就業者数，人口\n",
      "    |   * 単位：万人\n",
      "    |   * IMF World Economic Outlook\n",
      "    |\n",
      "    | 政府負債\n",
      "    |   * 単位：10億円\n",
      "    |   * IMF World Economic Outlook\n",
      "    |\n",
      "    | 政府純負債\n",
      "    |   * 単位：10億円\n",
      "    |   * IMF World Economic Outlook\n"
     ]
    }
   ],
   "source": [
    "py4macro.data(\"jpn-yr\", description=True)"
   ]
  },
  {
   "cell_type": "markdown",
   "id": "e83152df-75f8-4725-91c6-fe9abd09da8f",
   "metadata": {},
   "source": [
    "最初の5行"
   ]
  },
  {
   "cell_type": "code",
   "execution_count": 6,
   "id": "d42e3d7a-2fb1-4e20-a1d1-b387f188955e",
   "metadata": {},
   "outputs": [
    {
     "data": {
      "text/html": [
       "<div>\n",
       "<style scoped>\n",
       "    .dataframe tbody tr th:only-of-type {\n",
       "        vertical-align: middle;\n",
       "    }\n",
       "\n",
       "    .dataframe tbody tr th {\n",
       "        vertical-align: top;\n",
       "    }\n",
       "\n",
       "    .dataframe thead th {\n",
       "        text-align: right;\n",
       "    }\n",
       "</style>\n",
       "<table border=\"1\" class=\"dataframe\">\n",
       "  <thead>\n",
       "    <tr style=\"text-align: right;\">\n",
       "      <th></th>\n",
       "      <th>gdp</th>\n",
       "      <th>consumption</th>\n",
       "      <th>investment</th>\n",
       "      <th>government</th>\n",
       "      <th>exports</th>\n",
       "      <th>imports</th>\n",
       "      <th>gdp_gap</th>\n",
       "      <th>deflator</th>\n",
       "      <th>inflation</th>\n",
       "      <th>unemployment_rate</th>\n",
       "      <th>employed</th>\n",
       "      <th>population</th>\n",
       "      <th>gov_debt</th>\n",
       "      <th>gov_net_debt</th>\n",
       "    </tr>\n",
       "    <tr>\n",
       "      <th></th>\n",
       "      <th></th>\n",
       "      <th></th>\n",
       "      <th></th>\n",
       "      <th></th>\n",
       "      <th></th>\n",
       "      <th></th>\n",
       "      <th></th>\n",
       "      <th></th>\n",
       "      <th></th>\n",
       "      <th></th>\n",
       "      <th></th>\n",
       "      <th></th>\n",
       "      <th></th>\n",
       "      <th></th>\n",
       "    </tr>\n",
       "  </thead>\n",
       "  <tbody>\n",
       "    <tr>\n",
       "      <th>1980-01-01</th>\n",
       "      <td>273389.5</td>\n",
       "      <td>154892.6</td>\n",
       "      <td>65514.9</td>\n",
       "      <td>73312.8</td>\n",
       "      <td>18801.1</td>\n",
       "      <td>24334.3</td>\n",
       "      <td>-5.673</td>\n",
       "      <td>93.667</td>\n",
       "      <td>7.808</td>\n",
       "      <td>2.017</td>\n",
       "      <td>5536.1</td>\n",
       "      <td>11676.9</td>\n",
       "      <td>122341.9</td>\n",
       "      <td>44619.1</td>\n",
       "    </tr>\n",
       "    <tr>\n",
       "      <th>1981-01-01</th>\n",
       "      <td>285037.6</td>\n",
       "      <td>158798.7</td>\n",
       "      <td>66398.2</td>\n",
       "      <td>76678.7</td>\n",
       "      <td>21322.2</td>\n",
       "      <td>24924.2</td>\n",
       "      <td>-4.394</td>\n",
       "      <td>96.344</td>\n",
       "      <td>4.936</td>\n",
       "      <td>2.208</td>\n",
       "      <td>5581.8</td>\n",
       "      <td>11762.3</td>\n",
       "      <td>145038.3</td>\n",
       "      <td>57895.0</td>\n",
       "    </tr>\n",
       "    <tr>\n",
       "      <th>1982-01-01</th>\n",
       "      <td>294386.1</td>\n",
       "      <td>166201.2</td>\n",
       "      <td>66646.7</td>\n",
       "      <td>78175.5</td>\n",
       "      <td>21639.3</td>\n",
       "      <td>24780.8</td>\n",
       "      <td>-3.921</td>\n",
       "      <td>98.039</td>\n",
       "      <td>2.749</td>\n",
       "      <td>2.350</td>\n",
       "      <td>5638.6</td>\n",
       "      <td>11845.1</td>\n",
       "      <td>166617.3</td>\n",
       "      <td>73262.9</td>\n",
       "    </tr>\n",
       "    <tr>\n",
       "      <th>1983-01-01</th>\n",
       "      <td>305072.9</td>\n",
       "      <td>171815.5</td>\n",
       "      <td>66816.3</td>\n",
       "      <td>80466.8</td>\n",
       "      <td>22714.3</td>\n",
       "      <td>23980.5</td>\n",
       "      <td>-3.080</td>\n",
       "      <td>98.942</td>\n",
       "      <td>1.881</td>\n",
       "      <td>2.658</td>\n",
       "      <td>5732.7</td>\n",
       "      <td>11927.1</td>\n",
       "      <td>191704.6</td>\n",
       "      <td>90702.1</td>\n",
       "    </tr>\n",
       "    <tr>\n",
       "      <th>1984-01-01</th>\n",
       "      <td>318529.3</td>\n",
       "      <td>177226.5</td>\n",
       "      <td>70126.5</td>\n",
       "      <td>82233.3</td>\n",
       "      <td>26201.7</td>\n",
       "      <td>26526.0</td>\n",
       "      <td>-1.747</td>\n",
       "      <td>100.356</td>\n",
       "      <td>2.251</td>\n",
       "      <td>2.708</td>\n",
       "      <td>5766.0</td>\n",
       "      <td>12005.0</td>\n",
       "      <td>209705.2</td>\n",
       "      <td>103728.2</td>\n",
       "    </tr>\n",
       "  </tbody>\n",
       "</table>\n",
       "</div>"
      ],
      "text/plain": [
       "                 gdp  consumption  investment  government  exports  imports  \\\n",
       "                                                                              \n",
       "1980-01-01  273389.5     154892.6     65514.9     73312.8  18801.1  24334.3   \n",
       "1981-01-01  285037.6     158798.7     66398.2     76678.7  21322.2  24924.2   \n",
       "1982-01-01  294386.1     166201.2     66646.7     78175.5  21639.3  24780.8   \n",
       "1983-01-01  305072.9     171815.5     66816.3     80466.8  22714.3  23980.5   \n",
       "1984-01-01  318529.3     177226.5     70126.5     82233.3  26201.7  26526.0   \n",
       "\n",
       "            gdp_gap  deflator  inflation  unemployment_rate  employed  \\\n",
       "                                                                        \n",
       "1980-01-01   -5.673    93.667      7.808              2.017    5536.1   \n",
       "1981-01-01   -4.394    96.344      4.936              2.208    5581.8   \n",
       "1982-01-01   -3.921    98.039      2.749              2.350    5638.6   \n",
       "1983-01-01   -3.080    98.942      1.881              2.658    5732.7   \n",
       "1984-01-01   -1.747   100.356      2.251              2.708    5766.0   \n",
       "\n",
       "            population  gov_debt  gov_net_debt  \n",
       "                                                \n",
       "1980-01-01     11676.9  122341.9       44619.1  \n",
       "1981-01-01     11762.3  145038.3       57895.0  \n",
       "1982-01-01     11845.1  166617.3       73262.9  \n",
       "1983-01-01     11927.1  191704.6       90702.1  \n",
       "1984-01-01     12005.0  209705.2      103728.2  "
      ]
     },
     "execution_count": 6,
     "metadata": {},
     "output_type": "execute_result"
    }
   ],
   "source": [
    "jpn.head()"
   ]
  },
  {
   "cell_type": "markdown",
   "id": "3ea7a69c-4f55-49d5-a930-bd8af849d1d1",
   "metadata": {},
   "source": [
    "一人当たりGDPの列を作成"
   ]
  },
  {
   "cell_type": "code",
   "execution_count": 7,
   "id": "0fc37604-2dd1-4190-9e56-60ddc19144e1",
   "metadata": {},
   "outputs": [
    {
     "data": {
      "text/html": [
       "<div>\n",
       "<style scoped>\n",
       "    .dataframe tbody tr th:only-of-type {\n",
       "        vertical-align: middle;\n",
       "    }\n",
       "\n",
       "    .dataframe tbody tr th {\n",
       "        vertical-align: top;\n",
       "    }\n",
       "\n",
       "    .dataframe thead th {\n",
       "        text-align: right;\n",
       "    }\n",
       "</style>\n",
       "<table border=\"1\" class=\"dataframe\">\n",
       "  <thead>\n",
       "    <tr style=\"text-align: right;\">\n",
       "      <th></th>\n",
       "      <th>gdp</th>\n",
       "      <th>consumption</th>\n",
       "      <th>investment</th>\n",
       "      <th>government</th>\n",
       "      <th>exports</th>\n",
       "      <th>imports</th>\n",
       "      <th>gdp_gap</th>\n",
       "      <th>deflator</th>\n",
       "      <th>inflation</th>\n",
       "      <th>unemployment_rate</th>\n",
       "      <th>employed</th>\n",
       "      <th>population</th>\n",
       "      <th>gov_debt</th>\n",
       "      <th>gov_net_debt</th>\n",
       "      <th>gdppc</th>\n",
       "    </tr>\n",
       "    <tr>\n",
       "      <th></th>\n",
       "      <th></th>\n",
       "      <th></th>\n",
       "      <th></th>\n",
       "      <th></th>\n",
       "      <th></th>\n",
       "      <th></th>\n",
       "      <th></th>\n",
       "      <th></th>\n",
       "      <th></th>\n",
       "      <th></th>\n",
       "      <th></th>\n",
       "      <th></th>\n",
       "      <th></th>\n",
       "      <th></th>\n",
       "      <th></th>\n",
       "    </tr>\n",
       "  </thead>\n",
       "  <tbody>\n",
       "    <tr>\n",
       "      <th>2021-01-01</th>\n",
       "      <td>543720.6</td>\n",
       "      <td>289617.0</td>\n",
       "      <td>108013.1</td>\n",
       "      <td>145268.1</td>\n",
       "      <td>102784.4</td>\n",
       "      <td>101576.9</td>\n",
       "      <td>-1.618</td>\n",
       "      <td>101.730</td>\n",
       "      <td>-0.235</td>\n",
       "      <td>2.808</td>\n",
       "      <td>6712.3</td>\n",
       "      <td>12550.7</td>\n",
       "      <td>1403081.70</td>\n",
       "      <td>864306.60</td>\n",
       "      <td>43.321934</td>\n",
       "    </tr>\n",
       "    <tr>\n",
       "      <th>2022-01-01</th>\n",
       "      <td>550250.3</td>\n",
       "      <td>295888.9</td>\n",
       "      <td>111477.0</td>\n",
       "      <td>144772.6</td>\n",
       "      <td>108410.9</td>\n",
       "      <td>109590.9</td>\n",
       "      <td>-0.897</td>\n",
       "      <td>102.067</td>\n",
       "      <td>2.497</td>\n",
       "      <td>2.592</td>\n",
       "      <td>6722.7</td>\n",
       "      <td>12517.1</td>\n",
       "      <td>1439541.36</td>\n",
       "      <td>841397.00</td>\n",
       "      <td>43.959887</td>\n",
       "    </tr>\n",
       "    <tr>\n",
       "      <th>2023-01-01</th>\n",
       "      <td>560225.5</td>\n",
       "      <td>297668.3</td>\n",
       "      <td>112951.3</td>\n",
       "      <td>145839.6</td>\n",
       "      <td>111834.4</td>\n",
       "      <td>108148.8</td>\n",
       "      <td>0.164</td>\n",
       "      <td>105.897</td>\n",
       "      <td>3.268</td>\n",
       "      <td>2.567</td>\n",
       "      <td>6747.0</td>\n",
       "      <td>12462.1</td>\n",
       "      <td>1493689.64</td>\n",
       "      <td>922759.86</td>\n",
       "      <td>44.954342</td>\n",
       "    </tr>\n",
       "  </tbody>\n",
       "</table>\n",
       "</div>"
      ],
      "text/plain": [
       "                 gdp  consumption  investment  government   exports   imports  \\\n",
       "                                                                                \n",
       "2021-01-01  543720.6     289617.0    108013.1    145268.1  102784.4  101576.9   \n",
       "2022-01-01  550250.3     295888.9    111477.0    144772.6  108410.9  109590.9   \n",
       "2023-01-01  560225.5     297668.3    112951.3    145839.6  111834.4  108148.8   \n",
       "\n",
       "            gdp_gap  deflator  inflation  unemployment_rate  employed  \\\n",
       "                                                                        \n",
       "2021-01-01   -1.618   101.730     -0.235              2.808    6712.3   \n",
       "2022-01-01   -0.897   102.067      2.497              2.592    6722.7   \n",
       "2023-01-01    0.164   105.897      3.268              2.567    6747.0   \n",
       "\n",
       "            population    gov_debt  gov_net_debt      gdppc  \n",
       "                                                             \n",
       "2021-01-01     12550.7  1403081.70     864306.60  43.321934  \n",
       "2022-01-01     12517.1  1439541.36     841397.00  43.959887  \n",
       "2023-01-01     12462.1  1493689.64     922759.86  44.954342  "
      ]
     },
     "execution_count": 7,
     "metadata": {},
     "output_type": "execute_result"
    }
   ],
   "source": [
    "jpn['gdppc'] = jpn['gdp'] / jpn['population']\n",
    "jpn.tail(3)"
   ]
  },
  {
   "cell_type": "code",
   "execution_count": 8,
   "id": "114bbf4c-f171-4cf0-9cda-82ac3ddd0942",
   "metadata": {},
   "outputs": [
    {
     "data": {
      "image/png": "[encoded data removed]",
      "text/plain": [
       "<Figure size 640x480 with 1 Axes>"
      ]
     },
     "metadata": {},
     "output_type": "display_data"
    }
   ],
   "source": [
    "plt.plot(jpn['gdppc'])\n",
    "plt.grid()\n",
    "pass"
   ]
  },
  {
   "cell_type": "markdown",
   "id": "40fa73bf-ba59-418d-b2a9-dba1dcb241a0",
   "metadata": {
    "editable": true,
    "hidden": true,
    "slideshow": {
     "slide_type": ""
    },
    "tags": []
   },
   "source": [
    "* 縦軸の単位：10万円"
   ]
  },
  {
   "cell_type": "markdown",
   "id": "076c4bab-3ccf-4446-b8b2-e07ca7d601db",
   "metadata": {
    "editable": true,
    "slideshow": {
     "slide_type": "slide"
    },
    "tags": []
   },
   "source": [
    "### 一人当たりGDP（対数）の推移"
   ]
  },
  {
   "cell_type": "markdown",
   "id": "a91c8d07-d2ce-4a7e-80e6-3f3285238190",
   "metadata": {},
   "source": [
    "一人当たりGDPを対数化し，新たな列`log_gdppc`として追加する。"
   ]
  },
  {
   "cell_type": "code",
   "execution_count": 9,
   "id": "cda069c3-91a4-468e-9e1d-99cfb18423ae",
   "metadata": {},
   "outputs": [
    {
     "data": {
      "text/html": [
       "<div>\n",
       "<style scoped>\n",
       "    .dataframe tbody tr th:only-of-type {\n",
       "        vertical-align: middle;\n",
       "    }\n",
       "\n",
       "    .dataframe tbody tr th {\n",
       "        vertical-align: top;\n",
       "    }\n",
       "\n",
       "    .dataframe thead th {\n",
       "        text-align: right;\n",
       "    }\n",
       "</style>\n",
       "<table border=\"1\" class=\"dataframe\">\n",
       "  <thead>\n",
       "    <tr style=\"text-align: right;\">\n",
       "      <th></th>\n",
       "      <th>gdp</th>\n",
       "      <th>consumption</th>\n",
       "      <th>investment</th>\n",
       "      <th>government</th>\n",
       "      <th>exports</th>\n",
       "      <th>imports</th>\n",
       "      <th>gdp_gap</th>\n",
       "      <th>deflator</th>\n",
       "      <th>inflation</th>\n",
       "      <th>unemployment_rate</th>\n",
       "      <th>employed</th>\n",
       "      <th>population</th>\n",
       "      <th>gov_debt</th>\n",
       "      <th>gov_net_debt</th>\n",
       "      <th>gdppc</th>\n",
       "      <th>log_gdppc</th>\n",
       "    </tr>\n",
       "    <tr>\n",
       "      <th></th>\n",
       "      <th></th>\n",
       "      <th></th>\n",
       "      <th></th>\n",
       "      <th></th>\n",
       "      <th></th>\n",
       "      <th></th>\n",
       "      <th></th>\n",
       "      <th></th>\n",
       "      <th></th>\n",
       "      <th></th>\n",
       "      <th></th>\n",
       "      <th></th>\n",
       "      <th></th>\n",
       "      <th></th>\n",
       "      <th></th>\n",
       "      <th></th>\n",
       "    </tr>\n",
       "  </thead>\n",
       "  <tbody>\n",
       "    <tr>\n",
       "      <th>2022-01-01</th>\n",
       "      <td>550250.3</td>\n",
       "      <td>295888.9</td>\n",
       "      <td>111477.0</td>\n",
       "      <td>144772.6</td>\n",
       "      <td>108410.9</td>\n",
       "      <td>109590.9</td>\n",
       "      <td>-0.897</td>\n",
       "      <td>102.067</td>\n",
       "      <td>2.497</td>\n",
       "      <td>2.592</td>\n",
       "      <td>6722.7</td>\n",
       "      <td>12517.1</td>\n",
       "      <td>1439541.36</td>\n",
       "      <td>841397.00</td>\n",
       "      <td>43.959887</td>\n",
       "      <td>3.783278</td>\n",
       "    </tr>\n",
       "    <tr>\n",
       "      <th>2023-01-01</th>\n",
       "      <td>560225.5</td>\n",
       "      <td>297668.3</td>\n",
       "      <td>112951.3</td>\n",
       "      <td>145839.6</td>\n",
       "      <td>111834.4</td>\n",
       "      <td>108148.8</td>\n",
       "      <td>0.164</td>\n",
       "      <td>105.897</td>\n",
       "      <td>3.268</td>\n",
       "      <td>2.567</td>\n",
       "      <td>6747.0</td>\n",
       "      <td>12462.1</td>\n",
       "      <td>1493689.64</td>\n",
       "      <td>922759.86</td>\n",
       "      <td>44.954342</td>\n",
       "      <td>3.805647</td>\n",
       "    </tr>\n",
       "  </tbody>\n",
       "</table>\n",
       "</div>"
      ],
      "text/plain": [
       "                 gdp  consumption  investment  government   exports   imports  \\\n",
       "                                                                                \n",
       "2022-01-01  550250.3     295888.9    111477.0    144772.6  108410.9  109590.9   \n",
       "2023-01-01  560225.5     297668.3    112951.3    145839.6  111834.4  108148.8   \n",
       "\n",
       "            gdp_gap  deflator  inflation  unemployment_rate  employed  \\\n",
       "                                                                        \n",
       "2022-01-01   -0.897   102.067      2.497              2.592    6722.7   \n",
       "2023-01-01    0.164   105.897      3.268              2.567    6747.0   \n",
       "\n",
       "            population    gov_debt  gov_net_debt      gdppc  log_gdppc  \n",
       "                                                                        \n",
       "2022-01-01     12517.1  1439541.36     841397.00  43.959887   3.783278  \n",
       "2023-01-01     12462.1  1493689.64     922759.86  44.954342   3.805647  "
      ]
     },
     "execution_count": 9,
     "metadata": {},
     "output_type": "execute_result"
    }
   ],
   "source": [
    "jpn['log_gdppc'] = np.log( jpn['gdppc'] )\n",
    "jpn.tail(2)"
   ]
  },
  {
   "cell_type": "code",
   "execution_count": 10,
   "id": "c110192e-56ad-4a76-9c44-ff666bf754fe",
   "metadata": {},
   "outputs": [
    {
     "data": {
      "image/png": "[encoded data removed]",
      "text/plain": [
       "<Figure size 640x480 with 1 Axes>"
      ]
     },
     "metadata": {},
     "output_type": "display_data"
    }
   ],
   "source": [
    "plt.plot(jpn['log_gdppc'], marker='.')\n",
    "plt.grid()\n",
    "pass"
   ]
  },
  {
   "cell_type": "markdown",
   "id": "cc0dbe07-8c4a-4d84-a496-600a698cb81a",
   "metadata": {
    "editable": true,
    "hidden": true,
    "slideshow": {
     "slide_type": ""
    },
    "tags": []
   },
   "source": [
    "* 自然対数を使ってうれしい理由\n",
    "    * 図を見て成長率を比較できる！\n",
    "* 連続する点と点の直線の傾き\n",
    "    * １年間の成長率（変化率）\n",
    "* 離れた点と点の直線の傾き\n",
    "    * 平均成長率（変化率）"
   ]
  },
  {
   "cell_type": "markdown",
   "id": "8703f6d0-60ab-4d75-9708-4ea08a23afb7",
   "metadata": {
    "editable": true,
    "heading_collapsed": true,
    "hidden": true,
    "slideshow": {
     "slide_type": "slide"
    },
    "tags": []
   },
   "source": [
    "### 成長率（変化率）の計算方法"
   ]
  },
  {
   "cell_type": "markdown",
   "id": "49f78c3f-e4d8-4535-98a3-a4f685bdf16b",
   "metadata": {
    "editable": true,
    "slideshow": {
     "slide_type": ""
    },
    "tags": []
   },
   "source": [
    "* $y_t$：$t$年のGDP\n",
    "* GDPの成長率（変化率）：$g_t$\n",
    "\n",
    "$$\n",
    "g_t=\\frac{y_{t}}{y_{t-1}}-1\n",
    "\\quad\\Rightarrow\\quad\n",
    "1+g_t=\\frac{y_{t}}{y_{t-1}}\n",
    "$$\n",
    "\n",
    "* 例：$y_{t}=105$、$y_{t-1}=100$\n",
    "\n",
    "$$1.05=\\frac{105}{100}\\quad\\Rightarrow\\quad\\text{5％}$$\n",
    "  \n",
    "* 両辺の自然対数をとる\n",
    "$$\n",
    "\\log(1+g_t)=\\log(y_{t})-\\log(y_{t-1})\n",
    "$$\n",
    "\n",
    "$$\n",
    "\\qquad\\qquad\\quad\\Downarrow\\quad\\\\\n",
    "\\text{左辺を近似}\\;\\log(1+g_t)\\\\\n",
    "\\approx g_t\n",
    "$$\n",
    "\n",
    "$$\n",
    "g_t\\approx\\log(x_{t+1})-\\log(x_{t})\n",
    "$$\n",
    "\n",
    "* `y_t`の成長率である$g_t$は，`y_t`の対数の差分。即ち，縦軸に`y_t`の対数，横軸に時間をおけば，プロットの傾きは`y_t`の成長率と等しいことになる。"
   ]
  },
  {
   "cell_type": "markdown",
   "id": "48630818-1b19-4a68-99b4-34c488e562e9",
   "metadata": {
    "editable": true,
    "slideshow": {
     "slide_type": "slide"
    },
    "tags": []
   },
   "source": [
    "### 一人当たりGDPの成長率"
   ]
  },
  {
   "cell_type": "markdown",
   "id": "7c0df6fb-b61b-4bfc-bea5-020bc4bb469e",
   "metadata": {},
   "source": [
    "メソッド`.diff`は差分を計算する。"
   ]
  },
  {
   "cell_type": "code",
   "execution_count": 15,
   "id": "54ae88c7-041e-4891-914a-d44ccc8cbb81",
   "metadata": {},
   "outputs": [
    {
     "data": {
      "text/html": [
       "<div>\n",
       "<style scoped>\n",
       "    .dataframe tbody tr th:only-of-type {\n",
       "        vertical-align: middle;\n",
       "    }\n",
       "\n",
       "    .dataframe tbody tr th {\n",
       "        vertical-align: top;\n",
       "    }\n",
       "\n",
       "    .dataframe thead th {\n",
       "        text-align: right;\n",
       "    }\n",
       "</style>\n",
       "<table border=\"1\" class=\"dataframe\">\n",
       "  <thead>\n",
       "    <tr style=\"text-align: right;\">\n",
       "      <th></th>\n",
       "      <th>gdp</th>\n",
       "      <th>consumption</th>\n",
       "      <th>investment</th>\n",
       "      <th>government</th>\n",
       "      <th>exports</th>\n",
       "      <th>imports</th>\n",
       "      <th>gdp_gap</th>\n",
       "      <th>deflator</th>\n",
       "      <th>inflation</th>\n",
       "      <th>unemployment_rate</th>\n",
       "      <th>employed</th>\n",
       "      <th>population</th>\n",
       "      <th>gov_debt</th>\n",
       "      <th>gov_net_debt</th>\n",
       "      <th>gdppc</th>\n",
       "      <th>log_gdppc</th>\n",
       "      <th>growth</th>\n",
       "    </tr>\n",
       "    <tr>\n",
       "      <th></th>\n",
       "      <th></th>\n",
       "      <th></th>\n",
       "      <th></th>\n",
       "      <th></th>\n",
       "      <th></th>\n",
       "      <th></th>\n",
       "      <th></th>\n",
       "      <th></th>\n",
       "      <th></th>\n",
       "      <th></th>\n",
       "      <th></th>\n",
       "      <th></th>\n",
       "      <th></th>\n",
       "      <th></th>\n",
       "      <th></th>\n",
       "      <th></th>\n",
       "      <th></th>\n",
       "    </tr>\n",
       "  </thead>\n",
       "  <tbody>\n",
       "    <tr>\n",
       "      <th>1980-01-01</th>\n",
       "      <td>273389.5</td>\n",
       "      <td>154892.6</td>\n",
       "      <td>65514.9</td>\n",
       "      <td>73312.8</td>\n",
       "      <td>18801.1</td>\n",
       "      <td>24334.3</td>\n",
       "      <td>-5.673</td>\n",
       "      <td>93.667</td>\n",
       "      <td>7.808</td>\n",
       "      <td>2.017</td>\n",
       "      <td>5536.1</td>\n",
       "      <td>11676.9</td>\n",
       "      <td>122341.9</td>\n",
       "      <td>44619.1</td>\n",
       "      <td>23.412849</td>\n",
       "      <td>3.153285</td>\n",
       "      <td>NaN</td>\n",
       "    </tr>\n",
       "    <tr>\n",
       "      <th>1981-01-01</th>\n",
       "      <td>285037.6</td>\n",
       "      <td>158798.7</td>\n",
       "      <td>66398.2</td>\n",
       "      <td>76678.7</td>\n",
       "      <td>21322.2</td>\n",
       "      <td>24924.2</td>\n",
       "      <td>-4.394</td>\n",
       "      <td>96.344</td>\n",
       "      <td>4.936</td>\n",
       "      <td>2.208</td>\n",
       "      <td>5581.8</td>\n",
       "      <td>11762.3</td>\n",
       "      <td>145038.3</td>\n",
       "      <td>57895.0</td>\n",
       "      <td>24.233152</td>\n",
       "      <td>3.187722</td>\n",
       "      <td>0.034437</td>\n",
       "    </tr>\n",
       "    <tr>\n",
       "      <th>1982-01-01</th>\n",
       "      <td>294386.1</td>\n",
       "      <td>166201.2</td>\n",
       "      <td>66646.7</td>\n",
       "      <td>78175.5</td>\n",
       "      <td>21639.3</td>\n",
       "      <td>24780.8</td>\n",
       "      <td>-3.921</td>\n",
       "      <td>98.039</td>\n",
       "      <td>2.749</td>\n",
       "      <td>2.350</td>\n",
       "      <td>5638.6</td>\n",
       "      <td>11845.1</td>\n",
       "      <td>166617.3</td>\n",
       "      <td>73262.9</td>\n",
       "      <td>24.852986</td>\n",
       "      <td>3.212978</td>\n",
       "      <td>0.025256</td>\n",
       "    </tr>\n",
       "    <tr>\n",
       "      <th>1983-01-01</th>\n",
       "      <td>305072.9</td>\n",
       "      <td>171815.5</td>\n",
       "      <td>66816.3</td>\n",
       "      <td>80466.8</td>\n",
       "      <td>22714.3</td>\n",
       "      <td>23980.5</td>\n",
       "      <td>-3.080</td>\n",
       "      <td>98.942</td>\n",
       "      <td>1.881</td>\n",
       "      <td>2.658</td>\n",
       "      <td>5732.7</td>\n",
       "      <td>11927.1</td>\n",
       "      <td>191704.6</td>\n",
       "      <td>90702.1</td>\n",
       "      <td>25.578129</td>\n",
       "      <td>3.241738</td>\n",
       "      <td>0.028760</td>\n",
       "    </tr>\n",
       "    <tr>\n",
       "      <th>1984-01-01</th>\n",
       "      <td>318529.3</td>\n",
       "      <td>177226.5</td>\n",
       "      <td>70126.5</td>\n",
       "      <td>82233.3</td>\n",
       "      <td>26201.7</td>\n",
       "      <td>26526.0</td>\n",
       "      <td>-1.747</td>\n",
       "      <td>100.356</td>\n",
       "      <td>2.251</td>\n",
       "      <td>2.708</td>\n",
       "      <td>5766.0</td>\n",
       "      <td>12005.0</td>\n",
       "      <td>209705.2</td>\n",
       "      <td>103728.2</td>\n",
       "      <td>26.533053</td>\n",
       "      <td>3.278391</td>\n",
       "      <td>0.036654</td>\n",
       "    </tr>\n",
       "  </tbody>\n",
       "</table>\n",
       "</div>"
      ],
      "text/plain": [
       "                 gdp  consumption  investment  government  exports  imports  \\\n",
       "                                                                              \n",
       "1980-01-01  273389.5     154892.6     65514.9     73312.8  18801.1  24334.3   \n",
       "1981-01-01  285037.6     158798.7     66398.2     76678.7  21322.2  24924.2   \n",
       "1982-01-01  294386.1     166201.2     66646.7     78175.5  21639.3  24780.8   \n",
       "1983-01-01  305072.9     171815.5     66816.3     80466.8  22714.3  23980.5   \n",
       "1984-01-01  318529.3     177226.5     70126.5     82233.3  26201.7  26526.0   \n",
       "\n",
       "            gdp_gap  deflator  inflation  unemployment_rate  employed  \\\n",
       "                                                                        \n",
       "1980-01-01   -5.673    93.667      7.808              2.017    5536.1   \n",
       "1981-01-01   -4.394    96.344      4.936              2.208    5581.8   \n",
       "1982-01-01   -3.921    98.039      2.749              2.350    5638.6   \n",
       "1983-01-01   -3.080    98.942      1.881              2.658    5732.7   \n",
       "1984-01-01   -1.747   100.356      2.251              2.708    5766.0   \n",
       "\n",
       "            population  gov_debt  gov_net_debt      gdppc  log_gdppc    growth  \n",
       "                                                                                \n",
       "1980-01-01     11676.9  122341.9       44619.1  23.412849   3.153285       NaN  \n",
       "1981-01-01     11762.3  145038.3       57895.0  24.233152   3.187722  0.034437  \n",
       "1982-01-01     11845.1  166617.3       73262.9  24.852986   3.212978  0.025256  \n",
       "1983-01-01     11927.1  191704.6       90702.1  25.578129   3.241738  0.028760  \n",
       "1984-01-01     12005.0  209705.2      103728.2  26.533053   3.278391  0.036654  "
      ]
     },
     "execution_count": 15,
     "metadata": {},
     "output_type": "execute_result"
    }
   ],
   "source": [
    "jpn['growth'] = jpn['log_gdppc'].diff()\n",
    "jpn.head()"
   ]
  },
  {
   "cell_type": "code",
   "execution_count": 16,
   "id": "c2158574-e37f-4f53-867f-3d419c46c61b",
   "metadata": {},
   "outputs": [
    {
     "data": {
      "image/png": "[encoded data removed]",
      "text/plain": [
       "<Figure size 640x480 with 1 Axes>"
      ]
     },
     "metadata": {},
     "output_type": "display_data"
    }
   ],
   "source": [
    "plt.plot(jpn['growth'], marker='.')\n",
    "plt.title('一人当たり成長率（％）', size=20)\n",
    "plt.grid()\n",
    "pass"
   ]
  },
  {
   "cell_type": "markdown",
   "id": "8f381832-9db9-409b-b187-83d1a165d001",
   "metadata": {
    "editable": true,
    "hidden": true,
    "slideshow": {
     "slide_type": ""
    },
    "tags": []
   },
   "source": [
    "* 成長率が正の場合\n",
    "    * 一人当たりGDPは増えている\n",
    "    * 「景気が良い」\n",
    "* 成長率が負の場合\n",
    "    * 一人当たりGDPは減っている\n",
    "    * 「景気が悪い」"
   ]
  },
  {
   "cell_type": "markdown",
   "id": "d147558a-3207-49b5-8b58-d0cf211cdaa8",
   "metadata": {},
   "source": [
    "（算術）平均はメソッド`.mean()`で計算できる。"
   ]
  },
  {
   "cell_type": "code",
   "execution_count": 17,
   "id": "49a313c6-6ad6-45e0-9a96-885d2c7c684b",
   "metadata": {},
   "outputs": [
    {
     "data": {
      "text/plain": [
       "0.01517121757422065"
      ]
     },
     "execution_count": 17,
     "metadata": {},
     "output_type": "execute_result"
    }
   ],
   "source": [
    "jpn['growth'].mean()"
   ]
  },
  {
   "cell_type": "markdown",
   "id": "0d442b04-2ef5-4b12-bb4a-0e5a6fcd0b8b",
   "metadata": {
    "editable": true,
    "slideshow": {
     "slide_type": "slide"
    },
    "tags": []
   },
   "source": [
    "## まとめ"
   ]
  },
  {
   "cell_type": "markdown",
   "id": "7ba9bc13-f3da-40dd-a0dc-93c8fffbfd38",
   "metadata": {
    "editable": true,
    "slideshow": {
     "slide_type": ""
    },
    "tags": []
   },
   "source": [
    "* GDP = 総生産 = 総支出 = 総所得\n",
    "* 一人当たりGDP = 「平均的な人」で捉えた生活水準\n",
    "* バブル景気後の成長率は低い"
   ]
  }
 ],
 "metadata": {
  "celltoolbar": "Slideshow",
  "hide_input": false,
  "kernelspec": {
   "display_name": "py12",
   "language": "python",
   "name": "py12"
  },
  "language_info": {
   "codemirror_mode": {
    "name": "ipython",
    "version": 3
   },
   "file_extension": ".py",
   "mimetype": "text/x-python",
   "name": "python",
   "nbconvert_exporter": "python",
   "pygments_lexer": "ipython3",
   "version": "3.11.9"
  }
 },
 "nbformat": 4,
 "nbformat_minor": 5
}
