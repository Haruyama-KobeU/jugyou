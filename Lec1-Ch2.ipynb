{
 "cells": [
  {
   "cell_type": "markdown",
   "id": "0",
   "metadata": {
    "id": "c2f12e80-c05e-430c-b762-93f65856b84f"
   },
   "source": [
    "# 第2章：Pythonの基礎"
   ]
  },
  {
   "cell_type": "markdown",
   "id": "1",
   "metadata": {
    "id": "5jc53_xdtqr-"
   },
   "source": [
    "## 4つの基本データ型"
   ]
  },
  {
   "cell_type": "markdown",
   "id": "9b0b9781-32f5-4134-ab89-daba3048b617",
   "metadata": {
    "jp-MarkdownHeadingCollapsed": true
   },
   "source": [
    "### 整数型"
   ]
  },
  {
   "cell_type": "markdown",
   "id": "24b1898b-091e-41f7-9c69-b6f48669cbf6",
   "metadata": {},
   "source": [
    "例2.1: 整数型"
   ]
  },
  {
   "cell_type": "markdown",
   "id": "487f1c89-e1e2-4b84-904d-28845e1da6a8",
   "metadata": {},
   "source": [
    "$$\n",
    "(a) 12\\qquad\n",
    "(b) 0\\qquad\n",
    "(c) -15\\qquad\n",
    "(d) 10000\\qquad\n",
    "(e) 10\\_000\n",
    "$$"
   ]
  },
  {
   "cell_type": "markdown",
   "id": "2",
   "metadata": {
    "id": "b984d352-f6a4-4bd2-bf4f-a75d065efc56"
   },
   "source": [
    "例2.1(a)"
   ]
  },
  {
   "cell_type": "code",
   "execution_count": null,
   "id": "ca198f97-4ad1-4f1e-b02c-1a3779978f95",
   "metadata": {
    "id": "6691e22b-0ec7-40b2-aa85-820d00c2addd"
   },
   "outputs": [],
   "source": [
    "12"
   ]
  },
  {
   "cell_type": "markdown",
   "id": "4",
   "metadata": {
    "id": "76ed0145-3f60-4f0f-b1cb-2be0744f4747"
   },
   "source": [
    "例2.1(b)"
   ]
  },
  {
   "cell_type": "code",
   "execution_count": null,
   "id": "5",
   "metadata": {
    "colab": {
     "base_uri": "https://localhost:8080/"
    },
    "executionInfo": {
     "elapsed": 22,
     "status": "ok",
     "timestamp": 1758072163654,
     "user": {
      "displayName": "T Haruyama",
      "userId": "09851044792665346893"
     },
     "user_tz": -540
    },
    "id": "164bad9d-c4c9-4c87-9dd2-4d1cca5b1ba4",
    "outputId": "0e54aafc-a8ec-4f53-e2f9-419b08f95a69"
   },
   "outputs": [],
   "source": [
    "0"
   ]
  },
  {
   "cell_type": "markdown",
   "id": "6",
   "metadata": {
    "id": "73258bf3-0d0c-40d8-b123-20abab83d4f7"
   },
   "source": [
    "例2.1(c)"
   ]
  },
  {
   "cell_type": "code",
   "execution_count": null,
   "id": "7",
   "metadata": {
    "colab": {
     "base_uri": "https://localhost:8080/"
    },
    "executionInfo": {
     "elapsed": 92,
     "status": "ok",
     "timestamp": 1758072163747,
     "user": {
      "displayName": "T Haruyama",
      "userId": "09851044792665346893"
     },
     "user_tz": -540
    },
    "id": "49c7e9e3-14ee-4b24-8539-d67e0ade79cd",
    "outputId": "970aa70f-aaaf-4510-d120-1ded4d564bee"
   },
   "outputs": [],
   "source": [
    "-15"
   ]
  },
  {
   "cell_type": "markdown",
   "id": "8",
   "metadata": {
    "id": "adb51dcf-4012-42d4-bdcc-6792cd64344b"
   },
   "source": [
    "例2.1(d)"
   ]
  },
  {
   "cell_type": "code",
   "execution_count": null,
   "id": "9",
   "metadata": {
    "colab": {
     "base_uri": "https://localhost:8080/"
    },
    "executionInfo": {
     "elapsed": 3,
     "status": "ok",
     "timestamp": 1758072163759,
     "user": {
      "displayName": "T Haruyama",
      "userId": "09851044792665346893"
     },
     "user_tz": -540
    },
    "id": "a8baa2a9-5d07-4e88-8bd3-4cf5f73bd7de",
    "outputId": "bbbc2e21-75af-4c45-acec-070557c99232"
   },
   "outputs": [],
   "source": [
    "10000"
   ]
  },
  {
   "cell_type": "markdown",
   "id": "10",
   "metadata": {
    "id": "f8d7be7f-8f2f-4379-9614-f8f2b5a22ed7"
   },
   "source": [
    "例2.1(e)"
   ]
  },
  {
   "cell_type": "code",
   "execution_count": null,
   "id": "11",
   "metadata": {
    "colab": {
     "base_uri": "https://localhost:8080/"
    },
    "executionInfo": {
     "elapsed": 2,
     "status": "ok",
     "timestamp": 1758072163761,
     "user": {
      "displayName": "T Haruyama",
      "userId": "09851044792665346893"
     },
     "user_tz": -540
    },
    "id": "c49f2cd4-e415-4bab-a14a-7532a6e3f1ce",
    "outputId": "3ac4534c-f68a-41e4-8d48-218ac1fd667d"
   },
   "outputs": [],
   "source": [
    "10_000"
   ]
  },
  {
   "cell_type": "markdown",
   "id": "12",
   "metadata": {
    "id": "hGti-5L46SUY"
   },
   "source": [
    "コード2.1.1"
   ]
  },
  {
   "cell_type": "code",
   "execution_count": null,
   "id": "13",
   "metadata": {
    "colab": {
     "base_uri": "https://localhost:8080/"
    },
    "executionInfo": {
     "elapsed": 8,
     "status": "ok",
     "timestamp": 1758072163770,
     "user": {
      "displayName": "T Haruyama",
      "userId": "09851044792665346893"
     },
     "user_tz": -540
    },
    "id": "ZJhgxHyCt2de",
    "outputId": "47de68c6-1e3d-42ac-b129-1f21f4df1edb"
   },
   "outputs": [],
   "source": [
    "557_000_000_000_000"
   ]
  },
  {
   "cell_type": "markdown",
   "id": "cfacd261-67fc-4b37-8f7e-4e7e8c246fc4",
   "metadata": {
    "jp-MarkdownHeadingCollapsed": true
   },
   "source": [
    "### 浮動小数点型"
   ]
  },
  {
   "cell_type": "markdown",
   "id": "9a663af8-eeb9-4167-87be-7bf28b71c1ce",
   "metadata": {},
   "source": [
    "$$\n",
    "(a) 3.14\\qquad\n",
    "(b) 314159.2\\qquad\n",
    "(c) 0.0000314\\qquad\n",
    "$$"
   ]
  },
  {
   "cell_type": "markdown",
   "id": "b81a3799-805f-4203-8ce3-84ee0caf57ae",
   "metadata": {},
   "source": [
    "$$\n",
    "(d) 0.0\\qquad\n",
    "(e) 3.141592e+05\\qquad\n",
    "(f) 3.14e-05\n",
    "$$"
   ]
  },
  {
   "cell_type": "markdown",
   "id": "14",
   "metadata": {
    "id": "N0gd8F5W6cC4"
   },
   "source": [
    "例2.2(a)"
   ]
  },
  {
   "cell_type": "code",
   "execution_count": null,
   "id": "15",
   "metadata": {
    "colab": {
     "base_uri": "https://localhost:8080/"
    },
    "executionInfo": {
     "elapsed": 2,
     "status": "ok",
     "timestamp": 1758072163773,
     "user": {
      "displayName": "T Haruyama",
      "userId": "09851044792665346893"
     },
     "user_tz": -540
    },
    "id": "GuU7Pg_U4jFa",
    "outputId": "14d42fa5-c28e-4f9d-d5a1-62ee0fbd5eaf"
   },
   "outputs": [],
   "source": [
    "3.14"
   ]
  },
  {
   "cell_type": "markdown",
   "id": "16",
   "metadata": {
    "id": "j7aNhGCg6gP4"
   },
   "source": [
    "例2.2(b)"
   ]
  },
  {
   "cell_type": "code",
   "execution_count": null,
   "id": "17",
   "metadata": {
    "colab": {
     "base_uri": "https://localhost:8080/"
    },
    "executionInfo": {
     "elapsed": 2,
     "status": "ok",
     "timestamp": 1758072163776,
     "user": {
      "displayName": "T Haruyama",
      "userId": "09851044792665346893"
     },
     "user_tz": -540
    },
    "id": "AzkRdZWc4nhx",
    "outputId": "ba9d1a30-cd35-4dd7-a826-8d343c3ab179"
   },
   "outputs": [],
   "source": [
    "314159.2"
   ]
  },
  {
   "cell_type": "markdown",
   "id": "18",
   "metadata": {
    "id": "7pGCiDNg6jQJ"
   },
   "source": [
    "例2.2(c)"
   ]
  },
  {
   "cell_type": "code",
   "execution_count": null,
   "id": "19",
   "metadata": {
    "colab": {
     "base_uri": "https://localhost:8080/"
    },
    "executionInfo": {
     "elapsed": 13,
     "status": "ok",
     "timestamp": 1758072163798,
     "user": {
      "displayName": "T Haruyama",
      "userId": "09851044792665346893"
     },
     "user_tz": -540
    },
    "id": "W0b5B2GK4rq8",
    "outputId": "4be9c7ee-b1f5-4d02-bf37-c85693f4fd10"
   },
   "outputs": [],
   "source": [
    "0.0000314"
   ]
  },
  {
   "cell_type": "markdown",
   "id": "20",
   "metadata": {
    "id": "G5XBY-gx6mrR"
   },
   "source": [
    "例2.2(d)"
   ]
  },
  {
   "cell_type": "code",
   "execution_count": null,
   "id": "21",
   "metadata": {
    "colab": {
     "base_uri": "https://localhost:8080/"
    },
    "executionInfo": {
     "elapsed": 10,
     "status": "ok",
     "timestamp": 1758072163798,
     "user": {
      "displayName": "T Haruyama",
      "userId": "09851044792665346893"
     },
     "user_tz": -540
    },
    "id": "q4c8rkkG4u4c",
    "outputId": "ddf602f6-ceb5-4e86-d62a-2005bcba2783"
   },
   "outputs": [],
   "source": [
    "0.0"
   ]
  },
  {
   "cell_type": "markdown",
   "id": "22",
   "metadata": {
    "id": "eOUZEIeH6pVN"
   },
   "source": [
    "例2.2(e)"
   ]
  },
  {
   "cell_type": "code",
   "execution_count": null,
   "id": "23",
   "metadata": {
    "colab": {
     "base_uri": "https://localhost:8080/"
    },
    "executionInfo": {
     "elapsed": 4,
     "status": "ok",
     "timestamp": 1758072163801,
     "user": {
      "displayName": "T Haruyama",
      "userId": "09851044792665346893"
     },
     "user_tz": -540
    },
    "id": "JZjkjBYc4xCH",
    "outputId": "6c3c3c62-4506-4938-8944-9ea089fe9e07"
   },
   "outputs": [],
   "source": [
    "3.141592e+05"
   ]
  },
  {
   "cell_type": "markdown",
   "id": "24",
   "metadata": {
    "id": "QFmhAoje6r1o"
   },
   "source": [
    "例2.2(f)"
   ]
  },
  {
   "cell_type": "code",
   "execution_count": null,
   "id": "25",
   "metadata": {
    "colab": {
     "base_uri": "https://localhost:8080/"
    },
    "executionInfo": {
     "elapsed": 2,
     "status": "ok",
     "timestamp": 1758072163803,
     "user": {
      "displayName": "T Haruyama",
      "userId": "09851044792665346893"
     },
     "user_tz": -540
    },
    "id": "A0LYmISE416H",
    "outputId": "8ae88675-d87b-448c-dd06-a5225e2cb58b"
   },
   "outputs": [],
   "source": [
    "3.141592e-05"
   ]
  },
  {
   "cell_type": "markdown",
   "id": "26",
   "metadata": {
    "id": "wG3tdLkt6uo4"
   },
   "source": [
    "コード2.1.2"
   ]
  },
  {
   "cell_type": "code",
   "execution_count": null,
   "id": "27",
   "metadata": {
    "colab": {
     "base_uri": "https://localhost:8080/"
    },
    "executionInfo": {
     "elapsed": 6,
     "status": "ok",
     "timestamp": 1758072163810,
     "user": {
      "displayName": "T Haruyama",
      "userId": "09851044792665346893"
     },
     "user_tz": -540
    },
    "id": "ymsHAEhpuACl",
    "outputId": "fa2d3fab-5227-4c78-9ebb-9a9a430d2ae2"
   },
   "outputs": [],
   "source": [
    "0.0000314"
   ]
  },
  {
   "cell_type": "markdown",
   "id": "28",
   "metadata": {
    "id": "__em8mz86xDf"
   },
   "source": [
    "コード2.1.3"
   ]
  },
  {
   "cell_type": "code",
   "execution_count": null,
   "id": "29",
   "metadata": {
    "colab": {
     "base_uri": "https://localhost:8080/"
    },
    "executionInfo": {
     "elapsed": 2,
     "status": "ok",
     "timestamp": 1758072163813,
     "user": {
      "displayName": "T Haruyama",
      "userId": "09851044792665346893"
     },
     "user_tz": -540
    },
    "id": "NoQ6mfmduCiE",
    "outputId": "23332f71-0884-4291-9e10-f42ca66f5f30"
   },
   "outputs": [],
   "source": [
    "557e+12"
   ]
  },
  {
   "cell_type": "markdown",
   "id": "24774eb1-bfdf-477b-8517-0a6dd2b778e3",
   "metadata": {
    "jp-MarkdownHeadingCollapsed": true
   },
   "source": [
    "### 文字列型"
   ]
  },
  {
   "cell_type": "markdown",
   "id": "fa5eadd1-4e44-4061-898b-68e5e7c5f26f",
   "metadata": {},
   "source": [
    "(a) \"Windows 11\"\n",
    "\n",
    "(b) \"Pythonは楽しい！\"\n",
    "\n",
    "(c) \"3.14\""
   ]
  },
  {
   "cell_type": "markdown",
   "id": "30",
   "metadata": {
    "id": "4e8678d0-d13f-491d-978d-b69ebcd72cf8"
   },
   "source": [
    "例2.3(a)"
   ]
  },
  {
   "cell_type": "code",
   "execution_count": null,
   "id": "31",
   "metadata": {
    "colab": {
     "base_uri": "https://localhost:8080/",
     "height": 35
    },
    "executionInfo": {
     "elapsed": 24,
     "status": "ok",
     "timestamp": 1758072163838,
     "user": {
      "displayName": "T Haruyama",
      "userId": "09851044792665346893"
     },
     "user_tz": -540
    },
    "id": "310356a4-7bc4-4960-ab21-963e376f546a",
    "outputId": "479c240f-2721-48ba-a651-d30feaed5ca8"
   },
   "outputs": [],
   "source": [
    "\"Windows 11\""
   ]
  },
  {
   "cell_type": "markdown",
   "id": "32",
   "metadata": {
    "id": "99003af1-e37b-4fe2-a489-de651b6ca4e7"
   },
   "source": [
    "例2.3(b)"
   ]
  },
  {
   "cell_type": "code",
   "execution_count": null,
   "id": "33",
   "metadata": {
    "colab": {
     "base_uri": "https://localhost:8080/",
     "height": 35
    },
    "executionInfo": {
     "elapsed": 29,
     "status": "ok",
     "timestamp": 1758072163848,
     "user": {
      "displayName": "T Haruyama",
      "userId": "09851044792665346893"
     },
     "user_tz": -540
    },
    "id": "4809d584-be64-4876-af20-13ed8d15ff18",
    "outputId": "573d97a6-8111-4213-949a-9d7ec2ed9fef"
   },
   "outputs": [],
   "source": [
    "\"Pythonは楽しい！\""
   ]
  },
  {
   "cell_type": "markdown",
   "id": "34",
   "metadata": {
    "id": "70c525e2-2623-4c8f-af6d-1e51acc01524"
   },
   "source": [
    "例2.3(c)"
   ]
  },
  {
   "cell_type": "code",
   "execution_count": null,
   "id": "35",
   "metadata": {
    "colab": {
     "base_uri": "https://localhost:8080/",
     "height": 35
    },
    "executionInfo": {
     "elapsed": 15,
     "status": "ok",
     "timestamp": 1758072163849,
     "user": {
      "displayName": "T Haruyama",
      "userId": "09851044792665346893"
     },
     "user_tz": -540
    },
    "id": "d2d1051c-c274-4e18-8bf7-cb415728ade3",
    "outputId": "51242518-bb2c-43b1-ed17-e5539fd99d5a"
   },
   "outputs": [],
   "source": [
    "\"3.14\""
   ]
  },
  {
   "cell_type": "markdown",
   "id": "36",
   "metadata": {
    "id": "jdDahVGG60UR"
   },
   "source": [
    "コード2.1.4"
   ]
  },
  {
   "cell_type": "code",
   "execution_count": null,
   "id": "37",
   "metadata": {
    "colab": {
     "base_uri": "https://localhost:8080/",
     "height": 35
    },
    "executionInfo": {
     "elapsed": 12,
     "status": "ok",
     "timestamp": 1758072163849,
     "user": {
      "displayName": "T Haruyama",
      "userId": "09851044792665346893"
     },
     "user_tz": -540
    },
    "id": "LIEL4_DSuGfK",
    "outputId": "99cdc83d-ddcc-4233-87b9-61d4012db8b6"
   },
   "outputs": [],
   "source": [
    "\"He said 'GDP is 557 trillion yen!' and similed.\""
   ]
  },
  {
   "cell_type": "markdown",
   "id": "80035ba6-84e8-418f-a1bb-a99e7ef7a86a",
   "metadata": {
    "jp-MarkdownHeadingCollapsed": true
   },
   "source": [
    "### ブール型"
   ]
  },
  {
   "cell_type": "markdown",
   "id": "3812cc54-5c4f-4335-9ce1-480dd6c713af",
   "metadata": {},
   "source": [
    "真偽値\n",
    "\n",
    "`True`（真）\n",
    "\n",
    "`False`（偽）"
   ]
  },
  {
   "cell_type": "markdown",
   "id": "38",
   "metadata": {
    "id": "70a7f3ef-28ac-44ac-b69e-09aba7d95d8b",
    "jp-MarkdownHeadingCollapsed": true
   },
   "source": [
    "## 演算子"
   ]
  },
  {
   "cell_type": "markdown",
   "id": "39",
   "metadata": {
    "id": "6dPYeWSLuYX_",
    "jp-MarkdownHeadingCollapsed": true
   },
   "source": [
    "### 算術演算子"
   ]
  },
  {
   "cell_type": "markdown",
   "id": "c696b016-f000-4ae6-9d4b-5acd211d6137",
   "metadata": {},
   "source": [
    "`+` (加算)\n",
    "\n",
    "`-` (減算)\n",
    "\n",
    "`*` (乗算)\n",
    "\n",
    "`/` (除算)\n",
    "\n",
    "`**` (べき乗，累乗)\n",
    "\n",
    "`//` (切り捨て除算)\n",
    "\n",
    "`%` (剰余演算)"
   ]
  },
  {
   "cell_type": "markdown",
   "id": "d869051e-bc97-4030-ba32-cfdaa2c16100",
   "metadata": {},
   "source": [
    "9 ➗ 4 = 2.25"
   ]
  },
  {
   "cell_type": "code",
   "execution_count": 1,
   "id": "c73df0bf-fddd-4880-9546-283d09c9570e",
   "metadata": {},
   "outputs": [
    {
     "data": {
      "text/plain": [
       "2.25"
      ]
     },
     "execution_count": 1,
     "metadata": {},
     "output_type": "execute_result"
    }
   ],
   "source": [
    "9 / 4"
   ]
  },
  {
   "cell_type": "markdown",
   "id": "48e10618-aa81-4f52-9a1a-fa97c0c92fbc",
   "metadata": {},
   "source": [
    "9 ➗ 4 = 2 余り 1"
   ]
  },
  {
   "cell_type": "code",
   "execution_count": 3,
   "id": "0e6f396e-9d2c-4838-bed0-0455fde0ed64",
   "metadata": {},
   "outputs": [
    {
     "data": {
      "text/plain": [
       "2"
      ]
     },
     "execution_count": 3,
     "metadata": {},
     "output_type": "execute_result"
    }
   ],
   "source": [
    "9 // 4"
   ]
  },
  {
   "cell_type": "code",
   "execution_count": 4,
   "id": "4052ed87-84c2-4e82-8d82-8ebd1822b83f",
   "metadata": {},
   "outputs": [
    {
     "data": {
      "text/plain": [
       "1"
      ]
     },
     "execution_count": 4,
     "metadata": {},
     "output_type": "execute_result"
    }
   ],
   "source": [
    "9 % 4"
   ]
  },
  {
   "cell_type": "markdown",
   "id": "40",
   "metadata": {
    "id": "ibf5JNNrugEe",
    "jp-MarkdownHeadingCollapsed": true
   },
   "source": [
    "### 比較演算子"
   ]
  },
  {
   "cell_type": "markdown",
   "id": "78cb831b-522f-4aa0-b147-cd0defa0d681",
   "metadata": {},
   "source": [
    "`==` (等号)\n",
    "\n",
    "`<=` (小なりイコール)\n",
    "\n",
    "`<` (小なり)\n",
    "\n",
    "`!=` (等号不成立)\n",
    "\n",
    "`>=` (大なりイコール)\n",
    "\n",
    "`>` (大なり)"
   ]
  },
  {
   "cell_type": "markdown",
   "id": "41",
   "metadata": {
    "id": "R3zjfbsV63xy"
   },
   "source": [
    "コード2.2.1"
   ]
  },
  {
   "cell_type": "code",
   "execution_count": null,
   "id": "42",
   "metadata": {
    "colab": {
     "base_uri": "https://localhost:8080/"
    },
    "executionInfo": {
     "elapsed": 3,
     "status": "ok",
     "timestamp": 1758072163851,
     "user": {
      "displayName": "T Haruyama",
      "userId": "09851044792665346893"
     },
     "user_tz": -540
    },
    "id": "bRBLeYLeuk8F",
    "outputId": "2659a33f-9be2-49c7-de72-8e2c908107c5"
   },
   "outputs": [],
   "source": [
    "2 == True + True + False"
   ]
  },
  {
   "cell_type": "markdown",
   "id": "43",
   "metadata": {
    "id": "B9aCutEK650P"
   },
   "source": [
    "コード2.2.2"
   ]
  },
  {
   "cell_type": "code",
   "execution_count": null,
   "id": "44",
   "metadata": {
    "colab": {
     "base_uri": "https://localhost:8080/"
    },
    "executionInfo": {
     "elapsed": 18,
     "status": "ok",
     "timestamp": 1758072163870,
     "user": {
      "displayName": "T Haruyama",
      "userId": "09851044792665346893"
     },
     "user_tz": -540
    },
    "id": "PkpKVJeAuquT",
    "outputId": "3d6d47ea-f324-4fb9-c17b-8093e9cb0cb6"
   },
   "outputs": [],
   "source": [
    "\"Python\" != \"python\""
   ]
  },
  {
   "cell_type": "markdown",
   "id": "45",
   "metadata": {
    "id": "PVdOa7pwuvk1",
    "jp-MarkdownHeadingCollapsed": true
   },
   "source": [
    "### ブール演算子"
   ]
  },
  {
   "cell_type": "markdown",
   "id": "0df15c16-8139-4ffc-9f1d-708fca2c1b74",
   "metadata": {},
   "source": [
    "`not` (否定)\n",
    "\n",
    "`and` (かつ)\n",
    "\n",
    "`or` (または)"
   ]
  },
  {
   "cell_type": "code",
   "execution_count": 5,
   "id": "f008535b-e5ca-4440-921d-a476ccbb4c46",
   "metadata": {},
   "outputs": [
    {
     "data": {
      "text/plain": [
       "False"
      ]
     },
     "execution_count": 5,
     "metadata": {},
     "output_type": "execute_result"
    }
   ],
   "source": [
    "not True"
   ]
  },
  {
   "cell_type": "code",
   "execution_count": 6,
   "id": "2a143225-3720-4cc2-b381-0040df19389f",
   "metadata": {},
   "outputs": [
    {
     "data": {
      "text/plain": [
       "True"
      ]
     },
     "execution_count": 6,
     "metadata": {},
     "output_type": "execute_result"
    }
   ],
   "source": [
    "True and True"
   ]
  },
  {
   "cell_type": "code",
   "execution_count": 7,
   "id": "33df3dd7-3335-4111-badf-7b1ae866b8d4",
   "metadata": {},
   "outputs": [
    {
     "data": {
      "text/plain": [
       "True"
      ]
     },
     "execution_count": 7,
     "metadata": {},
     "output_type": "execute_result"
    }
   ],
   "source": [
    "True or True"
   ]
  },
  {
   "cell_type": "markdown",
   "id": "46",
   "metadata": {
    "id": "2k4G13ya68Tc"
   },
   "source": [
    "コード2.2.3"
   ]
  },
  {
   "cell_type": "code",
   "execution_count": null,
   "id": "47",
   "metadata": {
    "colab": {
     "base_uri": "https://localhost:8080/"
    },
    "executionInfo": {
     "elapsed": 9,
     "status": "ok",
     "timestamp": 1758072163871,
     "user": {
      "displayName": "T Haruyama",
      "userId": "09851044792665346893"
     },
     "user_tz": -540
    },
    "id": "Nm13VfhTvDVR",
    "outputId": "502d0ef1-a45f-4a4a-a62e-106b6c983c30"
   },
   "outputs": [],
   "source": [
    "not ( 0 > 1 )"
   ]
  },
  {
   "cell_type": "markdown",
   "id": "48",
   "metadata": {
    "id": "vqBiyj6R6-Y5"
   },
   "source": [
    "コード2.2.4"
   ]
  },
  {
   "cell_type": "code",
   "execution_count": null,
   "id": "49",
   "metadata": {
    "colab": {
     "base_uri": "https://localhost:8080/"
    },
    "executionInfo": {
     "elapsed": 5,
     "status": "ok",
     "timestamp": 1758072163876,
     "user": {
      "displayName": "T Haruyama",
      "userId": "09851044792665346893"
     },
     "user_tz": -540
    },
    "id": "GnujYYLHvJBe",
    "outputId": "c814c043-1cff-44f6-ba26-d92d31fb246b"
   },
   "outputs": [],
   "source": [
    "( 1 > 0 ) and ( -1 > 0 )"
   ]
  },
  {
   "cell_type": "markdown",
   "id": "50",
   "metadata": {
    "id": "NeSRKH21vRUa"
   },
   "source": [
    "## 演算子の優先順位"
   ]
  },
  {
   "cell_type": "markdown",
   "id": "5ba15876-7f1f-4352-b7eb-83583e96a071",
   "metadata": {},
   "source": [
    "* 優先したい計算には丸括弧`()`を使う。\n",
    "* 角括弧`[]`と波括弧`{}`は**使えない**。"
   ]
  },
  {
   "cell_type": "code",
   "execution_count": 8,
   "id": "cbd42cc8-50c7-43d6-8d14-d966ceea42e6",
   "metadata": {},
   "outputs": [
    {
     "data": {
      "text/plain": [
       "4.0"
      ]
     },
     "execution_count": 8,
     "metadata": {},
     "output_type": "execute_result"
    }
   ],
   "source": [
    "4 / 2 + 2"
   ]
  },
  {
   "cell_type": "code",
   "execution_count": 9,
   "id": "11c83458-dd2b-457c-84fa-d0fd113b6653",
   "metadata": {},
   "outputs": [
    {
     "data": {
      "text/plain": [
       "1.0"
      ]
     },
     "execution_count": 9,
     "metadata": {},
     "output_type": "execute_result"
    }
   ],
   "source": [
    "4 / (2 + 2)"
   ]
  },
  {
   "cell_type": "markdown",
   "id": "51",
   "metadata": {
    "id": "wOygzDN4xMCQ"
   },
   "source": [
    "## 変数への代入"
   ]
  },
  {
   "cell_type": "markdown",
   "id": "52",
   "metadata": {
    "id": "eb715801-2c8d-4d17-b353-64c4c056c378"
   },
   "source": [
    "### 代入演算子"
   ]
  },
  {
   "cell_type": "markdown",
   "id": "53",
   "metadata": {
    "id": "X44zQ8lV8D6d"
   },
   "source": [
    "コード2.4.1"
   ]
  },
  {
   "cell_type": "code",
   "execution_count": null,
   "id": "54",
   "metadata": {
    "colab": {
     "base_uri": "https://localhost:8080/"
    },
    "executionInfo": {
     "elapsed": 2,
     "status": "ok",
     "timestamp": 1758072163879,
     "user": {
      "displayName": "T Haruyama",
      "userId": "09851044792665346893"
     },
     "user_tz": -540
    },
    "id": "bbe1edcc-dcdf-4c94-a5bc-3a627f21e4ba",
    "outputId": "cba04550-2f60-454d-a79f-c630224290e9"
   },
   "outputs": [],
   "source": [
    "x = 10\n",
    "x + x / 2"
   ]
  },
  {
   "cell_type": "markdown",
   "id": "55",
   "metadata": {
    "id": "qgaEzzBd8JKP"
   },
   "source": [
    "コード2.4.2"
   ]
  },
  {
   "cell_type": "code",
   "execution_count": null,
   "id": "56",
   "metadata": {
    "colab": {
     "base_uri": "https://localhost:8080/"
    },
    "executionInfo": {
     "elapsed": 8,
     "status": "ok",
     "timestamp": 1758072163888,
     "user": {
      "displayName": "T Haruyama",
      "userId": "09851044792665346893"
     },
     "user_tz": -540
    },
    "id": "5WmfuINXxTaJ",
    "outputId": "ee7323a3-e3b7-4105-fe4b-67dd94c5ae4a"
   },
   "outputs": [],
   "source": [
    "x = 10\n",
    "x = x + 1\n",
    "x"
   ]
  },
  {
   "cell_type": "markdown",
   "id": "57",
   "metadata": {
    "id": "s7hzDN7zxZOg"
   },
   "source": [
    "### 複合代入演算子"
   ]
  },
  {
   "cell_type": "markdown",
   "id": "b925db12-6ad1-4b90-8ed1-185a33faf08c",
   "metadata": {},
   "source": [
    "| 処理             | 演算子   | 例              | 実行後の `x` の値 |\n",
    "|------------------|----------|-----------------|-------------------|\n",
    "| 加算代入         | `+=`     | `x += 1`        | `11`              |\n",
    "| 減算代入         | `-=`     | `x -= 1`        | `9`               |\n",
    "| 乗算代入         | `*=`     | `x *= 2`        | `20`              |\n",
    "| 除算代入         | `/=`     | `x /= 2`        | `5.0`             |\n",
    "| 累乗代入         | `**=`    | `x **= 2`       | `100`             |\n",
    "| 切り捨て除算代入 | `//=`    | `x //= 3`       | `3`               |\n",
    "| 剰余代入         | `%=`     | `x %= 3`        | `1`               |"
   ]
  },
  {
   "cell_type": "markdown",
   "id": "58",
   "metadata": {
    "id": "60gLwaIh8PSa"
   },
   "source": [
    "コード2.4.3"
   ]
  },
  {
   "cell_type": "code",
   "execution_count": null,
   "id": "59",
   "metadata": {
    "executionInfo": {
     "elapsed": 12,
     "status": "ok",
     "timestamp": 1758072163900,
     "user": {
      "displayName": "T Haruyama",
      "userId": "09851044792665346893"
     },
     "user_tz": -540
    },
    "id": "PgwWpF7sxe5m"
   },
   "outputs": [],
   "source": [
    "x += 1"
   ]
  },
  {
   "cell_type": "markdown",
   "id": "60",
   "metadata": {
    "id": "t9U_NkuD8YnD"
   },
   "source": [
    "表2.1"
   ]
  },
  {
   "cell_type": "code",
   "execution_count": null,
   "id": "61",
   "metadata": {
    "colab": {
     "base_uri": "https://localhost:8080/"
    },
    "executionInfo": {
     "elapsed": 36,
     "status": "ok",
     "timestamp": 1758072163967,
     "user": {
      "displayName": "T Haruyama",
      "userId": "09851044792665346893"
     },
     "user_tz": -540
    },
    "id": "8KmiF9_y8bGd",
    "outputId": "ef6b8faf-5453-41ac-80bc-1bbc5bbd8909"
   },
   "outputs": [],
   "source": [
    "x = 10\n",
    "x += 1\n",
    "x"
   ]
  },
  {
   "cell_type": "markdown",
   "id": "62",
   "metadata": {
    "id": "OQlmCvOw8hWD"
   },
   "source": [
    "表2.1"
   ]
  },
  {
   "cell_type": "code",
   "execution_count": null,
   "id": "63",
   "metadata": {
    "colab": {
     "base_uri": "https://localhost:8080/"
    },
    "executionInfo": {
     "elapsed": 52,
     "status": "ok",
     "timestamp": 1758072164038,
     "user": {
      "displayName": "T Haruyama",
      "userId": "09851044792665346893"
     },
     "user_tz": -540
    },
    "id": "zrvzidk48hWE",
    "outputId": "5e4796b6-192e-4b44-83a2-d0868dcb30e9"
   },
   "outputs": [],
   "source": [
    "x = 10\n",
    "x -= 1\n",
    "x"
   ]
  },
  {
   "cell_type": "markdown",
   "id": "64",
   "metadata": {
    "id": "fzhhoyo58lKQ"
   },
   "source": [
    "表2.1"
   ]
  },
  {
   "cell_type": "code",
   "execution_count": null,
   "id": "65",
   "metadata": {
    "colab": {
     "base_uri": "https://localhost:8080/"
    },
    "executionInfo": {
     "elapsed": 33,
     "status": "ok",
     "timestamp": 1758072164077,
     "user": {
      "displayName": "T Haruyama",
      "userId": "09851044792665346893"
     },
     "user_tz": -540
    },
    "id": "wtEc_UUy8lKR",
    "outputId": "48f19dd5-4ad7-4a51-cff8-52f6d894a3ae"
   },
   "outputs": [],
   "source": [
    "x = 10\n",
    "x *= 2\n",
    "x"
   ]
  },
  {
   "cell_type": "markdown",
   "id": "66",
   "metadata": {
    "id": "E5ClOW_U8rsK"
   },
   "source": [
    "表2.1"
   ]
  },
  {
   "cell_type": "code",
   "execution_count": null,
   "id": "67",
   "metadata": {
    "colab": {
     "base_uri": "https://localhost:8080/"
    },
    "executionInfo": {
     "elapsed": 8,
     "status": "ok",
     "timestamp": 1758072164086,
     "user": {
      "displayName": "T Haruyama",
      "userId": "09851044792665346893"
     },
     "user_tz": -540
    },
    "id": "MU8FL5Ud8rsN",
    "outputId": "494b0e0a-b0e1-46b3-f492-870a87aed565"
   },
   "outputs": [],
   "source": [
    "x = 10\n",
    "x /= 2\n",
    "x"
   ]
  },
  {
   "cell_type": "markdown",
   "id": "68",
   "metadata": {
    "id": "yfi3bMjm8vri"
   },
   "source": [
    "表2.1"
   ]
  },
  {
   "cell_type": "code",
   "execution_count": null,
   "id": "69",
   "metadata": {
    "colab": {
     "base_uri": "https://localhost:8080/"
    },
    "executionInfo": {
     "elapsed": 7,
     "status": "ok",
     "timestamp": 1758072164094,
     "user": {
      "displayName": "T Haruyama",
      "userId": "09851044792665346893"
     },
     "user_tz": -540
    },
    "id": "VSKfE38Y8vri",
    "outputId": "1b2b04c5-0965-4c88-af73-3a91785c82a8"
   },
   "outputs": [],
   "source": [
    "x = 10\n",
    "x **= 2\n",
    "x"
   ]
  },
  {
   "cell_type": "markdown",
   "id": "70",
   "metadata": {
    "id": "xyq_1l8R8yps"
   },
   "source": [
    "表2.1"
   ]
  },
  {
   "cell_type": "code",
   "execution_count": null,
   "id": "71",
   "metadata": {
    "colab": {
     "base_uri": "https://localhost:8080/"
    },
    "executionInfo": {
     "elapsed": 6,
     "status": "ok",
     "timestamp": 1758072164101,
     "user": {
      "displayName": "T Haruyama",
      "userId": "09851044792665346893"
     },
     "user_tz": -540
    },
    "id": "mdUjpXTa8ypu",
    "outputId": "68252813-d006-4a7d-9c12-4933a6724668"
   },
   "outputs": [],
   "source": [
    "x = 10\n",
    "x //= 3\n",
    "x"
   ]
  },
  {
   "cell_type": "markdown",
   "id": "72",
   "metadata": {
    "id": "lbIpHCwz81t4"
   },
   "source": [
    "表2.1"
   ]
  },
  {
   "cell_type": "code",
   "execution_count": null,
   "id": "73",
   "metadata": {
    "colab": {
     "base_uri": "https://localhost:8080/"
    },
    "executionInfo": {
     "elapsed": 3,
     "status": "ok",
     "timestamp": 1758072164104,
     "user": {
      "displayName": "T Haruyama",
      "userId": "09851044792665346893"
     },
     "user_tz": -540
    },
    "id": "m6oEcRIz81t5",
    "outputId": "2ef7d071-7502-4fb6-8523-fbbd1e55cfe7"
   },
   "outputs": [],
   "source": [
    "x = 10\n",
    "x %= 3\n",
    "x"
   ]
  },
  {
   "cell_type": "markdown",
   "id": "74",
   "metadata": {
    "id": "885ff616-19ef-4374-aecf-fc08aa4d7c67"
   },
   "source": [
    "コード2.4.4"
   ]
  },
  {
   "cell_type": "code",
   "execution_count": null,
   "id": "75",
   "metadata": {
    "colab": {
     "base_uri": "https://localhost:8080/"
    },
    "executionInfo": {
     "elapsed": 5,
     "status": "ok",
     "timestamp": 1758072164144,
     "user": {
      "displayName": "T Haruyama",
      "userId": "09851044792665346893"
     },
     "user_tz": -540
    },
    "id": "168c9a93-c194-45ba-a238-387c549f2bca",
    "outputId": "c542bd80-62b6-45d6-e291-58608cddfe71"
   },
   "outputs": [],
   "source": [
    "y = 100\n",
    "y /= 2\n",
    "y"
   ]
  },
  {
   "cell_type": "markdown",
   "id": "76",
   "metadata": {
    "id": "RE-SZ7ybxvt3"
   },
   "source": [
    "### 変数名"
   ]
  },
  {
   "cell_type": "markdown",
   "id": "23721fa3-62e3-4d3a-90e5-c4b5d195cdea",
   "metadata": {},
   "source": [
    "以下は予約語と呼ばれ、変数名に使えない。\n",
    "\n",
    "False, None, True, and, as, assert, async, await, break,\n",
    "class, continue, def, del, elif, else, except, finally,\n",
    "for, from, global, if, import, in, is, lambda, nonlocal,\n",
    "not, or, pass, raise, return, try, while, with, yield"
   ]
  },
  {
   "cell_type": "markdown",
   "id": "29f8c3b0-1115-49a9-bde7-9f0380530521",
   "metadata": {},
   "source": [
    "また，変数名は半角アルファベット($a-z$, $A-Z$)，もしくは，アンダースコア（ $\\_$ ）で始めます。最初の文字以外であれば数字も使用可能ですが，小文字と大文字は異なる記号として扱われます。\n"
   ]
  },
  {
   "cell_type": "markdown",
   "id": "77",
   "metadata": {
    "id": "5OB19vGGxwTY"
   },
   "source": [
    "## コメント"
   ]
  },
  {
   "cell_type": "markdown",
   "id": "78",
   "metadata": {
    "id": "TU9ctILP87rk"
   },
   "source": [
    "コード2.5.1"
   ]
  },
  {
   "cell_type": "code",
   "execution_count": null,
   "id": "79",
   "metadata": {
    "executionInfo": {
     "elapsed": 1,
     "status": "ok",
     "timestamp": 1758072164146,
     "user": {
      "displayName": "T Haruyama",
      "userId": "09851044792665346893"
     },
     "user_tz": -540
    },
    "id": "fpMImqblx9lO"
   },
   "outputs": [],
   "source": [
    "inflation = 0.02   # インフレ率"
   ]
  },
  {
   "cell_type": "markdown",
   "id": "80",
   "metadata": {
    "id": "UHNQM_zC9MBP"
   },
   "source": [
    "コード2.5.2"
   ]
  },
  {
   "cell_type": "code",
   "execution_count": null,
   "id": "81",
   "metadata": {
    "colab": {
     "base_uri": "https://localhost:8080/"
    },
    "executionInfo": {
     "elapsed": 8,
     "status": "ok",
     "timestamp": 1758072164154,
     "user": {
      "displayName": "T Haruyama",
      "userId": "09851044792665346893"
     },
     "user_tz": -540
    },
    "id": "Q1AdistbyCxr",
    "outputId": "9ebbe364-4c5f-48ab-fa83-8975a2256500"
   },
   "outputs": [],
   "source": [
    "x = 10\n",
    "# x += 5\n",
    "x"
   ]
  }
 ],
 "metadata": {
  "colab": {
   "provenance": []
  },
  "kernelspec": {
   "display_name": "Python 3 (ipykernel)",
   "language": "python",
   "name": "python3"
  },
  "language_info": {
   "codemirror_mode": {
    "name": "ipython",
    "version": 3
   },
   "file_extension": ".py",
   "mimetype": "text/x-python",
   "name": "python",
   "nbconvert_exporter": "python",
   "pygments_lexer": "ipython3",
   "version": "3.13.7"
  }
 },
 "nbformat": 4,
 "nbformat_minor": 5
}
